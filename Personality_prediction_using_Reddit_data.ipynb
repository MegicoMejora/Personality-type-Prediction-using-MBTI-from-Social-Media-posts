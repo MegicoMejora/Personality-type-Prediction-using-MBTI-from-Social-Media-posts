{
  "nbformat": 4,
  "nbformat_minor": 0,
  "metadata": {
    "colab": {
      "name": "Personality prediction using Reddit data.ipynb",
      "provenance": [],
      "collapsed_sections": []
    },
    "kernelspec": {
      "display_name": "Python 3",
      "name": "python3"
    },
    "language_info": {
      "name": "python"
    }
  },
  "cells": [
    {
      "cell_type": "code",
      "metadata": {
        "colab": {
          "base_uri": "https://localhost:8080/"
        },
        "id": "Yn_OoIlZfb5f",
        "outputId": "805ccb01-fb95-4d2c-9d27-aacd793a0243"
      },
      "source": [
        "!pip install -q -U tensorflow-text\n",
        "!pip install -q tf-models-official==2.4.0\n",
        "!pip install contractions"
      ],
      "execution_count": null,
      "outputs": [
        {
          "output_type": "stream",
          "name": "stdout",
          "text": [
            "\u001b[K     |████████████████████████████████| 4.9 MB 8.1 MB/s \n",
            "\u001b[K     |████████████████████████████████| 1.1 MB 7.2 MB/s \n",
            "\u001b[K     |████████████████████████████████| 213 kB 75.4 MB/s \n",
            "\u001b[K     |████████████████████████████████| 1.1 MB 69.3 MB/s \n",
            "\u001b[K     |████████████████████████████████| 47.6 MB 55 kB/s \n",
            "\u001b[K     |████████████████████████████████| 352 kB 73.4 MB/s \n",
            "\u001b[K     |████████████████████████████████| 99 kB 11.1 MB/s \n",
            "\u001b[K     |████████████████████████████████| 43 kB 2.3 MB/s \n",
            "\u001b[?25h  Building wheel for py-cpuinfo (setup.py) ... \u001b[?25l\u001b[?25hdone\n",
            "  Building wheel for seqeval (setup.py) ... \u001b[?25l\u001b[?25hdone\n",
            "Collecting contractions\n",
            "  Downloading contractions-0.0.58-py2.py3-none-any.whl (8.0 kB)\n",
            "Collecting textsearch>=0.0.21\n",
            "  Downloading textsearch-0.0.21-py2.py3-none-any.whl (7.5 kB)\n",
            "Collecting pyahocorasick\n",
            "  Downloading pyahocorasick-1.4.2.tar.gz (321 kB)\n",
            "\u001b[K     |████████████████████████████████| 321 kB 7.6 MB/s \n",
            "\u001b[?25hCollecting anyascii\n",
            "  Downloading anyascii-0.3.0-py3-none-any.whl (284 kB)\n",
            "\u001b[K     |████████████████████████████████| 284 kB 64.1 MB/s \n",
            "\u001b[?25hBuilding wheels for collected packages: pyahocorasick\n",
            "  Building wheel for pyahocorasick (setup.py) ... \u001b[?25l\u001b[?25hdone\n",
            "  Created wheel for pyahocorasick: filename=pyahocorasick-1.4.2-cp37-cp37m-linux_x86_64.whl size=85448 sha256=79c2e6c278db7967d8a3386104902668260f04490011ef33663389067ff5d001\n",
            "  Stored in directory: /root/.cache/pip/wheels/25/19/a6/8f363d9939162782bb8439d886469756271abc01f76fbd790f\n",
            "Successfully built pyahocorasick\n",
            "Installing collected packages: pyahocorasick, anyascii, textsearch, contractions\n",
            "Successfully installed anyascii-0.3.0 contractions-0.0.58 pyahocorasick-1.4.2 textsearch-0.0.21\n"
          ]
        }
      ]
    },
    {
      "cell_type": "code",
      "metadata": {
        "id": "Be65MpPtf0mO"
      },
      "source": [
        "import os\n",
        "\n",
        "import numpy as np\n",
        "import pandas as pd\n",
        "\n",
        "import tensorflow as tf\n",
        "import tensorflow_hub as hub\n",
        "\n",
        "from keras.utils import np_utils\n",
        "\n",
        "import official.nlp.bert.bert_models\n",
        "import official.nlp.bert.configs\n",
        "import official.nlp.bert.run_classifier\n",
        "import official.nlp.bert.tokenization as tokenization\n",
        "\n",
        "from official.modeling import tf_utils\n",
        "from official import nlp\n",
        "from official.nlp import bert\n",
        "\n",
        "from sklearn.model_selection import train_test_split\n",
        "from sklearn.preprocessing import LabelEncoder\n",
        "\n",
        "import matplotlib.pyplot as plt\n",
        "\n",
        "import shutil\n",
        "\n",
        "import tensorflow as tf\n",
        "import tensorflow_hub as hub\n",
        "import tensorflow_text as text\n",
        "from official.nlp import optimization  # to create AdamW optimizer\n",
        "import tensorflow.keras as keras\n",
        "import tensorflow.keras.layers as layers\n",
        "\n",
        "tf.get_logger().setLevel('ERROR')"
      ],
      "execution_count": null,
      "outputs": []
    },
    {
      "cell_type": "markdown",
      "source": [
        "##**Loading the MBTI Redddit dataset**"
      ],
      "metadata": {
        "id": "1jmh9g8Nnw37"
      }
    },
    {
      "cell_type": "code",
      "metadata": {
        "colab": {
          "base_uri": "https://localhost:8080/",
          "height": 676
        },
        "id": "k4NgwLTRLrVY",
        "outputId": "03bcfc44-0581-4074-8074-eda7c74d7457"
      },
      "source": [
        "df = pd.read_csv('mbti2_copy.csv',error_bad_lines=True, engine='python')\n",
        "df.head(20)"
      ],
      "execution_count": null,
      "outputs": [
        {
          "output_type": "execute_result",
          "data": {
            "text/html": [
              "<div>\n",
              "<style scoped>\n",
              "    .dataframe tbody tr th:only-of-type {\n",
              "        vertical-align: middle;\n",
              "    }\n",
              "\n",
              "    .dataframe tbody tr th {\n",
              "        vertical-align: top;\n",
              "    }\n",
              "\n",
              "    .dataframe thead th {\n",
              "        text-align: right;\n",
              "    }\n",
              "</style>\n",
              "<table border=\"1\" class=\"dataframe\">\n",
              "  <thead>\n",
              "    <tr style=\"text-align: right;\">\n",
              "      <th></th>\n",
              "      <th>type</th>\n",
              "      <th>comment</th>\n",
              "    </tr>\n",
              "  </thead>\n",
              "  <tbody>\n",
              "    <tr>\n",
              "      <th>0</th>\n",
              "      <td>entp</td>\n",
              "      <td>Yes! Personally I feel that as helpful as it i...</td>\n",
              "    </tr>\n",
              "    <tr>\n",
              "      <th>1</th>\n",
              "      <td>NaN</td>\n",
              "      <td>I guess I'd stick to being a lesbian so I woul...</td>\n",
              "    </tr>\n",
              "    <tr>\n",
              "      <th>2</th>\n",
              "      <td>unless someone has a skill I need they can be...</td>\n",
              "      <td>they'll never know you're only 2 feet behind ...</td>\n",
              "    </tr>\n",
              "    <tr>\n",
              "      <th>3</th>\n",
              "      <td>NaN</td>\n",
              "      <td>What languages do you speak? Whoops, my bad fo...</td>\n",
              "    </tr>\n",
              "    <tr>\n",
              "      <th>4</th>\n",
              "      <td>so I would try going to the school where you ...</td>\n",
              "      <td>but it doesn't rhyme anywhere and that makes ...</td>\n",
              "    </tr>\n",
              "    <tr>\n",
              "      <th>5</th>\n",
              "      <td>entp</td>\n",
              "      <td>It is just arguing semantics. To many on the c...</td>\n",
              "    </tr>\n",
              "    <tr>\n",
              "      <th>6</th>\n",
              "      <td>NaN</td>\n",
              "      <td>Come to Europe if you're interested. In many E...</td>\n",
              "    </tr>\n",
              "    <tr>\n",
              "      <th>7</th>\n",
              "      <td>because you need to really get some immersion...</td>\n",
              "      <td>many get stuck on B2</td>\n",
              "    </tr>\n",
              "    <tr>\n",
              "      <th>8</th>\n",
              "      <td>NaN</td>\n",
              "      <td>Exactly, so I won't have to eat a dick, I knew...</td>\n",
              "    </tr>\n",
              "    <tr>\n",
              "      <th>9</th>\n",
              "      <td>I heard spring 2015 a little while ago. Iahfy...</td>\n",
              "      <td>with his Xbox and all. Wait</td>\n",
              "    </tr>\n",
              "    <tr>\n",
              "      <th>10</th>\n",
              "      <td>entp</td>\n",
              "      <td>Ooohhh okay, I thought there was something els...</td>\n",
              "    </tr>\n",
              "    <tr>\n",
              "      <th>11</th>\n",
              "      <td>NaN</td>\n",
              "      <td>The term you're looking for is 'virtue signall...</td>\n",
              "    </tr>\n",
              "    <tr>\n",
              "      <th>12</th>\n",
              "      <td>really Oh geez that's me observes shitpostobs...</td>\n",
              "      <td>I wish I used a roast like this one Wew lad S...</td>\n",
              "    </tr>\n",
              "    <tr>\n",
              "      <th>13</th>\n",
              "      <td>intp</td>\n",
              "      <td>This was Blizzards way to slow down the meta. ...</td>\n",
              "    </tr>\n",
              "    <tr>\n",
              "      <th>14</th>\n",
              "      <td>NaN</td>\n",
              "      <td>if noah doesn't get his name i will quit tagpr...</td>\n",
              "    </tr>\n",
              "    <tr>\n",
              "      <th>15</th>\n",
              "      <td>so you Google a decklist and call out Machina...</td>\n",
              "      <td>Gadgets</td>\n",
              "    </tr>\n",
              "    <tr>\n",
              "      <th>16</th>\n",
              "      <td>intp</td>\n",
              "      <td>Thank you very much for the support. I am work...</td>\n",
              "    </tr>\n",
              "    <tr>\n",
              "      <th>17</th>\n",
              "      <td>NaN</td>\n",
              "      <td>So he probably won't be getting picked anytime...</td>\n",
              "    </tr>\n",
              "    <tr>\n",
              "      <th>18</th>\n",
              "      <td>talked about football and I got bladdered wit...</td>\n",
              "      <td>he smashed me at pool</td>\n",
              "    </tr>\n",
              "    <tr>\n",
              "      <th>19</th>\n",
              "      <td>NaN</td>\n",
              "      <td>It even got my misspelling of nice as bice rig...</td>\n",
              "    </tr>\n",
              "  </tbody>\n",
              "</table>\n",
              "</div>"
            ],
            "text/plain": [
              "                                                 type                                            comment\n",
              "0                                                entp  Yes! Personally I feel that as helpful as it i...\n",
              "1                                                 NaN  I guess I'd stick to being a lesbian so I woul...\n",
              "2    unless someone has a skill I need they can be...   they'll never know you're only 2 feet behind ...\n",
              "3                                                 NaN  What languages do you speak? Whoops, my bad fo...\n",
              "4    so I would try going to the school where you ...   but it doesn't rhyme anywhere and that makes ...\n",
              "5                                                entp  It is just arguing semantics. To many on the c...\n",
              "6                                                 NaN  Come to Europe if you're interested. In many E...\n",
              "7    because you need to really get some immersion...                               many get stuck on B2\n",
              "8                                                 NaN  Exactly, so I won't have to eat a dick, I knew...\n",
              "9    I heard spring 2015 a little while ago. Iahfy...                        with his Xbox and all. Wait\n",
              "10                                               entp  Ooohhh okay, I thought there was something els...\n",
              "11                                                NaN  The term you're looking for is 'virtue signall...\n",
              "12   really Oh geez that's me observes shitpostobs...   I wish I used a roast like this one Wew lad S...\n",
              "13                                               intp  This was Blizzards way to slow down the meta. ...\n",
              "14                                                NaN  if noah doesn't get his name i will quit tagpr...\n",
              "15   so you Google a decklist and call out Machina...                                            Gadgets\n",
              "16                                               intp  Thank you very much for the support. I am work...\n",
              "17                                                NaN  So he probably won't be getting picked anytime...\n",
              "18   talked about football and I got bladdered wit...                              he smashed me at pool\n",
              "19                                                NaN  It even got my misspelling of nice as bice rig..."
            ]
          },
          "metadata": {},
          "execution_count": 26
        }
      ]
    },
    {
      "cell_type": "markdown",
      "source": [
        "**The shape of the Reddit data**"
      ],
      "metadata": {
        "id": "Xxn5HTyHorpn"
      }
    },
    {
      "cell_type": "code",
      "metadata": {
        "colab": {
          "base_uri": "https://localhost:8080/"
        },
        "id": "YpGg4U0uMH69",
        "outputId": "281d0d8e-223a-4ac6-a73e-68fbc2732459"
      },
      "source": [
        "df.shape"
      ],
      "execution_count": null,
      "outputs": [
        {
          "data": {
            "text/plain": [
              "(15301, 2)"
            ]
          },
          "execution_count": 6,
          "metadata": {},
          "output_type": "execute_result"
        }
      ]
    },
    {
      "cell_type": "code",
      "metadata": {
        "colab": {
          "base_uri": "https://localhost:8080/"
        },
        "id": "-InhqJeaMf-w",
        "outputId": "56171a21-cf2a-457e-c812-6298f6607984"
      },
      "source": [
        "reddit_data = df[df['type'].isin(['infj', 'entp', 'intp', 'intj', 'entj', 'enfj', 'infp', 'enfp','isfp', 'istp', 'isfj', 'istj', 'estp', 'esfp', 'estj', 'esfj'])]\n",
        "print(reddit_data)\n",
        "print(\"The shape of the data : \",reddit_data.shape)"
      ],
      "execution_count": null,
      "outputs": [
        {
          "output_type": "stream",
          "name": "stdout",
          "text": [
            "       type                                            comment\n",
            "0      entp  Yes! Personally I feel that as helpful as it i...\n",
            "5      entp  It is just arguing semantics. To many on the c...\n",
            "10     entp  Ooohhh okay, I thought there was something els...\n",
            "13     intp  This was Blizzards way to slow down the meta. ...\n",
            "16     intp  Thank you very much for the support. I am work...\n",
            "...     ...                                                ...\n",
            "15268  intp  Hoi!Heb je nog iemand nodig?  Ik kom uit Canad...\n",
            "15271  intj  \"Take care.\"A weird, shitty ending to the rela...\n",
            "15272  esfj  $49.46 is how much it costs btw. You can pre-o...\n",
            "15275  infj  You shouldn't use apps to base your assessment...\n",
            "15278  infj  We've hanged out about 5 times actually. But t...\n",
            "\n",
            "[3236 rows x 2 columns]\n",
            "The shape of the data :  (3236, 2)\n"
          ]
        }
      ]
    },
    {
      "cell_type": "code",
      "metadata": {
        "colab": {
          "base_uri": "https://localhost:8080/",
          "height": 404
        },
        "id": "NLGs-XDyMg4B",
        "outputId": "00039f5f-d968-4ab0-f72b-20bd8239384d"
      },
      "source": [
        "import seaborn as sns\n",
        "import matplotlib.pyplot as plt\n",
        "\n",
        "post_count = reddit_data ['type'].value_counts()\n",
        "plt.figure(figsize=(10,5))\n",
        "sns.barplot(post_count.index,post_count.values,alpha=0.9,palette='hsv_r')\n",
        "plt.xlabel('Personality types', fontsize=11)\n",
        "plt.ylabel('No. of posts for each type', fontsize=11)\n",
        "plt.title('Total number of posts of each type in the Reddit dataset')\n",
        "plt.show()"
      ],
      "execution_count": null,
      "outputs": [
        {
          "name": "stderr",
          "output_type": "stream",
          "text": [
            "/usr/local/lib/python3.7/dist-packages/seaborn/_decorators.py:43: FutureWarning: Pass the following variables as keyword args: x, y. From version 0.12, the only valid positional argument will be `data`, and passing other arguments without an explicit keyword will result in an error or misinterpretation.\n",
            "  FutureWarning\n"
          ]
        },
        {
          "data": {
            "image/png": "[encoded data removed]",
            "text/plain": [
              "<Figure size 720x360 with 1 Axes>"
            ]
          },
          "metadata": {},
          "output_type": "display_data"
        }
      ]
    },
    {
      "cell_type": "code",
      "metadata": {
        "colab": {
          "base_uri": "https://localhost:8080/"
        },
        "id": "GG-7sdXhNAfm",
        "outputId": "df90dd3c-4b07-40d4-c340-9aa504b98476"
      },
      "source": [
        "import re\n",
        "import nltk \n",
        "from nltk.corpus import stopwords\n",
        "nltk.download('stopwords')\n",
        "nltk.download('words')\n",
        "words = set(nltk.corpus.words.words())\n",
        "from nltk.stem import WordNetLemmatizer\n",
        "nltk.download('wordnet')\n",
        "nltk.download('punkt')\n",
        "import contractions\n",
        "\n",
        "def preprocessing(posts):\n",
        "         \n",
        "        posts = re.sub('\\|\\|\\|', ' ', posts)\n",
        "        posts = re.sub('https?://\\S+|www\\.\\S+', '', posts)\n",
        "        posts = contractions.fix(posts)\n",
        "        posts = posts.lower()\n",
        "        posts = re.sub('[0-9]+', '', posts)\n",
        "        posts = (re.sub(' +', ' ',(posts.replace('\\\\n','')))).strip()\n",
        "        posts = re.sub(r'[\\.+~*]', \".\",posts)\n",
        "        \n",
        "        #Remove multiple fullstops\n",
        "        #posts = re.sub(r'[^\\w\\s]','',posts)\n",
        "\n",
        "        #Remove Non-words\n",
        "        posts = re.sub(r'[^a-zA-Z\\s]','',posts)\n",
        "\n",
        "        #Remove multiple letter repeating words\n",
        "        posts = re.sub(r'([a-z])\\1{2,}[\\s|\\w]*','',posts)\n",
        "\n",
        "        #filtering non-words\n",
        "        posts = \" \".join(word for word in nltk.wordpunct_tokenize(posts) if word.lower() in words or not word.isalpha())\n",
        "\n",
        "        stop_words = stopwords.words(\"english\")\n",
        "        personality_words = ['infj', 'entp', 'intp', 'intj', 'entj', 'enfj', 'infp', 'enfp','isfp', 'istp', 'isfj', 'istj', 'estp', 'esfp', 'estj', 'esfj', 'mbti']\n",
        "        stop_words.extend(personality_words)\n",
        "        posts =  ' '.join([w for w in posts.split() if w not in stop_words])\n",
        "\n",
        "        posts = ' '.join(word for word in posts.split() if len(word)>3)\n",
        "\n",
        "        lemmatizer = WordNetLemmatizer()\n",
        "        word_tokens = nltk.word_tokenize(posts)\n",
        "        posts = ' '.join([lemmatizer.lemmatize(word) for word in word_tokens])        \n",
        "                \n",
        "        return posts"
      ],
      "execution_count": null,
      "outputs": [
        {
          "output_type": "stream",
          "name": "stdout",
          "text": [
            "[nltk_data] Downloading package stopwords to /root/nltk_data...\n",
            "[nltk_data]   Unzipping corpora/stopwords.zip.\n",
            "[nltk_data] Downloading package words to /root/nltk_data...\n",
            "[nltk_data]   Unzipping corpora/words.zip.\n",
            "[nltk_data] Downloading package wordnet to /root/nltk_data...\n",
            "[nltk_data]   Unzipping corpora/wordnet.zip.\n",
            "[nltk_data] Downloading package punkt to /root/nltk_data...\n",
            "[nltk_data]   Unzipping tokenizers/punkt.zip.\n"
          ]
        }
      ]
    },
    {
      "cell_type": "code",
      "metadata": {
        "colab": {
          "base_uri": "https://localhost:8080/",
          "height": 423
        },
        "id": "dga9I9PAN0Tk",
        "outputId": "bcddc7f2-a84f-42e9-ef81-05f76ce3808b"
      },
      "source": [
        "split_types = reddit_data['type'].str.split('',expand=True)\n",
        "split_types = split_types.drop(split_types.columns[[0, 5]], axis=1)\n",
        "split_types"
      ],
      "execution_count": null,
      "outputs": [
        {
          "output_type": "execute_result",
          "data": {
            "text/html": [
              "<div>\n",
              "<style scoped>\n",
              "    .dataframe tbody tr th:only-of-type {\n",
              "        vertical-align: middle;\n",
              "    }\n",
              "\n",
              "    .dataframe tbody tr th {\n",
              "        vertical-align: top;\n",
              "    }\n",
              "\n",
              "    .dataframe thead th {\n",
              "        text-align: right;\n",
              "    }\n",
              "</style>\n",
              "<table border=\"1\" class=\"dataframe\">\n",
              "  <thead>\n",
              "    <tr style=\"text-align: right;\">\n",
              "      <th></th>\n",
              "      <th>1</th>\n",
              "      <th>2</th>\n",
              "      <th>3</th>\n",
              "      <th>4</th>\n",
              "    </tr>\n",
              "  </thead>\n",
              "  <tbody>\n",
              "    <tr>\n",
              "      <th>0</th>\n",
              "      <td>e</td>\n",
              "      <td>n</td>\n",
              "      <td>t</td>\n",
              "      <td>p</td>\n",
              "    </tr>\n",
              "    <tr>\n",
              "      <th>5</th>\n",
              "      <td>e</td>\n",
              "      <td>n</td>\n",
              "      <td>t</td>\n",
              "      <td>p</td>\n",
              "    </tr>\n",
              "    <tr>\n",
              "      <th>10</th>\n",
              "      <td>e</td>\n",
              "      <td>n</td>\n",
              "      <td>t</td>\n",
              "      <td>p</td>\n",
              "    </tr>\n",
              "    <tr>\n",
              "      <th>13</th>\n",
              "      <td>i</td>\n",
              "      <td>n</td>\n",
              "      <td>t</td>\n",
              "      <td>p</td>\n",
              "    </tr>\n",
              "    <tr>\n",
              "      <th>16</th>\n",
              "      <td>i</td>\n",
              "      <td>n</td>\n",
              "      <td>t</td>\n",
              "      <td>p</td>\n",
              "    </tr>\n",
              "    <tr>\n",
              "      <th>...</th>\n",
              "      <td>...</td>\n",
              "      <td>...</td>\n",
              "      <td>...</td>\n",
              "      <td>...</td>\n",
              "    </tr>\n",
              "    <tr>\n",
              "      <th>15268</th>\n",
              "      <td>i</td>\n",
              "      <td>n</td>\n",
              "      <td>t</td>\n",
              "      <td>p</td>\n",
              "    </tr>\n",
              "    <tr>\n",
              "      <th>15271</th>\n",
              "      <td>i</td>\n",
              "      <td>n</td>\n",
              "      <td>t</td>\n",
              "      <td>j</td>\n",
              "    </tr>\n",
              "    <tr>\n",
              "      <th>15272</th>\n",
              "      <td>e</td>\n",
              "      <td>s</td>\n",
              "      <td>f</td>\n",
              "      <td>j</td>\n",
              "    </tr>\n",
              "    <tr>\n",
              "      <th>15275</th>\n",
              "      <td>i</td>\n",
              "      <td>n</td>\n",
              "      <td>f</td>\n",
              "      <td>j</td>\n",
              "    </tr>\n",
              "    <tr>\n",
              "      <th>15278</th>\n",
              "      <td>i</td>\n",
              "      <td>n</td>\n",
              "      <td>f</td>\n",
              "      <td>j</td>\n",
              "    </tr>\n",
              "  </tbody>\n",
              "</table>\n",
              "<p>3236 rows × 4 columns</p>\n",
              "</div>"
            ],
            "text/plain": [
              "       1  2  3  4\n",
              "0      e  n  t  p\n",
              "5      e  n  t  p\n",
              "10     e  n  t  p\n",
              "13     i  n  t  p\n",
              "16     i  n  t  p\n",
              "...   .. .. .. ..\n",
              "15268  i  n  t  p\n",
              "15271  i  n  t  j\n",
              "15272  e  s  f  j\n",
              "15275  i  n  f  j\n",
              "15278  i  n  f  j\n",
              "\n",
              "[3236 rows x 4 columns]"
            ]
          },
          "metadata": {},
          "execution_count": 38
        }
      ]
    },
    {
      "cell_type": "code",
      "metadata": {
        "colab": {
          "base_uri": "https://localhost:8080/"
        },
        "id": "Nv-FOCN6ORmH",
        "outputId": "acf0ef71-3752-45a0-f3fe-d84c821950cd"
      },
      "source": [
        "data = [split_types[1], reddit_data[\"comment\"]]\n",
        "headers = [\"types\",\"posts\"]\n",
        "\n",
        "reddit_IE = pd.concat(data, axis=1, keys=headers)\n",
        "reddit_IE = reddit_IE.reset_index(drop=True)\n",
        "\n",
        "data = [split_types[2], reddit_data[\"comment\"]]\n",
        "headers = [\"types\", \"posts\"]\n",
        "\n",
        "reddit_SN = pd.concat(data, axis=1, keys=headers)\n",
        "reddit_SN = reddit_SN.reset_index(drop=True)\n",
        "\n",
        "data = [split_types[3], reddit_data[\"comment\"]]\n",
        "headers = [\"types\", \"posts\"]\n",
        "\n",
        "reddit_FT = pd.concat(data, axis=1, keys=headers)\n",
        "reddit_FT = reddit_FT.reset_index(drop=True)\n",
        "\n",
        "data = [split_types[4], reddit_data[\"comment\"]]\n",
        "headers = [\"types\", \"posts\"]\n",
        "\n",
        "reddit_JP = pd.concat(data, axis=1, keys=headers)\n",
        "reddit_JP = reddit_JP.reset_index(drop=True)\n",
        "\n",
        "print(reddit_IE)\n",
        "print(reddit_SN)\n",
        "print(reddit_FT)\n",
        "print(reddit_JP)"
      ],
      "execution_count": null,
      "outputs": [
        {
          "name": "stdout",
          "output_type": "stream",
          "text": [
            "     types                                              posts\n",
            "0        e  Yes! Personally I feel that as helpful as it i...\n",
            "1        e  It is just arguing semantics. To many on the c...\n",
            "2        e  Ooohhh okay, I thought there was something els...\n",
            "3        i  This was Blizzards way to slow down the meta. ...\n",
            "4        i  Thank you very much for the support. I am work...\n",
            "...    ...                                                ...\n",
            "3231     i  Hoi!Heb je nog iemand nodig?  Ik kom uit Canad...\n",
            "3232     i  \"Take care.\"A weird, shitty ending to the rela...\n",
            "3233     e  $49.46 is how much it costs btw. You can pre-o...\n",
            "3234     i  You shouldn't use apps to base your assessment...\n",
            "3235     i  We've hanged out about 5 times actually. But t...\n",
            "\n",
            "[3236 rows x 2 columns]\n",
            "     types                                              posts\n",
            "0        n  Yes! Personally I feel that as helpful as it i...\n",
            "1        n  It is just arguing semantics. To many on the c...\n",
            "2        n  Ooohhh okay, I thought there was something els...\n",
            "3        n  This was Blizzards way to slow down the meta. ...\n",
            "4        n  Thank you very much for the support. I am work...\n",
            "...    ...                                                ...\n",
            "3231     n  Hoi!Heb je nog iemand nodig?  Ik kom uit Canad...\n",
            "3232     n  \"Take care.\"A weird, shitty ending to the rela...\n",
            "3233     s  $49.46 is how much it costs btw. You can pre-o...\n",
            "3234     n  You shouldn't use apps to base your assessment...\n",
            "3235     n  We've hanged out about 5 times actually. But t...\n",
            "\n",
            "[3236 rows x 2 columns]\n",
            "     types                                              posts\n",
            "0        t  Yes! Personally I feel that as helpful as it i...\n",
            "1        t  It is just arguing semantics. To many on the c...\n",
            "2        t  Ooohhh okay, I thought there was something els...\n",
            "3        t  This was Blizzards way to slow down the meta. ...\n",
            "4        t  Thank you very much for the support. I am work...\n",
            "...    ...                                                ...\n",
            "3231     t  Hoi!Heb je nog iemand nodig?  Ik kom uit Canad...\n",
            "3232     t  \"Take care.\"A weird, shitty ending to the rela...\n",
            "3233     f  $49.46 is how much it costs btw. You can pre-o...\n",
            "3234     f  You shouldn't use apps to base your assessment...\n",
            "3235     f  We've hanged out about 5 times actually. But t...\n",
            "\n",
            "[3236 rows x 2 columns]\n",
            "     types                                              posts\n",
            "0        p  Yes! Personally I feel that as helpful as it i...\n",
            "1        p  It is just arguing semantics. To many on the c...\n",
            "2        p  Ooohhh okay, I thought there was something els...\n",
            "3        p  This was Blizzards way to slow down the meta. ...\n",
            "4        p  Thank you very much for the support. I am work...\n",
            "...    ...                                                ...\n",
            "3231     p  Hoi!Heb je nog iemand nodig?  Ik kom uit Canad...\n",
            "3232     j  \"Take care.\"A weird, shitty ending to the rela...\n",
            "3233     j  $49.46 is how much it costs btw. You can pre-o...\n",
            "3234     j  You shouldn't use apps to base your assessment...\n",
            "3235     j  We've hanged out about 5 times actually. But t...\n",
            "\n",
            "[3236 rows x 2 columns]\n"
          ]
        }
      ]
    },
    {
      "cell_type": "code",
      "metadata": {
        "colab": {
          "base_uri": "https://localhost:8080/",
          "height": 17
        },
        "id": "zuZaHuH3ORim",
        "outputId": "c3798955-0e9a-4092-a589-a64870f4f128"
      },
      "source": [
        "from google.colab import files\n",
        "\n",
        "reddit_IE.to_csv(\"MBTI_Reddit_I_E.csv\", index= False)\n",
        "reddit_SN.to_csv(\"MBTI_Reddit_S_N.csv\", index= False)\n",
        "reddit_FT.to_csv(\"MBTI_Reddit_F_T.csv\", index= False)\n",
        "reddit_JP.to_csv(\"MBTI_Reddit_J_P.csv\", index= False)\n",
        "\n",
        "files.download(\"MBTI_Reddit_I_E.csv\")\n",
        "files.download(\"MBTI_Reddit_S_N.csv\")\n",
        "files.download(\"MBTI_Reddit_F_T.csv\")\n",
        "files.download(\"MBTI_Reddit_J_P.csv\")\n"
      ],
      "execution_count": null,
      "outputs": [
        {
          "data": {
            "application/javascript": [
              "\n",
              "    async function download(id, filename, size) {\n",
              "      if (!google.colab.kernel.accessAllowed) {\n",
              "        return;\n",
              "      }\n",
              "      const div = document.createElement('div');\n",
              "      const label = document.createElement('label');\n",
              "      label.textContent = `Downloading \"${filename}\": `;\n",
              "      div.appendChild(label);\n",
              "      const progress = document.createElement('progress');\n",
              "      progress.max = size;\n",
              "      div.appendChild(progress);\n",
              "      document.body.appendChild(div);\n",
              "\n",
              "      const buffers = [];\n",
              "      let downloaded = 0;\n",
              "\n",
              "      const channel = await google.colab.kernel.comms.open(id);\n",
              "      // Send a message to notify the kernel that we're ready.\n",
              "      channel.send({})\n",
              "\n",
              "      for await (const message of channel.messages) {\n",
              "        // Send a message to notify the kernel that we're ready.\n",
              "        channel.send({})\n",
              "        if (message.buffers) {\n",
              "          for (const buffer of message.buffers) {\n",
              "            buffers.push(buffer);\n",
              "            downloaded += buffer.byteLength;\n",
              "            progress.value = downloaded;\n",
              "          }\n",
              "        }\n",
              "      }\n",
              "      const blob = new Blob(buffers, {type: 'application/binary'});\n",
              "      const a = document.createElement('a');\n",
              "      a.href = window.URL.createObjectURL(blob);\n",
              "      a.download = filename;\n",
              "      div.appendChild(a);\n",
              "      a.click();\n",
              "      div.remove();\n",
              "    }\n",
              "  "
            ],
            "text/plain": [
              "<IPython.core.display.Javascript object>"
            ]
          },
          "metadata": {},
          "output_type": "display_data"
        },
        {
          "data": {
            "application/javascript": [
              "download(\"download_a9c75034-29fe-4f6b-b011-9cf0567be44c\", \"MBTI_Reddit_I_E.csv\", 52995805)"
            ],
            "text/plain": [
              "<IPython.core.display.Javascript object>"
            ]
          },
          "metadata": {},
          "output_type": "display_data"
        },
        {
          "data": {
            "application/javascript": [
              "\n",
              "    async function download(id, filename, size) {\n",
              "      if (!google.colab.kernel.accessAllowed) {\n",
              "        return;\n",
              "      }\n",
              "      const div = document.createElement('div');\n",
              "      const label = document.createElement('label');\n",
              "      label.textContent = `Downloading \"${filename}\": `;\n",
              "      div.appendChild(label);\n",
              "      const progress = document.createElement('progress');\n",
              "      progress.max = size;\n",
              "      div.appendChild(progress);\n",
              "      document.body.appendChild(div);\n",
              "\n",
              "      const buffers = [];\n",
              "      let downloaded = 0;\n",
              "\n",
              "      const channel = await google.colab.kernel.comms.open(id);\n",
              "      // Send a message to notify the kernel that we're ready.\n",
              "      channel.send({})\n",
              "\n",
              "      for await (const message of channel.messages) {\n",
              "        // Send a message to notify the kernel that we're ready.\n",
              "        channel.send({})\n",
              "        if (message.buffers) {\n",
              "          for (const buffer of message.buffers) {\n",
              "            buffers.push(buffer);\n",
              "            downloaded += buffer.byteLength;\n",
              "            progress.value = downloaded;\n",
              "          }\n",
              "        }\n",
              "      }\n",
              "      const blob = new Blob(buffers, {type: 'application/binary'});\n",
              "      const a = document.createElement('a');\n",
              "      a.href = window.URL.createObjectURL(blob);\n",
              "      a.download = filename;\n",
              "      div.appendChild(a);\n",
              "      a.click();\n",
              "      div.remove();\n",
              "    }\n",
              "  "
            ],
            "text/plain": [
              "<IPython.core.display.Javascript object>"
            ]
          },
          "metadata": {},
          "output_type": "display_data"
        },
        {
          "data": {
            "application/javascript": [
              "download(\"download_4085d5a7-3a26-4bc7-8589-a11bf4f6850d\", \"MBTI_Reddit_S_N.csv\", 52995805)"
            ],
            "text/plain": [
              "<IPython.core.display.Javascript object>"
            ]
          },
          "metadata": {},
          "output_type": "display_data"
        },
        {
          "data": {
            "application/javascript": [
              "\n",
              "    async function download(id, filename, size) {\n",
              "      if (!google.colab.kernel.accessAllowed) {\n",
              "        return;\n",
              "      }\n",
              "      const div = document.createElement('div');\n",
              "      const label = document.createElement('label');\n",
              "      label.textContent = `Downloading \"${filename}\": `;\n",
              "      div.appendChild(label);\n",
              "      const progress = document.createElement('progress');\n",
              "      progress.max = size;\n",
              "      div.appendChild(progress);\n",
              "      document.body.appendChild(div);\n",
              "\n",
              "      const buffers = [];\n",
              "      let downloaded = 0;\n",
              "\n",
              "      const channel = await google.colab.kernel.comms.open(id);\n",
              "      // Send a message to notify the kernel that we're ready.\n",
              "      channel.send({})\n",
              "\n",
              "      for await (const message of channel.messages) {\n",
              "        // Send a message to notify the kernel that we're ready.\n",
              "        channel.send({})\n",
              "        if (message.buffers) {\n",
              "          for (const buffer of message.buffers) {\n",
              "            buffers.push(buffer);\n",
              "            downloaded += buffer.byteLength;\n",
              "            progress.value = downloaded;\n",
              "          }\n",
              "        }\n",
              "      }\n",
              "      const blob = new Blob(buffers, {type: 'application/binary'});\n",
              "      const a = document.createElement('a');\n",
              "      a.href = window.URL.createObjectURL(blob);\n",
              "      a.download = filename;\n",
              "      div.appendChild(a);\n",
              "      a.click();\n",
              "      div.remove();\n",
              "    }\n",
              "  "
            ],
            "text/plain": [
              "<IPython.core.display.Javascript object>"
            ]
          },
          "metadata": {},
          "output_type": "display_data"
        },
        {
          "data": {
            "application/javascript": [
              "download(\"download_3e0daa06-2ad8-47f1-b4fc-07dea84eb49e\", \"MBTI_Reddit_F_T.csv\", 52995805)"
            ],
            "text/plain": [
              "<IPython.core.display.Javascript object>"
            ]
          },
          "metadata": {},
          "output_type": "display_data"
        },
        {
          "data": {
            "application/javascript": [
              "\n",
              "    async function download(id, filename, size) {\n",
              "      if (!google.colab.kernel.accessAllowed) {\n",
              "        return;\n",
              "      }\n",
              "      const div = document.createElement('div');\n",
              "      const label = document.createElement('label');\n",
              "      label.textContent = `Downloading \"${filename}\": `;\n",
              "      div.appendChild(label);\n",
              "      const progress = document.createElement('progress');\n",
              "      progress.max = size;\n",
              "      div.appendChild(progress);\n",
              "      document.body.appendChild(div);\n",
              "\n",
              "      const buffers = [];\n",
              "      let downloaded = 0;\n",
              "\n",
              "      const channel = await google.colab.kernel.comms.open(id);\n",
              "      // Send a message to notify the kernel that we're ready.\n",
              "      channel.send({})\n",
              "\n",
              "      for await (const message of channel.messages) {\n",
              "        // Send a message to notify the kernel that we're ready.\n",
              "        channel.send({})\n",
              "        if (message.buffers) {\n",
              "          for (const buffer of message.buffers) {\n",
              "            buffers.push(buffer);\n",
              "            downloaded += buffer.byteLength;\n",
              "            progress.value = downloaded;\n",
              "          }\n",
              "        }\n",
              "      }\n",
              "      const blob = new Blob(buffers, {type: 'application/binary'});\n",
              "      const a = document.createElement('a');\n",
              "      a.href = window.URL.createObjectURL(blob);\n",
              "      a.download = filename;\n",
              "      div.appendChild(a);\n",
              "      a.click();\n",
              "      div.remove();\n",
              "    }\n",
              "  "
            ],
            "text/plain": [
              "<IPython.core.display.Javascript object>"
            ]
          },
          "metadata": {},
          "output_type": "display_data"
        },
        {
          "data": {
            "application/javascript": [
              "download(\"download_b4152d19-8bff-4bc4-890b-a42512d47122\", \"MBTI_Reddit_J_P.csv\", 52995805)"
            ],
            "text/plain": [
              "<IPython.core.display.Javascript object>"
            ]
          },
          "metadata": {},
          "output_type": "display_data"
        }
      ]
    },
    {
      "cell_type": "code",
      "metadata": {
        "colab": {
          "base_uri": "https://localhost:8080/",
          "height": 441
        },
        "id": "WMkGZiFuORbO",
        "outputId": "f62e1d26-9bb2-4ca2-d5a4-215ed8cbefef"
      },
      "source": [
        "reddit_IE = pd.read_csv(\"MBTI_Reddit_I_E.csv\")\n",
        "print(\"The shape of binary dataset (I/E) : \", reddit_IE.shape)\n",
        "reddit_IE"
      ],
      "execution_count": null,
      "outputs": [
        {
          "output_type": "stream",
          "name": "stdout",
          "text": [
            "The shape of binary dataset (I/E) :  (3236, 2)\n"
          ]
        },
        {
          "output_type": "execute_result",
          "data": {
            "text/html": [
              "<div>\n",
              "<style scoped>\n",
              "    .dataframe tbody tr th:only-of-type {\n",
              "        vertical-align: middle;\n",
              "    }\n",
              "\n",
              "    .dataframe tbody tr th {\n",
              "        vertical-align: top;\n",
              "    }\n",
              "\n",
              "    .dataframe thead th {\n",
              "        text-align: right;\n",
              "    }\n",
              "</style>\n",
              "<table border=\"1\" class=\"dataframe\">\n",
              "  <thead>\n",
              "    <tr style=\"text-align: right;\">\n",
              "      <th></th>\n",
              "      <th>types</th>\n",
              "      <th>posts</th>\n",
              "    </tr>\n",
              "  </thead>\n",
              "  <tbody>\n",
              "    <tr>\n",
              "      <th>0</th>\n",
              "      <td>e</td>\n",
              "      <td>Yes! Personally I feel that as helpful as it i...</td>\n",
              "    </tr>\n",
              "    <tr>\n",
              "      <th>1</th>\n",
              "      <td>e</td>\n",
              "      <td>It is just arguing semantics. To many on the c...</td>\n",
              "    </tr>\n",
              "    <tr>\n",
              "      <th>2</th>\n",
              "      <td>e</td>\n",
              "      <td>Ooohhh okay, I thought there was something els...</td>\n",
              "    </tr>\n",
              "    <tr>\n",
              "      <th>3</th>\n",
              "      <td>i</td>\n",
              "      <td>This was Blizzards way to slow down the meta. ...</td>\n",
              "    </tr>\n",
              "    <tr>\n",
              "      <th>4</th>\n",
              "      <td>i</td>\n",
              "      <td>Thank you very much for the support. I am work...</td>\n",
              "    </tr>\n",
              "    <tr>\n",
              "      <th>...</th>\n",
              "      <td>...</td>\n",
              "      <td>...</td>\n",
              "    </tr>\n",
              "    <tr>\n",
              "      <th>3231</th>\n",
              "      <td>i</td>\n",
              "      <td>Hoi!Heb je nog iemand nodig?  Ik kom uit Canad...</td>\n",
              "    </tr>\n",
              "    <tr>\n",
              "      <th>3232</th>\n",
              "      <td>i</td>\n",
              "      <td>\"Take care.\"A weird, shitty ending to the rela...</td>\n",
              "    </tr>\n",
              "    <tr>\n",
              "      <th>3233</th>\n",
              "      <td>e</td>\n",
              "      <td>$49.46 is how much it costs btw. You can pre-o...</td>\n",
              "    </tr>\n",
              "    <tr>\n",
              "      <th>3234</th>\n",
              "      <td>i</td>\n",
              "      <td>You shouldn't use apps to base your assessment...</td>\n",
              "    </tr>\n",
              "    <tr>\n",
              "      <th>3235</th>\n",
              "      <td>i</td>\n",
              "      <td>We've hanged out about 5 times actually. But t...</td>\n",
              "    </tr>\n",
              "  </tbody>\n",
              "</table>\n",
              "<p>3236 rows × 2 columns</p>\n",
              "</div>"
            ],
            "text/plain": [
              "     types                                              posts\n",
              "0        e  Yes! Personally I feel that as helpful as it i...\n",
              "1        e  It is just arguing semantics. To many on the c...\n",
              "2        e  Ooohhh okay, I thought there was something els...\n",
              "3        i  This was Blizzards way to slow down the meta. ...\n",
              "4        i  Thank you very much for the support. I am work...\n",
              "...    ...                                                ...\n",
              "3231     i  Hoi!Heb je nog iemand nodig?  Ik kom uit Canad...\n",
              "3232     i  \"Take care.\"A weird, shitty ending to the rela...\n",
              "3233     e  $49.46 is how much it costs btw. You can pre-o...\n",
              "3234     i  You shouldn't use apps to base your assessment...\n",
              "3235     i  We've hanged out about 5 times actually. But t...\n",
              "\n",
              "[3236 rows x 2 columns]"
            ]
          },
          "metadata": {},
          "execution_count": 4
        }
      ]
    },
    {
      "cell_type": "code",
      "metadata": {
        "colab": {
          "base_uri": "https://localhost:8080/"
        },
        "id": "DZN9iL0ZORQZ",
        "outputId": "7509ee15-d97e-4105-9554-672dfd55266a"
      },
      "source": [
        "reddit_IE['types'].value_counts()"
      ],
      "execution_count": null,
      "outputs": [
        {
          "data": {
            "text/plain": [
              "i    2506\n",
              "e     730\n",
              "Name: types, dtype: int64"
            ]
          },
          "execution_count": 6,
          "metadata": {},
          "output_type": "execute_result"
        }
      ]
    },
    {
      "cell_type": "code",
      "metadata": {
        "colab": {
          "base_uri": "https://localhost:8080/",
          "height": 265
        },
        "id": "SQiK4x93UUFt",
        "outputId": "1bed53c1-a6c3-41ca-a47b-e1bbbd1c46fa"
      },
      "source": [
        "classes = reddit_IE.types.unique()\n",
        "counts = []\n",
        "\n",
        "for i in classes:\n",
        "  count = len(reddit_IE[reddit_IE.types==i])\n",
        "  counts.append(count)\n",
        "\n",
        "plt.bar(classes, counts)\n",
        "plt.show()"
      ],
      "execution_count": null,
      "outputs": [
        {
          "data": {
            "image/png": "[encoded data removed]",
            "text/plain": [
              "<Figure size 432x288 with 1 Axes>"
            ]
          },
          "metadata": {},
          "output_type": "display_data"
        }
      ]
    },
    {
      "cell_type": "code",
      "metadata": {
        "id": "Vy8ln_mhUhRd"
      },
      "source": [
        "reddit_IE['cleaned_posts'] = reddit_IE['posts'].apply(preprocessing)"
      ],
      "execution_count": null,
      "outputs": []
    },
    {
      "cell_type": "code",
      "metadata": {
        "colab": {
          "base_uri": "https://localhost:8080/",
          "height": 423
        },
        "id": "YgOCgxpnUxpT",
        "outputId": "87643827-43cf-468e-89ad-364548ea5398"
      },
      "source": [
        "labelencoder_IE = LabelEncoder()\n",
        "\n",
        "reddit_IE['Encoded_labels'] = labelencoder_IE.fit_transform(reddit_IE['types'])\n",
        "reddit_IE"
      ],
      "execution_count": null,
      "outputs": [
        {
          "output_type": "execute_result",
          "data": {
            "text/html": [
              "<div>\n",
              "<style scoped>\n",
              "    .dataframe tbody tr th:only-of-type {\n",
              "        vertical-align: middle;\n",
              "    }\n",
              "\n",
              "    .dataframe tbody tr th {\n",
              "        vertical-align: top;\n",
              "    }\n",
              "\n",
              "    .dataframe thead th {\n",
              "        text-align: right;\n",
              "    }\n",
              "</style>\n",
              "<table border=\"1\" class=\"dataframe\">\n",
              "  <thead>\n",
              "    <tr style=\"text-align: right;\">\n",
              "      <th></th>\n",
              "      <th>types</th>\n",
              "      <th>posts</th>\n",
              "      <th>cleaned_posts</th>\n",
              "      <th>Encoded_labels</th>\n",
              "    </tr>\n",
              "  </thead>\n",
              "  <tbody>\n",
              "    <tr>\n",
              "      <th>0</th>\n",
              "      <td>e</td>\n",
              "      <td>Yes! Personally I feel that as helpful as it i...</td>\n",
              "      <td>personally feel helpful meticulously plan ofte...</td>\n",
              "      <td>0</td>\n",
              "    </tr>\n",
              "    <tr>\n",
              "      <th>1</th>\n",
              "      <td>e</td>\n",
              "      <td>It is just arguing semantics. To many on the c...</td>\n",
              "      <td>semantics many consumer beta production phase ...</td>\n",
              "      <td>0</td>\n",
              "    </tr>\n",
              "    <tr>\n",
              "      <th>2</th>\n",
              "      <td>e</td>\n",
              "      <td>Ooohhh okay, I thought there was something els...</td>\n",
              "      <td></td>\n",
              "      <td>0</td>\n",
              "    </tr>\n",
              "    <tr>\n",
              "      <th>3</th>\n",
              "      <td>i</td>\n",
              "      <td>This was Blizzards way to slow down the meta. ...</td>\n",
              "      <td>slow meta working intended turn turn lethal fo...</td>\n",
              "      <td>1</td>\n",
              "    </tr>\n",
              "    <tr>\n",
              "      <th>4</th>\n",
              "      <td>i</td>\n",
              "      <td>Thank you very much for the support. I am work...</td>\n",
              "      <td>thank much support working daily basis hope we...</td>\n",
              "      <td>1</td>\n",
              "    </tr>\n",
              "    <tr>\n",
              "      <th>...</th>\n",
              "      <td>...</td>\n",
              "      <td>...</td>\n",
              "      <td>...</td>\n",
              "      <td>...</td>\n",
              "    </tr>\n",
              "    <tr>\n",
              "      <th>3231</th>\n",
              "      <td>i</td>\n",
              "      <td>Hoi!Heb je nog iemand nodig?  Ik kom uit Canad...</td>\n",
              "      <td>canada woon bent keep language learning can no...</td>\n",
              "      <td>1</td>\n",
              "    </tr>\n",
              "    <tr>\n",
              "      <th>3232</th>\n",
              "      <td>i</td>\n",
              "      <td>\"Take care.\"A weird, shitty ending to the rela...</td>\n",
              "      <td>take weird ending relationship overall lot goo...</td>\n",
              "      <td>1</td>\n",
              "    </tr>\n",
              "    <tr>\n",
              "      <th>3233</th>\n",
              "      <td>e</td>\n",
              "      <td>$49.46 is how much it costs btw. You can pre-o...</td>\n",
              "      <td>much preorder true bear lake turn particular t...</td>\n",
              "      <td>0</td>\n",
              "    </tr>\n",
              "    <tr>\n",
              "      <th>3234</th>\n",
              "      <td>i</td>\n",
              "      <td>You shouldn't use apps to base your assessment...</td>\n",
              "      <td>base assessment certain group besides older ex...</td>\n",
              "      <td>1</td>\n",
              "    </tr>\n",
              "    <tr>\n",
              "      <th>3235</th>\n",
              "      <td>i</td>\n",
              "      <td>We've hanged out about 5 times actually. But t...</td>\n",
              "      <td>time actually thank perhaps right spoke briefl...</td>\n",
              "      <td>1</td>\n",
              "    </tr>\n",
              "  </tbody>\n",
              "</table>\n",
              "<p>3236 rows × 4 columns</p>\n",
              "</div>"
            ],
            "text/plain": [
              "     types  ... Encoded_labels\n",
              "0        e  ...              0\n",
              "1        e  ...              0\n",
              "2        e  ...              0\n",
              "3        i  ...              1\n",
              "4        i  ...              1\n",
              "...    ...  ...            ...\n",
              "3231     i  ...              1\n",
              "3232     i  ...              1\n",
              "3233     e  ...              0\n",
              "3234     i  ...              1\n",
              "3235     i  ...              1\n",
              "\n",
              "[3236 rows x 4 columns]"
            ]
          },
          "metadata": {},
          "execution_count": 6
        }
      ]
    },
    {
      "cell_type": "code",
      "metadata": {
        "id": "SfA1Ii64A4vf"
      },
      "source": [
        "x= reddit_IE['cleaned_posts']\n",
        "y= reddit_IE['Encoded_labels']"
      ],
      "execution_count": null,
      "outputs": []
    },
    {
      "cell_type": "code",
      "metadata": {
        "colab": {
          "base_uri": "https://localhost:8080/"
        },
        "id": "V3x7HHW6BAG_",
        "outputId": "425db2be-553d-4172-f4c3-57b18128b181"
      },
      "source": [
        "y.value_counts()"
      ],
      "execution_count": null,
      "outputs": [
        {
          "data": {
            "text/plain": [
              "1    2506\n",
              "0     730\n",
              "Name: Encoded_labels, dtype: int64"
            ]
          },
          "execution_count": 13,
          "metadata": {},
          "output_type": "execute_result"
        }
      ]
    },
    {
      "cell_type": "code",
      "metadata": {
        "colab": {
          "base_uri": "https://localhost:8080/"
        },
        "id": "02m57g0nVMdd",
        "outputId": "4e8cfb4e-3b31-46e1-add0-dad005a567c0"
      },
      "source": [
        "reddit_IE = reddit_IE.sample(frac=1)\n",
        "\n",
        "X = reddit_IE['cleaned_posts']\n",
        "y = reddit_IE['Encoded_labels']\n",
        "\n",
        "\n",
        "split_1 = int(0.7 * len(reddit_IE))\n",
        "split_2 = int(0.85 * len(reddit_IE))\n",
        "\n",
        "X_train1 = X[:split_1]\n",
        "X_val1 = X[split_1:split_2]\n",
        "X_test1 = X[split_2:]\n",
        "y_train1 = y[:split_1]\n",
        "y_val1 = y[split_1:split_2]\n",
        "y_test1 = y[split_2:]\n",
        "print(\"The shape of X_train : \",X_train1.shape)\n",
        "print(\"The shape of y_train : \", y_train1.shape)\n",
        "print(\"The shape of X_val : \",X_val1.shape)\n",
        "print(\"The shape of y_val : \",y_val1.shape)\n",
        "print(\"The shape of X_test : \",X_test1.shape)\n",
        "print(\"The shape of y_test : \",y_test1.shape)"
      ],
      "execution_count": null,
      "outputs": [
        {
          "output_type": "stream",
          "name": "stdout",
          "text": [
            "The shape of X_train :  (2265,)\n",
            "The shape of y_train :  (2265,)\n",
            "The shape of X_val :  (485,)\n",
            "The shape of y_val :  (485,)\n",
            "The shape of X_test :  (486,)\n",
            "The shape of y_test :  (486,)\n"
          ]
        }
      ]
    },
    {
      "cell_type": "code",
      "metadata": {
        "id": "gT1wkWTrEZOs"
      },
      "source": [
        "y_train1_BM = np_utils.to_categorical(y_train1)\n",
        "y_val1_BM = np_utils.to_categorical(y_val1)\n",
        "y_test1_BM = np_utils.to_categorical(y_test1)"
      ],
      "execution_count": null,
      "outputs": []
    },
    {
      "cell_type": "code",
      "metadata": {
        "id": "1I5-BscPVhOV"
      },
      "source": [
        "bert_preprocess = 'https://tfhub.dev/tensorflow/bert_en_uncased_preprocess/3'\n",
        "bert_encoder = 'https://tfhub.dev/tensorflow/bert_en_uncased_L-12_H-768_A-12/4'"
      ],
      "execution_count": null,
      "outputs": []
    },
    {
      "cell_type": "code",
      "metadata": {
        "id": "aTSmVyxGV4kl"
      },
      "source": [
        "num_class = len(labelencoder_IE.classes_)\n",
        "\n",
        "text_input = tf.keras.layers.Input(shape=(), dtype=tf.string, name='inputs')\n",
        "preprocessing_layer = hub.KerasLayer(bert_preprocess, name='preprocessing')\n",
        "encoder_inputs = preprocessing_layer(text_input)\n",
        "encoder = hub.KerasLayer(bert_encoder, trainable=True, name='BERT_encoder')\n",
        "outputs = encoder(encoder_inputs)\n",
        "output = outputs['pooled_output']\n",
        "output = tf.keras.layers.Dropout(0.1)(output)\n",
        "output = tf.keras.layers.Dense(num_class, activation='sigmoid', name='classifier')(output)\n",
        "model = tf.keras.Model(text_input, output)\n",
        "#model.summary()"
      ],
      "execution_count": null,
      "outputs": []
    },
    {
      "cell_type": "code",
      "metadata": {
        "id": "bzaVpphwV9Ub"
      },
      "source": [
        "epochs = 50\n",
        "batch_size = 32 \n",
        "\n",
        "train_data_size = len(y_train1_BM)\n",
        "steps_per_epoch = int(train_data_size / batch_size)\n",
        "num_train_steps = steps_per_epoch * epochs\n",
        "warmup_steps = int(epochs * train_data_size * 0.1 / batch_size)\n",
        "\n",
        "optimizer = optimization.create_optimizer(\n",
        "    3e-5, num_train_steps=num_train_steps, num_warmup_steps=warmup_steps, optimizer_type='adamw')"
      ],
      "execution_count": null,
      "outputs": []
    },
    {
      "cell_type": "code",
      "metadata": {
        "id": "NuFPo7BvWBmP"
      },
      "source": [
        "loss = keras.losses.BinaryCrossentropy()\n",
        "auc = keras.metrics.AUC(multi_label=True, curve=\"ROC\")\n",
        "metrics=[auc, keras.metrics.BinaryAccuracy(),keras.metrics.Precision(),keras.metrics.Recall()]"
      ],
      "execution_count": null,
      "outputs": []
    },
    {
      "cell_type": "code",
      "metadata": {
        "id": "Jd3PePJeWKuq"
      },
      "source": [
        "from keras import callbacks\n",
        "earlystopping = callbacks.EarlyStopping(monitor =\"val_loss\", \n",
        "                                        mode =\"min\", patience = 5, \n",
        "                                        restore_best_weights = True)"
      ],
      "execution_count": null,
      "outputs": []
    },
    {
      "cell_type": "code",
      "metadata": {
        "id": "e8cEqwVPWKrH"
      },
      "source": [
        "model.compile(optimizer=optimizer,\n",
        "                         loss=loss,\n",
        "                         metrics=metrics)"
      ],
      "execution_count": null,
      "outputs": []
    },
    {
      "cell_type": "code",
      "metadata": {
        "colab": {
          "base_uri": "https://localhost:8080/"
        },
        "id": "--bzPWCYWKoN",
        "outputId": "1568e61d-b3cf-4cb2-cccd-b4755e2489d9"
      },
      "source": [
        "history = model.fit(\n",
        "    X_train1, y_train1_BM,\n",
        "    validation_data=(X_val1, y_val1_BM),\n",
        "    epochs=epochs,\n",
        "    batch_size=batch_size, callbacks =[earlystopping], verbose=2)"
      ],
      "execution_count": null,
      "outputs": [
        {
          "output_type": "stream",
          "name": "stdout",
          "text": [
            "Epoch 1/50\n",
            "71/71 - 157s - loss: 0.5829 - auc: 0.5076 - binary_accuracy: 0.7278 - precision: 0.7196 - recall: 0.7466 - val_loss: 0.5353 - val_auc: 0.5325 - val_binary_accuracy: 0.7732 - val_precision: 0.7732 - val_recall: 0.7732 - 157s/epoch - 2s/step\n",
            "Epoch 2/50\n",
            "71/71 - 132s - loss: 0.5411 - auc: 0.5325 - binary_accuracy: 0.7726 - precision: 0.7726 - recall: 0.7726 - val_loss: 0.5349 - val_auc: 0.5803 - val_binary_accuracy: 0.7732 - val_precision: 0.7732 - val_recall: 0.7732 - 132s/epoch - 2s/step\n",
            "Epoch 3/50\n",
            "71/71 - 132s - loss: 0.5358 - auc: 0.5486 - binary_accuracy: 0.7722 - precision: 0.7722 - recall: 0.7722 - val_loss: 0.5287 - val_auc: 0.5906 - val_binary_accuracy: 0.7732 - val_precision: 0.7732 - val_recall: 0.7732 - 132s/epoch - 2s/step\n",
            "Epoch 4/50\n",
            "71/71 - 132s - loss: 0.5097 - auc: 0.6495 - binary_accuracy: 0.7746 - precision: 0.7752 - recall: 0.7735 - val_loss: 0.5500 - val_auc: 0.5968 - val_binary_accuracy: 0.7722 - val_precision: 0.7727 - val_recall: 0.7711 - 132s/epoch - 2s/step\n",
            "Epoch 5/50\n",
            "71/71 - 132s - loss: 0.4468 - auc: 0.7730 - binary_accuracy: 0.8002 - precision: 0.8014 - recall: 0.7982 - val_loss: 0.6134 - val_auc: 0.5718 - val_binary_accuracy: 0.7680 - val_precision: 0.7686 - val_recall: 0.7670 - 132s/epoch - 2s/step\n",
            "Epoch 6/50\n",
            "71/71 - 132s - loss: 0.3588 - auc: 0.8698 - binary_accuracy: 0.8380 - precision: 0.8374 - recall: 0.8389 - val_loss: 0.7060 - val_auc: 0.5805 - val_binary_accuracy: 0.7649 - val_precision: 0.7639 - val_recall: 0.7670 - 132s/epoch - 2s/step\n",
            "Epoch 7/50\n",
            "71/71 - 133s - loss: 0.2440 - auc: 0.9387 - binary_accuracy: 0.9124 - precision: 0.9093 - recall: 0.9161 - val_loss: 0.9825 - val_auc: 0.5505 - val_binary_accuracy: 0.6124 - val_precision: 0.6128 - val_recall: 0.6103 - 133s/epoch - 2s/step\n",
            "Epoch 8/50\n",
            "71/71 - 134s - loss: 0.1239 - auc: 0.9816 - binary_accuracy: 0.9574 - precision: 0.9584 - recall: 0.9563 - val_loss: 1.1429 - val_auc: 0.5870 - val_binary_accuracy: 0.7557 - val_precision: 0.7541 - val_recall: 0.7588 - 134s/epoch - 2s/step\n"
          ]
        }
      ]
    },
    {
      "cell_type": "code",
      "metadata": {
        "id": "PDsBNSDsWKlF",
        "colab": {
          "base_uri": "https://localhost:8080/"
        },
        "outputId": "61986fb7-a383-4ce6-9f18-1849d9e72716"
      },
      "source": [
        "loss1, auc1, accuracy1, precision1, recall1 = model.evaluate(X_test1, y_test1_BM, batch_size=32, verbose=False)\n",
        "\n",
        "print(\"Testing Accuracy: \",accuracy1)\n",
        "print(\"Loss : \",loss1)\n",
        "print(\"Precision : \",precision1)\n",
        "print(\"Recall : \",recall1)\n",
        "print(\"AUC : \", auc1)"
      ],
      "execution_count": null,
      "outputs": [
        {
          "output_type": "stream",
          "name": "stdout",
          "text": [
            "Testing Accuracy:  0.7818930149078369\n",
            "Loss :  0.5297306180000305\n",
            "Precision :  0.7818930149078369\n",
            "Recall :  0.7818930149078369\n",
            "AUC :  0.5094215869903564\n"
          ]
        }
      ]
    },
    {
      "cell_type": "code",
      "metadata": {
        "id": "D9qQVB_eWKd2",
        "colab": {
          "base_uri": "https://localhost:8080/"
        },
        "outputId": "23292d0a-fc16-49b2-e320-37e19af5fe4b"
      },
      "source": [
        "F1_IE = 2 * (precision1 * recall1) / (precision1 + recall1)\n",
        "print(\"F1 score for Introvert/Extrovert(I/E): {:.4f}\".format(F1_IE))"
      ],
      "execution_count": null,
      "outputs": [
        {
          "output_type": "stream",
          "name": "stdout",
          "text": [
            "F1 score for Introvert/Extrovert(I/E): 0.7819\n"
          ]
        }
      ]
    },
    {
      "cell_type": "code",
      "metadata": {
        "id": "pgpkvhXPbA1u"
      },
      "source": [
        "def plot_history(history):\n",
        "\n",
        "  history_dict = history.history\n",
        "  #print(history_dict.keys())\n",
        "\n",
        "  acc = history_dict['binary_accuracy']\n",
        "  val_acc = history_dict['val_binary_accuracy']\n",
        "  loss = history_dict['loss']\n",
        "  val_loss = history_dict['val_loss']\n",
        "\n",
        "  epochs = range(1, len(acc) + 1)\n",
        "  plt.figure(figsize=(10, 6))\n",
        "\n",
        "\n",
        "  plt.subplot(2, 1, 1)\n",
        "  plt.plot(epochs, loss, 'r', label='Training loss')\n",
        "  plt.plot(epochs, val_loss, 'b', label='Validation loss')\n",
        "  plt.title('Training and validation loss')\n",
        "  plt.xlabel('Epochs')\n",
        "  plt.ylabel('Loss')\n",
        "  plt.legend()\n",
        "\n",
        "  plt.subplot(2, 1, 2)\n",
        "  plt.plot(epochs, acc, 'r', label='Training acc')\n",
        "  plt.plot(epochs, val_acc, 'b', label='Validation acc')\n",
        "  plt.title('Training and validation accuracy')\n",
        "  plt.xlabel('Epochs')\n",
        "  plt.ylabel('Accuracy')\n",
        "  plt.legend(loc='upper left')\n",
        "  plt.tight_layout()"
      ],
      "execution_count": null,
      "outputs": []
    },
    {
      "cell_type": "code",
      "metadata": {
        "id": "qMeJ58DybAyU",
        "colab": {
          "base_uri": "https://localhost:8080/",
          "height": 441
        },
        "outputId": "4c0b7cae-e10e-4e1c-9d39-2f6b213f56ea"
      },
      "source": [
        "plot_history(history)"
      ],
      "execution_count": null,
      "outputs": [
        {
          "output_type": "display_data",
          "data": {
            "image/png": "[encoded data removed]",
            "text/plain": [
              "<Figure size 720x432 with 2 Axes>"
            ]
          },
          "metadata": {
            "needs_background": "light"
          }
        }
      ]
    },
    {
      "cell_type": "code",
      "metadata": {
        "id": "joWeNLPFbAvC"
      },
      "source": [
        "y_predicted1 = model.predict(X_test1)"
      ],
      "execution_count": null,
      "outputs": []
    },
    {
      "cell_type": "code",
      "metadata": {
        "id": "y5Sri7wfbAiL",
        "colab": {
          "base_uri": "https://localhost:8080/"
        },
        "outputId": "83459794-2628-47f0-b6d8-9af2fddd83ca"
      },
      "source": [
        "input =  \"I like studying deep learning, playing football and my guitar, \" \\\n",
        "     \"and I love visit foreign cities all over the world.\"\n",
        "sentences = np.asarray([input])\n",
        "\n",
        "predict = model.predict(sentences)\n",
        "\n",
        "print(predict)\n",
        "print('Input text is ', 'MBTI type Introvert(I)' if labelencoder_IE.classes_[np.argmax(predict)]=='i' else 'MBTI type Extrovert(E)')"
      ],
      "execution_count": null,
      "outputs": [
        {
          "output_type": "stream",
          "name": "stdout",
          "text": [
            "[[0.3969615 0.6249533]]\n",
            "Input text is  MBTI type Introvert(I)\n"
          ]
        }
      ]
    },
    {
      "cell_type": "code",
      "metadata": {
        "id": "Cdih2FR7cvMB",
        "colab": {
          "base_uri": "https://localhost:8080/"
        },
        "outputId": "ff743f48-7af6-43d4-bb27-6fe7802c3f1c"
      },
      "source": [
        "input =  \"I hate to attend meetings everyday\"\n",
        "sentences = np.asarray([input])\n",
        "\n",
        "predict = model.predict(sentences)\n",
        "\n",
        "print(predict)\n",
        "print('Input text is ', 'MBTI type Introvert(I)' if labelencoder_IE.classes_[np.argmax(predict)]=='i' else 'MBTI type Extrovert(E)')"
      ],
      "execution_count": null,
      "outputs": [
        {
          "output_type": "stream",
          "name": "stdout",
          "text": [
            "[[0.43593228 0.6609702 ]]\n",
            "Input text is  MBTI type Introvert(I)\n"
          ]
        }
      ]
    },
    {
      "cell_type": "code",
      "metadata": {
        "id": "YaRHua_gcyb5"
      },
      "source": [
        "model.save(\"reddit_I-E_model.h5\")"
      ],
      "execution_count": null,
      "outputs": []
    },
    {
      "cell_type": "code",
      "metadata": {
        "id": "bBp71VvObAgl"
      },
      "source": [
        "!ls reddit_I_E_model.h5"
      ],
      "execution_count": null,
      "outputs": []
    },
    {
      "cell_type": "code",
      "metadata": {
        "id": "N_YxOzUJcyh-"
      },
      "source": [
        "reloaded_model_IE = tf.keras.models.load_model(\"reddit_I-E_model.h5\", custom_objects={'KerasLayer':hub.KerasLayer , 'AdamWeightDecay': optimizer})"
      ],
      "execution_count": null,
      "outputs": []
    },
    {
      "cell_type": "code",
      "metadata": {
        "id": "jH9cJEB3bAew",
        "colab": {
          "base_uri": "https://localhost:8080/"
        },
        "outputId": "9c81d122-29e0-4b12-be7e-a541c96cfd93"
      },
      "source": [
        "input =  \"I like studying deep learning, playing football and my guitar, \" \\\n",
        "     \"and I love visit foreign cities all over the world.\"\n",
        "sentences = np.asarray([input])\n",
        "\n",
        "predict = model.predict(sentences)\n",
        "\n",
        "print(predict)\n",
        "print('Input text is ', 'MBTI type Introvert(I)' if labelencoder_IE.classes_[np.argmax(predict)]=='i' else 'MBTI type Extrovert(E)')"
      ],
      "execution_count": null,
      "outputs": [
        {
          "output_type": "stream",
          "name": "stdout",
          "text": [
            "[[0.3969615 0.6249533]]\n",
            "Input text is  MBTI type Introvert(I)\n"
          ]
        }
      ]
    },
    {
      "cell_type": "code",
      "metadata": {
        "id": "GsF1VWX2bAcq",
        "colab": {
          "base_uri": "https://localhost:8080/"
        },
        "outputId": "deb495b1-227e-4fca-a0f1-bfc200c1830f"
      },
      "source": [
        "input =  \"I hate to attend meetings everyday\"\n",
        "sentences = np.asarray([input])\n",
        "\n",
        "predict = model.predict(sentences)\n",
        "\n",
        "print(predict)\n",
        "print('Input text is ', 'MBTI type Introvert(I)' if labelencoder_IE.classes_[np.argmax(predict)]=='i' else 'MBTI type Extrovert(E)')"
      ],
      "execution_count": null,
      "outputs": [
        {
          "output_type": "stream",
          "name": "stdout",
          "text": [
            "[[0.43593228 0.6609702 ]]\n",
            "Input text is  MBTI type Introvert(I)\n"
          ]
        }
      ]
    },
    {
      "cell_type": "code",
      "metadata": {
        "id": "4usOEeB8FtVv"
      },
      "source": [
        "reddit_SN = pd.read_csv(\"MBTI_Reddit_S_N.csv\")\n",
        "reddit_SN.head()"
      ],
      "execution_count": null,
      "outputs": []
    },
    {
      "cell_type": "code",
      "metadata": {
        "id": "byvYxiFFFsSa"
      },
      "source": [
        "reddit_SN['cleaned_posts'] = reddit_SN['posts'].apply(preprocessing)"
      ],
      "execution_count": null,
      "outputs": []
    },
    {
      "cell_type": "code",
      "metadata": {
        "colab": {
          "base_uri": "https://localhost:8080/",
          "height": 423
        },
        "id": "0oyM8tZGFsPD",
        "outputId": "f2ead355-a5ee-4324-96fc-cc5327743522"
      },
      "source": [
        "labelencoder_SN = LabelEncoder()\n",
        "\n",
        "reddit_SN['Encoded_labels'] = labelencoder_SN.fit_transform(reddit_SN['types'])\n",
        "reddit_SN"
      ],
      "execution_count": null,
      "outputs": [
        {
          "output_type": "execute_result",
          "data": {
            "text/html": [
              "<div>\n",
              "<style scoped>\n",
              "    .dataframe tbody tr th:only-of-type {\n",
              "        vertical-align: middle;\n",
              "    }\n",
              "\n",
              "    .dataframe tbody tr th {\n",
              "        vertical-align: top;\n",
              "    }\n",
              "\n",
              "    .dataframe thead th {\n",
              "        text-align: right;\n",
              "    }\n",
              "</style>\n",
              "<table border=\"1\" class=\"dataframe\">\n",
              "  <thead>\n",
              "    <tr style=\"text-align: right;\">\n",
              "      <th></th>\n",
              "      <th>types</th>\n",
              "      <th>posts</th>\n",
              "      <th>cleaned_posts</th>\n",
              "      <th>Encoded_labels</th>\n",
              "    </tr>\n",
              "  </thead>\n",
              "  <tbody>\n",
              "    <tr>\n",
              "      <th>0</th>\n",
              "      <td>n</td>\n",
              "      <td>Yes! Personally I feel that as helpful as it i...</td>\n",
              "      <td>personally feel helpful meticulously plan ofte...</td>\n",
              "      <td>0</td>\n",
              "    </tr>\n",
              "    <tr>\n",
              "      <th>1</th>\n",
              "      <td>n</td>\n",
              "      <td>It is just arguing semantics. To many on the c...</td>\n",
              "      <td>semantics many consumer beta production phase ...</td>\n",
              "      <td>0</td>\n",
              "    </tr>\n",
              "    <tr>\n",
              "      <th>2</th>\n",
              "      <td>n</td>\n",
              "      <td>Ooohhh okay, I thought there was something els...</td>\n",
              "      <td></td>\n",
              "      <td>0</td>\n",
              "    </tr>\n",
              "    <tr>\n",
              "      <th>3</th>\n",
              "      <td>n</td>\n",
              "      <td>This was Blizzards way to slow down the meta. ...</td>\n",
              "      <td>slow meta working intended turn turn lethal fo...</td>\n",
              "      <td>0</td>\n",
              "    </tr>\n",
              "    <tr>\n",
              "      <th>4</th>\n",
              "      <td>n</td>\n",
              "      <td>Thank you very much for the support. I am work...</td>\n",
              "      <td>thank much support working daily basis hope we...</td>\n",
              "      <td>0</td>\n",
              "    </tr>\n",
              "    <tr>\n",
              "      <th>...</th>\n",
              "      <td>...</td>\n",
              "      <td>...</td>\n",
              "      <td>...</td>\n",
              "      <td>...</td>\n",
              "    </tr>\n",
              "    <tr>\n",
              "      <th>3231</th>\n",
              "      <td>n</td>\n",
              "      <td>Hoi!Heb je nog iemand nodig?  Ik kom uit Canad...</td>\n",
              "      <td>canada woon bent keep language learning can no...</td>\n",
              "      <td>0</td>\n",
              "    </tr>\n",
              "    <tr>\n",
              "      <th>3232</th>\n",
              "      <td>n</td>\n",
              "      <td>\"Take care.\"A weird, shitty ending to the rela...</td>\n",
              "      <td>take weird ending relationship overall lot goo...</td>\n",
              "      <td>0</td>\n",
              "    </tr>\n",
              "    <tr>\n",
              "      <th>3233</th>\n",
              "      <td>s</td>\n",
              "      <td>$49.46 is how much it costs btw. You can pre-o...</td>\n",
              "      <td>much preorder true bear lake turn particular t...</td>\n",
              "      <td>1</td>\n",
              "    </tr>\n",
              "    <tr>\n",
              "      <th>3234</th>\n",
              "      <td>n</td>\n",
              "      <td>You shouldn't use apps to base your assessment...</td>\n",
              "      <td>base assessment certain group besides older ex...</td>\n",
              "      <td>0</td>\n",
              "    </tr>\n",
              "    <tr>\n",
              "      <th>3235</th>\n",
              "      <td>n</td>\n",
              "      <td>We've hanged out about 5 times actually. But t...</td>\n",
              "      <td>time actually thank perhaps right spoke briefl...</td>\n",
              "      <td>0</td>\n",
              "    </tr>\n",
              "  </tbody>\n",
              "</table>\n",
              "<p>3236 rows × 4 columns</p>\n",
              "</div>"
            ],
            "text/plain": [
              "     types  ... Encoded_labels\n",
              "0        n  ...              0\n",
              "1        n  ...              0\n",
              "2        n  ...              0\n",
              "3        n  ...              0\n",
              "4        n  ...              0\n",
              "...    ...  ...            ...\n",
              "3231     n  ...              0\n",
              "3232     n  ...              0\n",
              "3233     s  ...              1\n",
              "3234     n  ...              0\n",
              "3235     n  ...              0\n",
              "\n",
              "[3236 rows x 4 columns]"
            ]
          },
          "metadata": {},
          "execution_count": 34
        }
      ]
    },
    {
      "cell_type": "code",
      "metadata": {
        "colab": {
          "base_uri": "https://localhost:8080/"
        },
        "id": "clw12-8KFsKC",
        "outputId": "25229dd5-8232-47b4-d0e7-8e3ebc268945"
      },
      "source": [
        "reddit_SN = reddit_SN.sample(frac=1)\n",
        "\n",
        "X = reddit_SN['cleaned_posts']\n",
        "y = reddit_SN['Encoded_labels']\n",
        "\n",
        "split_1 = int(0.7 * len(reddit_SN))\n",
        "split_2 = int(0.85 * len(reddit_SN))\n",
        "\n",
        "X_train2 = X[:split_1]\n",
        "X_val2 = X[split_1:split_2]\n",
        "X_test2 = X[split_2:]\n",
        "y_train2 = y[:split_1]\n",
        "y_val2 = y[split_1:split_2]\n",
        "y_test2 = y[split_2:]\n",
        "print(\"The shape of X_train : \",X_train2.shape)\n",
        "print(\"The shape of y_train : \", y_train2.shape)\n",
        "print(\"The shape of X_val : \",X_val2.shape)\n",
        "print(\"The shape of y_val : \",y_val2.shape)\n",
        "print(\"The shape of X_test : \",X_test2.shape)\n",
        "print(\"The shape of y_test : \",y_test2.shape)"
      ],
      "execution_count": null,
      "outputs": [
        {
          "output_type": "stream",
          "name": "stdout",
          "text": [
            "The shape of X_train :  (2265,)\n",
            "The shape of y_train :  (2265,)\n",
            "The shape of X_val :  (485,)\n",
            "The shape of y_val :  (485,)\n",
            "The shape of X_test :  (486,)\n",
            "The shape of y_test :  (486,)\n"
          ]
        }
      ]
    },
    {
      "cell_type": "code",
      "metadata": {
        "id": "Bz-hERCeFsGZ"
      },
      "source": [
        "y_train2_BM = np_utils.to_categorical(y_train2)\n",
        "y_val2_BM = np_utils.to_categorical(y_val2)\n",
        "y_test2_BM = np_utils.to_categorical(y_test2)"
      ],
      "execution_count": null,
      "outputs": []
    },
    {
      "cell_type": "code",
      "metadata": {
        "id": "1M3aYHObFsDZ"
      },
      "source": [
        "num_class = len(labelencoder_SN.classes_)\n",
        "\n",
        "text_input = tf.keras.layers.Input(shape=(), dtype=tf.string, name='inputs')\n",
        "preprocessing_layer = hub.KerasLayer(bert_preprocess, name='preprocessing')\n",
        "encoder_inputs = preprocessing_layer(text_input)\n",
        "encoder = hub.KerasLayer(bert_encoder, trainable=True, name='BERT_encoder')\n",
        "outputs = encoder(encoder_inputs)\n",
        "output = outputs['pooled_output']\n",
        "output = tf.keras.layers.Dropout(0.1)(output)\n",
        "output = tf.keras.layers.Dense(num_class, activation='sigmoid', name='classifier')(output)\n",
        "model = tf.keras.Model(text_input, output)\n",
        "#model.summary()"
      ],
      "execution_count": null,
      "outputs": []
    },
    {
      "cell_type": "code",
      "metadata": {
        "id": "C3aKbu2_FsAa"
      },
      "source": [
        "epochs = 50\n",
        "batch_size = 16 \n",
        "\n",
        "train_data_size = len(y_train2_BM)\n",
        "steps_per_epoch = int(train_data_size / batch_size)\n",
        "num_train_steps = steps_per_epoch * epochs\n",
        "warmup_steps = int(epochs * train_data_size * 0.1 / batch_size)\n",
        "\n",
        "optimizer = optimization.create_optimizer(\n",
        "    3e-5, num_train_steps=num_train_steps, num_warmup_steps=warmup_steps, optimizer_type='adamw')"
      ],
      "execution_count": null,
      "outputs": []
    },
    {
      "cell_type": "code",
      "metadata": {
        "id": "RZiRCqqKFr9k"
      },
      "source": [
        "model.compile(optimizer=optimizer,\n",
        "                         loss=loss,\n",
        "                         metrics=metrics)"
      ],
      "execution_count": null,
      "outputs": []
    },
    {
      "cell_type": "code",
      "metadata": {
        "colab": {
          "base_uri": "https://localhost:8080/"
        },
        "id": "oDYRioHlFr6R",
        "outputId": "9c743029-7d8d-46b5-bb12-2bbe222193fc"
      },
      "source": [
        "history = model.fit(\n",
        "    X_train2, y_train2_BM,\n",
        "    validation_data=(X_val2, y_val2_BM),\n",
        "    epochs=epochs,\n",
        "    batch_size=batch_size, callbacks =[earlystopping], verbose=2)"
      ],
      "execution_count": null,
      "outputs": [
        {
          "output_type": "stream",
          "name": "stdout",
          "text": [
            "Epoch 1/50\n",
            "142/142 - 164s - loss: 0.4585 - auc: 0.7440 - binary_accuracy: 0.8308 - precision: 0.8321 - recall: 0.8288 - val_loss: 0.4246 - val_auc: 0.5756 - val_binary_accuracy: 0.8495 - val_precision: 0.8495 - val_recall: 0.8495 - 164s/epoch - 1s/step\n",
            "Epoch 2/50\n",
            "142/142 - 141s - loss: 0.4171 - auc: 0.5117 - binary_accuracy: 0.8592 - precision: 0.8592 - recall: 0.8592 - val_loss: 0.4469 - val_auc: 0.5799 - val_binary_accuracy: 0.8495 - val_precision: 0.8495 - val_recall: 0.8495 - 141s/epoch - 993ms/step\n",
            "Epoch 3/50\n",
            "142/142 - 140s - loss: 0.4162 - auc: 0.5171 - binary_accuracy: 0.8592 - precision: 0.8592 - recall: 0.8592 - val_loss: 0.4285 - val_auc: 0.6399 - val_binary_accuracy: 0.8495 - val_precision: 0.8495 - val_recall: 0.8495 - 140s/epoch - 988ms/step\n",
            "Epoch 4/50\n",
            "142/142 - 140s - loss: 0.4001 - auc: 0.6112 - binary_accuracy: 0.8587 - precision: 0.8578 - recall: 0.8600 - val_loss: 0.4146 - val_auc: 0.6413 - val_binary_accuracy: 0.8495 - val_precision: 0.8495 - val_recall: 0.8495 - 140s/epoch - 986ms/step\n",
            "Epoch 5/50\n",
            "142/142 - 140s - loss: 0.3534 - auc: 0.7560 - binary_accuracy: 0.8653 - precision: 0.8612 - recall: 0.8711 - val_loss: 0.4230 - val_auc: 0.5969 - val_binary_accuracy: 0.8495 - val_precision: 0.8495 - val_recall: 0.8495 - 140s/epoch - 984ms/step\n",
            "Epoch 6/50\n",
            "142/142 - 140s - loss: 0.2224 - auc: 0.9161 - binary_accuracy: 0.9263 - precision: 0.9259 - recall: 0.9267 - val_loss: 0.7154 - val_auc: 0.5706 - val_binary_accuracy: 0.8505 - val_precision: 0.8527 - val_recall: 0.8474 - 140s/epoch - 983ms/step\n",
            "Epoch 7/50\n",
            "142/142 - 139s - loss: 0.1161 - auc: 0.9713 - binary_accuracy: 0.9664 - precision: 0.9660 - recall: 0.9669 - val_loss: 1.0339 - val_auc: 0.5631 - val_binary_accuracy: 0.8247 - val_precision: 0.8247 - val_recall: 0.8247 - 139s/epoch - 981ms/step\n",
            "Epoch 8/50\n",
            "142/142 - 139s - loss: 0.0704 - auc: 0.9832 - binary_accuracy: 0.9819 - precision: 0.9828 - recall: 0.9810 - val_loss: 0.9990 - val_auc: 0.5523 - val_binary_accuracy: 0.8361 - val_precision: 0.8368 - val_recall: 0.8351 - 139s/epoch - 982ms/step\n",
            "Epoch 9/50\n",
            "142/142 - 140s - loss: 0.0610 - auc: 0.9852 - binary_accuracy: 0.9863 - precision: 0.9863 - recall: 0.9863 - val_loss: 1.2370 - val_auc: 0.5897 - val_binary_accuracy: 0.7278 - val_precision: 0.7278 - val_recall: 0.7278 - 140s/epoch - 985ms/step\n"
          ]
        }
      ]
    },
    {
      "cell_type": "code",
      "metadata": {
        "colab": {
          "base_uri": "https://localhost:8080/"
        },
        "id": "VPE5dzfwFr3p",
        "outputId": "e8963011-c351-4cd1-95da-ecf7c8c29501"
      },
      "source": [
        "loss2, auc2, accuracy2, precision2, recall2 = model.evaluate(X_test2, y_test2_BM, batch_size=16, verbose=False)\n",
        "\n",
        "print(\"Testing Accuracy: \",accuracy2)\n",
        "print(\"Loss : \",loss2)\n",
        "print(\"Precision : \",precision2)\n",
        "print(\"Recall : \",recall2)\n",
        "print(\"AUC : \",auc2)"
      ],
      "execution_count": null,
      "outputs": [
        {
          "output_type": "stream",
          "name": "stdout",
          "text": [
            "Testing Accuracy:  0.8765432238578796\n",
            "Loss :  0.3744148015975952\n",
            "Precision :  0.8765432238578796\n",
            "Recall :  0.8765432238578796\n",
            "AUC :  0.5720950365066528\n"
          ]
        }
      ]
    },
    {
      "cell_type": "code",
      "metadata": {
        "colab": {
          "base_uri": "https://localhost:8080/"
        },
        "id": "ILdQEzsrFr0u",
        "outputId": "18308a7b-658d-4fa0-89db-573ed70e4320"
      },
      "source": [
        "F1_SN = 2 * (precision2 * recall2) / (precision2 + recall2)\n",
        "print(\"F1 score for Sensing/INtuition(S/N): {:.4f}\".format(F1_SN))"
      ],
      "execution_count": null,
      "outputs": [
        {
          "output_type": "stream",
          "name": "stdout",
          "text": [
            "F1 score for Sensing/INtuition(S/N): 0.8765\n"
          ]
        }
      ]
    },
    {
      "cell_type": "code",
      "metadata": {
        "colab": {
          "base_uri": "https://localhost:8080/",
          "height": 441
        },
        "id": "A9RjPYZdFrxm",
        "outputId": "df30fcd9-61d0-4730-9542-fd72fe72aeab"
      },
      "source": [
        "plot_history(history)"
      ],
      "execution_count": null,
      "outputs": [
        {
          "output_type": "display_data",
          "data": {
            "image/png": "[encoded data removed]",
            "text/plain": [
              "<Figure size 720x432 with 2 Axes>"
            ]
          },
          "metadata": {
            "needs_background": "light"
          }
        }
      ]
    },
    {
      "cell_type": "code",
      "metadata": {
        "colab": {
          "base_uri": "https://localhost:8080/"
        },
        "id": "N6hMLKzIFruN",
        "outputId": "9153d293-d96e-4447-c259-0fddbba05a2d"
      },
      "source": [
        "input =  \"I like studying deep learning, playing football and my guitar, \" \\\n",
        "     \"and I love visit foreign cities all over the world.\"\n",
        "sentences = np.asarray([input])\n",
        "\n",
        "predict = model.predict(sentences)\n",
        "\n",
        "print(predict)\n",
        "print('Input text is ', 'MBTI type Sensing(S)' if labelencoder_SN.classes_[np.argmax(predict)]=='s' else 'MBTI type INtuition(N)')"
      ],
      "execution_count": null,
      "outputs": [
        {
          "output_type": "stream",
          "name": "stdout",
          "text": [
            "[[0.74806523 0.15315393]]\n",
            "Input text is  MBTI type INtuition(N)\n"
          ]
        }
      ]
    },
    {
      "cell_type": "code",
      "metadata": {
        "colab": {
          "base_uri": "https://localhost:8080/"
        },
        "id": "JVJJrrCdFrmq",
        "outputId": "0889dfec-ebb9-4939-f7d5-9f8677c5445d"
      },
      "source": [
        "input =  \"I hate to attend meetings everyday\"\n",
        "sentences = np.asarray([input])\n",
        "\n",
        "predict = model.predict(sentences)\n",
        "\n",
        "print(predict)\n",
        "print('Input text is ', 'MBTI type Sensing(S)' if labelencoder_SN.classes_[np.argmax(predict)]=='s' else 'MBTI type INtuition(N)')"
      ],
      "execution_count": null,
      "outputs": [
        {
          "output_type": "stream",
          "name": "stdout",
          "text": [
            "[[0.7677255 0.2973881]]\n",
            "Input text is  MBTI type INtuition(N)\n"
          ]
        }
      ]
    },
    {
      "cell_type": "code",
      "metadata": {
        "id": "HxINa0huFrkL"
      },
      "source": [
        "model.save(\"reddit_S-N_model.h5\")"
      ],
      "execution_count": null,
      "outputs": []
    },
    {
      "cell_type": "code",
      "metadata": {
        "id": "3RLDS7VoGqdD"
      },
      "source": [
        "reloaded_model_SN = tf.keras.models.load_model(\"reddit_S-N_model.h5\", custom_objects={'KerasLayer':hub.KerasLayer , 'AdamWeightDecay': optimizer})"
      ],
      "execution_count": null,
      "outputs": []
    },
    {
      "cell_type": "code",
      "metadata": {
        "colab": {
          "base_uri": "https://localhost:8080/",
          "height": 206
        },
        "id": "ohl0K3BGGxg0",
        "outputId": "40d17ecc-97eb-46d9-8696-62efc926d338"
      },
      "source": [
        "reddit_FT = pd.read_csv(\"MBTI_Reddit_F_T.csv\")\n",
        "reddit_FT.head()"
      ],
      "execution_count": null,
      "outputs": [
        {
          "output_type": "execute_result",
          "data": {
            "text/html": [
              "<div>\n",
              "<style scoped>\n",
              "    .dataframe tbody tr th:only-of-type {\n",
              "        vertical-align: middle;\n",
              "    }\n",
              "\n",
              "    .dataframe tbody tr th {\n",
              "        vertical-align: top;\n",
              "    }\n",
              "\n",
              "    .dataframe thead th {\n",
              "        text-align: right;\n",
              "    }\n",
              "</style>\n",
              "<table border=\"1\" class=\"dataframe\">\n",
              "  <thead>\n",
              "    <tr style=\"text-align: right;\">\n",
              "      <th></th>\n",
              "      <th>types</th>\n",
              "      <th>posts</th>\n",
              "    </tr>\n",
              "  </thead>\n",
              "  <tbody>\n",
              "    <tr>\n",
              "      <th>0</th>\n",
              "      <td>t</td>\n",
              "      <td>Yes! Personally I feel that as helpful as it i...</td>\n",
              "    </tr>\n",
              "    <tr>\n",
              "      <th>1</th>\n",
              "      <td>t</td>\n",
              "      <td>It is just arguing semantics. To many on the c...</td>\n",
              "    </tr>\n",
              "    <tr>\n",
              "      <th>2</th>\n",
              "      <td>t</td>\n",
              "      <td>Ooohhh okay, I thought there was something els...</td>\n",
              "    </tr>\n",
              "    <tr>\n",
              "      <th>3</th>\n",
              "      <td>t</td>\n",
              "      <td>This was Blizzards way to slow down the meta. ...</td>\n",
              "    </tr>\n",
              "    <tr>\n",
              "      <th>4</th>\n",
              "      <td>t</td>\n",
              "      <td>Thank you very much for the support. I am work...</td>\n",
              "    </tr>\n",
              "  </tbody>\n",
              "</table>\n",
              "</div>"
            ],
            "text/plain": [
              "  types                                              posts\n",
              "0     t  Yes! Personally I feel that as helpful as it i...\n",
              "1     t  It is just arguing semantics. To many on the c...\n",
              "2     t  Ooohhh okay, I thought there was something els...\n",
              "3     t  This was Blizzards way to slow down the meta. ...\n",
              "4     t  Thank you very much for the support. I am work..."
            ]
          },
          "metadata": {},
          "execution_count": 50
        }
      ]
    },
    {
      "cell_type": "code",
      "metadata": {
        "id": "gJkreVDIGxdT"
      },
      "source": [
        "reddit_FT['cleaned_posts'] = reddit_FT['posts'].apply(preprocessing)"
      ],
      "execution_count": null,
      "outputs": []
    },
    {
      "cell_type": "code",
      "metadata": {
        "colab": {
          "base_uri": "https://localhost:8080/",
          "height": 423
        },
        "id": "vNkOBp8tGxa2",
        "outputId": "2fe14695-6f40-4a12-c9ce-d98a5371958b"
      },
      "source": [
        "labelencoder_FT = LabelEncoder()\n",
        "\n",
        "reddit_FT['Encoded_labels'] = labelencoder_FT.fit_transform(reddit_FT['types'])\n",
        "reddit_FT"
      ],
      "execution_count": null,
      "outputs": [
        {
          "output_type": "execute_result",
          "data": {
            "text/html": [
              "<div>\n",
              "<style scoped>\n",
              "    .dataframe tbody tr th:only-of-type {\n",
              "        vertical-align: middle;\n",
              "    }\n",
              "\n",
              "    .dataframe tbody tr th {\n",
              "        vertical-align: top;\n",
              "    }\n",
              "\n",
              "    .dataframe thead th {\n",
              "        text-align: right;\n",
              "    }\n",
              "</style>\n",
              "<table border=\"1\" class=\"dataframe\">\n",
              "  <thead>\n",
              "    <tr style=\"text-align: right;\">\n",
              "      <th></th>\n",
              "      <th>types</th>\n",
              "      <th>posts</th>\n",
              "      <th>cleaned_posts</th>\n",
              "      <th>Encoded_labels</th>\n",
              "    </tr>\n",
              "  </thead>\n",
              "  <tbody>\n",
              "    <tr>\n",
              "      <th>0</th>\n",
              "      <td>t</td>\n",
              "      <td>Yes! Personally I feel that as helpful as it i...</td>\n",
              "      <td>personally feel helpful meticulously plan ofte...</td>\n",
              "      <td>1</td>\n",
              "    </tr>\n",
              "    <tr>\n",
              "      <th>1</th>\n",
              "      <td>t</td>\n",
              "      <td>It is just arguing semantics. To many on the c...</td>\n",
              "      <td>semantics many consumer beta production phase ...</td>\n",
              "      <td>1</td>\n",
              "    </tr>\n",
              "    <tr>\n",
              "      <th>2</th>\n",
              "      <td>t</td>\n",
              "      <td>Ooohhh okay, I thought there was something els...</td>\n",
              "      <td></td>\n",
              "      <td>1</td>\n",
              "    </tr>\n",
              "    <tr>\n",
              "      <th>3</th>\n",
              "      <td>t</td>\n",
              "      <td>This was Blizzards way to slow down the meta. ...</td>\n",
              "      <td>slow meta working intended turn turn lethal fo...</td>\n",
              "      <td>1</td>\n",
              "    </tr>\n",
              "    <tr>\n",
              "      <th>4</th>\n",
              "      <td>t</td>\n",
              "      <td>Thank you very much for the support. I am work...</td>\n",
              "      <td>thank much support working daily basis hope we...</td>\n",
              "      <td>1</td>\n",
              "    </tr>\n",
              "    <tr>\n",
              "      <th>...</th>\n",
              "      <td>...</td>\n",
              "      <td>...</td>\n",
              "      <td>...</td>\n",
              "      <td>...</td>\n",
              "    </tr>\n",
              "    <tr>\n",
              "      <th>3231</th>\n",
              "      <td>t</td>\n",
              "      <td>Hoi!Heb je nog iemand nodig?  Ik kom uit Canad...</td>\n",
              "      <td>canada woon bent keep language learning can no...</td>\n",
              "      <td>1</td>\n",
              "    </tr>\n",
              "    <tr>\n",
              "      <th>3232</th>\n",
              "      <td>t</td>\n",
              "      <td>\"Take care.\"A weird, shitty ending to the rela...</td>\n",
              "      <td>take weird ending relationship overall lot goo...</td>\n",
              "      <td>1</td>\n",
              "    </tr>\n",
              "    <tr>\n",
              "      <th>3233</th>\n",
              "      <td>f</td>\n",
              "      <td>$49.46 is how much it costs btw. You can pre-o...</td>\n",
              "      <td>much preorder true bear lake turn particular t...</td>\n",
              "      <td>0</td>\n",
              "    </tr>\n",
              "    <tr>\n",
              "      <th>3234</th>\n",
              "      <td>f</td>\n",
              "      <td>You shouldn't use apps to base your assessment...</td>\n",
              "      <td>base assessment certain group besides older ex...</td>\n",
              "      <td>0</td>\n",
              "    </tr>\n",
              "    <tr>\n",
              "      <th>3235</th>\n",
              "      <td>f</td>\n",
              "      <td>We've hanged out about 5 times actually. But t...</td>\n",
              "      <td>time actually thank perhaps right spoke briefl...</td>\n",
              "      <td>0</td>\n",
              "    </tr>\n",
              "  </tbody>\n",
              "</table>\n",
              "<p>3236 rows × 4 columns</p>\n",
              "</div>"
            ],
            "text/plain": [
              "     types  ... Encoded_labels\n",
              "0        t  ...              1\n",
              "1        t  ...              1\n",
              "2        t  ...              1\n",
              "3        t  ...              1\n",
              "4        t  ...              1\n",
              "...    ...  ...            ...\n",
              "3231     t  ...              1\n",
              "3232     t  ...              1\n",
              "3233     f  ...              0\n",
              "3234     f  ...              0\n",
              "3235     f  ...              0\n",
              "\n",
              "[3236 rows x 4 columns]"
            ]
          },
          "metadata": {},
          "execution_count": 52
        }
      ]
    },
    {
      "cell_type": "code",
      "metadata": {
        "colab": {
          "base_uri": "https://localhost:8080/"
        },
        "id": "OLfzUdx6GxYN",
        "outputId": "f14d51f9-122b-4c23-a0bf-b8aa41a605ad"
      },
      "source": [
        "reddit_FT = reddit_FT.sample(frac=1)\n",
        "#print(binary_df1)\n",
        "\n",
        "X = reddit_FT['cleaned_posts']\n",
        "y = reddit_FT['Encoded_labels']\n",
        "\n",
        "\n",
        "split_1 = int(0.7 * len(reddit_FT))\n",
        "split_2 = int(0.85 * len(reddit_FT))\n",
        "\n",
        "X_train3 = X[:split_1]\n",
        "X_val3 = X[split_1:split_2]\n",
        "X_test3 = X[split_2:]\n",
        "y_train3 = y[:split_1]\n",
        "y_val3 = y[split_1:split_2]\n",
        "y_test3 = y[split_2:]\n",
        "print(\"The shape of X_train : \",X_train3.shape)\n",
        "print(\"The shape of y_train : \", y_train3.shape)\n",
        "print(\"The shape of X_val : \",X_val3.shape)\n",
        "print(\"The shape of y_val : \",y_val3.shape)\n",
        "print(\"The shape of X_test : \",X_test3.shape)\n",
        "print(\"The shape of y_test : \",y_test3.shape)"
      ],
      "execution_count": null,
      "outputs": [
        {
          "output_type": "stream",
          "name": "stdout",
          "text": [
            "The shape of X_train :  (2265,)\n",
            "The shape of y_train :  (2265,)\n",
            "The shape of X_val :  (485,)\n",
            "The shape of y_val :  (485,)\n",
            "The shape of X_test :  (486,)\n",
            "The shape of y_test :  (486,)\n"
          ]
        }
      ]
    },
    {
      "cell_type": "code",
      "metadata": {
        "id": "2SDOrNCcGxU9"
      },
      "source": [
        "y_train3_BM = np_utils.to_categorical(y_train3)\n",
        "y_val3_BM = np_utils.to_categorical(y_val3)\n",
        "y_test3_BM = np_utils.to_categorical(y_test3)"
      ],
      "execution_count": null,
      "outputs": []
    },
    {
      "cell_type": "code",
      "metadata": {
        "id": "yf9bSbH3GxQi"
      },
      "source": [
        "num_class = len(labelencoder_FT.classes_)\n",
        "\n",
        "text_input = tf.keras.layers.Input(shape=(), dtype=tf.string, name='inputs')\n",
        "preprocessing_layer = hub.KerasLayer(bert_preprocess, name='preprocessing')\n",
        "encoder_inputs = preprocessing_layer(text_input)\n",
        "encoder = hub.KerasLayer(bert_encoder, trainable=True, name='BERT_encoder')\n",
        "outputs = encoder(encoder_inputs)\n",
        "output = outputs['pooled_output']\n",
        "output = tf.keras.layers.Dropout(0.1)(output)\n",
        "output = tf.keras.layers.Dense(num_class, activation='sigmoid', name='classifier')(output)\n",
        "model3 = tf.keras.Model(text_input, output)\n",
        "#model.summary()"
      ],
      "execution_count": null,
      "outputs": []
    },
    {
      "cell_type": "code",
      "metadata": {
        "id": "nou0vDCnLWB_"
      },
      "source": [
        "epochs = 50\n",
        "batch_size = 16 \n",
        "\n",
        "train_data_size = len(y_train3_BM)\n",
        "steps_per_epoch = int(train_data_size / batch_size)\n",
        "num_train_steps = steps_per_epoch * epochs\n",
        "warmup_steps = int(epochs * train_data_size * 0.1 / batch_size)\n",
        "\n",
        "optimizer = optimization.create_optimizer(\n",
        "    3e-5, num_train_steps=num_train_steps, num_warmup_steps=warmup_steps, optimizer_type='adamw')"
      ],
      "execution_count": null,
      "outputs": []
    },
    {
      "cell_type": "code",
      "metadata": {
        "id": "5S5HP_oQLV-m"
      },
      "source": [
        "model.compile(optimizer=optimizer,\n",
        "                         loss=loss,\n",
        "                         metrics=metrics)"
      ],
      "execution_count": null,
      "outputs": []
    },
    {
      "cell_type": "code",
      "metadata": {
        "colab": {
          "base_uri": "https://localhost:8080/"
        },
        "id": "nZYSmVh0LV8L",
        "outputId": "cf732fe7-cb84-478a-de2f-9598b7b45e52"
      },
      "source": [
        "history = model.fit(\n",
        "    X_train3, y_train3_BM,\n",
        "    validation_data=(X_val3, y_val3_BM),\n",
        "    epochs=epochs,\n",
        "    batch_size=batch_size, callbacks =[earlystopping], verbose=2)"
      ],
      "execution_count": null,
      "outputs": [
        {
          "output_type": "stream",
          "name": "stdout",
          "text": [
            "Epoch 1/50\n",
            "142/142 - 154s - loss: 0.8468 - auc: 0.6151 - binary_accuracy: 0.5498 - precision: 0.5480 - recall: 0.5685 - val_loss: 0.6713 - val_auc: 0.5936 - val_binary_accuracy: 0.6010 - val_precision: 0.5984 - val_recall: 0.6144 - 154s/epoch - 1s/step\n",
            "Epoch 2/50\n",
            "142/142 - 140s - loss: 0.6686 - auc: 0.5654 - binary_accuracy: 0.6002 - precision: 0.5978 - recall: 0.6124 - val_loss: 0.6515 - val_auc: 0.6326 - val_binary_accuracy: 0.6010 - val_precision: 0.5992 - val_recall: 0.6103 - 140s/epoch - 988ms/step\n",
            "Epoch 3/50\n",
            "142/142 - 140s - loss: 0.6270 - auc: 0.6721 - binary_accuracy: 0.6539 - precision: 0.6533 - recall: 0.6556 - val_loss: 0.6489 - val_auc: 0.6416 - val_binary_accuracy: 0.6381 - val_precision: 0.6319 - val_recall: 0.6619 - 140s/epoch - 985ms/step\n",
            "Epoch 4/50\n",
            "142/142 - 139s - loss: 0.5598 - auc: 0.7674 - binary_accuracy: 0.7104 - precision: 0.7115 - recall: 0.7077 - val_loss: 0.7296 - val_auc: 0.6406 - val_binary_accuracy: 0.6330 - val_precision: 0.6375 - val_recall: 0.6165 - 139s/epoch - 982ms/step\n",
            "Epoch 5/50\n",
            "142/142 - 140s - loss: 0.3949 - auc: 0.8966 - binary_accuracy: 0.8285 - precision: 0.8252 - recall: 0.8336 - val_loss: 0.8353 - val_auc: 0.6343 - val_binary_accuracy: 0.6165 - val_precision: 0.6155 - val_recall: 0.6206 - 140s/epoch - 983ms/step\n",
            "Epoch 6/50\n",
            "142/142 - 140s - loss: 0.2335 - auc: 0.9635 - binary_accuracy: 0.9082 - precision: 0.9046 - recall: 0.9126 - val_loss: 1.2378 - val_auc: 0.6495 - val_binary_accuracy: 0.6505 - val_precision: 0.6521 - val_recall: 0.6454 - 140s/epoch - 984ms/step\n",
            "Epoch 7/50\n",
            "142/142 - 140s - loss: 0.1494 - auc: 0.9851 - binary_accuracy: 0.9455 - precision: 0.9453 - recall: 0.9457 - val_loss: 1.6430 - val_auc: 0.6425 - val_binary_accuracy: 0.6144 - val_precision: 0.6154 - val_recall: 0.6103 - 140s/epoch - 984ms/step\n",
            "Epoch 8/50\n",
            "142/142 - 139s - loss: 0.1082 - auc: 0.9918 - binary_accuracy: 0.9660 - precision: 0.9640 - recall: 0.9682 - val_loss: 2.2979 - val_auc: 0.5807 - val_binary_accuracy: 0.6423 - val_precision: 0.6432 - val_recall: 0.6392 - 139s/epoch - 979ms/step\n"
          ]
        }
      ]
    },
    {
      "cell_type": "code",
      "metadata": {
        "colab": {
          "base_uri": "https://localhost:8080/"
        },
        "id": "JcEzDgweLV5i",
        "outputId": "106dda63-7b64-4b0f-e3be-d816ae4e80cc"
      },
      "source": [
        "loss3,  auc3, accuracy3, precision3, recall3 = model.evaluate(X_test3, y_test3_BM, batch_size=32, verbose=False)\n",
        "\n",
        "print(\"Testing Accuracy: \",accuracy3)\n",
        "print(\"Loss : \",loss3)\n",
        "print(\"Precision : \",precision3)\n",
        "print(\"Recall : \",recall3)\n",
        "print(\"AUC : \", auc3)"
      ],
      "execution_count": null,
      "outputs": [
        {
          "output_type": "stream",
          "name": "stdout",
          "text": [
            "Testing Accuracy:  0.645061731338501\n",
            "Loss :  0.6506267189979553\n",
            "Precision :  0.6374269127845764\n",
            "Recall :  0.6728395223617554\n",
            "AUC :  0.6307475566864014\n"
          ]
        }
      ]
    },
    {
      "cell_type": "code",
      "metadata": {
        "colab": {
          "base_uri": "https://localhost:8080/"
        },
        "id": "tskhYn98LV3P",
        "outputId": "7a96cc63-f22b-4560-93f5-3e0bb8126778"
      },
      "source": [
        "F1_FT = 2 * (precision3 * recall3) / (precision3 + recall3)\n",
        "print(\"F1 score for Feeling/Thinking(F/T): {:.4f}\".format(F1_FT))"
      ],
      "execution_count": null,
      "outputs": [
        {
          "output_type": "stream",
          "name": "stdout",
          "text": [
            "F1 score for Feeling/Thinking(F/T): 0.6547\n"
          ]
        }
      ]
    },
    {
      "cell_type": "code",
      "metadata": {
        "colab": {
          "base_uri": "https://localhost:8080/"
        },
        "id": "NulGvv6ALV1M",
        "outputId": "00136165-6034-4044-f1dd-b3b89f476d17"
      },
      "source": [
        "input =  \"I like studying deep learning, playing football and my guitar, \" \\\n",
        "     \"and I love visit foreign cities all over the world.\"\n",
        "sentences = np.asarray([input])\n",
        "\n",
        "predict = model.predict(sentences)\n",
        "\n",
        "print(predict)\n",
        "print('Input text is ', 'MBTI type Feeling(F)' if labelencoder_FT.classes_[np.argmax(predict)]=='f' else 'MBTI type Thinking(T)')"
      ],
      "execution_count": null,
      "outputs": [
        {
          "output_type": "stream",
          "name": "stdout",
          "text": [
            "[[0.5595951  0.29887295]]\n",
            "Input text is  MBTI type Feeling(F)\n"
          ]
        }
      ]
    },
    {
      "cell_type": "code",
      "metadata": {
        "colab": {
          "base_uri": "https://localhost:8080/"
        },
        "id": "kwCaBa2bLVyA",
        "outputId": "0869d4e6-b705-4156-a752-27ec72d1e890"
      },
      "source": [
        "input =  \"I hate to attend meetings everyday\"\n",
        "sentences = np.asarray([input])\n",
        "\n",
        "predict = model.predict(sentences)\n",
        "\n",
        "print(predict)\n",
        "print('Input text is ', 'MBTI type Feeling(F)' if labelencoder_FT.classes_[np.argmax(predict)]=='f' else 'MBTI type Thinking(T)')"
      ],
      "execution_count": null,
      "outputs": [
        {
          "output_type": "stream",
          "name": "stdout",
          "text": [
            "[[0.6034082  0.43796974]]\n",
            "Input text is  MBTI type Feeling(F)\n"
          ]
        }
      ]
    },
    {
      "cell_type": "code",
      "metadata": {
        "id": "uyObb3BpLVvH"
      },
      "source": [
        "model.save(\"reddit_F-T_model.h5\")"
      ],
      "execution_count": null,
      "outputs": []
    },
    {
      "cell_type": "code",
      "metadata": {
        "id": "HZJXw43iLVsA"
      },
      "source": [
        "reloaded_model_FT = tf.keras.models.load_model(\"reddit_F-T_model.h5\", custom_objects={'KerasLayer':hub.KerasLayer , 'AdamWeightDecay': optimizer})"
      ],
      "execution_count": null,
      "outputs": []
    },
    {
      "cell_type": "code",
      "metadata": {
        "colab": {
          "base_uri": "https://localhost:8080/",
          "height": 423
        },
        "id": "4ACjh6_jQ2BJ",
        "outputId": "a24fd943-aedf-4dcc-a9be-600ad15dbc2c"
      },
      "source": [
        "reddit_JP = pd.read_csv(\"MBTI_Reddit_J_P.csv\")\n",
        "reddit_JP"
      ],
      "execution_count": null,
      "outputs": [
        {
          "output_type": "execute_result",
          "data": {
            "text/html": [
              "<div>\n",
              "<style scoped>\n",
              "    .dataframe tbody tr th:only-of-type {\n",
              "        vertical-align: middle;\n",
              "    }\n",
              "\n",
              "    .dataframe tbody tr th {\n",
              "        vertical-align: top;\n",
              "    }\n",
              "\n",
              "    .dataframe thead th {\n",
              "        text-align: right;\n",
              "    }\n",
              "</style>\n",
              "<table border=\"1\" class=\"dataframe\">\n",
              "  <thead>\n",
              "    <tr style=\"text-align: right;\">\n",
              "      <th></th>\n",
              "      <th>types</th>\n",
              "      <th>posts</th>\n",
              "    </tr>\n",
              "  </thead>\n",
              "  <tbody>\n",
              "    <tr>\n",
              "      <th>0</th>\n",
              "      <td>p</td>\n",
              "      <td>Yes! Personally I feel that as helpful as it i...</td>\n",
              "    </tr>\n",
              "    <tr>\n",
              "      <th>1</th>\n",
              "      <td>p</td>\n",
              "      <td>It is just arguing semantics. To many on the c...</td>\n",
              "    </tr>\n",
              "    <tr>\n",
              "      <th>2</th>\n",
              "      <td>p</td>\n",
              "      <td>Ooohhh okay, I thought there was something els...</td>\n",
              "    </tr>\n",
              "    <tr>\n",
              "      <th>3</th>\n",
              "      <td>p</td>\n",
              "      <td>This was Blizzards way to slow down the meta. ...</td>\n",
              "    </tr>\n",
              "    <tr>\n",
              "      <th>4</th>\n",
              "      <td>p</td>\n",
              "      <td>Thank you very much for the support. I am work...</td>\n",
              "    </tr>\n",
              "    <tr>\n",
              "      <th>...</th>\n",
              "      <td>...</td>\n",
              "      <td>...</td>\n",
              "    </tr>\n",
              "    <tr>\n",
              "      <th>3231</th>\n",
              "      <td>p</td>\n",
              "      <td>Hoi!Heb je nog iemand nodig?  Ik kom uit Canad...</td>\n",
              "    </tr>\n",
              "    <tr>\n",
              "      <th>3232</th>\n",
              "      <td>j</td>\n",
              "      <td>\"Take care.\"A weird, shitty ending to the rela...</td>\n",
              "    </tr>\n",
              "    <tr>\n",
              "      <th>3233</th>\n",
              "      <td>j</td>\n",
              "      <td>$49.46 is how much it costs btw. You can pre-o...</td>\n",
              "    </tr>\n",
              "    <tr>\n",
              "      <th>3234</th>\n",
              "      <td>j</td>\n",
              "      <td>You shouldn't use apps to base your assessment...</td>\n",
              "    </tr>\n",
              "    <tr>\n",
              "      <th>3235</th>\n",
              "      <td>j</td>\n",
              "      <td>We've hanged out about 5 times actually. But t...</td>\n",
              "    </tr>\n",
              "  </tbody>\n",
              "</table>\n",
              "<p>3236 rows × 2 columns</p>\n",
              "</div>"
            ],
            "text/plain": [
              "     types                                              posts\n",
              "0        p  Yes! Personally I feel that as helpful as it i...\n",
              "1        p  It is just arguing semantics. To many on the c...\n",
              "2        p  Ooohhh okay, I thought there was something els...\n",
              "3        p  This was Blizzards way to slow down the meta. ...\n",
              "4        p  Thank you very much for the support. I am work...\n",
              "...    ...                                                ...\n",
              "3231     p  Hoi!Heb je nog iemand nodig?  Ik kom uit Canad...\n",
              "3232     j  \"Take care.\"A weird, shitty ending to the rela...\n",
              "3233     j  $49.46 is how much it costs btw. You can pre-o...\n",
              "3234     j  You shouldn't use apps to base your assessment...\n",
              "3235     j  We've hanged out about 5 times actually. But t...\n",
              "\n",
              "[3236 rows x 2 columns]"
            ]
          },
          "metadata": {},
          "execution_count": 69
        }
      ]
    },
    {
      "cell_type": "code",
      "metadata": {
        "id": "4Je-bSPTQ1ux"
      },
      "source": [
        "reddit_JP['cleaned_posts'] = reddit_JP['posts'].apply(preprocessing)"
      ],
      "execution_count": null,
      "outputs": []
    },
    {
      "cell_type": "code",
      "metadata": {
        "colab": {
          "base_uri": "https://localhost:8080/",
          "height": 423
        },
        "id": "fRjyFzkTQ1rT",
        "outputId": "d94c9d30-1e73-4b55-a2b9-580adea51094"
      },
      "source": [
        "labelencoder_JP = LabelEncoder()\n",
        "\n",
        "reddit_JP['Encoded_labels'] = labelencoder_JP.fit_transform(reddit_JP['types'])\n",
        "reddit_JP"
      ],
      "execution_count": null,
      "outputs": [
        {
          "output_type": "execute_result",
          "data": {
            "text/html": [
              "<div>\n",
              "<style scoped>\n",
              "    .dataframe tbody tr th:only-of-type {\n",
              "        vertical-align: middle;\n",
              "    }\n",
              "\n",
              "    .dataframe tbody tr th {\n",
              "        vertical-align: top;\n",
              "    }\n",
              "\n",
              "    .dataframe thead th {\n",
              "        text-align: right;\n",
              "    }\n",
              "</style>\n",
              "<table border=\"1\" class=\"dataframe\">\n",
              "  <thead>\n",
              "    <tr style=\"text-align: right;\">\n",
              "      <th></th>\n",
              "      <th>types</th>\n",
              "      <th>posts</th>\n",
              "      <th>cleaned_posts</th>\n",
              "      <th>Encoded_labels</th>\n",
              "    </tr>\n",
              "  </thead>\n",
              "  <tbody>\n",
              "    <tr>\n",
              "      <th>0</th>\n",
              "      <td>p</td>\n",
              "      <td>Yes! Personally I feel that as helpful as it i...</td>\n",
              "      <td>personally feel helpful meticulously plan ofte...</td>\n",
              "      <td>1</td>\n",
              "    </tr>\n",
              "    <tr>\n",
              "      <th>1</th>\n",
              "      <td>p</td>\n",
              "      <td>It is just arguing semantics. To many on the c...</td>\n",
              "      <td>semantics many consumer beta production phase ...</td>\n",
              "      <td>1</td>\n",
              "    </tr>\n",
              "    <tr>\n",
              "      <th>2</th>\n",
              "      <td>p</td>\n",
              "      <td>Ooohhh okay, I thought there was something els...</td>\n",
              "      <td></td>\n",
              "      <td>1</td>\n",
              "    </tr>\n",
              "    <tr>\n",
              "      <th>3</th>\n",
              "      <td>p</td>\n",
              "      <td>This was Blizzards way to slow down the meta. ...</td>\n",
              "      <td>slow meta working intended turn turn lethal fo...</td>\n",
              "      <td>1</td>\n",
              "    </tr>\n",
              "    <tr>\n",
              "      <th>4</th>\n",
              "      <td>p</td>\n",
              "      <td>Thank you very much for the support. I am work...</td>\n",
              "      <td>thank much support working daily basis hope we...</td>\n",
              "      <td>1</td>\n",
              "    </tr>\n",
              "    <tr>\n",
              "      <th>...</th>\n",
              "      <td>...</td>\n",
              "      <td>...</td>\n",
              "      <td>...</td>\n",
              "      <td>...</td>\n",
              "    </tr>\n",
              "    <tr>\n",
              "      <th>3231</th>\n",
              "      <td>p</td>\n",
              "      <td>Hoi!Heb je nog iemand nodig?  Ik kom uit Canad...</td>\n",
              "      <td>canada woon bent keep language learning can no...</td>\n",
              "      <td>1</td>\n",
              "    </tr>\n",
              "    <tr>\n",
              "      <th>3232</th>\n",
              "      <td>j</td>\n",
              "      <td>\"Take care.\"A weird, shitty ending to the rela...</td>\n",
              "      <td>take weird ending relationship overall lot goo...</td>\n",
              "      <td>0</td>\n",
              "    </tr>\n",
              "    <tr>\n",
              "      <th>3233</th>\n",
              "      <td>j</td>\n",
              "      <td>$49.46 is how much it costs btw. You can pre-o...</td>\n",
              "      <td>much preorder true bear lake turn particular t...</td>\n",
              "      <td>0</td>\n",
              "    </tr>\n",
              "    <tr>\n",
              "      <th>3234</th>\n",
              "      <td>j</td>\n",
              "      <td>You shouldn't use apps to base your assessment...</td>\n",
              "      <td>base assessment certain group besides older ex...</td>\n",
              "      <td>0</td>\n",
              "    </tr>\n",
              "    <tr>\n",
              "      <th>3235</th>\n",
              "      <td>j</td>\n",
              "      <td>We've hanged out about 5 times actually. But t...</td>\n",
              "      <td>time actually thank perhaps right spoke briefl...</td>\n",
              "      <td>0</td>\n",
              "    </tr>\n",
              "  </tbody>\n",
              "</table>\n",
              "<p>3236 rows × 4 columns</p>\n",
              "</div>"
            ],
            "text/plain": [
              "     types  ... Encoded_labels\n",
              "0        p  ...              1\n",
              "1        p  ...              1\n",
              "2        p  ...              1\n",
              "3        p  ...              1\n",
              "4        p  ...              1\n",
              "...    ...  ...            ...\n",
              "3231     p  ...              1\n",
              "3232     j  ...              0\n",
              "3233     j  ...              0\n",
              "3234     j  ...              0\n",
              "3235     j  ...              0\n",
              "\n",
              "[3236 rows x 4 columns]"
            ]
          },
          "metadata": {},
          "execution_count": 71
        }
      ]
    },
    {
      "cell_type": "code",
      "metadata": {
        "colab": {
          "base_uri": "https://localhost:8080/"
        },
        "id": "-ikaJi5KQ1lI",
        "outputId": "0bc4bdbc-6e34-40bf-ecc2-8a11075e23f9"
      },
      "source": [
        "reddit_JP = reddit_JP.sample(frac=1)\n",
        "#print(binary_df1)\n",
        "\n",
        "X = reddit_JP['cleaned_posts']\n",
        "y = reddit_JP['Encoded_labels']\n",
        "\n",
        "\n",
        "split_1 = int(0.7 * len(reddit_JP))\n",
        "split_2 = int(0.85 * len(reddit_JP))\n",
        "\n",
        "X_train4 = X[:split_1]\n",
        "X_val4 = X[split_1:split_2]\n",
        "X_test4 = X[split_2:]\n",
        "y_train4 = y[:split_1]\n",
        "y_val4 = y[split_1:split_2]\n",
        "y_test4 = y[split_2:]\n",
        "print(\"The shape of X_train : \",X_train4.shape)\n",
        "print(\"The shape of y_train : \", y_train4.shape)\n",
        "print(\"The shape of X_val : \",X_val4.shape)\n",
        "print(\"The shape of y_val : \",y_val4.shape)\n",
        "print(\"The shape of X_test : \",X_test4.shape)\n",
        "print(\"The shape of y_test : \",y_test4.shape)"
      ],
      "execution_count": null,
      "outputs": [
        {
          "output_type": "stream",
          "name": "stdout",
          "text": [
            "The shape of X_train :  (2265,)\n",
            "The shape of y_train :  (2265,)\n",
            "The shape of X_val :  (485,)\n",
            "The shape of y_val :  (485,)\n",
            "The shape of X_test :  (486,)\n",
            "The shape of y_test :  (486,)\n"
          ]
        }
      ]
    },
    {
      "cell_type": "code",
      "metadata": {
        "id": "iCSMbQBcQ1cy"
      },
      "source": [
        "y_train4_BM = np_utils.to_categorical(y_train4)\n",
        "y_val4_BM = np_utils.to_categorical(y_val4)\n",
        "y_test4_BM = np_utils.to_categorical(y_test4)"
      ],
      "execution_count": null,
      "outputs": []
    },
    {
      "cell_type": "code",
      "metadata": {
        "id": "AmiZFfRHQ1ZY"
      },
      "source": [
        "num_class = len(labelencoder_JP.classes_)\n",
        "\n",
        "text_input = tf.keras.layers.Input(shape=(), dtype=tf.string, name='inputs')\n",
        "preprocessing_layer = hub.KerasLayer(bert_preprocess, name='preprocessing')\n",
        "encoder_inputs = preprocessing_layer(text_input)\n",
        "encoder = hub.KerasLayer(bert_encoder, trainable=True, name='BERT_encoder')\n",
        "outputs = encoder(encoder_inputs)\n",
        "output = outputs['pooled_output']\n",
        "output = tf.keras.layers.Dropout(0.1)(output)\n",
        "output = tf.keras.layers.Dense(num_class, activation='sigmoid', name='classifier')(output)\n",
        "model3 = tf.keras.Model(text_input, output)\n",
        "#model.summary()"
      ],
      "execution_count": null,
      "outputs": []
    },
    {
      "cell_type": "code",
      "metadata": {
        "id": "WrJW1xaKQ1VP"
      },
      "source": [
        "epochs = 50\n",
        "batch_size = 16 \n",
        "\n",
        "train_data_size = len(y_train4_BM)\n",
        "steps_per_epoch = int(train_data_size / batch_size)\n",
        "num_train_steps = steps_per_epoch * epochs\n",
        "warmup_steps = int(epochs * train_data_size * 0.1 / batch_size)\n",
        "\n",
        "optimizer = optimization.create_optimizer(\n",
        "    3e-5, num_train_steps=num_train_steps, num_warmup_steps=warmup_steps, optimizer_type='adamw')"
      ],
      "execution_count": null,
      "outputs": []
    },
    {
      "cell_type": "code",
      "metadata": {
        "id": "uLWSAQssQ1Qx"
      },
      "source": [
        "model.compile(optimizer=optimizer,\n",
        "                         loss=loss,\n",
        "                         metrics=metrics)"
      ],
      "execution_count": null,
      "outputs": []
    },
    {
      "cell_type": "code",
      "metadata": {
        "colab": {
          "base_uri": "https://localhost:8080/"
        },
        "id": "ar4ZM6gxQ1NU",
        "outputId": "de25c3bf-3bd2-4255-f11a-97eaa5b287e8"
      },
      "source": [
        "history = model.fit(\n",
        "    X_train4, y_train4_BM,\n",
        "    validation_data=(X_val4, y_val4_BM),\n",
        "    epochs=epochs,\n",
        "    batch_size=batch_size, callbacks =[earlystopping], verbose=2)"
      ],
      "execution_count": null,
      "outputs": [
        {
          "output_type": "stream",
          "name": "stdout",
          "text": [
            "Epoch 1/50\n",
            "142/142 - 153s - loss: 0.7029 - auc: 0.5400 - binary_accuracy: 0.5769 - precision: 0.5738 - recall: 0.5980 - val_loss: 0.6854 - val_auc: 0.5039 - val_binary_accuracy: 0.5763 - val_precision: 0.5758 - val_recall: 0.5794 - 153s/epoch - 1s/step\n",
            "Epoch 2/50\n",
            "142/142 - 140s - loss: 0.6762 - auc: 0.5466 - binary_accuracy: 0.5852 - precision: 0.5852 - recall: 0.5850 - val_loss: 0.6795 - val_auc: 0.5374 - val_binary_accuracy: 0.5763 - val_precision: 0.5743 - val_recall: 0.5897 - 140s/epoch - 985ms/step\n",
            "Epoch 3/50\n",
            "142/142 - 139s - loss: 0.6513 - auc: 0.6267 - binary_accuracy: 0.6168 - precision: 0.6172 - recall: 0.6150 - val_loss: 0.6971 - val_auc: 0.5551 - val_binary_accuracy: 0.5526 - val_precision: 0.5558 - val_recall: 0.5237 - 139s/epoch - 978ms/step\n",
            "Epoch 4/50\n",
            "142/142 - 140s - loss: 0.5534 - auc: 0.7754 - binary_accuracy: 0.7102 - precision: 0.7117 - recall: 0.7064 - val_loss: 0.8283 - val_auc: 0.5443 - val_binary_accuracy: 0.5000 - val_precision: 0.5000 - val_recall: 0.5093 - 140s/epoch - 983ms/step\n",
            "Epoch 5/50\n",
            "142/142 - 139s - loss: 0.3641 - auc: 0.9144 - binary_accuracy: 0.8351 - precision: 0.8344 - recall: 0.8362 - val_loss: 1.0933 - val_auc: 0.5434 - val_binary_accuracy: 0.5784 - val_precision: 0.5779 - val_recall: 0.5814 - 139s/epoch - 982ms/step\n",
            "Epoch 6/50\n",
            "142/142 - 139s - loss: 0.2154 - auc: 0.9698 - binary_accuracy: 0.9148 - precision: 0.9163 - recall: 0.9130 - val_loss: 1.5389 - val_auc: 0.5213 - val_binary_accuracy: 0.5031 - val_precision: 0.5031 - val_recall: 0.5031 - 139s/epoch - 979ms/step\n",
            "Epoch 7/50\n",
            "142/142 - 139s - loss: 0.1572 - auc: 0.9841 - binary_accuracy: 0.9404 - precision: 0.9396 - recall: 0.9413 - val_loss: 2.0615 - val_auc: 0.5231 - val_binary_accuracy: 0.5134 - val_precision: 0.5133 - val_recall: 0.5175 - 139s/epoch - 981ms/step\n"
          ]
        }
      ]
    },
    {
      "cell_type": "code",
      "metadata": {
        "colab": {
          "base_uri": "https://localhost:8080/"
        },
        "id": "BFFui029Q1KM",
        "outputId": "c8584759-a5c7-4ffd-b035-a5a260dfc65f"
      },
      "source": [
        "loss4, auc4, accuracy4, precision4, recall4 = model.evaluate(X_test4, y_test4_BM, batch_size=32, verbose=False)\n",
        "\n",
        "print(\"Testing Accuracy: \",accuracy4)\n",
        "print(\"Loss : \",loss4)\n",
        "print(\"Precision : \",precision4)\n",
        "print(\"Recall : \",recall4)\n",
        "print(\"AUC : \",auc4)"
      ],
      "execution_count": null,
      "outputs": [
        {
          "output_type": "stream",
          "name": "stdout",
          "text": [
            "Testing Accuracy:  0.6069958806037903\n",
            "Loss :  0.6619077920913696\n",
            "Precision :  0.6039999723434448\n",
            "Recall :  0.6213991641998291\n",
            "AUC :  0.6057231426239014\n"
          ]
        }
      ]
    },
    {
      "cell_type": "code",
      "metadata": {
        "colab": {
          "base_uri": "https://localhost:8080/"
        },
        "id": "4ESBgu2CQ1G6",
        "outputId": "d3b0e46a-acbe-41cf-9abd-192d94bdcd86"
      },
      "source": [
        "F1_JP = 2 * (precision4 * recall4) / (precision4 + recall4)\n",
        "print(\"F1 score for Judging/Perceiving(J/P): {:.4f}\".format(F1_JP))"
      ],
      "execution_count": null,
      "outputs": [
        {
          "output_type": "stream",
          "name": "stdout",
          "text": [
            "F1 score for Judging/Perceiving(J/P): 0.6126\n"
          ]
        }
      ]
    },
    {
      "cell_type": "code",
      "metadata": {
        "colab": {
          "base_uri": "https://localhost:8080/",
          "height": 441
        },
        "id": "zM0tMWfXQ1EA",
        "outputId": "58c4ca6d-c91a-4b2c-a027-d1ba00508f68"
      },
      "source": [
        "plot_history(history)"
      ],
      "execution_count": null,
      "outputs": [
        {
          "output_type": "display_data",
          "data": {
            "image/png": "[encoded data removed]",
            "text/plain": [
              "<Figure size 720x432 with 2 Axes>"
            ]
          },
          "metadata": {
            "needs_background": "light"
          }
        }
      ]
    },
    {
      "cell_type": "code",
      "metadata": {
        "colab": {
          "base_uri": "https://localhost:8080/"
        },
        "id": "DQJvQ27kQ1Af",
        "outputId": "4a181223-4e8a-498e-8a73-9645e8a67bbb"
      },
      "source": [
        "input =  \"I like studying deep learning, playing football and my guitar, \" \\\n",
        "     \"and I love visit foreign cities all over the world.\"\n",
        "sentences = np.asarray([input])\n",
        "\n",
        "predict = model.predict(sentences)\n",
        "\n",
        "print(predict)\n",
        "print('Input text is ', 'MBTI type Perceiving(P)' if labelencoder_JP.classes_[np.argmax(predict)]=='p' else 'MBTI type Judging(J)')"
      ],
      "execution_count": null,
      "outputs": [
        {
          "output_type": "stream",
          "name": "stdout",
          "text": [
            "[[0.4119194  0.48744604]]\n",
            "Input text is  MBTI type Perceiving(P)\n"
          ]
        }
      ]
    },
    {
      "cell_type": "code",
      "metadata": {
        "colab": {
          "base_uri": "https://localhost:8080/"
        },
        "id": "plyJXjAuQ089",
        "outputId": "ab97618f-eee7-49f2-f564-ec7fac748d09"
      },
      "source": [
        "input =  \"I hate to attend meetings everyday\"\n",
        "sentences = np.asarray([input])\n",
        "\n",
        "predict = model.predict(sentences)\n",
        "\n",
        "print(predict)\n",
        "print('Input text is ', 'MBTI type Perceiving(P)' if labelencoder_JP.classes_[np.argmax(predict)]=='p' else 'MBTI type Judging(J)')"
      ],
      "execution_count": null,
      "outputs": [
        {
          "output_type": "stream",
          "name": "stdout",
          "text": [
            "[[0.46395648 0.56608236]]\n",
            "Input text is  MBTI type Perceiving(P)\n"
          ]
        }
      ]
    },
    {
      "cell_type": "code",
      "metadata": {
        "id": "rB3OUTwkRvwn"
      },
      "source": [
        "model.save(\"reddit_J-P_model.h5\")"
      ],
      "execution_count": null,
      "outputs": []
    },
    {
      "cell_type": "code",
      "metadata": {
        "id": "-19quKnQRvtM"
      },
      "source": [
        "reloaded_model_JP = tf.keras.models.load_model(\"reddit_F-T_model.h5\", custom_objects={'KerasLayer':hub.KerasLayer , 'AdamWeightDecay': optimizer})"
      ],
      "execution_count": null,
      "outputs": []
    },
    {
      "cell_type": "code",
      "metadata": {
        "id": "GMF7GWa4RvqW"
      },
      "source": [
        "models = [\"I-E model\", \"S-N model\", \"F-T model\", \"J-P model\"]\n",
        "accuracy = []\n",
        "precision = []\n",
        "recall = []\n",
        "F1_score = []\n",
        "auc = []\n",
        "accuracy.append(accuracy1)\n",
        "accuracy.append(accuracy2)\n",
        "accuracy.append(accuracy3)\n",
        "accuracy.append(accuracy4)\n",
        "precision.append(precision1)\n",
        "precision.append(precision2)\n",
        "precision.append(precision3)\n",
        "precision.append(precision4)\n",
        "recall.append(recall1)\n",
        "recall.append(recall2)\n",
        "recall.append(recall3)\n",
        "recall.append(recall4)\n",
        "F1_score.append(F1_IE)\n",
        "F1_score.append(F1_SN)\n",
        "F1_score.append(F1_FT)\n",
        "F1_score.append(F1_JP)\n",
        "auc.append(auc1)\n",
        "auc.append(auc2)\n",
        "auc.append(auc3)\n",
        "auc.append(auc4)\n",
        "\n",
        "evaluation_metrics = pd.DataFrame()\n",
        "\n",
        "evaluation_metrics['Models'] = models\n",
        "evaluation_metrics['Accuracy'] = accuracy\n",
        "evaluation_metrics['Precision'] = precision\n",
        "evaluation_metrics['Recall'] = recall\n",
        "evaluation_metrics['F1 Score'] = F1_score\n",
        "evaluation_metrics['AUC'] = auc"
      ],
      "execution_count": null,
      "outputs": []
    },
    {
      "cell_type": "code",
      "metadata": {
        "colab": {
          "base_uri": "https://localhost:8080/",
          "height": 174
        },
        "id": "Ib2VB9hbRvnd",
        "outputId": "5d790bed-6f98-4e33-f09f-855cbb374586"
      },
      "source": [
        "evaluation_metrics"
      ],
      "execution_count": null,
      "outputs": [
        {
          "output_type": "execute_result",
          "data": {
            "text/html": [
              "<div>\n",
              "<style scoped>\n",
              "    .dataframe tbody tr th:only-of-type {\n",
              "        vertical-align: middle;\n",
              "    }\n",
              "\n",
              "    .dataframe tbody tr th {\n",
              "        vertical-align: top;\n",
              "    }\n",
              "\n",
              "    .dataframe thead th {\n",
              "        text-align: right;\n",
              "    }\n",
              "</style>\n",
              "<table border=\"1\" class=\"dataframe\">\n",
              "  <thead>\n",
              "    <tr style=\"text-align: right;\">\n",
              "      <th></th>\n",
              "      <th>Models</th>\n",
              "      <th>Accuracy</th>\n",
              "      <th>Precision</th>\n",
              "      <th>Recall</th>\n",
              "      <th>F1 Score</th>\n",
              "      <th>AUC</th>\n",
              "    </tr>\n",
              "  </thead>\n",
              "  <tbody>\n",
              "    <tr>\n",
              "      <th>0</th>\n",
              "      <td>I-E model</td>\n",
              "      <td>0.781893</td>\n",
              "      <td>0.781893</td>\n",
              "      <td>0.781893</td>\n",
              "      <td>0.781893</td>\n",
              "      <td>0.509422</td>\n",
              "    </tr>\n",
              "    <tr>\n",
              "      <th>1</th>\n",
              "      <td>S-N model</td>\n",
              "      <td>0.876543</td>\n",
              "      <td>0.876543</td>\n",
              "      <td>0.876543</td>\n",
              "      <td>0.876543</td>\n",
              "      <td>0.572095</td>\n",
              "    </tr>\n",
              "    <tr>\n",
              "      <th>2</th>\n",
              "      <td>F-T model</td>\n",
              "      <td>0.645062</td>\n",
              "      <td>0.637427</td>\n",
              "      <td>0.672840</td>\n",
              "      <td>0.654655</td>\n",
              "      <td>0.630748</td>\n",
              "    </tr>\n",
              "    <tr>\n",
              "      <th>3</th>\n",
              "      <td>J-P model</td>\n",
              "      <td>0.606996</td>\n",
              "      <td>0.604000</td>\n",
              "      <td>0.621399</td>\n",
              "      <td>0.612576</td>\n",
              "      <td>0.605723</td>\n",
              "    </tr>\n",
              "  </tbody>\n",
              "</table>\n",
              "</div>"
            ],
            "text/plain": [
              "      Models  Accuracy  Precision    Recall  F1 Score       AUC\n",
              "0  I-E model  0.781893   0.781893  0.781893  0.781893  0.509422\n",
              "1  S-N model  0.876543   0.876543  0.876543  0.876543  0.572095\n",
              "2  F-T model  0.645062   0.637427  0.672840  0.654655  0.630748\n",
              "3  J-P model  0.606996   0.604000  0.621399  0.612576  0.605723"
            ]
          },
          "metadata": {},
          "execution_count": 85
        }
      ]
    },
    {
      "cell_type": "code",
      "metadata": {
        "colab": {
          "base_uri": "https://localhost:8080/"
        },
        "id": "gHjwAVQNSQq8",
        "outputId": "e8a3a35c-0fbd-48c0-c4f6-56283aaef560"
      },
      "source": [
        "input =  \"I like studying deep learning, playing football and my guitar, \" \\\n",
        "     \"and I love visit foreign cities all over the world.\"\n",
        "sentences = np.asarray([input])\n",
        "\n",
        "predict1 = reloaded_model_IE(sentences)\n",
        "predict2 = reloaded_model_SN(sentences)\n",
        "predict3 = reloaded_model_FT(sentences)\n",
        "predict4 = reloaded_model_JP(sentences)\n",
        "\n",
        "pred_types = []\n",
        "scores = []\n",
        "if labelencoder_IE.classes_[np.argmax(predict1)]=='i':\n",
        "  pred_types.append('I')\n",
        "  scores.append(predict1[0][1])\n",
        "else:\n",
        "  pred_types.append('E')\n",
        "  scores.append(predict1[0][0])\n",
        "if labelencoder_SN.classes_[np.argmax(predict2)]=='s':\n",
        "  pred_types.append('S')\n",
        "  scores.append(predict2[0][1])\n",
        "else:\n",
        "  pred_types.append('N')\n",
        "  scores.append(predict2[0][0])\n",
        "if labelencoder_FT.classes_[np.argmax(predict3)]=='t':\n",
        "  pred_types.append('T')\n",
        "  scores.append(predict3[0][1])\n",
        "else:\n",
        "  pred_types.append('F')\n",
        "  scores.append(predict3[0][0])\n",
        "if labelencoder_JP.classes_[np.argmax(predict4)]=='p':\n",
        "  pred_types.append('P')\n",
        "  scores.append(predict4[0][1])\n",
        "else:\n",
        "  pred_types.append('J')\n",
        "  scores.append(predict4[0][0])\n",
        "print('-- comment: ',sentences)\n",
        "print('\\n-- personality: ', pred_types)\n",
        "print('\\n-- scores:', scores)\n"
      ],
      "execution_count": null,
      "outputs": [
        {
          "output_type": "stream",
          "name": "stdout",
          "text": [
            "-- comment:  ['I like studying deep learning, playing football and my guitar, and I love visit foreign cities all over the world.']\n",
            "\n",
            "-- personality:  ['I', 'N', 'F', 'J']\n",
            "\n",
            "-- scores: [<tf.Tensor: shape=(), dtype=float32, numpy=0.62495327>, <tf.Tensor: shape=(), dtype=float32, numpy=0.7480651>, <tf.Tensor: shape=(), dtype=float32, numpy=0.5595951>, <tf.Tensor: shape=(), dtype=float32, numpy=0.5595951>]\n"
          ]
        }
      ]
    }
  ]
}