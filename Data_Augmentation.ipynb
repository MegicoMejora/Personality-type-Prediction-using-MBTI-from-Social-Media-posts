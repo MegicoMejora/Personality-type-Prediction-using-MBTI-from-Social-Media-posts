{
  "nbformat": 4,
  "nbformat_minor": 0,
  "metadata": {
    "colab": {
      "name": "Data Augmentation.ipynb",
      "provenance": []
    },
    "kernelspec": {
      "name": "python3",
      "display_name": "Python 3"
    },
    "language_info": {
      "name": "python"
    },
    "widgets": {
      "application/vnd.jupyter.widget-state+json": {
        "c747c0b0dde543a6b319abce43663ff5": {
          "model_module": "@jupyter-widgets/controls",
          "model_name": "HBoxModel",
          "model_module_version": "1.5.0",
          "state": {
            "_view_name": "HBoxView",
            "_dom_classes": [],
            "_model_name": "HBoxModel",
            "_view_module": "@jupyter-widgets/controls",
            "_model_module_version": "1.5.0",
            "_view_count": null,
            "_view_module_version": "1.5.0",
            "box_style": "",
            "layout": "IPY_MODEL_fe8e0fe251d74591918ea00a78831364",
            "_model_module": "@jupyter-widgets/controls",
            "children": [
              "IPY_MODEL_dac7f0eea20d4237a3ec44cf95771a62",
              "IPY_MODEL_c1b13a94de1c42d29f37b4c84dd4329f",
              "IPY_MODEL_f0b150633323437d9ba195cc9cec5e32"
            ]
          }
        },
        "fe8e0fe251d74591918ea00a78831364": {
          "model_module": "@jupyter-widgets/base",
          "model_name": "LayoutModel",
          "model_module_version": "1.2.0",
          "state": {
            "_view_name": "LayoutView",
            "grid_template_rows": null,
            "right": null,
            "justify_content": null,
            "_view_module": "@jupyter-widgets/base",
            "overflow": null,
            "_model_module_version": "1.2.0",
            "_view_count": null,
            "flex_flow": null,
            "width": null,
            "min_width": null,
            "border": null,
            "align_items": null,
            "bottom": null,
            "_model_module": "@jupyter-widgets/base",
            "top": null,
            "grid_column": null,
            "overflow_y": null,
            "overflow_x": null,
            "grid_auto_flow": null,
            "grid_area": null,
            "grid_template_columns": null,
            "flex": null,
            "_model_name": "LayoutModel",
            "justify_items": null,
            "grid_row": null,
            "max_height": null,
            "align_content": null,
            "visibility": null,
            "align_self": null,
            "height": null,
            "min_height": null,
            "padding": null,
            "grid_auto_rows": null,
            "grid_gap": null,
            "max_width": null,
            "order": null,
            "_view_module_version": "1.2.0",
            "grid_template_areas": null,
            "object_position": null,
            "object_fit": null,
            "grid_auto_columns": null,
            "margin": null,
            "display": null,
            "left": null
          }
        },
        "dac7f0eea20d4237a3ec44cf95771a62": {
          "model_module": "@jupyter-widgets/controls",
          "model_name": "HTMLModel",
          "model_module_version": "1.5.0",
          "state": {
            "_view_name": "HTMLView",
            "style": "IPY_MODEL_be805ca0ebba41baa56f1b9facfa35de",
            "_dom_classes": [],
            "description": "",
            "_model_name": "HTMLModel",
            "placeholder": "​",
            "_view_module": "@jupyter-widgets/controls",
            "_model_module_version": "1.5.0",
            "value": "Downloading: 100%",
            "_view_count": null,
            "_view_module_version": "1.5.0",
            "description_tooltip": null,
            "_model_module": "@jupyter-widgets/controls",
            "layout": "IPY_MODEL_1d5ff868ba7141799a0fee56b7ebf4c3"
          }
        },
        "c1b13a94de1c42d29f37b4c84dd4329f": {
          "model_module": "@jupyter-widgets/controls",
          "model_name": "FloatProgressModel",
          "model_module_version": "1.5.0",
          "state": {
            "_view_name": "ProgressView",
            "style": "IPY_MODEL_48daf282679b443f9f195dc3d132005b",
            "_dom_classes": [],
            "description": "",
            "_model_name": "FloatProgressModel",
            "bar_style": "success",
            "max": 28,
            "_view_module": "@jupyter-widgets/controls",
            "_model_module_version": "1.5.0",
            "value": 28,
            "_view_count": null,
            "_view_module_version": "1.5.0",
            "orientation": "horizontal",
            "min": 0,
            "description_tooltip": null,
            "_model_module": "@jupyter-widgets/controls",
            "layout": "IPY_MODEL_7383d48da1764e2e8cfc57e09868801e"
          }
        },
        "f0b150633323437d9ba195cc9cec5e32": {
          "model_module": "@jupyter-widgets/controls",
          "model_name": "HTMLModel",
          "model_module_version": "1.5.0",
          "state": {
            "_view_name": "HTMLView",
            "style": "IPY_MODEL_9293a95bdcd24876a4ec1148953a86b8",
            "_dom_classes": [],
            "description": "",
            "_model_name": "HTMLModel",
            "placeholder": "​",
            "_view_module": "@jupyter-widgets/controls",
            "_model_module_version": "1.5.0",
            "value": " 28.0/28.0 [00:00&lt;00:00, 626B/s]",
            "_view_count": null,
            "_view_module_version": "1.5.0",
            "description_tooltip": null,
            "_model_module": "@jupyter-widgets/controls",
            "layout": "IPY_MODEL_2e3a72ec3f3d42f4865b8487aec337f3"
          }
        },
        "be805ca0ebba41baa56f1b9facfa35de": {
          "model_module": "@jupyter-widgets/controls",
          "model_name": "DescriptionStyleModel",
          "model_module_version": "1.5.0",
          "state": {
            "_view_name": "StyleView",
            "_model_name": "DescriptionStyleModel",
            "description_width": "",
            "_view_module": "@jupyter-widgets/base",
            "_model_module_version": "1.5.0",
            "_view_count": null,
            "_view_module_version": "1.2.0",
            "_model_module": "@jupyter-widgets/controls"
          }
        },
        "1d5ff868ba7141799a0fee56b7ebf4c3": {
          "model_module": "@jupyter-widgets/base",
          "model_name": "LayoutModel",
          "model_module_version": "1.2.0",
          "state": {
            "_view_name": "LayoutView",
            "grid_template_rows": null,
            "right": null,
            "justify_content": null,
            "_view_module": "@jupyter-widgets/base",
            "overflow": null,
            "_model_module_version": "1.2.0",
            "_view_count": null,
            "flex_flow": null,
            "width": null,
            "min_width": null,
            "border": null,
            "align_items": null,
            "bottom": null,
            "_model_module": "@jupyter-widgets/base",
            "top": null,
            "grid_column": null,
            "overflow_y": null,
            "overflow_x": null,
            "grid_auto_flow": null,
            "grid_area": null,
            "grid_template_columns": null,
            "flex": null,
            "_model_name": "LayoutModel",
            "justify_items": null,
            "grid_row": null,
            "max_height": null,
            "align_content": null,
            "visibility": null,
            "align_self": null,
            "height": null,
            "min_height": null,
            "padding": null,
            "grid_auto_rows": null,
            "grid_gap": null,
            "max_width": null,
            "order": null,
            "_view_module_version": "1.2.0",
            "grid_template_areas": null,
            "object_position": null,
            "object_fit": null,
            "grid_auto_columns": null,
            "margin": null,
            "display": null,
            "left": null
          }
        },
        "48daf282679b443f9f195dc3d132005b": {
          "model_module": "@jupyter-widgets/controls",
          "model_name": "ProgressStyleModel",
          "model_module_version": "1.5.0",
          "state": {
            "_view_name": "StyleView",
            "_model_name": "ProgressStyleModel",
            "description_width": "",
            "_view_module": "@jupyter-widgets/base",
            "_model_module_version": "1.5.0",
            "_view_count": null,
            "_view_module_version": "1.2.0",
            "bar_color": null,
            "_model_module": "@jupyter-widgets/controls"
          }
        },
        "7383d48da1764e2e8cfc57e09868801e": {
          "model_module": "@jupyter-widgets/base",
          "model_name": "LayoutModel",
          "model_module_version": "1.2.0",
          "state": {
            "_view_name": "LayoutView",
            "grid_template_rows": null,
            "right": null,
            "justify_content": null,
            "_view_module": "@jupyter-widgets/base",
            "overflow": null,
            "_model_module_version": "1.2.0",
            "_view_count": null,
            "flex_flow": null,
            "width": null,
            "min_width": null,
            "border": null,
            "align_items": null,
            "bottom": null,
            "_model_module": "@jupyter-widgets/base",
            "top": null,
            "grid_column": null,
            "overflow_y": null,
            "overflow_x": null,
            "grid_auto_flow": null,
            "grid_area": null,
            "grid_template_columns": null,
            "flex": null,
            "_model_name": "LayoutModel",
            "justify_items": null,
            "grid_row": null,
            "max_height": null,
            "align_content": null,
            "visibility": null,
            "align_self": null,
            "height": null,
            "min_height": null,
            "padding": null,
            "grid_auto_rows": null,
            "grid_gap": null,
            "max_width": null,
            "order": null,
            "_view_module_version": "1.2.0",
            "grid_template_areas": null,
            "object_position": null,
            "object_fit": null,
            "grid_auto_columns": null,
            "margin": null,
            "display": null,
            "left": null
          }
        },
        "9293a95bdcd24876a4ec1148953a86b8": {
          "model_module": "@jupyter-widgets/controls",
          "model_name": "DescriptionStyleModel",
          "model_module_version": "1.5.0",
          "state": {
            "_view_name": "StyleView",
            "_model_name": "DescriptionStyleModel",
            "description_width": "",
            "_view_module": "@jupyter-widgets/base",
            "_model_module_version": "1.5.0",
            "_view_count": null,
            "_view_module_version": "1.2.0",
            "_model_module": "@jupyter-widgets/controls"
          }
        },
        "2e3a72ec3f3d42f4865b8487aec337f3": {
          "model_module": "@jupyter-widgets/base",
          "model_name": "LayoutModel",
          "model_module_version": "1.2.0",
          "state": {
            "_view_name": "LayoutView",
            "grid_template_rows": null,
            "right": null,
            "justify_content": null,
            "_view_module": "@jupyter-widgets/base",
            "overflow": null,
            "_model_module_version": "1.2.0",
            "_view_count": null,
            "flex_flow": null,
            "width": null,
            "min_width": null,
            "border": null,
            "align_items": null,
            "bottom": null,
            "_model_module": "@jupyter-widgets/base",
            "top": null,
            "grid_column": null,
            "overflow_y": null,
            "overflow_x": null,
            "grid_auto_flow": null,
            "grid_area": null,
            "grid_template_columns": null,
            "flex": null,
            "_model_name": "LayoutModel",
            "justify_items": null,
            "grid_row": null,
            "max_height": null,
            "align_content": null,
            "visibility": null,
            "align_self": null,
            "height": null,
            "min_height": null,
            "padding": null,
            "grid_auto_rows": null,
            "grid_gap": null,
            "max_width": null,
            "order": null,
            "_view_module_version": "1.2.0",
            "grid_template_areas": null,
            "object_position": null,
            "object_fit": null,
            "grid_auto_columns": null,
            "margin": null,
            "display": null,
            "left": null
          }
        },
        "be1e5a4be4b74e089926a591019b572d": {
          "model_module": "@jupyter-widgets/controls",
          "model_name": "HBoxModel",
          "model_module_version": "1.5.0",
          "state": {
            "_view_name": "HBoxView",
            "_dom_classes": [],
            "_model_name": "HBoxModel",
            "_view_module": "@jupyter-widgets/controls",
            "_model_module_version": "1.5.0",
            "_view_count": null,
            "_view_module_version": "1.5.0",
            "box_style": "",
            "layout": "IPY_MODEL_2a0d6d8611814de1b6eab45bb60d2961",
            "_model_module": "@jupyter-widgets/controls",
            "children": [
              "IPY_MODEL_779b237d2e36429fb9baa2903456ac4c",
              "IPY_MODEL_76459754f6a24ff395acc3dc9baf8699",
              "IPY_MODEL_393218cef15e4ebb853a9b30bff6a2ee"
            ]
          }
        },
        "2a0d6d8611814de1b6eab45bb60d2961": {
          "model_module": "@jupyter-widgets/base",
          "model_name": "LayoutModel",
          "model_module_version": "1.2.0",
          "state": {
            "_view_name": "LayoutView",
            "grid_template_rows": null,
            "right": null,
            "justify_content": null,
            "_view_module": "@jupyter-widgets/base",
            "overflow": null,
            "_model_module_version": "1.2.0",
            "_view_count": null,
            "flex_flow": null,
            "width": null,
            "min_width": null,
            "border": null,
            "align_items": null,
            "bottom": null,
            "_model_module": "@jupyter-widgets/base",
            "top": null,
            "grid_column": null,
            "overflow_y": null,
            "overflow_x": null,
            "grid_auto_flow": null,
            "grid_area": null,
            "grid_template_columns": null,
            "flex": null,
            "_model_name": "LayoutModel",
            "justify_items": null,
            "grid_row": null,
            "max_height": null,
            "align_content": null,
            "visibility": null,
            "align_self": null,
            "height": null,
            "min_height": null,
            "padding": null,
            "grid_auto_rows": null,
            "grid_gap": null,
            "max_width": null,
            "order": null,
            "_view_module_version": "1.2.0",
            "grid_template_areas": null,
            "object_position": null,
            "object_fit": null,
            "grid_auto_columns": null,
            "margin": null,
            "display": null,
            "left": null
          }
        },
        "779b237d2e36429fb9baa2903456ac4c": {
          "model_module": "@jupyter-widgets/controls",
          "model_name": "HTMLModel",
          "model_module_version": "1.5.0",
          "state": {
            "_view_name": "HTMLView",
            "style": "IPY_MODEL_60cf85cb602b4d07a6a3db5aea7c0f3d",
            "_dom_classes": [],
            "description": "",
            "_model_name": "HTMLModel",
            "placeholder": "​",
            "_view_module": "@jupyter-widgets/controls",
            "_model_module_version": "1.5.0",
            "value": "Downloading: 100%",
            "_view_count": null,
            "_view_module_version": "1.5.0",
            "description_tooltip": null,
            "_model_module": "@jupyter-widgets/controls",
            "layout": "IPY_MODEL_09e3d62a6ecf4195a5f9d5b07adb96b8"
          }
        },
        "76459754f6a24ff395acc3dc9baf8699": {
          "model_module": "@jupyter-widgets/controls",
          "model_name": "FloatProgressModel",
          "model_module_version": "1.5.0",
          "state": {
            "_view_name": "ProgressView",
            "style": "IPY_MODEL_e6289e8bea6d435cbdc731c8d5ba2a9e",
            "_dom_classes": [],
            "description": "",
            "_model_name": "FloatProgressModel",
            "bar_style": "success",
            "max": 570,
            "_view_module": "@jupyter-widgets/controls",
            "_model_module_version": "1.5.0",
            "value": 570,
            "_view_count": null,
            "_view_module_version": "1.5.0",
            "orientation": "horizontal",
            "min": 0,
            "description_tooltip": null,
            "_model_module": "@jupyter-widgets/controls",
            "layout": "IPY_MODEL_e93f4c699cd043028e65566459c62b52"
          }
        },
        "393218cef15e4ebb853a9b30bff6a2ee": {
          "model_module": "@jupyter-widgets/controls",
          "model_name": "HTMLModel",
          "model_module_version": "1.5.0",
          "state": {
            "_view_name": "HTMLView",
            "style": "IPY_MODEL_617e718dd7994610a2c6c34c356f9de1",
            "_dom_classes": [],
            "description": "",
            "_model_name": "HTMLModel",
            "placeholder": "​",
            "_view_module": "@jupyter-widgets/controls",
            "_model_module_version": "1.5.0",
            "value": " 570/570 [00:00&lt;00:00, 7.48kB/s]",
            "_view_count": null,
            "_view_module_version": "1.5.0",
            "description_tooltip": null,
            "_model_module": "@jupyter-widgets/controls",
            "layout": "IPY_MODEL_4e6b82ef7dc84fa3a232863d2458e591"
          }
        },
        "60cf85cb602b4d07a6a3db5aea7c0f3d": {
          "model_module": "@jupyter-widgets/controls",
          "model_name": "DescriptionStyleModel",
          "model_module_version": "1.5.0",
          "state": {
            "_view_name": "StyleView",
            "_model_name": "DescriptionStyleModel",
            "description_width": "",
            "_view_module": "@jupyter-widgets/base",
            "_model_module_version": "1.5.0",
            "_view_count": null,
            "_view_module_version": "1.2.0",
            "_model_module": "@jupyter-widgets/controls"
          }
        },
        "09e3d62a6ecf4195a5f9d5b07adb96b8": {
          "model_module": "@jupyter-widgets/base",
          "model_name": "LayoutModel",
          "model_module_version": "1.2.0",
          "state": {
            "_view_name": "LayoutView",
            "grid_template_rows": null,
            "right": null,
            "justify_content": null,
            "_view_module": "@jupyter-widgets/base",
            "overflow": null,
            "_model_module_version": "1.2.0",
            "_view_count": null,
            "flex_flow": null,
            "width": null,
            "min_width": null,
            "border": null,
            "align_items": null,
            "bottom": null,
            "_model_module": "@jupyter-widgets/base",
            "top": null,
            "grid_column": null,
            "overflow_y": null,
            "overflow_x": null,
            "grid_auto_flow": null,
            "grid_area": null,
            "grid_template_columns": null,
            "flex": null,
            "_model_name": "LayoutModel",
            "justify_items": null,
            "grid_row": null,
            "max_height": null,
            "align_content": null,
            "visibility": null,
            "align_self": null,
            "height": null,
            "min_height": null,
            "padding": null,
            "grid_auto_rows": null,
            "grid_gap": null,
            "max_width": null,
            "order": null,
            "_view_module_version": "1.2.0",
            "grid_template_areas": null,
            "object_position": null,
            "object_fit": null,
            "grid_auto_columns": null,
            "margin": null,
            "display": null,
            "left": null
          }
        },
        "e6289e8bea6d435cbdc731c8d5ba2a9e": {
          "model_module": "@jupyter-widgets/controls",
          "model_name": "ProgressStyleModel",
          "model_module_version": "1.5.0",
          "state": {
            "_view_name": "StyleView",
            "_model_name": "ProgressStyleModel",
            "description_width": "",
            "_view_module": "@jupyter-widgets/base",
            "_model_module_version": "1.5.0",
            "_view_count": null,
            "_view_module_version": "1.2.0",
            "bar_color": null,
            "_model_module": "@jupyter-widgets/controls"
          }
        },
        "e93f4c699cd043028e65566459c62b52": {
          "model_module": "@jupyter-widgets/base",
          "model_name": "LayoutModel",
          "model_module_version": "1.2.0",
          "state": {
            "_view_name": "LayoutView",
            "grid_template_rows": null,
            "right": null,
            "justify_content": null,
            "_view_module": "@jupyter-widgets/base",
            "overflow": null,
            "_model_module_version": "1.2.0",
            "_view_count": null,
            "flex_flow": null,
            "width": null,
            "min_width": null,
            "border": null,
            "align_items": null,
            "bottom": null,
            "_model_module": "@jupyter-widgets/base",
            "top": null,
            "grid_column": null,
            "overflow_y": null,
            "overflow_x": null,
            "grid_auto_flow": null,
            "grid_area": null,
            "grid_template_columns": null,
            "flex": null,
            "_model_name": "LayoutModel",
            "justify_items": null,
            "grid_row": null,
            "max_height": null,
            "align_content": null,
            "visibility": null,
            "align_self": null,
            "height": null,
            "min_height": null,
            "padding": null,
            "grid_auto_rows": null,
            "grid_gap": null,
            "max_width": null,
            "order": null,
            "_view_module_version": "1.2.0",
            "grid_template_areas": null,
            "object_position": null,
            "object_fit": null,
            "grid_auto_columns": null,
            "margin": null,
            "display": null,
            "left": null
          }
        },
        "617e718dd7994610a2c6c34c356f9de1": {
          "model_module": "@jupyter-widgets/controls",
          "model_name": "DescriptionStyleModel",
          "model_module_version": "1.5.0",
          "state": {
            "_view_name": "StyleView",
            "_model_name": "DescriptionStyleModel",
            "description_width": "",
            "_view_module": "@jupyter-widgets/base",
            "_model_module_version": "1.5.0",
            "_view_count": null,
            "_view_module_version": "1.2.0",
            "_model_module": "@jupyter-widgets/controls"
          }
        },
        "4e6b82ef7dc84fa3a232863d2458e591": {
          "model_module": "@jupyter-widgets/base",
          "model_name": "LayoutModel",
          "model_module_version": "1.2.0",
          "state": {
            "_view_name": "LayoutView",
            "grid_template_rows": null,
            "right": null,
            "justify_content": null,
            "_view_module": "@jupyter-widgets/base",
            "overflow": null,
            "_model_module_version": "1.2.0",
            "_view_count": null,
            "flex_flow": null,
            "width": null,
            "min_width": null,
            "border": null,
            "align_items": null,
            "bottom": null,
            "_model_module": "@jupyter-widgets/base",
            "top": null,
            "grid_column": null,
            "overflow_y": null,
            "overflow_x": null,
            "grid_auto_flow": null,
            "grid_area": null,
            "grid_template_columns": null,
            "flex": null,
            "_model_name": "LayoutModel",
            "justify_items": null,
            "grid_row": null,
            "max_height": null,
            "align_content": null,
            "visibility": null,
            "align_self": null,
            "height": null,
            "min_height": null,
            "padding": null,
            "grid_auto_rows": null,
            "grid_gap": null,
            "max_width": null,
            "order": null,
            "_view_module_version": "1.2.0",
            "grid_template_areas": null,
            "object_position": null,
            "object_fit": null,
            "grid_auto_columns": null,
            "margin": null,
            "display": null,
            "left": null
          }
        },
        "7b584f567a5040cfb8482b65bce337d7": {
          "model_module": "@jupyter-widgets/controls",
          "model_name": "HBoxModel",
          "model_module_version": "1.5.0",
          "state": {
            "_view_name": "HBoxView",
            "_dom_classes": [],
            "_model_name": "HBoxModel",
            "_view_module": "@jupyter-widgets/controls",
            "_model_module_version": "1.5.0",
            "_view_count": null,
            "_view_module_version": "1.5.0",
            "box_style": "",
            "layout": "IPY_MODEL_6e3e48ae493846339bd384a91620e130",
            "_model_module": "@jupyter-widgets/controls",
            "children": [
              "IPY_MODEL_1f5f821e6e1c4eb59a052f984b28ed9e",
              "IPY_MODEL_ce6a95e82f38430aa5e71ed217b21690",
              "IPY_MODEL_46b2d6d1dcbe43a19e69ce2a26e8c59e"
            ]
          }
        },
        "6e3e48ae493846339bd384a91620e130": {
          "model_module": "@jupyter-widgets/base",
          "model_name": "LayoutModel",
          "model_module_version": "1.2.0",
          "state": {
            "_view_name": "LayoutView",
            "grid_template_rows": null,
            "right": null,
            "justify_content": null,
            "_view_module": "@jupyter-widgets/base",
            "overflow": null,
            "_model_module_version": "1.2.0",
            "_view_count": null,
            "flex_flow": null,
            "width": null,
            "min_width": null,
            "border": null,
            "align_items": null,
            "bottom": null,
            "_model_module": "@jupyter-widgets/base",
            "top": null,
            "grid_column": null,
            "overflow_y": null,
            "overflow_x": null,
            "grid_auto_flow": null,
            "grid_area": null,
            "grid_template_columns": null,
            "flex": null,
            "_model_name": "LayoutModel",
            "justify_items": null,
            "grid_row": null,
            "max_height": null,
            "align_content": null,
            "visibility": null,
            "align_self": null,
            "height": null,
            "min_height": null,
            "padding": null,
            "grid_auto_rows": null,
            "grid_gap": null,
            "max_width": null,
            "order": null,
            "_view_module_version": "1.2.0",
            "grid_template_areas": null,
            "object_position": null,
            "object_fit": null,
            "grid_auto_columns": null,
            "margin": null,
            "display": null,
            "left": null
          }
        },
        "1f5f821e6e1c4eb59a052f984b28ed9e": {
          "model_module": "@jupyter-widgets/controls",
          "model_name": "HTMLModel",
          "model_module_version": "1.5.0",
          "state": {
            "_view_name": "HTMLView",
            "style": "IPY_MODEL_072e5f0309d644a58909cd728dd225c6",
            "_dom_classes": [],
            "description": "",
            "_model_name": "HTMLModel",
            "placeholder": "​",
            "_view_module": "@jupyter-widgets/controls",
            "_model_module_version": "1.5.0",
            "value": "Downloading: 100%",
            "_view_count": null,
            "_view_module_version": "1.5.0",
            "description_tooltip": null,
            "_model_module": "@jupyter-widgets/controls",
            "layout": "IPY_MODEL_43e4b471b17941bb94ce5dc41b39f31d"
          }
        },
        "ce6a95e82f38430aa5e71ed217b21690": {
          "model_module": "@jupyter-widgets/controls",
          "model_name": "FloatProgressModel",
          "model_module_version": "1.5.0",
          "state": {
            "_view_name": "ProgressView",
            "style": "IPY_MODEL_7bfdfb319b4e4903a82245d2681d95c5",
            "_dom_classes": [],
            "description": "",
            "_model_name": "FloatProgressModel",
            "bar_style": "success",
            "max": 231508,
            "_view_module": "@jupyter-widgets/controls",
            "_model_module_version": "1.5.0",
            "value": 231508,
            "_view_count": null,
            "_view_module_version": "1.5.0",
            "orientation": "horizontal",
            "min": 0,
            "description_tooltip": null,
            "_model_module": "@jupyter-widgets/controls",
            "layout": "IPY_MODEL_2bc0c0636333494c9ddbfa8cdb4a654c"
          }
        },
        "46b2d6d1dcbe43a19e69ce2a26e8c59e": {
          "model_module": "@jupyter-widgets/controls",
          "model_name": "HTMLModel",
          "model_module_version": "1.5.0",
          "state": {
            "_view_name": "HTMLView",
            "style": "IPY_MODEL_75cd959a48ff4f379b2efbced0b8d29d",
            "_dom_classes": [],
            "description": "",
            "_model_name": "HTMLModel",
            "placeholder": "​",
            "_view_module": "@jupyter-widgets/controls",
            "_model_module_version": "1.5.0",
            "value": " 226k/226k [00:00&lt;00:00, 626kB/s]",
            "_view_count": null,
            "_view_module_version": "1.5.0",
            "description_tooltip": null,
            "_model_module": "@jupyter-widgets/controls",
            "layout": "IPY_MODEL_fb703f58daa04be2ab6c265193998cd0"
          }
        },
        "072e5f0309d644a58909cd728dd225c6": {
          "model_module": "@jupyter-widgets/controls",
          "model_name": "DescriptionStyleModel",
          "model_module_version": "1.5.0",
          "state": {
            "_view_name": "StyleView",
            "_model_name": "DescriptionStyleModel",
            "description_width": "",
            "_view_module": "@jupyter-widgets/base",
            "_model_module_version": "1.5.0",
            "_view_count": null,
            "_view_module_version": "1.2.0",
            "_model_module": "@jupyter-widgets/controls"
          }
        },
        "43e4b471b17941bb94ce5dc41b39f31d": {
          "model_module": "@jupyter-widgets/base",
          "model_name": "LayoutModel",
          "model_module_version": "1.2.0",
          "state": {
            "_view_name": "LayoutView",
            "grid_template_rows": null,
            "right": null,
            "justify_content": null,
            "_view_module": "@jupyter-widgets/base",
            "overflow": null,
            "_model_module_version": "1.2.0",
            "_view_count": null,
            "flex_flow": null,
            "width": null,
            "min_width": null,
            "border": null,
            "align_items": null,
            "bottom": null,
            "_model_module": "@jupyter-widgets/base",
            "top": null,
            "grid_column": null,
            "overflow_y": null,
            "overflow_x": null,
            "grid_auto_flow": null,
            "grid_area": null,
            "grid_template_columns": null,
            "flex": null,
            "_model_name": "LayoutModel",
            "justify_items": null,
            "grid_row": null,
            "max_height": null,
            "align_content": null,
            "visibility": null,
            "align_self": null,
            "height": null,
            "min_height": null,
            "padding": null,
            "grid_auto_rows": null,
            "grid_gap": null,
            "max_width": null,
            "order": null,
            "_view_module_version": "1.2.0",
            "grid_template_areas": null,
            "object_position": null,
            "object_fit": null,
            "grid_auto_columns": null,
            "margin": null,
            "display": null,
            "left": null
          }
        },
        "7bfdfb319b4e4903a82245d2681d95c5": {
          "model_module": "@jupyter-widgets/controls",
          "model_name": "ProgressStyleModel",
          "model_module_version": "1.5.0",
          "state": {
            "_view_name": "StyleView",
            "_model_name": "ProgressStyleModel",
            "description_width": "",
            "_view_module": "@jupyter-widgets/base",
            "_model_module_version": "1.5.0",
            "_view_count": null,
            "_view_module_version": "1.2.0",
            "bar_color": null,
            "_model_module": "@jupyter-widgets/controls"
          }
        },
        "2bc0c0636333494c9ddbfa8cdb4a654c": {
          "model_module": "@jupyter-widgets/base",
          "model_name": "LayoutModel",
          "model_module_version": "1.2.0",
          "state": {
            "_view_name": "LayoutView",
            "grid_template_rows": null,
            "right": null,
            "justify_content": null,
            "_view_module": "@jupyter-widgets/base",
            "overflow": null,
            "_model_module_version": "1.2.0",
            "_view_count": null,
            "flex_flow": null,
            "width": null,
            "min_width": null,
            "border": null,
            "align_items": null,
            "bottom": null,
            "_model_module": "@jupyter-widgets/base",
            "top": null,
            "grid_column": null,
            "overflow_y": null,
            "overflow_x": null,
            "grid_auto_flow": null,
            "grid_area": null,
            "grid_template_columns": null,
            "flex": null,
            "_model_name": "LayoutModel",
            "justify_items": null,
            "grid_row": null,
            "max_height": null,
            "align_content": null,
            "visibility": null,
            "align_self": null,
            "height": null,
            "min_height": null,
            "padding": null,
            "grid_auto_rows": null,
            "grid_gap": null,
            "max_width": null,
            "order": null,
            "_view_module_version": "1.2.0",
            "grid_template_areas": null,
            "object_position": null,
            "object_fit": null,
            "grid_auto_columns": null,
            "margin": null,
            "display": null,
            "left": null
          }
        },
        "75cd959a48ff4f379b2efbced0b8d29d": {
          "model_module": "@jupyter-widgets/controls",
          "model_name": "DescriptionStyleModel",
          "model_module_version": "1.5.0",
          "state": {
            "_view_name": "StyleView",
            "_model_name": "DescriptionStyleModel",
            "description_width": "",
            "_view_module": "@jupyter-widgets/base",
            "_model_module_version": "1.5.0",
            "_view_count": null,
            "_view_module_version": "1.2.0",
            "_model_module": "@jupyter-widgets/controls"
          }
        },
        "fb703f58daa04be2ab6c265193998cd0": {
          "model_module": "@jupyter-widgets/base",
          "model_name": "LayoutModel",
          "model_module_version": "1.2.0",
          "state": {
            "_view_name": "LayoutView",
            "grid_template_rows": null,
            "right": null,
            "justify_content": null,
            "_view_module": "@jupyter-widgets/base",
            "overflow": null,
            "_model_module_version": "1.2.0",
            "_view_count": null,
            "flex_flow": null,
            "width": null,
            "min_width": null,
            "border": null,
            "align_items": null,
            "bottom": null,
            "_model_module": "@jupyter-widgets/base",
            "top": null,
            "grid_column": null,
            "overflow_y": null,
            "overflow_x": null,
            "grid_auto_flow": null,
            "grid_area": null,
            "grid_template_columns": null,
            "flex": null,
            "_model_name": "LayoutModel",
            "justify_items": null,
            "grid_row": null,
            "max_height": null,
            "align_content": null,
            "visibility": null,
            "align_self": null,
            "height": null,
            "min_height": null,
            "padding": null,
            "grid_auto_rows": null,
            "grid_gap": null,
            "max_width": null,
            "order": null,
            "_view_module_version": "1.2.0",
            "grid_template_areas": null,
            "object_position": null,
            "object_fit": null,
            "grid_auto_columns": null,
            "margin": null,
            "display": null,
            "left": null
          }
        },
        "97ca71681b82481b9b624d315cc704ee": {
          "model_module": "@jupyter-widgets/controls",
          "model_name": "HBoxModel",
          "model_module_version": "1.5.0",
          "state": {
            "_view_name": "HBoxView",
            "_dom_classes": [],
            "_model_name": "HBoxModel",
            "_view_module": "@jupyter-widgets/controls",
            "_model_module_version": "1.5.0",
            "_view_count": null,
            "_view_module_version": "1.5.0",
            "box_style": "",
            "layout": "IPY_MODEL_096d19e4adb94f7f882fd0a13fc8072a",
            "_model_module": "@jupyter-widgets/controls",
            "children": [
              "IPY_MODEL_6102ad8ede024f018ef8b34a43613029",
              "IPY_MODEL_c660bcb74fe8485bb0da8b69fbbfd005",
              "IPY_MODEL_56ca4bd6134942fd87c784ec6befffd5"
            ]
          }
        },
        "096d19e4adb94f7f882fd0a13fc8072a": {
          "model_module": "@jupyter-widgets/base",
          "model_name": "LayoutModel",
          "model_module_version": "1.2.0",
          "state": {
            "_view_name": "LayoutView",
            "grid_template_rows": null,
            "right": null,
            "justify_content": null,
            "_view_module": "@jupyter-widgets/base",
            "overflow": null,
            "_model_module_version": "1.2.0",
            "_view_count": null,
            "flex_flow": null,
            "width": null,
            "min_width": null,
            "border": null,
            "align_items": null,
            "bottom": null,
            "_model_module": "@jupyter-widgets/base",
            "top": null,
            "grid_column": null,
            "overflow_y": null,
            "overflow_x": null,
            "grid_auto_flow": null,
            "grid_area": null,
            "grid_template_columns": null,
            "flex": null,
            "_model_name": "LayoutModel",
            "justify_items": null,
            "grid_row": null,
            "max_height": null,
            "align_content": null,
            "visibility": null,
            "align_self": null,
            "height": null,
            "min_height": null,
            "padding": null,
            "grid_auto_rows": null,
            "grid_gap": null,
            "max_width": null,
            "order": null,
            "_view_module_version": "1.2.0",
            "grid_template_areas": null,
            "object_position": null,
            "object_fit": null,
            "grid_auto_columns": null,
            "margin": null,
            "display": null,
            "left": null
          }
        },
        "6102ad8ede024f018ef8b34a43613029": {
          "model_module": "@jupyter-widgets/controls",
          "model_name": "HTMLModel",
          "model_module_version": "1.5.0",
          "state": {
            "_view_name": "HTMLView",
            "style": "IPY_MODEL_20127bc8b79347369d00b4e73aaef6f1",
            "_dom_classes": [],
            "description": "",
            "_model_name": "HTMLModel",
            "placeholder": "​",
            "_view_module": "@jupyter-widgets/controls",
            "_model_module_version": "1.5.0",
            "value": "Downloading: 100%",
            "_view_count": null,
            "_view_module_version": "1.5.0",
            "description_tooltip": null,
            "_model_module": "@jupyter-widgets/controls",
            "layout": "IPY_MODEL_c4537b36cd214819983f842f9f856456"
          }
        },
        "c660bcb74fe8485bb0da8b69fbbfd005": {
          "model_module": "@jupyter-widgets/controls",
          "model_name": "FloatProgressModel",
          "model_module_version": "1.5.0",
          "state": {
            "_view_name": "ProgressView",
            "style": "IPY_MODEL_18daffbc6bef4e18a5007baef8303bf3",
            "_dom_classes": [],
            "description": "",
            "_model_name": "FloatProgressModel",
            "bar_style": "success",
            "max": 466062,
            "_view_module": "@jupyter-widgets/controls",
            "_model_module_version": "1.5.0",
            "value": 466062,
            "_view_count": null,
            "_view_module_version": "1.5.0",
            "orientation": "horizontal",
            "min": 0,
            "description_tooltip": null,
            "_model_module": "@jupyter-widgets/controls",
            "layout": "IPY_MODEL_9fb945f69a0a43869c3d052345815458"
          }
        },
        "56ca4bd6134942fd87c784ec6befffd5": {
          "model_module": "@jupyter-widgets/controls",
          "model_name": "HTMLModel",
          "model_module_version": "1.5.0",
          "state": {
            "_view_name": "HTMLView",
            "style": "IPY_MODEL_edcae8d7d3b945388f8778184c96b052",
            "_dom_classes": [],
            "description": "",
            "_model_name": "HTMLModel",
            "placeholder": "​",
            "_view_module": "@jupyter-widgets/controls",
            "_model_module_version": "1.5.0",
            "value": " 455k/455k [00:00&lt;00:00, 3.19MB/s]",
            "_view_count": null,
            "_view_module_version": "1.5.0",
            "description_tooltip": null,
            "_model_module": "@jupyter-widgets/controls",
            "layout": "IPY_MODEL_98af3834f8b64e90822d22ceef85bdd1"
          }
        },
        "20127bc8b79347369d00b4e73aaef6f1": {
          "model_module": "@jupyter-widgets/controls",
          "model_name": "DescriptionStyleModel",
          "model_module_version": "1.5.0",
          "state": {
            "_view_name": "StyleView",
            "_model_name": "DescriptionStyleModel",
            "description_width": "",
            "_view_module": "@jupyter-widgets/base",
            "_model_module_version": "1.5.0",
            "_view_count": null,
            "_view_module_version": "1.2.0",
            "_model_module": "@jupyter-widgets/controls"
          }
        },
        "c4537b36cd214819983f842f9f856456": {
          "model_module": "@jupyter-widgets/base",
          "model_name": "LayoutModel",
          "model_module_version": "1.2.0",
          "state": {
            "_view_name": "LayoutView",
            "grid_template_rows": null,
            "right": null,
            "justify_content": null,
            "_view_module": "@jupyter-widgets/base",
            "overflow": null,
            "_model_module_version": "1.2.0",
            "_view_count": null,
            "flex_flow": null,
            "width": null,
            "min_width": null,
            "border": null,
            "align_items": null,
            "bottom": null,
            "_model_module": "@jupyter-widgets/base",
            "top": null,
            "grid_column": null,
            "overflow_y": null,
            "overflow_x": null,
            "grid_auto_flow": null,
            "grid_area": null,
            "grid_template_columns": null,
            "flex": null,
            "_model_name": "LayoutModel",
            "justify_items": null,
            "grid_row": null,
            "max_height": null,
            "align_content": null,
            "visibility": null,
            "align_self": null,
            "height": null,
            "min_height": null,
            "padding": null,
            "grid_auto_rows": null,
            "grid_gap": null,
            "max_width": null,
            "order": null,
            "_view_module_version": "1.2.0",
            "grid_template_areas": null,
            "object_position": null,
            "object_fit": null,
            "grid_auto_columns": null,
            "margin": null,
            "display": null,
            "left": null
          }
        },
        "18daffbc6bef4e18a5007baef8303bf3": {
          "model_module": "@jupyter-widgets/controls",
          "model_name": "ProgressStyleModel",
          "model_module_version": "1.5.0",
          "state": {
            "_view_name": "StyleView",
            "_model_name": "ProgressStyleModel",
            "description_width": "",
            "_view_module": "@jupyter-widgets/base",
            "_model_module_version": "1.5.0",
            "_view_count": null,
            "_view_module_version": "1.2.0",
            "bar_color": null,
            "_model_module": "@jupyter-widgets/controls"
          }
        },
        "9fb945f69a0a43869c3d052345815458": {
          "model_module": "@jupyter-widgets/base",
          "model_name": "LayoutModel",
          "model_module_version": "1.2.0",
          "state": {
            "_view_name": "LayoutView",
            "grid_template_rows": null,
            "right": null,
            "justify_content": null,
            "_view_module": "@jupyter-widgets/base",
            "overflow": null,
            "_model_module_version": "1.2.0",
            "_view_count": null,
            "flex_flow": null,
            "width": null,
            "min_width": null,
            "border": null,
            "align_items": null,
            "bottom": null,
            "_model_module": "@jupyter-widgets/base",
            "top": null,
            "grid_column": null,
            "overflow_y": null,
            "overflow_x": null,
            "grid_auto_flow": null,
            "grid_area": null,
            "grid_template_columns": null,
            "flex": null,
            "_model_name": "LayoutModel",
            "justify_items": null,
            "grid_row": null,
            "max_height": null,
            "align_content": null,
            "visibility": null,
            "align_self": null,
            "height": null,
            "min_height": null,
            "padding": null,
            "grid_auto_rows": null,
            "grid_gap": null,
            "max_width": null,
            "order": null,
            "_view_module_version": "1.2.0",
            "grid_template_areas": null,
            "object_position": null,
            "object_fit": null,
            "grid_auto_columns": null,
            "margin": null,
            "display": null,
            "left": null
          }
        },
        "edcae8d7d3b945388f8778184c96b052": {
          "model_module": "@jupyter-widgets/controls",
          "model_name": "DescriptionStyleModel",
          "model_module_version": "1.5.0",
          "state": {
            "_view_name": "StyleView",
            "_model_name": "DescriptionStyleModel",
            "description_width": "",
            "_view_module": "@jupyter-widgets/base",
            "_model_module_version": "1.5.0",
            "_view_count": null,
            "_view_module_version": "1.2.0",
            "_model_module": "@jupyter-widgets/controls"
          }
        },
        "98af3834f8b64e90822d22ceef85bdd1": {
          "model_module": "@jupyter-widgets/base",
          "model_name": "LayoutModel",
          "model_module_version": "1.2.0",
          "state": {
            "_view_name": "LayoutView",
            "grid_template_rows": null,
            "right": null,
            "justify_content": null,
            "_view_module": "@jupyter-widgets/base",
            "overflow": null,
            "_model_module_version": "1.2.0",
            "_view_count": null,
            "flex_flow": null,
            "width": null,
            "min_width": null,
            "border": null,
            "align_items": null,
            "bottom": null,
            "_model_module": "@jupyter-widgets/base",
            "top": null,
            "grid_column": null,
            "overflow_y": null,
            "overflow_x": null,
            "grid_auto_flow": null,
            "grid_area": null,
            "grid_template_columns": null,
            "flex": null,
            "_model_name": "LayoutModel",
            "justify_items": null,
            "grid_row": null,
            "max_height": null,
            "align_content": null,
            "visibility": null,
            "align_self": null,
            "height": null,
            "min_height": null,
            "padding": null,
            "grid_auto_rows": null,
            "grid_gap": null,
            "max_width": null,
            "order": null,
            "_view_module_version": "1.2.0",
            "grid_template_areas": null,
            "object_position": null,
            "object_fit": null,
            "grid_auto_columns": null,
            "margin": null,
            "display": null,
            "left": null
          }
        },
        "b903b0bdd6e24b93ad7c4b96fefae89f": {
          "model_module": "@jupyter-widgets/controls",
          "model_name": "HBoxModel",
          "model_module_version": "1.5.0",
          "state": {
            "_view_name": "HBoxView",
            "_dom_classes": [],
            "_model_name": "HBoxModel",
            "_view_module": "@jupyter-widgets/controls",
            "_model_module_version": "1.5.0",
            "_view_count": null,
            "_view_module_version": "1.5.0",
            "box_style": "",
            "layout": "IPY_MODEL_07bddc7927434f82bb344846798b92b9",
            "_model_module": "@jupyter-widgets/controls",
            "children": [
              "IPY_MODEL_40792bf648d747fbb669c626b1191dc7",
              "IPY_MODEL_86e6134f9ae742508745dddccb2abe13",
              "IPY_MODEL_76c5cdfbea364f74b4422b2aa2775bee"
            ]
          }
        },
        "07bddc7927434f82bb344846798b92b9": {
          "model_module": "@jupyter-widgets/base",
          "model_name": "LayoutModel",
          "model_module_version": "1.2.0",
          "state": {
            "_view_name": "LayoutView",
            "grid_template_rows": null,
            "right": null,
            "justify_content": null,
            "_view_module": "@jupyter-widgets/base",
            "overflow": null,
            "_model_module_version": "1.2.0",
            "_view_count": null,
            "flex_flow": null,
            "width": null,
            "min_width": null,
            "border": null,
            "align_items": null,
            "bottom": null,
            "_model_module": "@jupyter-widgets/base",
            "top": null,
            "grid_column": null,
            "overflow_y": null,
            "overflow_x": null,
            "grid_auto_flow": null,
            "grid_area": null,
            "grid_template_columns": null,
            "flex": null,
            "_model_name": "LayoutModel",
            "justify_items": null,
            "grid_row": null,
            "max_height": null,
            "align_content": null,
            "visibility": null,
            "align_self": null,
            "height": null,
            "min_height": null,
            "padding": null,
            "grid_auto_rows": null,
            "grid_gap": null,
            "max_width": null,
            "order": null,
            "_view_module_version": "1.2.0",
            "grid_template_areas": null,
            "object_position": null,
            "object_fit": null,
            "grid_auto_columns": null,
            "margin": null,
            "display": null,
            "left": null
          }
        },
        "40792bf648d747fbb669c626b1191dc7": {
          "model_module": "@jupyter-widgets/controls",
          "model_name": "HTMLModel",
          "model_module_version": "1.5.0",
          "state": {
            "_view_name": "HTMLView",
            "style": "IPY_MODEL_53b725494fd84e188ccd289462aab2d0",
            "_dom_classes": [],
            "description": "",
            "_model_name": "HTMLModel",
            "placeholder": "​",
            "_view_module": "@jupyter-widgets/controls",
            "_model_module_version": "1.5.0",
            "value": "Downloading: 100%",
            "_view_count": null,
            "_view_module_version": "1.5.0",
            "description_tooltip": null,
            "_model_module": "@jupyter-widgets/controls",
            "layout": "IPY_MODEL_35a0659b226442c08e6858df9048f10f"
          }
        },
        "86e6134f9ae742508745dddccb2abe13": {
          "model_module": "@jupyter-widgets/controls",
          "model_name": "FloatProgressModel",
          "model_module_version": "1.5.0",
          "state": {
            "_view_name": "ProgressView",
            "style": "IPY_MODEL_d3e3741df4ae47faae356ccbc9e93ae2",
            "_dom_classes": [],
            "description": "",
            "_model_name": "FloatProgressModel",
            "bar_style": "success",
            "max": 440473133,
            "_view_module": "@jupyter-widgets/controls",
            "_model_module_version": "1.5.0",
            "value": 440473133,
            "_view_count": null,
            "_view_module_version": "1.5.0",
            "orientation": "horizontal",
            "min": 0,
            "description_tooltip": null,
            "_model_module": "@jupyter-widgets/controls",
            "layout": "IPY_MODEL_7d10094edc944f6d9ff1ac1687f0b3b4"
          }
        },
        "76c5cdfbea364f74b4422b2aa2775bee": {
          "model_module": "@jupyter-widgets/controls",
          "model_name": "HTMLModel",
          "model_module_version": "1.5.0",
          "state": {
            "_view_name": "HTMLView",
            "style": "IPY_MODEL_dbad46bddb224ea3bc3615bb68226c4c",
            "_dom_classes": [],
            "description": "",
            "_model_name": "HTMLModel",
            "placeholder": "​",
            "_view_module": "@jupyter-widgets/controls",
            "_model_module_version": "1.5.0",
            "value": " 420M/420M [00:23&lt;00:00, 25.7MB/s]",
            "_view_count": null,
            "_view_module_version": "1.5.0",
            "description_tooltip": null,
            "_model_module": "@jupyter-widgets/controls",
            "layout": "IPY_MODEL_f0e6be94c91b4737bc2aed77fd8773f5"
          }
        },
        "53b725494fd84e188ccd289462aab2d0": {
          "model_module": "@jupyter-widgets/controls",
          "model_name": "DescriptionStyleModel",
          "model_module_version": "1.5.0",
          "state": {
            "_view_name": "StyleView",
            "_model_name": "DescriptionStyleModel",
            "description_width": "",
            "_view_module": "@jupyter-widgets/base",
            "_model_module_version": "1.5.0",
            "_view_count": null,
            "_view_module_version": "1.2.0",
            "_model_module": "@jupyter-widgets/controls"
          }
        },
        "35a0659b226442c08e6858df9048f10f": {
          "model_module": "@jupyter-widgets/base",
          "model_name": "LayoutModel",
          "model_module_version": "1.2.0",
          "state": {
            "_view_name": "LayoutView",
            "grid_template_rows": null,
            "right": null,
            "justify_content": null,
            "_view_module": "@jupyter-widgets/base",
            "overflow": null,
            "_model_module_version": "1.2.0",
            "_view_count": null,
            "flex_flow": null,
            "width": null,
            "min_width": null,
            "border": null,
            "align_items": null,
            "bottom": null,
            "_model_module": "@jupyter-widgets/base",
            "top": null,
            "grid_column": null,
            "overflow_y": null,
            "overflow_x": null,
            "grid_auto_flow": null,
            "grid_area": null,
            "grid_template_columns": null,
            "flex": null,
            "_model_name": "LayoutModel",
            "justify_items": null,
            "grid_row": null,
            "max_height": null,
            "align_content": null,
            "visibility": null,
            "align_self": null,
            "height": null,
            "min_height": null,
            "padding": null,
            "grid_auto_rows": null,
            "grid_gap": null,
            "max_width": null,
            "order": null,
            "_view_module_version": "1.2.0",
            "grid_template_areas": null,
            "object_position": null,
            "object_fit": null,
            "grid_auto_columns": null,
            "margin": null,
            "display": null,
            "left": null
          }
        },
        "d3e3741df4ae47faae356ccbc9e93ae2": {
          "model_module": "@jupyter-widgets/controls",
          "model_name": "ProgressStyleModel",
          "model_module_version": "1.5.0",
          "state": {
            "_view_name": "StyleView",
            "_model_name": "ProgressStyleModel",
            "description_width": "",
            "_view_module": "@jupyter-widgets/base",
            "_model_module_version": "1.5.0",
            "_view_count": null,
            "_view_module_version": "1.2.0",
            "bar_color": null,
            "_model_module": "@jupyter-widgets/controls"
          }
        },
        "7d10094edc944f6d9ff1ac1687f0b3b4": {
          "model_module": "@jupyter-widgets/base",
          "model_name": "LayoutModel",
          "model_module_version": "1.2.0",
          "state": {
            "_view_name": "LayoutView",
            "grid_template_rows": null,
            "right": null,
            "justify_content": null,
            "_view_module": "@jupyter-widgets/base",
            "overflow": null,
            "_model_module_version": "1.2.0",
            "_view_count": null,
            "flex_flow": null,
            "width": null,
            "min_width": null,
            "border": null,
            "align_items": null,
            "bottom": null,
            "_model_module": "@jupyter-widgets/base",
            "top": null,
            "grid_column": null,
            "overflow_y": null,
            "overflow_x": null,
            "grid_auto_flow": null,
            "grid_area": null,
            "grid_template_columns": null,
            "flex": null,
            "_model_name": "LayoutModel",
            "justify_items": null,
            "grid_row": null,
            "max_height": null,
            "align_content": null,
            "visibility": null,
            "align_self": null,
            "height": null,
            "min_height": null,
            "padding": null,
            "grid_auto_rows": null,
            "grid_gap": null,
            "max_width": null,
            "order": null,
            "_view_module_version": "1.2.0",
            "grid_template_areas": null,
            "object_position": null,
            "object_fit": null,
            "grid_auto_columns": null,
            "margin": null,
            "display": null,
            "left": null
          }
        },
        "dbad46bddb224ea3bc3615bb68226c4c": {
          "model_module": "@jupyter-widgets/controls",
          "model_name": "DescriptionStyleModel",
          "model_module_version": "1.5.0",
          "state": {
            "_view_name": "StyleView",
            "_model_name": "DescriptionStyleModel",
            "description_width": "",
            "_view_module": "@jupyter-widgets/base",
            "_model_module_version": "1.5.0",
            "_view_count": null,
            "_view_module_version": "1.2.0",
            "_model_module": "@jupyter-widgets/controls"
          }
        },
        "f0e6be94c91b4737bc2aed77fd8773f5": {
          "model_module": "@jupyter-widgets/base",
          "model_name": "LayoutModel",
          "model_module_version": "1.2.0",
          "state": {
            "_view_name": "LayoutView",
            "grid_template_rows": null,
            "right": null,
            "justify_content": null,
            "_view_module": "@jupyter-widgets/base",
            "overflow": null,
            "_model_module_version": "1.2.0",
            "_view_count": null,
            "flex_flow": null,
            "width": null,
            "min_width": null,
            "border": null,
            "align_items": null,
            "bottom": null,
            "_model_module": "@jupyter-widgets/base",
            "top": null,
            "grid_column": null,
            "overflow_y": null,
            "overflow_x": null,
            "grid_auto_flow": null,
            "grid_area": null,
            "grid_template_columns": null,
            "flex": null,
            "_model_name": "LayoutModel",
            "justify_items": null,
            "grid_row": null,
            "max_height": null,
            "align_content": null,
            "visibility": null,
            "align_self": null,
            "height": null,
            "min_height": null,
            "padding": null,
            "grid_auto_rows": null,
            "grid_gap": null,
            "max_width": null,
            "order": null,
            "_view_module_version": "1.2.0",
            "grid_template_areas": null,
            "object_position": null,
            "object_fit": null,
            "grid_auto_columns": null,
            "margin": null,
            "display": null,
            "left": null
          }
        }
      }
    }
  },
  "cells": [
    {
      "cell_type": "code",
      "metadata": {
        "id": "dM-Q4FIV8tlb",
        "colab": {
          "base_uri": "https://localhost:8080/",
          "height": 502
        },
        "outputId": "978eb571-4290-4b3b-f647-53e44e30c3bb"
      },
      "source": [
        "!pip install numpy requests nlpaug\n",
        "!pip install torch>=1.6.0 transformers>=4.11.3 sentencepiece"
      ],
      "execution_count": 1,
      "outputs": [
        {
          "output_type": "stream",
          "name": "stdout",
          "text": [
            "Requirement already satisfied: numpy in /usr/local/lib/python3.7/dist-packages (1.19.5)\n",
            "Requirement already satisfied: requests in /usr/local/lib/python3.7/dist-packages (2.23.0)\n",
            "Collecting nlpaug\n",
            "  Downloading nlpaug-1.1.9-py3-none-any.whl (408 kB)\n",
            "\u001b[K     |████████████████████████████████| 408 kB 5.0 MB/s \n",
            "\u001b[?25hRequirement already satisfied: idna<3,>=2.5 in /usr/local/lib/python3.7/dist-packages (from requests) (2.10)\n",
            "Requirement already satisfied: chardet<4,>=3.0.2 in /usr/local/lib/python3.7/dist-packages (from requests) (3.0.4)\n",
            "Requirement already satisfied: certifi>=2017.4.17 in /usr/local/lib/python3.7/dist-packages (from requests) (2021.10.8)\n",
            "Requirement already satisfied: urllib3!=1.25.0,!=1.25.1,<1.26,>=1.21.1 in /usr/local/lib/python3.7/dist-packages (from requests) (1.24.3)\n",
            "Collecting pandas>=1.2.0\n",
            "  Downloading pandas-1.3.5-cp37-cp37m-manylinux_2_17_x86_64.manylinux2014_x86_64.whl (11.3 MB)\n",
            "\u001b[K     |████████████████████████████████| 11.3 MB 27.6 MB/s \n",
            "\u001b[?25hRequirement already satisfied: python-dateutil>=2.7.3 in /usr/local/lib/python3.7/dist-packages (from pandas>=1.2.0->nlpaug) (2.8.2)\n",
            "Requirement already satisfied: pytz>=2017.3 in /usr/local/lib/python3.7/dist-packages (from pandas>=1.2.0->nlpaug) (2018.9)\n",
            "Requirement already satisfied: six>=1.5 in /usr/local/lib/python3.7/dist-packages (from python-dateutil>=2.7.3->pandas>=1.2.0->nlpaug) (1.15.0)\n",
            "Installing collected packages: pandas, nlpaug\n",
            "  Attempting uninstall: pandas\n",
            "    Found existing installation: pandas 1.1.5\n",
            "    Uninstalling pandas-1.1.5:\n",
            "      Successfully uninstalled pandas-1.1.5\n",
            "\u001b[31mERROR: pip's dependency resolver does not currently take into account all the packages that are installed. This behaviour is the source of the following dependency conflicts.\n",
            "google-colab 1.0.0 requires pandas~=1.1.0; python_version >= \"3.0\", but you have pandas 1.3.5 which is incompatible.\u001b[0m\n",
            "Successfully installed nlpaug-1.1.9 pandas-1.3.5\n"
          ]
        },
        {
          "output_type": "display_data",
          "data": {
            "application/vnd.colab-display-data+json": {
              "pip_warning": {
                "packages": [
                  "pandas"
                ]
              }
            }
          },
          "metadata": {}
        }
      ]
    },
    {
      "cell_type": "code",
      "source": [
        "import os\n",
        "os.environ[\"MODEL_DIR\"] = '../model'\n",
        "import nlpaug.augmenter.word as naw\n",
        "from nlpaug.util import Action"
      ],
      "metadata": {
        "id": "WKZ3VAtvqOBu"
      },
      "execution_count": 2,
      "outputs": []
    },
    {
      "cell_type": "code",
      "metadata": {
        "colab": {
          "base_uri": "https://localhost:8080/"
        },
        "id": "00vNuA6rFpJA",
        "outputId": "a06c7514-d378-461e-eec2-fb4d069ff783"
      },
      "source": [
        "data1 = pd.read_csv(\"MBTI_Reddit_I_E.csv\")\n",
        "print(data1)"
      ],
      "execution_count": null,
      "outputs": [
        {
          "output_type": "stream",
          "name": "stdout",
          "text": [
            "     types                                              posts\n",
            "0        e  Yes! Personally I feel that as helpful as it i...\n",
            "1        e  It is just arguing semantics. To many on the c...\n",
            "2        e  Ooohhh okay, I thought there was something els...\n",
            "3        i  This was Blizzards way to slow down the meta. ...\n",
            "4        i  Thank you very much for the support. I am work...\n",
            "...    ...                                                ...\n",
            "3231     i  Hoi!Heb je nog iemand nodig?  Ik kom uit Canad...\n",
            "3232     i  \"Take care.\"A weird, shitty ending to the rela...\n",
            "3233     e  $49.46 is how much it costs btw. You can pre-o...\n",
            "3234     i  You shouldn't use apps to base your assessment...\n",
            "3235     i  We've hanged out about 5 times actually. But t...\n",
            "\n",
            "[3236 rows x 2 columns]\n"
          ]
        }
      ]
    },
    {
      "cell_type": "code",
      "metadata": {
        "colab": {
          "base_uri": "https://localhost:8080/"
        },
        "id": "BSQugrt5FpGC",
        "outputId": "186243d9-fe6b-4edb-89b7-e668685273e1"
      },
      "source": [
        "#data1 = data1.sample(frac=1)\n",
        "\n",
        "split_1 = int(0.7 * len(data1))\n",
        "split_2 = int(0.85 * len(data1))\n",
        "\n",
        "train_ds = data1[:split_1]\n",
        "val_ds = data1[split_1:split_2]\n",
        "test_ds = data1[split_2:]\n",
        "\n",
        "print(\"Shape of training dataset : \",train_ds.shape)\n",
        "print(\"Shape of validation dataset : \",val_ds.shape)\n",
        "print(\"Shape of test dataset : \",test_ds.shape)"
      ],
      "execution_count": null,
      "outputs": [
        {
          "output_type": "stream",
          "name": "stdout",
          "text": [
            "Shape of training dataset :  (2265, 2)\n",
            "Shape of validation dataset :  (485, 2)\n",
            "Shape of test dataset :  (486, 2)\n"
          ]
        }
      ]
    },
    {
      "cell_type": "code",
      "metadata": {
        "colab": {
          "base_uri": "https://localhost:8080/"
        },
        "id": "PfXmnyPiFpDB",
        "outputId": "5a4696b7-caaf-4688-df4f-c7b9e81698f0"
      },
      "source": [
        "train_ds['types'].value_counts()"
      ],
      "execution_count": null,
      "outputs": [
        {
          "output_type": "execute_result",
          "data": {
            "text/plain": [
              "i    1768\n",
              "e     497\n",
              "Name: types, dtype: int64"
            ]
          },
          "metadata": {},
          "execution_count": 8
        }
      ]
    },
    {
      "cell_type": "code",
      "metadata": {
        "colab": {
          "base_uri": "https://localhost:8080/",
          "height": 312,
          "referenced_widgets": [
            "242780e88f024499ba27b6c5022c1105",
            "d65e6ba868cb42dfac34b97ff8b9e81f",
            "8262c8e8a33544628c4edf26f1564143",
            "d26ec82c9a004225a3a9e161027a8f41",
            "6d6321f00c0d42f287cb3107cbd9384b",
            "2e243ec1efff43fab13ff59ca38270f8",
            "beb91460c7dc40619cb65646faac6259",
            "16304c05c2414c078e8d4f6d2d6f2036",
            "07552b5e8ef24b46bc80a10689dd46dc",
            "bd1688dcfdfd41ddbbf86777a7aeadbc",
            "06f1b0eb66ee429091aff951cacde249"
          ]
        },
        "id": "KnpvFzuuF_Ng",
        "outputId": "77f3120b-36ab-4427-9260-a8190f5a1c27"
      },
      "source": [
        "train_ds[train_ds['types']=='e']['posts'].progress_apply(data_augument)"
      ],
      "execution_count": null,
      "outputs": [
        {
          "output_type": "display_data",
          "data": {
            "application/vnd.jupyter.widget-view+json": {
              "model_id": "242780e88f024499ba27b6c5022c1105",
              "version_minor": 0,
              "version_major": 2
            },
            "text/plain": [
              "  0%|          | 0/497 [00:00<?, ?it/s]"
            ]
          },
          "metadata": {}
        },
        {
          "output_type": "stream",
          "name": "stderr",
          "text": [
            "/usr/local/lib/python3.7/dist-packages/torch/utils/data/dataloader.py:481: UserWarning: This DataLoader will create 8 worker processes in total. Our suggested max number of worker in current system is 2, which is smaller than what this DataLoader is going to create. Please be aware that excessive worker creation might get DataLoader running slow or even freeze, lower the worker number to avoid potential slowness/freeze if necessary.\n",
            "  cpuset_checked))\n"
          ]
        },
        {
          "output_type": "execute_result",
          "data": {
            "text/plain": [
              "0       yes! personally quite feel that as helpful as ...\n",
              "1       it is just arguing semantics. to many on the c...\n",
              "2       ooohhh okay, i thought there was something els...\n",
              "11      where in utah are you living now? i also have ...\n",
              "25      i'm opening myself back up to religion now tha...\n",
              "                              ...                        \n",
              "2254    do people of these faiths ever claim your prac...\n",
              "2255    i threw it in darkness and only adjusted the e...\n",
              "2258    nah man i'm all straight they started chasing ...\n",
              "2260    yea and rats are pretty lazy imo. they don't s...\n",
              "2262    a friend of mine said that he's going totally ...\n",
              "Name: posts, Length: 497, dtype: object"
            ]
          },
          "metadata": {},
          "execution_count": 13
        }
      ]
    },
    {
      "cell_type": "code",
      "source": [
        "aug_ds = train_ds[train_ds['types']=='e']['posts']"
      ],
      "metadata": {
        "id": "Lf8_gmuOy6ds"
      },
      "execution_count": null,
      "outputs": []
    },
    {
      "cell_type": "code",
      "source": [
        "aug_data=pd.DataFrame(aug_ds,columns=['posts'])"
      ],
      "metadata": {
        "id": "D0IFlJ_Zy6ab"
      },
      "execution_count": null,
      "outputs": []
    },
    {
      "cell_type": "code",
      "source": [
        "aug_data['types']='e'"
      ],
      "metadata": {
        "id": "95RNuV5wy6XI"
      },
      "execution_count": null,
      "outputs": []
    },
    {
      "cell_type": "code",
      "metadata": {
        "id": "AVKThBUm6Q3C",
        "colab": {
          "base_uri": "https://localhost:8080/"
        },
        "outputId": "5ac353d7-63ed-462f-e456-b3f96c4009ed"
      },
      "source": [
        "print(aug_data)"
      ],
      "execution_count": null,
      "outputs": [
        {
          "output_type": "stream",
          "name": "stdout",
          "text": [
            "                                                  posts types\n",
            "0     Yes! Personally I feel that as helpful as it i...     e\n",
            "1     It is just arguing semantics. To many on the c...     e\n",
            "2     Ooohhh okay, I thought there was something els...     e\n",
            "11    Where in Utah are you living now? I also have ...     e\n",
            "25    I'm opening myself back up to religion now tha...     e\n",
            "...                                                 ...   ...\n",
            "2254  Do people of these faiths ever claim your prac...     e\n",
            "2255  I threw it in Photoshop and only adjusted the ...     e\n",
            "2258  Nah man I'm all  straight They started chasing...     e\n",
            "2260  Yea and rats are pretty lazy imo. They don't s...     e\n",
            "2262  A friend of mine said that he's going to get b...     e\n",
            "\n",
            "[497 rows x 2 columns]\n"
          ]
        }
      ]
    },
    {
      "cell_type": "code",
      "source": [
        "train_ds =pd.concat([train_ds, aug_data], join=\"outer\").sample(frac=1).reset_index(drop=True)"
      ],
      "metadata": {
        "id": "XurgiG6NzRYN"
      },
      "execution_count": null,
      "outputs": []
    },
    {
      "cell_type": "code",
      "metadata": {
        "id": "QWWD0e_76SgT",
        "colab": {
          "base_uri": "https://localhost:8080/"
        },
        "outputId": "1271b13a-f0dc-4b35-dd44-711491f214bd"
      },
      "source": [
        "print(train_ds)"
      ],
      "execution_count": null,
      "outputs": [
        {
          "output_type": "stream",
          "name": "stdout",
          "text": [
            "     types                                              posts\n",
            "0        i  lol medyo nag-worry lang ako haha thanks holla...\n",
            "1        i  That's what most people believe in my store to...\n",
            "2        i  true that brother What about zombie walk If I ...\n",
            "3        i  <U+0414><U+0435><U+043F><U+0430><U+0440><U+043...\n",
            "4        i  Or basically any place you wouldn't want a str...\n",
            "...    ...                                                ...\n",
            "2757     i  He's too swole to control! Send them my way if...\n",
            "2758     i  No offense to Giggs but I think Gary would be ...\n",
            "2759     e  Imma just commenting so I can post questions.....\n",
            "2760     i  Have you ever watched How to Train Your Dragon...\n",
            "2761     i  Let the dogs out, pee, check the wood stove. D...\n",
            "\n",
            "[2762 rows x 2 columns]\n"
          ]
        }
      ]
    },
    {
      "cell_type": "code",
      "metadata": {
        "colab": {
          "base_uri": "https://localhost:8080/"
        },
        "id": "vquyYnHVRLZT",
        "outputId": "36453174-bdf1-405c-8968-47b765092894"
      },
      "source": [
        "train_ds['types'].value_counts()"
      ],
      "execution_count": null,
      "outputs": [
        {
          "output_type": "execute_result",
          "data": {
            "text/plain": [
              "i    1768\n",
              "e     994\n",
              "Name: types, dtype: int64"
            ]
          },
          "metadata": {},
          "execution_count": 20
        }
      ]
    },
    {
      "cell_type": "code",
      "source": [
        "train_ds.to_csv(\"aug_MBTI_BinaryLabels_I_E.csv\", index= False)\n",
        "\n",
        "files.download(\"aug_MBTI_BinaryLabels_I_E.csv\")"
      ],
      "metadata": {
        "id": "MmpZWDc-zcB_"
      },
      "execution_count": null,
      "outputs": []
    },
    {
      "cell_type": "code",
      "metadata": {
        "colab": {
          "base_uri": "https://localhost:8080/"
        },
        "id": "8tT0UBHSwC_u",
        "outputId": "4bf7a713-dee3-49ef-89ab-aaaed677f3ca"
      },
      "source": [
        "import pandas as pd\n",
        "\n",
        "data1 = pd.read_csv(\"MBTI_Reddit_S_N.csv\")\n",
        "print(data1)"
      ],
      "execution_count": null,
      "outputs": [
        {
          "output_type": "stream",
          "name": "stdout",
          "text": [
            "     types                                              posts\n",
            "0        n  Yes! Personally I feel that as helpful as it i...\n",
            "1        n  It is just arguing semantics. To many on the c...\n",
            "2        n  Ooohhh okay, I thought there was something els...\n",
            "3        n  This was Blizzards way to slow down the meta. ...\n",
            "4        n  Thank you very much for the support. I am work...\n",
            "...    ...                                                ...\n",
            "3231     n  Hoi!Heb je nog iemand nodig?  Ik kom uit Canad...\n",
            "3232     n  \"Take care.\"A weird, shitty ending to the rela...\n",
            "3233     s  $49.46 is how much it costs btw. You can pre-o...\n",
            "3234     n  You shouldn't use apps to base your assessment...\n",
            "3235     n  We've hanged out about 5 times actually. But t...\n",
            "\n",
            "[3236 rows x 2 columns]\n"
          ]
        }
      ]
    },
    {
      "cell_type": "code",
      "metadata": {
        "colab": {
          "base_uri": "https://localhost:8080/"
        },
        "id": "zxygdpuywC8o",
        "outputId": "b1de33aa-3add-4605-8683-d314094729b0"
      },
      "source": [
        "#data1 = data1.sample(frac=1)\n",
        "\n",
        "split_1 = int(0.7 * len(data1))\n",
        "split_2 = int(0.85 * len(data1))\n",
        "\n",
        "train_ds = data1[:split_1]\n",
        "val_ds = data1[split_1:split_2]\n",
        "test_ds = data1[split_2:]\n",
        "\n",
        "print(\"Shape of training dataset : \",train_ds.shape)\n",
        "print(\"Shape of validation dataset : \",val_ds.shape)\n",
        "print(\"Shape of test dataset : \",test_ds.shape)"
      ],
      "execution_count": null,
      "outputs": [
        {
          "output_type": "stream",
          "name": "stdout",
          "text": [
            "Shape of training dataset :  (2265, 2)\n",
            "Shape of validation dataset :  (485, 2)\n",
            "Shape of test dataset :  (486, 2)\n"
          ]
        }
      ]
    },
    {
      "cell_type": "code",
      "metadata": {
        "colab": {
          "base_uri": "https://localhost:8080/"
        },
        "id": "MQFZZLRtwaLv",
        "outputId": "51945d8d-5e5d-4b33-9621-4248ab7a3d00"
      },
      "source": [
        "train_ds['types'].value_counts()"
      ],
      "execution_count": null,
      "outputs": [
        {
          "output_type": "execute_result",
          "data": {
            "text/plain": [
              "n    1948\n",
              "s     317\n",
              "Name: types, dtype: int64"
            ]
          },
          "metadata": {},
          "execution_count": 6
        }
      ]
    },
    {
      "cell_type": "code",
      "metadata": {
        "colab": {
          "base_uri": "https://localhost:8080/",
          "height": 312,
          "referenced_widgets": [
            "f0178397808b4128ba34d319b434fa07",
            "18ce19506bf74dd29eaac83912446af8",
            "5646428095884a88901293428cffb9f0",
            "55d4e20c6edf49e4a5f982702c41c01c",
            "dd10e78ec2da4d9aaa45a44cb4716709",
            "e65714f70a094f18af2a38e6e9866be4",
            "b65ad720bfc245e78633f94638f35289",
            "05d5b0eab541438db0cec1eef5a450f1",
            "794cf9ae22084696afa9b7af2f946de4",
            "7e5e68ba5484426ea575bec408c4bad2",
            "0383a12539c94f88a4498be72b083f8a"
          ]
        },
        "id": "c6jYZHz9wZ5N",
        "outputId": "157315d8-8025-4a87-8f0d-374bb2e02809"
      },
      "source": [
        "train_ds[train_ds['types']=='s']['posts'].progress_apply(data_augument)"
      ],
      "execution_count": null,
      "outputs": [
        {
          "output_type": "display_data",
          "data": {
            "application/vnd.jupyter.widget-view+json": {
              "model_id": "f0178397808b4128ba34d319b434fa07",
              "version_minor": 0,
              "version_major": 2
            },
            "text/plain": [
              "  0%|          | 0/317 [00:00<?, ?it/s]"
            ]
          },
          "metadata": {}
        },
        {
          "output_type": "stream",
          "name": "stderr",
          "text": [
            "/usr/local/lib/python3.7/dist-packages/torch/utils/data/dataloader.py:481: UserWarning: This DataLoader will create 8 worker processes in total. Our suggested max number of worker in current system is 2, which is smaller than what this DataLoader is going to create. Please be aware that excessive worker creation might get DataLoader running slow or even freeze, lower the worker number to avoid potential slowness/freeze if necessary.\n",
            "  cpuset_checked))\n"
          ]
        },
        {
          "output_type": "execute_result",
          "data": {
            "text/plain": [
              "8       well, yes, i had thought there would be a litt...\n",
              "10      my pc has been running this game perfectly for...\n",
              "13      i would say i hate the cite. there are very fe...\n",
              "35      hmm ok. tbh i think i might just sample indivi...\n",
              "40      i've never used one but find the idea nice in ...\n",
              "                              ...                        \n",
              "2248    the reason i'm losing my xbox home is so if it...\n",
              "2257    thank you! mods, feel free to delete this. huh...\n",
              "2260    yea and rats are pretty lazy imo. they don't s...\n",
              "2262    a friend of mine said that he's going to get b...\n",
              "2263    a friend of mine said that he's going to get b...\n",
              "Name: posts, Length: 317, dtype: object"
            ]
          },
          "metadata": {},
          "execution_count": 10
        }
      ]
    },
    {
      "cell_type": "code",
      "source": [
        "aug_ds = train_ds[train_ds['types']=='s']['posts']"
      ],
      "metadata": {
        "id": "9W0AeuC6zlyi"
      },
      "execution_count": null,
      "outputs": []
    },
    {
      "cell_type": "code",
      "source": [
        "aug_data=pd.DataFrame(aug_ds,columns=['posts'])"
      ],
      "metadata": {
        "id": "UybWYGGSzlvQ"
      },
      "execution_count": null,
      "outputs": []
    },
    {
      "cell_type": "code",
      "source": [
        "aug_data['types']='s'"
      ],
      "metadata": {
        "id": "kCxaPf5-zlsL"
      },
      "execution_count": null,
      "outputs": []
    },
    {
      "cell_type": "code",
      "metadata": {
        "colab": {
          "base_uri": "https://localhost:8080/"
        },
        "id": "46-WMAQbAoVf",
        "outputId": "4322c3df-1103-45e6-90e9-d6b8c136212c"
      },
      "source": [
        "print(aug_data)"
      ],
      "execution_count": null,
      "outputs": [
        {
          "output_type": "stream",
          "name": "stdout",
          "text": [
            "                                                  posts types\n",
            "8     Well, yes, I had thought there would be a litt...     s\n",
            "10    My PC has been running this game perfectly for...     s\n",
            "13    I would say I hate the cite. There are very fe...     s\n",
            "35    hmm ok.tbh I think I might just sample individ...     s\n",
            "40    I've never used one but find the idea nice in ...     s\n",
            "...                                                 ...   ...\n",
            "2248  The reason I'm keeping my Xbox home is so if i...     s\n",
            "2257  Thank you! Mods, feel free to delete this. Huh...     s\n",
            "2260  Yea and rats are pretty lazy imo. They don't s...     s\n",
            "2262  A friend of mine said that he's going to get b...     s\n",
            "2263  A friend of mine said that he's going to get b...     s\n",
            "\n",
            "[317 rows x 2 columns]\n"
          ]
        }
      ]
    },
    {
      "cell_type": "code",
      "source": [
        "train_ds =pd.concat([train_ds, aug_data], join=\"outer\").sample(frac=1).reset_index(drop=True)"
      ],
      "metadata": {
        "id": "iat41tjJsZuq"
      },
      "execution_count": null,
      "outputs": []
    },
    {
      "cell_type": "code",
      "metadata": {
        "colab": {
          "base_uri": "https://localhost:8080/"
        },
        "id": "dWWOPVySAoPj",
        "outputId": "302653fd-c6e7-472c-ad51-9828874edb4a"
      },
      "source": [
        "print(train_ds)"
      ],
      "execution_count": null,
      "outputs": [
        {
          "output_type": "stream",
          "name": "stdout",
          "text": [
            "     types                                              posts\n",
            "0        n  I thought he pulled out...? Perhaps *The Enorm...\n",
            "1        n  Any luck in the Milwaukee, WI area? Count me i...\n",
            "2        n  You have a better solution to stopping illegal...\n",
            "3        n  sorry but, what is bujabuja set? https://www.p...\n",
            "4        n  My bro and I managed to hike the peak of that ...\n",
            "...    ...                                                ...\n",
            "2577     n  I fiercely dislike Memoirs of a Geisha. I thin...\n",
            "2578     n  The Internet or Syd herself I have a feeling i...\n",
            "2579     n  The seeds are 'spores' that float around in th...\n",
            "2580     s  Stephan Kinsella has an interesting paper on t...\n",
            "2581     s  Finagle the bagel But its on every gun, theref...\n",
            "\n",
            "[2582 rows x 2 columns]\n"
          ]
        }
      ]
    },
    {
      "cell_type": "code",
      "metadata": {
        "colab": {
          "base_uri": "https://localhost:8080/"
        },
        "id": "LUv4UsQKGISh",
        "outputId": "fb82253d-a147-42b3-f7cb-48a2ad7c9d14"
      },
      "source": [
        "train_ds['types'].value_counts()"
      ],
      "execution_count": null,
      "outputs": [
        {
          "output_type": "execute_result",
          "data": {
            "text/plain": [
              "n    1948\n",
              "s     634\n",
              "Name: types, dtype: int64"
            ]
          },
          "metadata": {},
          "execution_count": 17
        }
      ]
    },
    {
      "cell_type": "code",
      "source": [
        "train_ds.to_csv(\"aug_MBTI_BinaryLabels_S_N.csv\", index= False)\n",
        "\n",
        "files.download(\"aug_MBTI_BinaryLabels_S_N.csv\")"
      ],
      "metadata": {
        "id": "E_6A64Imsh78"
      },
      "execution_count": null,
      "outputs": []
    },
    {
      "cell_type": "code",
      "metadata": {
        "id": "WnXIlEro8tW4",
        "colab": {
          "base_uri": "https://localhost:8080/"
        },
        "outputId": "9cb7ce19-67e6-4bb0-9b1a-5545beb37a6d"
      },
      "source": [
        "data1 = pd.read_csv(\"MBTI_Reddit_F_T.csv\")\n",
        "print(data1)"
      ],
      "execution_count": null,
      "outputs": [
        {
          "output_type": "stream",
          "name": "stdout",
          "text": [
            "     types                                              posts\n",
            "0        t  Yes! Personally I feel that as helpful as it i...\n",
            "1        t  It is just arguing semantics. To many on the c...\n",
            "2        t  Ooohhh okay, I thought there was something els...\n",
            "3        t  This was Blizzards way to slow down the meta. ...\n",
            "4        t  Thank you very much for the support. I am work...\n",
            "...    ...                                                ...\n",
            "3231     t  Hoi!Heb je nog iemand nodig?  Ik kom uit Canad...\n",
            "3232     t  \"Take care.\"A weird, shitty ending to the rela...\n",
            "3233     f  $49.46 is how much it costs btw. You can pre-o...\n",
            "3234     f  You shouldn't use apps to base your assessment...\n",
            "3235     f  We've hanged out about 5 times actually. But t...\n",
            "\n",
            "[3236 rows x 2 columns]\n"
          ]
        }
      ]
    },
    {
      "cell_type": "code",
      "metadata": {
        "id": "tObCC7828tG0",
        "colab": {
          "base_uri": "https://localhost:8080/"
        },
        "outputId": "c7d027d7-4f79-4a88-e4d5-d4a5a1ba4907"
      },
      "source": [
        "#data1 = data1.sample(frac=1)\n",
        "\n",
        "split_1 = int(0.7 * len(data1))\n",
        "split_2 = int(0.85 * len(data1))\n",
        "\n",
        "train_ds = data1[:split_1]\n",
        "val_ds = data1[split_1:split_2]\n",
        "test_ds = data1[split_2:]\n",
        "\n",
        "print(\"Shape of training dataset : \",train_ds.shape)\n",
        "print(\"Shape of validation dataset : \",val_ds.shape)\n",
        "print(\"Shape of test dataset : \",test_ds.shape)"
      ],
      "execution_count": null,
      "outputs": [
        {
          "output_type": "stream",
          "name": "stdout",
          "text": [
            "Shape of training dataset :  (2265, 2)\n",
            "Shape of validation dataset :  (485, 2)\n",
            "Shape of test dataset :  (486, 2)\n"
          ]
        }
      ]
    },
    {
      "cell_type": "code",
      "metadata": {
        "colab": {
          "base_uri": "https://localhost:8080/"
        },
        "id": "9l3eG2x1Z0UE",
        "outputId": "5261a83a-f83a-4ba0-83de-93c772b1c25c"
      },
      "source": [
        "train_ds['types'].value_counts()"
      ],
      "execution_count": null,
      "outputs": [
        {
          "output_type": "execute_result",
          "data": {
            "text/plain": [
              "t    1417\n",
              "f     848\n",
              "Name: types, dtype: int64"
            ]
          },
          "metadata": {},
          "execution_count": 7
        }
      ]
    },
    {
      "cell_type": "code",
      "metadata": {
        "colab": {
          "base_uri": "https://localhost:8080/"
        },
        "id": "p3Hr1BzS7t8o",
        "outputId": "dbc5e811-f829-48e6-f080-3ee02b98f453"
      },
      "source": [
        "print(train_ds)"
      ],
      "execution_count": null,
      "outputs": [
        {
          "output_type": "stream",
          "name": "stdout",
          "text": [
            "     types                                              posts\n",
            "0        t  Yes! Personally I feel that as helpful as it i...\n",
            "1        t  It is just arguing semantics. To many on the c...\n",
            "2        t  Ooohhh okay, I thought there was something els...\n",
            "3        t  This was Blizzards way to slow down the meta. ...\n",
            "4        t  Thank you very much for the support. I am work...\n",
            "...    ...                                                ...\n",
            "2260     t  Yea and rats are pretty lazy imo. They don't s...\n",
            "2261     t  If you don't have anything to do before or aft...\n",
            "2262     t  A friend of mine said that he's going to get b...\n",
            "2263     t  A friend of mine said that he's going to get b...\n",
            "2264     t  I challenge you â€” who gets first to sub-35 :...\n",
            "\n",
            "[2265 rows x 2 columns]\n"
          ]
        }
      ]
    },
    {
      "cell_type": "code",
      "metadata": {
        "colab": {
          "base_uri": "https://localhost:8080/",
          "height": 177,
          "referenced_widgets": [
            "c747c0b0dde543a6b319abce43663ff5",
            "fe8e0fe251d74591918ea00a78831364",
            "dac7f0eea20d4237a3ec44cf95771a62",
            "c1b13a94de1c42d29f37b4c84dd4329f",
            "f0b150633323437d9ba195cc9cec5e32",
            "be805ca0ebba41baa56f1b9facfa35de",
            "1d5ff868ba7141799a0fee56b7ebf4c3",
            "48daf282679b443f9f195dc3d132005b",
            "7383d48da1764e2e8cfc57e09868801e",
            "9293a95bdcd24876a4ec1148953a86b8",
            "2e3a72ec3f3d42f4865b8487aec337f3",
            "be1e5a4be4b74e089926a591019b572d",
            "2a0d6d8611814de1b6eab45bb60d2961",
            "779b237d2e36429fb9baa2903456ac4c",
            "76459754f6a24ff395acc3dc9baf8699",
            "393218cef15e4ebb853a9b30bff6a2ee",
            "60cf85cb602b4d07a6a3db5aea7c0f3d",
            "09e3d62a6ecf4195a5f9d5b07adb96b8",
            "e6289e8bea6d435cbdc731c8d5ba2a9e",
            "e93f4c699cd043028e65566459c62b52",
            "617e718dd7994610a2c6c34c356f9de1",
            "4e6b82ef7dc84fa3a232863d2458e591",
            "7b584f567a5040cfb8482b65bce337d7",
            "6e3e48ae493846339bd384a91620e130",
            "1f5f821e6e1c4eb59a052f984b28ed9e",
            "ce6a95e82f38430aa5e71ed217b21690",
            "46b2d6d1dcbe43a19e69ce2a26e8c59e",
            "072e5f0309d644a58909cd728dd225c6",
            "43e4b471b17941bb94ce5dc41b39f31d",
            "7bfdfb319b4e4903a82245d2681d95c5",
            "2bc0c0636333494c9ddbfa8cdb4a654c",
            "75cd959a48ff4f379b2efbced0b8d29d",
            "fb703f58daa04be2ab6c265193998cd0",
            "97ca71681b82481b9b624d315cc704ee",
            "096d19e4adb94f7f882fd0a13fc8072a",
            "6102ad8ede024f018ef8b34a43613029",
            "c660bcb74fe8485bb0da8b69fbbfd005",
            "56ca4bd6134942fd87c784ec6befffd5",
            "20127bc8b79347369d00b4e73aaef6f1",
            "c4537b36cd214819983f842f9f856456",
            "18daffbc6bef4e18a5007baef8303bf3",
            "9fb945f69a0a43869c3d052345815458",
            "edcae8d7d3b945388f8778184c96b052",
            "98af3834f8b64e90822d22ceef85bdd1",
            "b903b0bdd6e24b93ad7c4b96fefae89f",
            "07bddc7927434f82bb344846798b92b9",
            "40792bf648d747fbb669c626b1191dc7",
            "86e6134f9ae742508745dddccb2abe13",
            "76c5cdfbea364f74b4422b2aa2775bee",
            "53b725494fd84e188ccd289462aab2d0",
            "35a0659b226442c08e6858df9048f10f",
            "d3e3741df4ae47faae356ccbc9e93ae2",
            "7d10094edc944f6d9ff1ac1687f0b3b4",
            "dbad46bddb224ea3bc3615bb68226c4c",
            "f0e6be94c91b4737bc2aed77fd8773f5"
          ]
        },
        "id": "h6trDSNcad9j",
        "outputId": "342f5f9a-f995-43a4-c56b-3b88a75a0f12"
      },
      "source": [
        "aug = naw.ContextualWordEmbsAug(model_path='bert-base-uncased', action='substitute')"
      ],
      "execution_count": 3,
      "outputs": [
        {
          "output_type": "display_data",
          "data": {
            "application/vnd.jupyter.widget-view+json": {
              "model_id": "c747c0b0dde543a6b319abce43663ff5",
              "version_minor": 0,
              "version_major": 2
            },
            "text/plain": [
              "Downloading:   0%|          | 0.00/28.0 [00:00<?, ?B/s]"
            ]
          },
          "metadata": {}
        },
        {
          "output_type": "display_data",
          "data": {
            "application/vnd.jupyter.widget-view+json": {
              "model_id": "be1e5a4be4b74e089926a591019b572d",
              "version_minor": 0,
              "version_major": 2
            },
            "text/plain": [
              "Downloading:   0%|          | 0.00/570 [00:00<?, ?B/s]"
            ]
          },
          "metadata": {}
        },
        {
          "output_type": "display_data",
          "data": {
            "application/vnd.jupyter.widget-view+json": {
              "model_id": "7b584f567a5040cfb8482b65bce337d7",
              "version_minor": 0,
              "version_major": 2
            },
            "text/plain": [
              "Downloading:   0%|          | 0.00/226k [00:00<?, ?B/s]"
            ]
          },
          "metadata": {}
        },
        {
          "output_type": "display_data",
          "data": {
            "application/vnd.jupyter.widget-view+json": {
              "model_id": "97ca71681b82481b9b624d315cc704ee",
              "version_minor": 0,
              "version_major": 2
            },
            "text/plain": [
              "Downloading:   0%|          | 0.00/455k [00:00<?, ?B/s]"
            ]
          },
          "metadata": {}
        },
        {
          "output_type": "display_data",
          "data": {
            "application/vnd.jupyter.widget-view+json": {
              "model_id": "b903b0bdd6e24b93ad7c4b96fefae89f",
              "version_minor": 0,
              "version_major": 2
            },
            "text/plain": [
              "Downloading:   0%|          | 0.00/420M [00:00<?, ?B/s]"
            ]
          },
          "metadata": {}
        }
      ]
    },
    {
      "cell_type": "code",
      "source": [
        "ls=[]\n",
        "def data_augument(df):\n",
        "    augmented_texts = aug.augment(df)\n",
        "    for i in augmented_texts:\n",
        "        ls.append(i)\n",
        "    return(augmented_texts)"
      ],
      "metadata": {
        "id": "TB2UdIAnrfuR"
      },
      "execution_count": null,
      "outputs": []
    },
    {
      "cell_type": "code",
      "metadata": {
        "colab": {
          "base_uri": "https://localhost:8080/"
        },
        "id": "7RHYPafsaGGz",
        "outputId": "b246c9d8-9c99-464a-9a74-b623990126f0"
      },
      "source": [
        "from tqdm._tqdm_notebook import tqdm_notebook\n",
        "tqdm_notebook.pandas()"
      ],
      "execution_count": null,
      "outputs": [
        {
          "output_type": "stream",
          "name": "stderr",
          "text": [
            "/usr/local/lib/python3.7/dist-packages/ipykernel_launcher.py:1: TqdmDeprecationWarning: This function will be removed in tqdm==5.0.0\n",
            "Please use `tqdm.notebook.*` instead of `tqdm._tqdm_notebook.*`\n",
            "  \"\"\"Entry point for launching an IPython kernel.\n"
          ]
        }
      ]
    },
    {
      "cell_type": "code",
      "metadata": {
        "colab": {
          "base_uri": "https://localhost:8080/",
          "height": 312,
          "referenced_widgets": [
            "c0dc0537083045b5ac1b1597b1f7f501",
            "1252b521b73c44739c8008e1152a6fb6",
            "49c1d88b2d9540babbfe456088ccf4e1",
            "85538fdc8d954aedbebf4ef625d97e2f",
            "00826503b5164c75a9c6bd953ec5835d",
            "e0da11b0cd8b42029a88800e0ccf8c00",
            "907e380213cd4262b16fb3b7b5d49588",
            "2ae50805b42e477588d70bfcd6956004",
            "9748062e946d4ac590f7c2b7682458d3",
            "3e153362bf5a4b46b627790de38fc89c",
            "6b44c672079d4d2598d4c88d3a7464c3"
          ]
        },
        "id": "bt1Dm4itaGD9",
        "outputId": "fd13770e-feeb-4326-ffae-e8b2026c04d2"
      },
      "source": [
        "train_ds[train_ds['types']=='f']['posts'].progress_apply(data_augument)"
      ],
      "execution_count": null,
      "outputs": [
        {
          "output_type": "display_data",
          "data": {
            "application/vnd.jupyter.widget-view+json": {
              "model_id": "c0dc0537083045b5ac1b1597b1f7f501",
              "version_minor": 0,
              "version_major": 2
            },
            "text/plain": [
              "  0%|          | 0/848 [00:00<?, ?it/s]"
            ]
          },
          "metadata": {}
        },
        {
          "output_type": "stream",
          "name": "stderr",
          "text": [
            "/usr/local/lib/python3.7/dist-packages/torch/utils/data/dataloader.py:481: UserWarning: This DataLoader will create 8 worker processes in total. Our suggested max number of worker in current system is 2, which is smaller than what this DataLoader is going to create. Please be aware that excessive worker creation might get DataLoader running slow or even freeze, lower the worker number to avoid potential slowness/freeze if necessary.\n",
            "  cpuset_checked))\n"
          ]
        },
        {
          "output_type": "execute_result",
          "data": {
            "text/plain": [
              "7       indeed. - much unnecessary anger and spitefuln...\n",
              "8       well, yes, i had thought there would be a litt...\n",
              "14      that's true but maybe they themselves breed on...\n",
              "15      i love ronnie. what a legend! will do! cheers!...\n",
              "24      i'm at somewhere near hwa chong, i caught two ...\n",
              "                              ...                        \n",
              "2251    i'm guessing something like a standard america...\n",
              "2253    alright i'm up to case 14 now, i have been doi...\n",
              "2254    do people of these faiths ever claim your prac...\n",
              "2255    i threw it in photoshop and only adjusted the ...\n",
              "2259    yah understood. just giving my ( admittedly ti...\n",
              "Name: posts, Length: 848, dtype: object"
            ]
          },
          "metadata": {},
          "execution_count": 12
        }
      ]
    },
    {
      "cell_type": "code",
      "source": [
        "aug_ds = train_ds[train_ds['types']=='f']['posts']"
      ],
      "metadata": {
        "id": "7osUoSZorflp"
      },
      "execution_count": null,
      "outputs": []
    },
    {
      "cell_type": "code",
      "metadata": {
        "colab": {
          "base_uri": "https://localhost:8080/"
        },
        "id": "T6cTvf-7oNAM",
        "outputId": "3bd4f516-5e68-4592-d09a-faf6a71ee3ee"
      },
      "source": [
        "print(aug_ds)"
      ],
      "execution_count": null,
      "outputs": [
        {
          "output_type": "stream",
          "name": "stdout",
          "text": [
            "7       Indeed. So much unnecessary anger and spiteful...\n",
            "8       Well, yes, I had thought there would be a litt...\n",
            "14      That's true but maybe they could breed once re...\n",
            "15      I love Ronnie. What a legend! Will do! Cheers!...\n",
            "24      I'm at somewhere near Hwa Chong, I caught two ...\n",
            "                              ...                        \n",
            "2251    I'm guessing something like a Standard America...\n",
            "2253    Alright I'm up to case 14 now, I have been doi...\n",
            "2254    Do people of these faiths ever claim your prac...\n",
            "2255    I threw it in Photoshop and only adjusted the ...\n",
            "2259    yah understood. just giving my (admittedly tip...\n",
            "Name: posts, Length: 848, dtype: object\n"
          ]
        }
      ]
    },
    {
      "cell_type": "code",
      "source": [
        "aug_data=pd.DataFrame(aug_ds,columns=['posts'])"
      ],
      "metadata": {
        "id": "3FDot87kr49_"
      },
      "execution_count": null,
      "outputs": []
    },
    {
      "cell_type": "code",
      "source": [
        "aug_data['types']='f'"
      ],
      "metadata": {
        "id": "PMdV8VQ6r46m"
      },
      "execution_count": null,
      "outputs": []
    },
    {
      "cell_type": "code",
      "metadata": {
        "colab": {
          "base_uri": "https://localhost:8080/"
        },
        "id": "DCErJUERnOs5",
        "outputId": "2447fab5-7c0a-4890-eaf4-6ea6b66582eb"
      },
      "source": [
        "print(aug_data)"
      ],
      "execution_count": null,
      "outputs": [
        {
          "output_type": "stream",
          "name": "stdout",
          "text": [
            "                                                  posts types\n",
            "7     Indeed. So much unnecessary anger and spiteful...     f\n",
            "8     Well, yes, I had thought there would be a litt...     f\n",
            "14    That's true but maybe they could breed once re...     f\n",
            "15    I love Ronnie. What a legend! Will do! Cheers!...     f\n",
            "24    I'm at somewhere near Hwa Chong, I caught two ...     f\n",
            "...                                                 ...   ...\n",
            "2251  I'm guessing something like a Standard America...     f\n",
            "2253  Alright I'm up to case 14 now, I have been doi...     f\n",
            "2254  Do people of these faiths ever claim your prac...     f\n",
            "2255  I threw it in Photoshop and only adjusted the ...     f\n",
            "2259  yah understood. just giving my (admittedly tip...     f\n",
            "\n",
            "[848 rows x 2 columns]\n"
          ]
        }
      ]
    },
    {
      "cell_type": "code",
      "source": [
        "train_ds =pd.concat([train_ds, aug_data], join=\"outer\").sample(frac=1).reset_index(drop=True)"
      ],
      "metadata": {
        "id": "MyoQKOmQr41Y"
      },
      "execution_count": null,
      "outputs": []
    },
    {
      "cell_type": "code",
      "metadata": {
        "colab": {
          "base_uri": "https://localhost:8080/"
        },
        "id": "t-il6LTk6Z7P",
        "outputId": "cab6308d-5db1-4cbc-8b5d-3dae3295c4fe"
      },
      "source": [
        "print(train_ds)"
      ],
      "execution_count": null,
      "outputs": [
        {
          "output_type": "stream",
          "name": "stdout",
          "text": [
            "     types                                              posts\n",
            "0        t  Culture Shock, easily for me. No Chance at Dee...\n",
            "1        t  Why do you have one? This is so fucking sad. I...\n",
            "2        f  crystal blue persuasion Why did that even come...\n",
            "3        f  awesome! Love that! thanks for sharing! :)! Su...\n",
            "4        t  i see more of a laborador but they're just wha...\n",
            "...    ...                                                ...\n",
            "3108     f  Get a job immediately out of college. Pretty g...\n",
            "3109     f  Example two: I'd say \"the tool\" and reach my h...\n",
            "3110     f  I still don't see any reason to sugarcoat real...\n",
            "3111     t  This is EXACTLY what I think, then I feel pity...\n",
            "3112     f  My friends' wedding invitation! When you're at...\n",
            "\n",
            "[3113 rows x 2 columns]\n"
          ]
        }
      ]
    },
    {
      "cell_type": "code",
      "metadata": {
        "colab": {
          "base_uri": "https://localhost:8080/"
        },
        "id": "ZufxsKtq6vD5",
        "outputId": "dff9269b-eaed-40db-df93-bd8ef5d47a5c"
      },
      "source": [
        "train_ds['types'].value_counts()"
      ],
      "execution_count": null,
      "outputs": [
        {
          "output_type": "execute_result",
          "data": {
            "text/plain": [
              "f    1696\n",
              "t    1417\n",
              "Name: types, dtype: int64"
            ]
          },
          "metadata": {},
          "execution_count": 20
        }
      ]
    },
    {
      "cell_type": "code",
      "metadata": {
        "colab": {
          "base_uri": "https://localhost:8080/",
          "height": 487
        },
        "id": "QUkTFeBE8R90",
        "outputId": "af566b24-ac38-41fc-d429-3cbc8b19dea0"
      },
      "source": [
        "!pip uninstall pandas\n",
        "!pip install pandas==1.1.5"
      ],
      "execution_count": null,
      "outputs": [
        {
          "output_type": "stream",
          "name": "stdout",
          "text": [
            "Found existing installation: pandas 1.3.4\n",
            "Uninstalling pandas-1.3.4:\n",
            "  Would remove:\n",
            "    /usr/local/lib/python3.7/dist-packages/pandas-1.3.4.dist-info/*\n",
            "    /usr/local/lib/python3.7/dist-packages/pandas/*\n",
            "Proceed (y/n)? n\n",
            "Collecting pandas==1.1.5\n",
            "  Downloading pandas-1.1.5-cp37-cp37m-manylinux1_x86_64.whl (9.5 MB)\n",
            "\u001b[K     |████████████████████████████████| 9.5 MB 5.3 MB/s \n",
            "\u001b[?25hRequirement already satisfied: python-dateutil>=2.7.3 in /usr/local/lib/python3.7/dist-packages (from pandas==1.1.5) (2.8.2)\n",
            "Requirement already satisfied: pytz>=2017.2 in /usr/local/lib/python3.7/dist-packages (from pandas==1.1.5) (2018.9)\n",
            "Requirement already satisfied: numpy>=1.15.4 in /usr/local/lib/python3.7/dist-packages (from pandas==1.1.5) (1.19.5)\n",
            "Requirement already satisfied: six>=1.5 in /usr/local/lib/python3.7/dist-packages (from python-dateutil>=2.7.3->pandas==1.1.5) (1.15.0)\n",
            "Installing collected packages: pandas\n",
            "  Attempting uninstall: pandas\n",
            "    Found existing installation: pandas 1.3.4\n",
            "    Uninstalling pandas-1.3.4:\n",
            "      Successfully uninstalled pandas-1.3.4\n",
            "\u001b[31mERROR: pip's dependency resolver does not currently take into account all the packages that are installed. This behaviour is the source of the following dependency conflicts.\n",
            "nlpaug 1.1.8 requires pandas>=1.2.0, but you have pandas 1.1.5 which is incompatible.\u001b[0m\n",
            "Successfully installed pandas-1.1.5\n"
          ]
        },
        {
          "output_type": "display_data",
          "data": {
            "application/vnd.colab-display-data+json": {
              "pip_warning": {
                "packages": [
                  "pandas"
                ]
              }
            }
          },
          "metadata": {}
        }
      ]
    },
    {
      "cell_type": "code",
      "source": [
        "from google.colab import files\n",
        "\n",
        "train_ds.to_csv(\"aug_MBTI_BinaryLabels_F_T.csv\", index= False)\n",
        "\n",
        "files.download(\"aug_MBTI_BinaryLabels_F_T.csv\")"
      ],
      "metadata": {
        "id": "PyvN6qCAsZn0"
      },
      "execution_count": null,
      "outputs": []
    },
    {
      "cell_type": "code",
      "metadata": {
        "colab": {
          "base_uri": "https://localhost:8080/"
        },
        "id": "u8A6akS7Z3O8",
        "outputId": "35cbb61b-030e-4134-e9fb-30c75bc546c1"
      },
      "source": [
        "data1 = pd.read_csv(\"MBTI_Reddit_J_P.csv\")\n",
        "print(data1)"
      ],
      "execution_count": null,
      "outputs": [
        {
          "output_type": "stream",
          "name": "stdout",
          "text": [
            "     types                                              posts\n",
            "0        p  Yes! Personally I feel that as helpful as it i...\n",
            "1        p  It is just arguing semantics. To many on the c...\n",
            "2        p  Ooohhh okay, I thought there was something els...\n",
            "3        p  This was Blizzards way to slow down the meta. ...\n",
            "4        p  Thank you very much for the support. I am work...\n",
            "...    ...                                                ...\n",
            "3231     p  Hoi!Heb je nog iemand nodig?  Ik kom uit Canad...\n",
            "3232     j  \"Take care.\"A weird, shitty ending to the rela...\n",
            "3233     j  $49.46 is how much it costs btw. You can pre-o...\n",
            "3234     j  You shouldn't use apps to base your assessment...\n",
            "3235     j  We've hanged out about 5 times actually. But t...\n",
            "\n",
            "[3236 rows x 2 columns]\n"
          ]
        }
      ]
    },
    {
      "cell_type": "code",
      "metadata": {
        "colab": {
          "base_uri": "https://localhost:8080/"
        },
        "id": "2n3Z0mQZZ3Lr",
        "outputId": "445e5e1f-fc17-4f52-f3a2-b11281f70f22"
      },
      "source": [
        "#data1 = data1.sample(frac=1)\n",
        "\n",
        "split_1 = int(0.7 * len(data1))\n",
        "split_2 = int(0.85 * len(data1))\n",
        "\n",
        "train_ds = data1[:split_1]\n",
        "val_ds = data1[split_1:split_2]\n",
        "test_ds = data1[split_2:]\n",
        "\n",
        "print(\"Shape of training dataset : \",train_ds.shape)\n",
        "print(\"Shape of validation dataset : \",val_ds.shape)\n",
        "print(\"Shape of test dataset : \",test_ds.shape)"
      ],
      "execution_count": null,
      "outputs": [
        {
          "output_type": "stream",
          "name": "stdout",
          "text": [
            "Shape of training dataset :  (2265, 2)\n",
            "Shape of validation dataset :  (485, 2)\n",
            "Shape of test dataset :  (486, 2)\n"
          ]
        }
      ]
    },
    {
      "cell_type": "code",
      "metadata": {
        "colab": {
          "base_uri": "https://localhost:8080/"
        },
        "id": "sFVvoCpVvDcs",
        "outputId": "c49ab63b-e543-4a31-d7e2-c4691aff923f"
      },
      "source": [
        "train_ds['types'].value_counts()"
      ],
      "execution_count": null,
      "outputs": [
        {
          "output_type": "execute_result",
          "data": {
            "text/plain": [
              "p    1342\n",
              "j     923\n",
              "Name: types, dtype: int64"
            ]
          },
          "metadata": {},
          "execution_count": 6
        }
      ]
    },
    {
      "cell_type": "code",
      "metadata": {
        "colab": {
          "base_uri": "https://localhost:8080/"
        },
        "id": "S9iC8CXhaTJZ",
        "outputId": "12723186-f97f-4ecd-aafa-3cf09b5ef9b5"
      },
      "source": [
        "print(train_ds)"
      ],
      "execution_count": null,
      "outputs": [
        {
          "output_type": "stream",
          "name": "stdout",
          "text": [
            "     types                                              posts\n",
            "0        p  Yes! Personally I feel that as helpful as it i...\n",
            "1        p  It is just arguing semantics. To many on the c...\n",
            "2        p  Ooohhh okay, I thought there was something els...\n",
            "3        p  This was Blizzards way to slow down the meta. ...\n",
            "4        p  Thank you very much for the support. I am work...\n",
            "...    ...                                                ...\n",
            "2260     p  Yea and rats are pretty lazy imo. They don't s...\n",
            "2261     j  If you don't have anything to do before or aft...\n",
            "2262     p  A friend of mine said that he's going to get b...\n",
            "2263     p  A friend of mine said that he's going to get b...\n",
            "2264     p  I challenge you â€” who gets first to sub-35 :...\n",
            "\n",
            "[2265 rows x 2 columns]\n"
          ]
        }
      ]
    },
    {
      "cell_type": "code",
      "metadata": {
        "colab": {
          "base_uri": "https://localhost:8080/",
          "height": 312,
          "referenced_widgets": [
            "adf8490719464a368ea2c4f88a1bbc7a",
            "b2f64b8b94484cbe85c2a75084384a88",
            "4f97d8460acd40aab1c99a7e48115a09",
            "316238d3f0784830a853e8b07c127dce",
            "429ffb242e794625886754db998798f7",
            "536079175e1a43aabf83c374a2671c9a",
            "7b74901f6a5e41d8a8fbe69ca00d04e1",
            "b4cb70816268473f8e2291907cefac52",
            "f8f07be83d214c5193f1af1cdf67b4ac",
            "75d75ca00afa47dca5beea231346046e",
            "eabdcb39a1774ed88362d54e795d5ed2"
          ]
        },
        "id": "tOqQVLvfvnEs",
        "outputId": "ca890b35-4f25-4edb-e293-c5111ce2532e"
      },
      "source": [
        "train_ds[train_ds['types']=='j']['posts'].progress_apply(data_augument)"
      ],
      "execution_count": null,
      "outputs": [
        {
          "data": {
            "application/vnd.jupyter.widget-view+json": {
              "model_id": "adf8490719464a368ea2c4f88a1bbc7a",
              "version_major": 2,
              "version_minor": 0
            },
            "text/plain": [
              "  0%|          | 0/923 [00:00<?, ?it/s]"
            ]
          },
          "metadata": {},
          "output_type": "display_data"
        },
        {
          "metadata": {
            "tags": null
          },
          "name": "stderr",
          "output_type": "stream",
          "text": [
            "/usr/local/lib/python3.7/dist-packages/torch/utils/data/dataloader.py:481: UserWarning: This DataLoader will create 8 worker processes in total. Our suggested max number of worker in current system is 2, which is smaller than what this DataLoader is going to create. Please be aware that excessive worker creation might get DataLoader running slow or even freeze, lower the worker number to avoid potential slowness/freeze if necessary.\n",
            "  cpuset_checked))\n"
          ]
        },
        {
          "output_type": "execute_result",
          "data": {
            "text/plain": [
              "2011    this is literally the best series i've ever se...\n",
              "1402    sorry but, what is bujabuja set? https : / / w...\n",
              "918     i like the fact my doctor was honest about thi...\n",
              "2550    calcium supps? i may need to try that. here fa...\n",
              "2490    i would not recommend a border collie for a fi...\n",
              "                              ...                        \n",
              "756     july talk is supporting their tour now, which ...\n",
              "160     goodbye < u + fffd > < u + fffd > < u + fe0f >...\n",
              "579     you could also be struggling with helplessness...\n",
              "1912    i've always thought about this. i reckon, when...\n",
              "2914    i am somewhat introverted, but i'm forcing mys...\n",
              "Name: posts, Length: 923, dtype: object"
            ]
          },
          "metadata": {},
          "execution_count": 11
        }
      ]
    },
    {
      "cell_type": "code",
      "source": [
        "aug_ds = train_ds[train_ds['types']=='j']['posts']"
      ],
      "metadata": {
        "id": "fXa5zqehvzhA"
      },
      "execution_count": null,
      "outputs": []
    },
    {
      "cell_type": "code",
      "source": [
        "aug_data=pd.DataFrame(aug_ds,columns=['posts'])"
      ],
      "metadata": {
        "id": "-06n3KA1wQwp"
      },
      "execution_count": null,
      "outputs": []
    },
    {
      "cell_type": "code",
      "source": [
        "aug_data['types']='j'"
      ],
      "metadata": {
        "id": "v-QJHkVAwUo_"
      },
      "execution_count": null,
      "outputs": []
    },
    {
      "cell_type": "code",
      "source": [
        "train_ds =pd.concat([train_ds, aug_data], join=\"outer\").sample(frac=1).reset_index(drop= True)"
      ],
      "metadata": {
        "id": "jquY_vLPwUlp"
      },
      "execution_count": null,
      "outputs": []
    },
    {
      "cell_type": "code",
      "metadata": {
        "colab": {
          "base_uri": "https://localhost:8080/"
        },
        "id": "QgxiSRbP7c1I",
        "outputId": "efbc4deb-a674-4755-9b56-5a3cbe1396a7"
      },
      "source": [
        "print(train_ds)"
      ],
      "execution_count": null,
      "outputs": [
        {
          "output_type": "stream",
          "name": "stdout",
          "text": [
            "     types                                              posts\n",
            "0        p  The production is terrific and James is soundi...\n",
            "1        p  Well, I'm a Marine not overseas and I can't wa...\n",
            "2        p  Normally...Tried from different angles but I t...\n",
            "3        j  I don't think we are in much danger of having ...\n",
            "4        j  You're dealing with crab mentality. Aka crabs ...\n",
            "...    ...                                                ...\n",
            "3183     p  Got a degree in philosophy, now I'm a massage ...\n",
            "3184     p  if you shut down f-and-f you will also shut do...\n",
            "3185     p  not a male but i think the length on the sides...\n",
            "3186     p  I still don't get the whole \"oh Coraline is so...\n",
            "3187     j  1. As you said, stick to three meals a day.2. ...\n",
            "\n",
            "[3188 rows x 2 columns]\n"
          ]
        }
      ]
    },
    {
      "cell_type": "code",
      "metadata": {
        "colab": {
          "base_uri": "https://localhost:8080/"
        },
        "id": "87AeQSla7lLR",
        "outputId": "05f86afa-21b2-4765-ef77-2e17dea5d247"
      },
      "source": [
        "train_ds['types'].value_counts()"
      ],
      "execution_count": null,
      "outputs": [
        {
          "output_type": "execute_result",
          "data": {
            "text/plain": [
              "j    1846\n",
              "p    1342\n",
              "Name: types, dtype: int64"
            ]
          },
          "metadata": {},
          "execution_count": 23
        }
      ]
    },
    {
      "cell_type": "code",
      "source": [
        "train_ds.to_csv(\"aug_MBTI_BinaryLabels_J_P.csv\", index= False)\n",
        "\n",
        "files.download(\"aug_MBTI_BinaryLabels_J_P.csv\")"
      ],
      "metadata": {
        "id": "nplRzckMwrNr"
      },
      "execution_count": null,
      "outputs": []
    }
  ]
}