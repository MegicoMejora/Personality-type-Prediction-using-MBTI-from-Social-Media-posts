{
  "nbformat": 4,
  "nbformat_minor": 0,
  "metadata": {
    "colab": {
      "name": "Personality prediction with Data augmentation.ipynb",
      "provenance": []
    },
    "kernelspec": {
      "name": "python3",
      "display_name": "Python 3"
    },
    "language_info": {
      "name": "python"
    }
  },
  "cells": [
    {
      "cell_type": "code",
      "metadata": {
        "colab": {
          "base_uri": "https://localhost:8080/"
        },
        "id": "_IGjTtQ8ZFce",
        "outputId": "08e95250-2d0c-4879-df0d-649f6607e389"
      },
      "source": [
        "!pip install -q -U tensorflow-text\n",
        "!pip install -q tf-models-official==2.4.0\n",
        "!pip install contractions"
      ],
      "execution_count": 3,
      "outputs": [
        {
          "output_type": "stream",
          "name": "stdout",
          "text": [
            "\u001b[K     |████████████████████████████████| 4.9 MB 5.2 MB/s \n",
            "\u001b[K     |████████████████████████████████| 1.1 MB 5.2 MB/s \n",
            "\u001b[K     |████████████████████████████████| 47.6 MB 1.7 MB/s \n",
            "\u001b[K     |████████████████████████████████| 1.1 MB 48.1 MB/s \n",
            "\u001b[K     |████████████████████████████████| 596 kB 41.8 MB/s \n",
            "\u001b[K     |████████████████████████████████| 1.2 MB 46.7 MB/s \n",
            "\u001b[K     |████████████████████████████████| 352 kB 47.9 MB/s \n",
            "\u001b[K     |████████████████████████████████| 99 kB 8.3 MB/s \n",
            "\u001b[K     |████████████████████████████████| 213 kB 47.9 MB/s \n",
            "\u001b[K     |████████████████████████████████| 43 kB 1.8 MB/s \n",
            "\u001b[?25h  Building wheel for py-cpuinfo (setup.py) ... \u001b[?25l\u001b[?25hdone\n",
            "  Building wheel for seqeval (setup.py) ... \u001b[?25l\u001b[?25hdone\n",
            "Collecting contractions\n",
            "  Downloading contractions-0.0.58-py2.py3-none-any.whl (8.0 kB)\n",
            "Collecting textsearch>=0.0.21\n",
            "  Downloading textsearch-0.0.21-py2.py3-none-any.whl (7.5 kB)\n",
            "Collecting pyahocorasick\n",
            "  Downloading pyahocorasick-1.4.2.tar.gz (321 kB)\n",
            "\u001b[K     |████████████████████████████████| 321 kB 5.0 MB/s \n",
            "\u001b[?25hCollecting anyascii\n",
            "  Downloading anyascii-0.3.0-py3-none-any.whl (284 kB)\n",
            "\u001b[K     |████████████████████████████████| 284 kB 41.5 MB/s \n",
            "\u001b[?25hBuilding wheels for collected packages: pyahocorasick\n",
            "  Building wheel for pyahocorasick (setup.py) ... \u001b[?25l\u001b[?25hdone\n",
            "  Created wheel for pyahocorasick: filename=pyahocorasick-1.4.2-cp37-cp37m-linux_x86_64.whl size=85451 sha256=5206f16ea10466c06e025333a93cdef785285a1022e7d47f74dd2b2d19778aac\n",
            "  Stored in directory: /root/.cache/pip/wheels/25/19/a6/8f363d9939162782bb8439d886469756271abc01f76fbd790f\n",
            "Successfully built pyahocorasick\n",
            "Installing collected packages: pyahocorasick, anyascii, textsearch, contractions\n",
            "Successfully installed anyascii-0.3.0 contractions-0.0.58 pyahocorasick-1.4.2 textsearch-0.0.21\n"
          ]
        }
      ]
    },
    {
      "cell_type": "code",
      "metadata": {
        "colab": {
          "base_uri": "https://localhost:8080/"
        },
        "id": "5p_78PrwmcJS",
        "outputId": "266d8d84-c87f-4984-deb6-046a5efcc1c0"
      },
      "source": [
        "%tensorflow_version 2.x\n",
        "device_name = tf.test.gpu_device_name()\n",
        "if device_name != '/device:GPU:0':\n",
        "  raise SystemError('GPU device not found')\n",
        "print('Found GPU at: {}'.format(device_name))"
      ],
      "execution_count": null,
      "outputs": [
        {
          "output_type": "stream",
          "name": "stdout",
          "text": [
            "Found GPU at: /device:GPU:0\n"
          ]
        }
      ]
    },
    {
      "cell_type": "markdown",
      "source": [
        "### **Importing the required libraries**"
      ],
      "metadata": {
        "id": "Wa4QS561muXj"
      }
    },
    {
      "cell_type": "code",
      "metadata": {
        "id": "ArkT8NTZbZ_j"
      },
      "source": [
        "import os\n",
        "\n",
        "import numpy as np\n",
        "import pandas as pd\n",
        "\n",
        "from sklearn.preprocessing import LabelEncoder\n",
        "from sklearn.metrics import roc_curve, roc_auc_score\n",
        "import matplotlib.pyplot as plt\n",
        "import seaborn as sns\n",
        "\n",
        "import official.nlp.bert.bert_models\n",
        "import official.nlp.bert.configs\n",
        "import official.nlp.bert.run_classifier\n",
        "import official.nlp.bert.tokenization as tokenization\n",
        "\n",
        "from official.modeling import tf_utils\n",
        "from official import nlp\n",
        "from official.nlp import bert\n",
        "\n",
        "import shutil\n",
        "\n",
        "import tensorflow as tf\n",
        "import tensorflow_hub as hub\n",
        "import tensorflow_text as text\n",
        "from official.nlp import optimization  # to create AdamW optimizer\n",
        "import tensorflow.keras as keras\n",
        "import tensorflow.keras.layers as layers\n",
        "from keras.utils import np_utils\n",
        "\n",
        "tf.get_logger().setLevel('ERROR')"
      ],
      "execution_count": null,
      "outputs": []
    },
    {
      "cell_type": "markdown",
      "source": [
        "##**Loading the MBTI Redddit dataset after data augmentation**"
      ],
      "metadata": {
        "id": "_gJiblxGm-CL"
      }
    },
    {
      "cell_type": "code",
      "source": [
        "data1 = pd.read_csv(\"MBTI_Reddit_I_E.csv\")\n",
        "print(\"MBTI dataset with the Binary Labels Introvert/Extrovert(I/E): \")\n",
        "print(\"\\n\")\n",
        "data1"
      ],
      "metadata": {
        "colab": {
          "base_uri": "https://localhost:8080/",
          "height": 476
        },
        "id": "PnwID48ryqmS",
        "outputId": "16436b91-ecbc-4a57-b512-f6f3d781775c"
      },
      "execution_count": 2,
      "outputs": [
        {
          "output_type": "stream",
          "name": "stdout",
          "text": [
            "MBTI dataset with the Binary Labels Introvert/Extrovert(I/E): \n",
            "\n",
            "\n"
          ]
        },
        {
          "output_type": "execute_result",
          "data": {
            "text/html": [
              "<div>\n",
              "<style scoped>\n",
              "    .dataframe tbody tr th:only-of-type {\n",
              "        vertical-align: middle;\n",
              "    }\n",
              "\n",
              "    .dataframe tbody tr th {\n",
              "        vertical-align: top;\n",
              "    }\n",
              "\n",
              "    .dataframe thead th {\n",
              "        text-align: right;\n",
              "    }\n",
              "</style>\n",
              "<table border=\"1\" class=\"dataframe\">\n",
              "  <thead>\n",
              "    <tr style=\"text-align: right;\">\n",
              "      <th></th>\n",
              "      <th>types</th>\n",
              "      <th>posts</th>\n",
              "    </tr>\n",
              "  </thead>\n",
              "  <tbody>\n",
              "    <tr>\n",
              "      <th>0</th>\n",
              "      <td>e</td>\n",
              "      <td>Yes! Personally I feel that as helpful as it i...</td>\n",
              "    </tr>\n",
              "    <tr>\n",
              "      <th>1</th>\n",
              "      <td>e</td>\n",
              "      <td>It is just arguing semantics. To many on the c...</td>\n",
              "    </tr>\n",
              "    <tr>\n",
              "      <th>2</th>\n",
              "      <td>e</td>\n",
              "      <td>Ooohhh okay, I thought there was something els...</td>\n",
              "    </tr>\n",
              "    <tr>\n",
              "      <th>3</th>\n",
              "      <td>i</td>\n",
              "      <td>This was Blizzards way to slow down the meta. ...</td>\n",
              "    </tr>\n",
              "    <tr>\n",
              "      <th>4</th>\n",
              "      <td>i</td>\n",
              "      <td>Thank you very much for the support. I am work...</td>\n",
              "    </tr>\n",
              "    <tr>\n",
              "      <th>...</th>\n",
              "      <td>...</td>\n",
              "      <td>...</td>\n",
              "    </tr>\n",
              "    <tr>\n",
              "      <th>3231</th>\n",
              "      <td>i</td>\n",
              "      <td>Hoi!Heb je nog iemand nodig?  Ik kom uit Canad...</td>\n",
              "    </tr>\n",
              "    <tr>\n",
              "      <th>3232</th>\n",
              "      <td>i</td>\n",
              "      <td>\"Take care.\"A weird, shitty ending to the rela...</td>\n",
              "    </tr>\n",
              "    <tr>\n",
              "      <th>3233</th>\n",
              "      <td>e</td>\n",
              "      <td>$49.46 is how much it costs btw. You can pre-o...</td>\n",
              "    </tr>\n",
              "    <tr>\n",
              "      <th>3234</th>\n",
              "      <td>i</td>\n",
              "      <td>You shouldn't use apps to base your assessment...</td>\n",
              "    </tr>\n",
              "    <tr>\n",
              "      <th>3235</th>\n",
              "      <td>i</td>\n",
              "      <td>We've hanged out about 5 times actually. But t...</td>\n",
              "    </tr>\n",
              "  </tbody>\n",
              "</table>\n",
              "<p>3236 rows × 2 columns</p>\n",
              "</div>"
            ],
            "text/plain": [
              "     types                                              posts\n",
              "0        e  Yes! Personally I feel that as helpful as it i...\n",
              "1        e  It is just arguing semantics. To many on the c...\n",
              "2        e  Ooohhh okay, I thought there was something els...\n",
              "3        i  This was Blizzards way to slow down the meta. ...\n",
              "4        i  Thank you very much for the support. I am work...\n",
              "...    ...                                                ...\n",
              "3231     i  Hoi!Heb je nog iemand nodig?  Ik kom uit Canad...\n",
              "3232     i  \"Take care.\"A weird, shitty ending to the rela...\n",
              "3233     e  $49.46 is how much it costs btw. You can pre-o...\n",
              "3234     i  You shouldn't use apps to base your assessment...\n",
              "3235     i  We've hanged out about 5 times actually. But t...\n",
              "\n",
              "[3236 rows x 2 columns]"
            ]
          },
          "metadata": {},
          "execution_count": 2
        }
      ]
    },
    {
      "cell_type": "code",
      "metadata": {
        "colab": {
          "base_uri": "https://localhost:8080/"
        },
        "id": "-gfXcC_6yK0l",
        "outputId": "cf60ba1c-a138-42c5-e90f-56e6d257c0be"
      },
      "source": [
        "import re\n",
        "import nltk \n",
        "from nltk.corpus import stopwords\n",
        "nltk.download('stopwords')\n",
        "nltk.download('words')\n",
        "words = set(nltk.corpus.words.words())\n",
        "from nltk.stem import WordNetLemmatizer\n",
        "nltk.download('wordnet')\n",
        "nltk.download('punkt')\n",
        "import contractions\n",
        "\n",
        "def preprocessing(posts):\n",
        "         \n",
        "        posts = re.sub('\\|\\|\\|', ' ', posts)\n",
        "        posts = re.sub('https?://\\S+|www\\.\\S+', '', posts)\n",
        "        posts = contractions.fix(posts)\n",
        "        posts = posts.lower()\n",
        "        posts = re.sub('[0-9]+', '', posts)\n",
        "        posts = (re.sub(' +', ' ',(posts.replace('\\\\n','')))).strip()\n",
        "        posts = re.sub(r'[\\.+~*]', \".\",posts)\n",
        "        \n",
        "        #Remove multiple fullstops\n",
        "        #posts = re.sub(r'[^\\w\\s]','',posts)\n",
        "\n",
        "        #Remove Non-words\n",
        "        posts = re.sub(r'[^a-zA-Z\\s]','',posts)\n",
        "\n",
        "        #Remove multiple letter repeating words\n",
        "        #posts = re.sub(r'([a-z])\\1{2,}[\\s|\\w]*','',posts)\n",
        "\n",
        "        #filtering non-words\n",
        "        #posts = \" \".join(word for word in nltk.wordpunct_tokenize(posts) if word.lower() in words or not word.isalpha())\n",
        "\n",
        "        stop_words = stopwords.words(\"english\")\n",
        "        personality_words = ['infj', 'entp', 'intp', 'intj', 'entj', 'enfj', 'infp', 'enfp','isfp', 'istp', 'isfj', 'istj', 'estp', 'esfp', 'estj', 'esfj', 'mbti']\n",
        "        stop_words.extend(personality_words)\n",
        "        posts =  ' '.join([w for w in posts.split() if w not in stop_words])\n",
        "\n",
        "        posts = ' '.join(word for word in posts.split() if len(word)>3)\n",
        "        lemmatizer = WordNetLemmatizer()\n",
        "        word_tokens = nltk.word_tokenize(posts)\n",
        "        posts = ' '.join([lemmatizer.lemmatize(word) for word in word_tokens])        \n",
        "                \n",
        "        return posts"
      ],
      "execution_count": null,
      "outputs": [
        {
          "output_type": "stream",
          "name": "stdout",
          "text": [
            "[nltk_data] Downloading package stopwords to /root/nltk_data...\n",
            "[nltk_data]   Unzipping corpora/stopwords.zip.\n",
            "[nltk_data] Downloading package words to /root/nltk_data...\n",
            "[nltk_data]   Unzipping corpora/words.zip.\n",
            "[nltk_data] Downloading package wordnet to /root/nltk_data...\n",
            "[nltk_data]   Unzipping corpora/wordnet.zip.\n",
            "[nltk_data] Downloading package punkt to /root/nltk_data...\n",
            "[nltk_data]   Unzipping tokenizers/punkt.zip.\n"
          ]
        }
      ]
    },
    {
      "cell_type": "code",
      "source": [
        "data1['cleaned_posts'] = data1['posts'].apply(preprocessing)"
      ],
      "metadata": {
        "id": "Z1tTnr0etD4t"
      },
      "execution_count": null,
      "outputs": []
    },
    {
      "cell_type": "code",
      "metadata": {
        "colab": {
          "base_uri": "https://localhost:8080/",
          "height": 423
        },
        "id": "vyNAS83JyKvK",
        "outputId": "c1dd83e1-5bb6-4e53-adf6-e434422b9f50"
      },
      "source": [
        "from sklearn.preprocessing import LabelEncoder\n",
        "#from tensorflow.keras.utils import to_categorical\n",
        "\n",
        "labelencoder_IE = LabelEncoder()\n",
        "\n",
        "data1['Encoded_labels'] = labelencoder_IE.fit_transform(data1['types'])\n",
        "data1"
      ],
      "execution_count": null,
      "outputs": [
        {
          "output_type": "execute_result",
          "data": {
            "text/html": [
              "<div>\n",
              "<style scoped>\n",
              "    .dataframe tbody tr th:only-of-type {\n",
              "        vertical-align: middle;\n",
              "    }\n",
              "\n",
              "    .dataframe tbody tr th {\n",
              "        vertical-align: top;\n",
              "    }\n",
              "\n",
              "    .dataframe thead th {\n",
              "        text-align: right;\n",
              "    }\n",
              "</style>\n",
              "<table border=\"1\" class=\"dataframe\">\n",
              "  <thead>\n",
              "    <tr style=\"text-align: right;\">\n",
              "      <th></th>\n",
              "      <th>types</th>\n",
              "      <th>posts</th>\n",
              "      <th>cleaned_posts</th>\n",
              "      <th>Encoded_labels</th>\n",
              "    </tr>\n",
              "  </thead>\n",
              "  <tbody>\n",
              "    <tr>\n",
              "      <th>0</th>\n",
              "      <td>e</td>\n",
              "      <td>Yes! Personally I feel that as helpful as it i...</td>\n",
              "      <td>personally feel helpful meticulously plan purc...</td>\n",
              "      <td>0</td>\n",
              "    </tr>\n",
              "    <tr>\n",
              "      <th>1</th>\n",
              "      <td>e</td>\n",
              "      <td>It is just arguing semantics. To many on the c...</td>\n",
              "      <td>arguing semantics many consumer beta productio...</td>\n",
              "      <td>0</td>\n",
              "    </tr>\n",
              "    <tr>\n",
              "      <th>2</th>\n",
              "      <td>e</td>\n",
              "      <td>Ooohhh okay, I thought there was something els...</td>\n",
              "      <td>ooohhh okay thought something else thanks vita...</td>\n",
              "      <td>0</td>\n",
              "    </tr>\n",
              "    <tr>\n",
              "      <th>3</th>\n",
              "      <td>i</td>\n",
              "      <td>This was Blizzards way to slow down the meta. ...</td>\n",
              "      <td>blizzard slow meta working intended turn alex ...</td>\n",
              "      <td>1</td>\n",
              "    </tr>\n",
              "    <tr>\n",
              "      <th>4</th>\n",
              "      <td>i</td>\n",
              "      <td>Thank you very much for the support. I am work...</td>\n",
              "      <td>thank much support working action daily basis ...</td>\n",
              "      <td>1</td>\n",
              "    </tr>\n",
              "    <tr>\n",
              "      <th>...</th>\n",
              "      <td>...</td>\n",
              "      <td>...</td>\n",
              "      <td>...</td>\n",
              "      <td>...</td>\n",
              "    </tr>\n",
              "    <tr>\n",
              "      <th>3231</th>\n",
              "      <td>i</td>\n",
              "      <td>Hoi!Heb je nog iemand nodig?  Ik kom uit Canad...</td>\n",
              "      <td>hoiheb iemand nodig canada maar woon studeer d...</td>\n",
              "      <td>1</td>\n",
              "    </tr>\n",
              "    <tr>\n",
              "      <th>3232</th>\n",
              "      <td>i</td>\n",
              "      <td>\"Take care.\"A weird, shitty ending to the rela...</td>\n",
              "      <td>take carea weird shitty ending relationship ov...</td>\n",
              "      <td>1</td>\n",
              "    </tr>\n",
              "    <tr>\n",
              "      <th>3233</th>\n",
              "      <td>e</td>\n",
              "      <td>$49.46 is how much it costs btw. You can pre-o...</td>\n",
              "      <td>much cost preorder true bear lake socalthis tu...</td>\n",
              "      <td>0</td>\n",
              "    </tr>\n",
              "    <tr>\n",
              "      <th>3234</th>\n",
              "      <td>i</td>\n",
              "      <td>You shouldn't use apps to base your assessment...</td>\n",
              "      <td>apps base assessment certain group besides old...</td>\n",
              "      <td>1</td>\n",
              "    </tr>\n",
              "    <tr>\n",
              "      <th>3235</th>\n",
              "      <td>i</td>\n",
              "      <td>We've hanged out about 5 times actually. But t...</td>\n",
              "      <td>hanged time actually thank perhaps right spoke...</td>\n",
              "      <td>1</td>\n",
              "    </tr>\n",
              "  </tbody>\n",
              "</table>\n",
              "<p>3236 rows × 4 columns</p>\n",
              "</div>"
            ],
            "text/plain": [
              "     types  ... Encoded_labels\n",
              "0        e  ...              0\n",
              "1        e  ...              0\n",
              "2        e  ...              0\n",
              "3        i  ...              1\n",
              "4        i  ...              1\n",
              "...    ...  ...            ...\n",
              "3231     i  ...              1\n",
              "3232     i  ...              1\n",
              "3233     e  ...              0\n",
              "3234     i  ...              1\n",
              "3235     i  ...              1\n",
              "\n",
              "[3236 rows x 4 columns]"
            ]
          },
          "metadata": {},
          "execution_count": 6
        }
      ]
    },
    {
      "cell_type": "code",
      "metadata": {
        "colab": {
          "base_uri": "https://localhost:8080/"
        },
        "id": "dikeidsyyKsS",
        "outputId": "9fed95fb-cd6d-4566-e1cf-483dd9fddcd8"
      },
      "source": [
        "split_1 = int(0.7 * len(data1))\n",
        "split_2 = int(0.85 * len(data1))\n",
        "\n",
        "train_ds = data1[:split_1]\n",
        "val_ds = data1[split_1:split_2]\n",
        "test_ds = data1[split_2:]\n",
        "\n",
        "print(\"Shape of training dataset : \",train_ds.shape)\n",
        "print(\"Shape of validation dataset : \",val_ds.shape)\n",
        "print(\"Shape of test dataset : \",test_ds.shape)"
      ],
      "execution_count": null,
      "outputs": [
        {
          "output_type": "stream",
          "name": "stdout",
          "text": [
            "Shape of training dataset :  (2265, 4)\n",
            "Shape of validation dataset :  (485, 4)\n",
            "Shape of test dataset :  (486, 4)\n"
          ]
        }
      ]
    },
    {
      "cell_type": "code",
      "metadata": {
        "colab": {
          "base_uri": "https://localhost:8080/",
          "height": 423
        },
        "id": "_GyhFBHqSCv_",
        "outputId": "64dee923-48b8-4854-c8ee-c471be87284f"
      },
      "source": [
        "val_ds"
      ],
      "execution_count": null,
      "outputs": [
        {
          "output_type": "execute_result",
          "data": {
            "text/html": [
              "<div>\n",
              "<style scoped>\n",
              "    .dataframe tbody tr th:only-of-type {\n",
              "        vertical-align: middle;\n",
              "    }\n",
              "\n",
              "    .dataframe tbody tr th {\n",
              "        vertical-align: top;\n",
              "    }\n",
              "\n",
              "    .dataframe thead th {\n",
              "        text-align: right;\n",
              "    }\n",
              "</style>\n",
              "<table border=\"1\" class=\"dataframe\">\n",
              "  <thead>\n",
              "    <tr style=\"text-align: right;\">\n",
              "      <th></th>\n",
              "      <th>types</th>\n",
              "      <th>posts</th>\n",
              "      <th>cleaned_posts</th>\n",
              "      <th>Encoded_labels</th>\n",
              "    </tr>\n",
              "  </thead>\n",
              "  <tbody>\n",
              "    <tr>\n",
              "      <th>2265</th>\n",
              "      <td>i</td>\n",
              "      <td>The makeover challenge. They didn't think Cour...</td>\n",
              "      <td>makeover challenge think courtney could great ...</td>\n",
              "      <td>1</td>\n",
              "    </tr>\n",
              "    <tr>\n",
              "      <th>2266</th>\n",
              "      <td>i</td>\n",
              "      <td>I'm sorry, but I'm having trouble understandin...</td>\n",
              "      <td>sorry trouble understanding mean ruperttoothbr...</td>\n",
              "      <td>1</td>\n",
              "    </tr>\n",
              "    <tr>\n",
              "      <th>2267</th>\n",
              "      <td>i</td>\n",
              "      <td>I don't see any harm in it. The more you learn...</td>\n",
              "      <td>harm learn better especially come brain operat...</td>\n",
              "      <td>1</td>\n",
              "    </tr>\n",
              "    <tr>\n",
              "      <th>2268</th>\n",
              "      <td>i</td>\n",
              "      <td>How old am I?- Late twenties.What state do I l...</td>\n",
              "      <td>late twentieswhat state live would guess calif...</td>\n",
              "      <td>1</td>\n",
              "    </tr>\n",
              "    <tr>\n",
              "      <th>2269</th>\n",
              "      <td>i</td>\n",
              "      <td>There is a study that shows a difference in th...</td>\n",
              "      <td>study show difference brain structure male str...</td>\n",
              "      <td>1</td>\n",
              "    </tr>\n",
              "    <tr>\n",
              "      <th>...</th>\n",
              "      <td>...</td>\n",
              "      <td>...</td>\n",
              "      <td>...</td>\n",
              "      <td>...</td>\n",
              "    </tr>\n",
              "    <tr>\n",
              "      <th>2745</th>\n",
              "      <td>i</td>\n",
              "      <td>Woah! I agree! Handsome fella! I'll have to tr...</td>\n",
              "      <td>woah agree handsome fella next time thanks sou...</td>\n",
              "      <td>1</td>\n",
              "    </tr>\n",
              "    <tr>\n",
              "      <th>2746</th>\n",
              "      <td>i</td>\n",
              "      <td>I suppose I'll quit bugging you until I read s...</td>\n",
              "      <td>suppose quit bugging read lineage text game en...</td>\n",
              "      <td>1</td>\n",
              "    </tr>\n",
              "    <tr>\n",
              "      <th>2747</th>\n",
              "      <td>i</td>\n",
              "      <td>\"Yeah, I started getting them when I was 2.  I...</td>\n",
              "      <td>yeah started getting pretty skanky toddler goo...</td>\n",
              "      <td>1</td>\n",
              "    </tr>\n",
              "    <tr>\n",
              "      <th>2748</th>\n",
              "      <td>e</td>\n",
              "      <td>Check tumblrs search base. They tend to have s...</td>\n",
              "      <td>check tumblrs search base tend specific stuff ...</td>\n",
              "      <td>0</td>\n",
              "    </tr>\n",
              "    <tr>\n",
              "      <th>2749</th>\n",
              "      <td>i</td>\n",
              "      <td>Im new to Reddit. How the fuck do I use this s...</td>\n",
              "      <td>reddit fuck shit perhaps face would still suck...</td>\n",
              "      <td>1</td>\n",
              "    </tr>\n",
              "  </tbody>\n",
              "</table>\n",
              "<p>485 rows × 4 columns</p>\n",
              "</div>"
            ],
            "text/plain": [
              "     types  ... Encoded_labels\n",
              "2265     i  ...              1\n",
              "2266     i  ...              1\n",
              "2267     i  ...              1\n",
              "2268     i  ...              1\n",
              "2269     i  ...              1\n",
              "...    ...  ...            ...\n",
              "2745     i  ...              1\n",
              "2746     i  ...              1\n",
              "2747     i  ...              1\n",
              "2748     e  ...              0\n",
              "2749     i  ...              1\n",
              "\n",
              "[485 rows x 4 columns]"
            ]
          },
          "metadata": {},
          "execution_count": 8
        }
      ]
    },
    {
      "cell_type": "code",
      "source": [
        "X_val1 = val_ds['cleaned_posts']\n",
        "y_val1 = val_ds['Encoded_labels']\n",
        "X_test1 = test_ds['cleaned_posts']\n",
        "y_test1 = test_ds['Encoded_labels']"
      ],
      "metadata": {
        "id": "XrQTpBseybs8"
      },
      "execution_count": null,
      "outputs": []
    },
    {
      "cell_type": "code",
      "metadata": {
        "colab": {
          "base_uri": "https://localhost:8080/",
          "height": 441
        },
        "id": "ikDytQOOyKg_",
        "outputId": "f197db44-f752-4b0e-83c5-d9f0367dc926"
      },
      "source": [
        "reddit_IE = pd.read_csv(\"aug_MBTI_BinaryLabels_I_E.csv\")\n",
        "print(\"The shape of binary dataset (I/E) : \", reddit_IE.shape)\n",
        "reddit_IE"
      ],
      "execution_count": null,
      "outputs": [
        {
          "output_type": "stream",
          "name": "stdout",
          "text": [
            "The shape of binary dataset (I/E) :  (2762, 2)\n"
          ]
        },
        {
          "output_type": "execute_result",
          "data": {
            "text/html": [
              "<div>\n",
              "<style scoped>\n",
              "    .dataframe tbody tr th:only-of-type {\n",
              "        vertical-align: middle;\n",
              "    }\n",
              "\n",
              "    .dataframe tbody tr th {\n",
              "        vertical-align: top;\n",
              "    }\n",
              "\n",
              "    .dataframe thead th {\n",
              "        text-align: right;\n",
              "    }\n",
              "</style>\n",
              "<table border=\"1\" class=\"dataframe\">\n",
              "  <thead>\n",
              "    <tr style=\"text-align: right;\">\n",
              "      <th></th>\n",
              "      <th>types</th>\n",
              "      <th>posts</th>\n",
              "    </tr>\n",
              "  </thead>\n",
              "  <tbody>\n",
              "    <tr>\n",
              "      <th>0</th>\n",
              "      <td>i</td>\n",
              "      <td>lol medyo nag-worry lang ako haha thanks holla...</td>\n",
              "    </tr>\n",
              "    <tr>\n",
              "      <th>1</th>\n",
              "      <td>i</td>\n",
              "      <td>That's what most people believe in my store to...</td>\n",
              "    </tr>\n",
              "    <tr>\n",
              "      <th>2</th>\n",
              "      <td>i</td>\n",
              "      <td>true that brother What about zombie walk If I ...</td>\n",
              "    </tr>\n",
              "    <tr>\n",
              "      <th>3</th>\n",
              "      <td>i</td>\n",
              "      <td>&lt;U+0414&gt;&lt;U+0435&gt;&lt;U+043F&gt;&lt;U+0430&gt;&lt;U+0440&gt;&lt;U+043...</td>\n",
              "    </tr>\n",
              "    <tr>\n",
              "      <th>4</th>\n",
              "      <td>i</td>\n",
              "      <td>Or basically any place you wouldn't want a str...</td>\n",
              "    </tr>\n",
              "    <tr>\n",
              "      <th>...</th>\n",
              "      <td>...</td>\n",
              "      <td>...</td>\n",
              "    </tr>\n",
              "    <tr>\n",
              "      <th>2757</th>\n",
              "      <td>i</td>\n",
              "      <td>He's too swole to control! Send them my way if...</td>\n",
              "    </tr>\n",
              "    <tr>\n",
              "      <th>2758</th>\n",
              "      <td>i</td>\n",
              "      <td>No offense to Giggs but I think Gary would be ...</td>\n",
              "    </tr>\n",
              "    <tr>\n",
              "      <th>2759</th>\n",
              "      <td>e</td>\n",
              "      <td>Imma just commenting so I can post questions.....</td>\n",
              "    </tr>\n",
              "    <tr>\n",
              "      <th>2760</th>\n",
              "      <td>i</td>\n",
              "      <td>Have you ever watched How to Train Your Dragon...</td>\n",
              "    </tr>\n",
              "    <tr>\n",
              "      <th>2761</th>\n",
              "      <td>i</td>\n",
              "      <td>Let the dogs out, pee, check the wood stove. D...</td>\n",
              "    </tr>\n",
              "  </tbody>\n",
              "</table>\n",
              "<p>2762 rows × 2 columns</p>\n",
              "</div>"
            ],
            "text/plain": [
              "     types                                              posts\n",
              "0        i  lol medyo nag-worry lang ako haha thanks holla...\n",
              "1        i  That's what most people believe in my store to...\n",
              "2        i  true that brother What about zombie walk If I ...\n",
              "3        i  <U+0414><U+0435><U+043F><U+0430><U+0440><U+043...\n",
              "4        i  Or basically any place you wouldn't want a str...\n",
              "...    ...                                                ...\n",
              "2757     i  He's too swole to control! Send them my way if...\n",
              "2758     i  No offense to Giggs but I think Gary would be ...\n",
              "2759     e  Imma just commenting so I can post questions.....\n",
              "2760     i  Have you ever watched How to Train Your Dragon...\n",
              "2761     i  Let the dogs out, pee, check the wood stove. D...\n",
              "\n",
              "[2762 rows x 2 columns]"
            ]
          },
          "metadata": {},
          "execution_count": 10
        }
      ]
    },
    {
      "cell_type": "code",
      "source": [
        "reddit_IE['cleaned_posts'] = reddit_IE['posts'].apply(preprocessing)"
      ],
      "metadata": {
        "id": "KoW05HgVybfg"
      },
      "execution_count": null,
      "outputs": []
    },
    {
      "cell_type": "code",
      "metadata": {
        "colab": {
          "base_uri": "https://localhost:8080/",
          "height": 423
        },
        "id": "HNXt5hz2y64N",
        "outputId": "c9844ae8-3059-4297-d00b-0052e87d3151"
      },
      "source": [
        "labelencoder_IE = LabelEncoder()\n",
        "\n",
        "reddit_IE['Encoded_labels'] = labelencoder_IE.fit_transform(reddit_IE['types'])\n",
        "reddit_IE"
      ],
      "execution_count": null,
      "outputs": [
        {
          "output_type": "execute_result",
          "data": {
            "text/html": [
              "<div>\n",
              "<style scoped>\n",
              "    .dataframe tbody tr th:only-of-type {\n",
              "        vertical-align: middle;\n",
              "    }\n",
              "\n",
              "    .dataframe tbody tr th {\n",
              "        vertical-align: top;\n",
              "    }\n",
              "\n",
              "    .dataframe thead th {\n",
              "        text-align: right;\n",
              "    }\n",
              "</style>\n",
              "<table border=\"1\" class=\"dataframe\">\n",
              "  <thead>\n",
              "    <tr style=\"text-align: right;\">\n",
              "      <th></th>\n",
              "      <th>types</th>\n",
              "      <th>posts</th>\n",
              "      <th>cleaned_posts</th>\n",
              "      <th>Encoded_labels</th>\n",
              "    </tr>\n",
              "  </thead>\n",
              "  <tbody>\n",
              "    <tr>\n",
              "      <th>0</th>\n",
              "      <td>i</td>\n",
              "      <td>lol medyo nag-worry lang ako haha thanks holla...</td>\n",
              "      <td>medyo nagworry lang haha thanks hollaback girl...</td>\n",
              "      <td>1</td>\n",
              "    </tr>\n",
              "    <tr>\n",
              "      <th>1</th>\n",
              "      <td>i</td>\n",
              "      <td>That's what most people believe in my store to...</td>\n",
              "      <td>people believe store work great well another w...</td>\n",
              "      <td>1</td>\n",
              "    </tr>\n",
              "    <tr>\n",
              "      <th>2</th>\n",
              "      <td>i</td>\n",
              "      <td>true that brother What about zombie walk If I ...</td>\n",
              "      <td>true brother zombie walk push someone much big...</td>\n",
              "      <td>1</td>\n",
              "    </tr>\n",
              "    <tr>\n",
              "      <th>3</th>\n",
              "      <td>i</td>\n",
              "      <td>&lt;U+0414&gt;&lt;U+0435&gt;&lt;U+043F&gt;&lt;U+0430&gt;&lt;U+0440&gt;&lt;U+043...</td>\n",
              "      <td>youyouyoufyouyouyouyoucyou youyouyou youyoufyo...</td>\n",
              "      <td>1</td>\n",
              "    </tr>\n",
              "    <tr>\n",
              "      <th>4</th>\n",
              "      <td>i</td>\n",
              "      <td>Or basically any place you wouldn't want a str...</td>\n",
              "      <td>basically place would want stranger hand haha ...</td>\n",
              "      <td>1</td>\n",
              "    </tr>\n",
              "    <tr>\n",
              "      <th>...</th>\n",
              "      <td>...</td>\n",
              "      <td>...</td>\n",
              "      <td>...</td>\n",
              "      <td>...</td>\n",
              "    </tr>\n",
              "    <tr>\n",
              "      <th>2757</th>\n",
              "      <td>i</td>\n",
              "      <td>He's too swole to control! Send them my way if...</td>\n",
              "      <td>swole control send mind suffice ilvl can not q...</td>\n",
              "      <td>1</td>\n",
              "    </tr>\n",
              "    <tr>\n",
              "      <th>2758</th>\n",
              "      <td>i</td>\n",
              "      <td>No offense to Giggs but I think Gary would be ...</td>\n",
              "      <td>offense giggs think gary would better manager ...</td>\n",
              "      <td>1</td>\n",
              "    </tr>\n",
              "    <tr>\n",
              "      <th>2759</th>\n",
              "      <td>e</td>\n",
              "      <td>Imma just commenting so I can post questions.....</td>\n",
              "      <td>imma commenting post question nice dope feel l...</td>\n",
              "      <td>0</td>\n",
              "    </tr>\n",
              "    <tr>\n",
              "      <th>2760</th>\n",
              "      <td>i</td>\n",
              "      <td>Have you ever watched How to Train Your Dragon...</td>\n",
              "      <td>ever watched train dragon green eye always wan...</td>\n",
              "      <td>1</td>\n",
              "    </tr>\n",
              "    <tr>\n",
              "      <th>2761</th>\n",
              "      <td>i</td>\n",
              "      <td>Let the dogs out, pee, check the wood stove. D...</td>\n",
              "      <td>dog check wood stove drug alcohol pretty probl...</td>\n",
              "      <td>1</td>\n",
              "    </tr>\n",
              "  </tbody>\n",
              "</table>\n",
              "<p>2762 rows × 4 columns</p>\n",
              "</div>"
            ],
            "text/plain": [
              "     types  ... Encoded_labels\n",
              "0        i  ...              1\n",
              "1        i  ...              1\n",
              "2        i  ...              1\n",
              "3        i  ...              1\n",
              "4        i  ...              1\n",
              "...    ...  ...            ...\n",
              "2757     i  ...              1\n",
              "2758     i  ...              1\n",
              "2759     e  ...              0\n",
              "2760     i  ...              1\n",
              "2761     i  ...              1\n",
              "\n",
              "[2762 rows x 4 columns]"
            ]
          },
          "metadata": {},
          "execution_count": 12
        }
      ]
    },
    {
      "cell_type": "code",
      "source": [
        "X_train1 = reddit_IE['cleaned_posts']\n",
        "y_train1 = reddit_IE['Encoded_labels']"
      ],
      "metadata": {
        "id": "8zFDxw40tHRW"
      },
      "execution_count": null,
      "outputs": []
    },
    {
      "cell_type": "code",
      "metadata": {
        "id": "sPQMx9mxzdcI"
      },
      "source": [
        "bert_preprocess = 'https://tfhub.dev/tensorflow/bert_en_uncased_preprocess/3'\n",
        "bert_encoder = 'https://tfhub.dev/tensorflow/bert_en_uncased_L-12_H-768_A-12/4'"
      ],
      "execution_count": null,
      "outputs": []
    },
    {
      "cell_type": "code",
      "metadata": {
        "colab": {
          "base_uri": "https://localhost:8080/"
        },
        "id": "vLlgx0aqzdiy",
        "outputId": "5a0c0d6c-fe76-4400-fa42-47695566ae6e"
      },
      "source": [
        "text_input = tf.keras.layers.Input(shape=(), dtype=tf.string, name='inputs')\n",
        "preprocessing_layer = hub.KerasLayer(bert_preprocess, name='preprocessing')\n",
        "encoder_inputs = preprocessing_layer(text_input)\n",
        "encoder = hub.KerasLayer(bert_encoder, trainable=True, name='BERT_encoder')\n",
        "outputs = encoder(encoder_inputs)\n",
        "output = outputs['pooled_output']\n",
        "output = tf.keras.layers.Dropout(0.1)(output)\n",
        "output = tf.keras.layers.Dense(1, activation='sigmoid', name='classifier')(output)\n",
        "model = tf.keras.Model(text_input, output)\n",
        "model.summary()"
      ],
      "execution_count": null,
      "outputs": [
        {
          "output_type": "stream",
          "name": "stdout",
          "text": [
            "Model: \"model\"\n",
            "__________________________________________________________________________________________________\n",
            " Layer (type)                   Output Shape         Param #     Connected to                     \n",
            "==================================================================================================\n",
            " inputs (InputLayer)            [(None,)]            0           []                               \n",
            "                                                                                                  \n",
            " preprocessing (KerasLayer)     {'input_word_ids':   0           ['inputs[0][0]']                 \n",
            "                                (None, 128),                                                      \n",
            "                                 'input_mask': (Non                                               \n",
            "                                e, 128),                                                          \n",
            "                                 'input_type_ids':                                                \n",
            "                                (None, 128)}                                                      \n",
            "                                                                                                  \n",
            " BERT_encoder (KerasLayer)      {'pooled_output': (  109482241   ['preprocessing[0][0]',          \n",
            "                                None, 768),                       'preprocessing[0][1]',          \n",
            "                                 'encoder_outputs':               'preprocessing[0][2]']          \n",
            "                                 [(None, 128, 768),                                               \n",
            "                                 (None, 128, 768),                                                \n",
            "                                 (None, 128, 768),                                                \n",
            "                                 (None, 128, 768),                                                \n",
            "                                 (None, 128, 768),                                                \n",
            "                                 (None, 128, 768),                                                \n",
            "                                 (None, 128, 768),                                                \n",
            "                                 (None, 128, 768),                                                \n",
            "                                 (None, 128, 768),                                                \n",
            "                                 (None, 128, 768),                                                \n",
            "                                 (None, 128, 768),                                                \n",
            "                                 (None, 128, 768)],                                               \n",
            "                                 'sequence_output':                                               \n",
            "                                 (None, 128, 768),                                                \n",
            "                                 'default': (None,                                                \n",
            "                                768)}                                                             \n",
            "                                                                                                  \n",
            " dropout (Dropout)              (None, 768)          0           ['BERT_encoder[0][13]']          \n",
            "                                                                                                  \n",
            " classifier (Dense)             (None, 1)            769         ['dropout[0][0]']                \n",
            "                                                                                                  \n",
            "==================================================================================================\n",
            "Total params: 109,483,010\n",
            "Trainable params: 109,483,009\n",
            "Non-trainable params: 1\n",
            "__________________________________________________________________________________________________\n"
          ]
        }
      ]
    },
    {
      "cell_type": "code",
      "source": [
        "epochs = 50\n",
        "batch_size = 32 \n",
        "\n",
        "train_data_size = len(y_train1)\n",
        "steps_per_epoch = int(train_data_size / batch_size)\n",
        "num_train_steps = steps_per_epoch * epochs\n",
        "warmup_steps = int(epochs * train_data_size * 0.1 / batch_size)\n",
        "\n",
        "optimizer = optimization.create_optimizer(\n",
        "  3e-5, num_train_steps=num_train_steps, num_warmup_steps=warmup_steps, optimizer_type='adamw')"
      ],
      "metadata": {
        "id": "hK9f9TFctHJC"
      },
      "execution_count": null,
      "outputs": []
    },
    {
      "cell_type": "code",
      "source": [
        "loss = keras.losses.BinaryCrossentropy()\n",
        "auc = keras.metrics.AUC(multi_label=True, curve=\"ROC\")\n",
        "metrics=[auc, keras.metrics.BinaryAccuracy(),keras.metrics.Precision(),keras.metrics.Recall()]"
      ],
      "metadata": {
        "id": "XXDb896utHGg"
      },
      "execution_count": null,
      "outputs": []
    },
    {
      "cell_type": "code",
      "source": [
        "from keras import callbacks\n",
        "earlystopping = callbacks.EarlyStopping(monitor =\"val_loss\", \n",
        "                                        mode =\"min\", patience = 5, \n",
        "                                        restore_best_weights = True)"
      ],
      "metadata": {
        "id": "RoQkLhaZtHD4"
      },
      "execution_count": null,
      "outputs": []
    },
    {
      "cell_type": "code",
      "source": [
        "model.compile(optimizer=optimizer,\n",
        "                         loss=loss,\n",
        "                         metrics=metrics)"
      ],
      "metadata": {
        "id": "TZOJVk8btHBc"
      },
      "execution_count": null,
      "outputs": []
    },
    {
      "cell_type": "code",
      "metadata": {
        "colab": {
          "base_uri": "https://localhost:8080/"
        },
        "id": "UkgvkUBEz1l5",
        "outputId": "99536fe4-6e78-4a53-84e1-e7b452559788"
      },
      "source": [
        "history = model.fit(\n",
        "    X_train1, y_train1,\n",
        "    validation_data=(X_val1, y_val1),\n",
        "    epochs=epochs,\n",
        "    batch_size=batch_size, callbacks =[earlystopping], verbose=2)"
      ],
      "execution_count": null,
      "outputs": [
        {
          "output_type": "stream",
          "name": "stdout",
          "text": [
            "Epoch 1/50\n",
            "87/87 - 183s - loss: 0.6697 - auc: 0.4883 - binary_accuracy: 0.6119 - precision: 0.6337 - recall: 0.9327 - val_loss: 0.5528 - val_auc: 0.5276 - val_binary_accuracy: 0.7670 - val_precision: 0.7670 - val_recall: 1.0000 - 183s/epoch - 2s/step\n",
            "Epoch 2/50\n",
            "87/87 - 159s - loss: 0.6520 - auc: 0.5474 - binary_accuracy: 0.6343 - precision: 0.6412 - recall: 0.9734 - val_loss: 0.6101 - val_auc: 0.5645 - val_binary_accuracy: 0.7320 - val_precision: 0.7788 - val_recall: 0.9086 - 159s/epoch - 2s/step\n",
            "Epoch 3/50\n",
            "87/87 - 158s - loss: 0.6143 - auc: 0.6622 - binary_accuracy: 0.6542 - precision: 0.6739 - recall: 0.8908 - val_loss: 0.5989 - val_auc: 0.5662 - val_binary_accuracy: 0.6763 - val_precision: 0.7778 - val_recall: 0.8091 - 158s/epoch - 2s/step\n",
            "Epoch 4/50\n",
            "87/87 - 158s - loss: 0.4754 - auc: 0.8368 - binary_accuracy: 0.7723 - precision: 0.7884 - recall: 0.8807 - val_loss: 0.7220 - val_auc: 0.5750 - val_binary_accuracy: 0.6474 - val_precision: 0.7847 - val_recall: 0.7446 - 158s/epoch - 2s/step\n",
            "Epoch 5/50\n",
            "87/87 - 158s - loss: 0.2735 - auc: 0.9505 - binary_accuracy: 0.8863 - precision: 0.9112 - recall: 0.9112 - val_loss: 0.9867 - val_auc: 0.5719 - val_binary_accuracy: 0.6948 - val_precision: 0.7932 - val_recall: 0.8145 - 158s/epoch - 2s/step\n",
            "Epoch 6/50\n",
            "87/87 - 158s - loss: 0.1922 - auc: 0.9745 - binary_accuracy: 0.9301 - precision: 0.9497 - recall: 0.9406 - val_loss: 1.2986 - val_auc: 0.5714 - val_binary_accuracy: 0.7155 - val_precision: 0.7868 - val_recall: 0.8629 - 158s/epoch - 2s/step\n"
          ]
        }
      ]
    },
    {
      "cell_type": "code",
      "metadata": {
        "colab": {
          "base_uri": "https://localhost:8080/"
        },
        "id": "Q2Fx6Zy2y605",
        "outputId": "fbb51bd0-e72c-446c-e3bb-ed106a918266"
      },
      "source": [
        "loss1, auc1, accuracy1, precision1, recall1 = model.evaluate(X_test1, y_test1, batch_size=32, verbose=False)\n",
        "\n",
        "print(\"Testing Accuracy: \",accuracy1)\n",
        "print(\"Loss : \",loss1)\n",
        "print(\"Precision : \",precision1)\n",
        "print(\"Recall : \",recall1)\n",
        "print(\"AUC : \", auc1)"
      ],
      "execution_count": null,
      "outputs": [
        {
          "output_type": "stream",
          "name": "stdout",
          "text": [
            "Testing Accuracy:  0.7530864477157593\n",
            "Loss :  0.5611630082130432\n",
            "Precision :  0.7530864477157593\n",
            "Recall :  1.0\n",
            "AUC :  0.5725979208946228\n"
          ]
        }
      ]
    },
    {
      "cell_type": "code",
      "metadata": {
        "colab": {
          "base_uri": "https://localhost:8080/"
        },
        "id": "culttR0fz1sS",
        "outputId": "a1d00b01-844c-4e5b-91a1-adc7c57645c2"
      },
      "source": [
        "F1_IE = 2 * (precision1 * recall1) / (precision1 + recall1)\n",
        "print(\"F1 score for Introvert/Extrovert(I/E): {:.4f}\".format(F1_IE))"
      ],
      "execution_count": null,
      "outputs": [
        {
          "output_type": "stream",
          "name": "stdout",
          "text": [
            "F1 score for Introvert/Extrovert(I/E): 0.8592\n"
          ]
        }
      ]
    },
    {
      "cell_type": "code",
      "source": [
        "def plot_history(history):\n",
        "\n",
        "  history_dict = history.history\n",
        "  #print(history_dict.keys())\n",
        "\n",
        "  acc = history_dict['binary_accuracy']\n",
        "  val_acc = history_dict['val_binary_accuracy']\n",
        "  loss = history_dict['loss']\n",
        "  val_loss = history_dict['val_loss']\n",
        "\n",
        "  epochs = range(1, len(acc) + 1)\n",
        "  plt.figure(figsize=(10, 6))\n",
        "\n",
        "\n",
        "  plt.subplot(2, 1, 1)\n",
        "  plt.plot(epochs, loss, 'r', label='Training loss')\n",
        "  plt.plot(epochs, val_loss, 'b', label='Validation loss')\n",
        "  plt.title('Training and validation loss')\n",
        "  plt.xlabel('Epochs')\n",
        "  plt.ylabel('Loss')\n",
        "  plt.legend()\n",
        "\n",
        "  plt.subplot(2, 1, 2)\n",
        "  plt.plot(epochs, acc, 'r', label='Training acc')\n",
        "  plt.plot(epochs, val_acc, 'b', label='Validation acc')\n",
        "  plt.title('Training and validation accuracy')\n",
        "  plt.xlabel('Epochs')\n",
        "  plt.ylabel('Accuracy')\n",
        "  plt.legend(loc='upper left')\n",
        "  plt.tight_layout()"
      ],
      "metadata": {
        "id": "RT8HNecHwhTg"
      },
      "execution_count": null,
      "outputs": []
    },
    {
      "cell_type": "code",
      "metadata": {
        "colab": {
          "base_uri": "https://localhost:8080/",
          "height": 441
        },
        "id": "W7-IoesH0N4V",
        "outputId": "8ee8e01e-7638-4d47-9469-d2bfdd2d5417"
      },
      "source": [
        "plot_history(history)"
      ],
      "execution_count": null,
      "outputs": [
        {
          "output_type": "display_data",
          "data": {
            "image/png": "[encoded data removed]",
            "text/plain": [
              "<Figure size 720x432 with 2 Axes>"
            ]
          },
          "metadata": {
            "needs_background": "light"
          }
        }
      ]
    },
    {
      "cell_type": "code",
      "source": [
        "y_predicted1 = model.predict(X_test1)"
      ],
      "metadata": {
        "id": "615j3GICwhNY"
      },
      "execution_count": null,
      "outputs": []
    },
    {
      "cell_type": "code",
      "metadata": {
        "colab": {
          "base_uri": "https://localhost:8080/"
        },
        "id": "ufLcVwET0OMP",
        "outputId": "6969a33a-055e-4e16-d9f5-2ada97c0f4ae"
      },
      "source": [
        "r_probs = [0 for _ in range(len(y_test1))]\n",
        "\n",
        "r_auc = roc_auc_score(y_test1, r_probs)\n",
        "roc_model1 = roc_auc_score(y_test1, y_predicted1)\n",
        "print(\"Random (chance) prediction : AUROC = %.3f\" % (r_auc))\n",
        "print(\"IE_Model : AUROC = %.3f\" % (roc_model1))"
      ],
      "execution_count": null,
      "outputs": [
        {
          "output_type": "stream",
          "name": "stdout",
          "text": [
            "Random (chance) prediction : AUROC = 0.500\n",
            "IE_Model : AUROC = 0.576\n"
          ]
        }
      ]
    },
    {
      "cell_type": "code",
      "source": [
        "r_fpr, r_tpr, _ =  roc_curve(y_test1, r_probs)\n",
        "m1_fpr, m1_tpr, _ = roc_curve(y_test1, y_predicted1)"
      ],
      "metadata": {
        "id": "Im2MQ0PQwhHo"
      },
      "execution_count": null,
      "outputs": []
    },
    {
      "cell_type": "code",
      "metadata": {
        "colab": {
          "base_uri": "https://localhost:8080/",
          "height": 295
        },
        "id": "hXs_tw_C0PcW",
        "outputId": "f1b88900-8717-42dc-caa4-79d918b6b3dd"
      },
      "source": [
        "plt.plot(r_fpr, r_tpr, linestyle='--', label = 'Random prediction (AUROC = %.3f)'% r_auc)\n",
        "plt.plot(m1_fpr, m1_tpr, marker='.', label = 'I-E model (AUROC = %.3f)'% roc_model1)\n",
        "\n",
        "plt.title('ROC Plot')\n",
        "plt.xlabel('False Positive Rate')\n",
        "plt.ylabel('True Positive rate')\n",
        "plt.legend()\n",
        "plt.show()"
      ],
      "execution_count": null,
      "outputs": [
        {
          "output_type": "display_data",
          "data": {
            "image/png": "[encoded data removed]",
            "text/plain": [
              "<Figure size 432x288 with 1 Axes>"
            ]
          },
          "metadata": {
            "needs_background": "light"
          }
        }
      ]
    },
    {
      "cell_type": "code",
      "metadata": {
        "colab": {
          "base_uri": "https://localhost:8080/"
        },
        "id": "Kum4QJbR0Pjr",
        "outputId": "47e65ae0-77d5-484c-c3a4-4e21636311b3"
      },
      "source": [
        "input =  \"I like to watch movies and like to travel often with my friends. \"\n",
        "sentences = np.asarray([input])\n",
        "\n",
        "predict = model.predict(sentences)\n",
        "\n",
        "print(predict)\n",
        "if np.where(predict > 0.5):\n",
        "\n",
        "  print(\"The Input text is, MBTI type Introvert(I)\")\n",
        "else:\n",
        "  print(\"The Input text is MBTI type Extrovert(E)\")"
      ],
      "execution_count": null,
      "outputs": [
        {
          "output_type": "stream",
          "name": "stdout",
          "text": [
            "[[0.59874874]]\n",
            "The Input text is, MBTI type Introvert(I)\n"
          ]
        }
      ]
    },
    {
      "cell_type": "code",
      "metadata": {
        "colab": {
          "base_uri": "https://localhost:8080/"
        },
        "id": "zOzdMUYh0Ppl",
        "outputId": "6f8311fe-5025-4ae3-960a-d03b6b13bf38"
      },
      "source": [
        "input =  \"I like to spend my leisure time by reading books in a quiet place. \"\n",
        "sentences = np.asarray([input])\n",
        "\n",
        "predict = model.predict(sentences)\n",
        "\n",
        "print(predict)\n",
        "if np.where(predict > 0.5):\n",
        "\n",
        "  print(\"The Input text is, MBTI type Introvert(I)\")\n",
        "else:\n",
        "  print(\"The Input text is MBTI type Extrovert(E)\")"
      ],
      "execution_count": null,
      "outputs": [
        {
          "output_type": "stream",
          "name": "stdout",
          "text": [
            "[[0.5497268]]\n",
            "The Input text is, MBTI type Introvert(I)\n"
          ]
        }
      ]
    },
    {
      "cell_type": "code",
      "source": [
        "model.save(\"I1_model.h5\")"
      ],
      "metadata": {
        "id": "93J8M8laxV4-"
      },
      "execution_count": null,
      "outputs": []
    },
    {
      "cell_type": "code",
      "source": [
        "reloaded_model_IE = tf.keras.models.load_model(\"I1_model.h5\", custom_objects={'KerasLayer':hub.KerasLayer , 'AdamWeightDecay': optimizer})"
      ],
      "metadata": {
        "id": "TjpG4Wo_xVzk"
      },
      "execution_count": null,
      "outputs": []
    },
    {
      "cell_type": "code",
      "metadata": {
        "colab": {
          "base_uri": "https://localhost:8080/",
          "height": 206
        },
        "id": "CWYyRm1D0QAA",
        "outputId": "11f58027-fb65-4d59-a9fa-ba88225ad6b3"
      },
      "source": [
        "data2 = pd.read_csv(\"MBTI_Reddit_S_N.csv\")\n",
        "data2.head()"
      ],
      "execution_count": null,
      "outputs": [
        {
          "output_type": "execute_result",
          "data": {
            "text/html": [
              "<div>\n",
              "<style scoped>\n",
              "    .dataframe tbody tr th:only-of-type {\n",
              "        vertical-align: middle;\n",
              "    }\n",
              "\n",
              "    .dataframe tbody tr th {\n",
              "        vertical-align: top;\n",
              "    }\n",
              "\n",
              "    .dataframe thead th {\n",
              "        text-align: right;\n",
              "    }\n",
              "</style>\n",
              "<table border=\"1\" class=\"dataframe\">\n",
              "  <thead>\n",
              "    <tr style=\"text-align: right;\">\n",
              "      <th></th>\n",
              "      <th>types</th>\n",
              "      <th>posts</th>\n",
              "    </tr>\n",
              "  </thead>\n",
              "  <tbody>\n",
              "    <tr>\n",
              "      <th>0</th>\n",
              "      <td>n</td>\n",
              "      <td>Yes! Personally I feel that as helpful as it i...</td>\n",
              "    </tr>\n",
              "    <tr>\n",
              "      <th>1</th>\n",
              "      <td>n</td>\n",
              "      <td>It is just arguing semantics. To many on the c...</td>\n",
              "    </tr>\n",
              "    <tr>\n",
              "      <th>2</th>\n",
              "      <td>n</td>\n",
              "      <td>Ooohhh okay, I thought there was something els...</td>\n",
              "    </tr>\n",
              "    <tr>\n",
              "      <th>3</th>\n",
              "      <td>n</td>\n",
              "      <td>This was Blizzards way to slow down the meta. ...</td>\n",
              "    </tr>\n",
              "    <tr>\n",
              "      <th>4</th>\n",
              "      <td>n</td>\n",
              "      <td>Thank you very much for the support. I am work...</td>\n",
              "    </tr>\n",
              "  </tbody>\n",
              "</table>\n",
              "</div>"
            ],
            "text/plain": [
              "  types                                              posts\n",
              "0     n  Yes! Personally I feel that as helpful as it i...\n",
              "1     n  It is just arguing semantics. To many on the c...\n",
              "2     n  Ooohhh okay, I thought there was something els...\n",
              "3     n  This was Blizzards way to slow down the meta. ...\n",
              "4     n  Thank you very much for the support. I am work..."
            ]
          },
          "metadata": {},
          "execution_count": 34
        }
      ]
    },
    {
      "cell_type": "code",
      "source": [
        "data2['cleaned_posts'] = data2['posts'].apply(preprocessing)"
      ],
      "metadata": {
        "id": "ogFO2dILxVqO"
      },
      "execution_count": null,
      "outputs": []
    },
    {
      "cell_type": "code",
      "metadata": {
        "colab": {
          "base_uri": "https://localhost:8080/",
          "height": 423
        },
        "id": "0htK8XZiy6vI",
        "outputId": "5a8db651-fe2f-4c02-804b-c951a1d7b8f8"
      },
      "source": [
        "labelencoder_SN = LabelEncoder()\n",
        "\n",
        "data2['Encoded_labels'] = labelencoder_SN.fit_transform(data2['types'])\n",
        "data2"
      ],
      "execution_count": null,
      "outputs": [
        {
          "output_type": "execute_result",
          "data": {
            "text/html": [
              "<div>\n",
              "<style scoped>\n",
              "    .dataframe tbody tr th:only-of-type {\n",
              "        vertical-align: middle;\n",
              "    }\n",
              "\n",
              "    .dataframe tbody tr th {\n",
              "        vertical-align: top;\n",
              "    }\n",
              "\n",
              "    .dataframe thead th {\n",
              "        text-align: right;\n",
              "    }\n",
              "</style>\n",
              "<table border=\"1\" class=\"dataframe\">\n",
              "  <thead>\n",
              "    <tr style=\"text-align: right;\">\n",
              "      <th></th>\n",
              "      <th>types</th>\n",
              "      <th>posts</th>\n",
              "      <th>cleaned_posts</th>\n",
              "      <th>Encoded_labels</th>\n",
              "    </tr>\n",
              "  </thead>\n",
              "  <tbody>\n",
              "    <tr>\n",
              "      <th>0</th>\n",
              "      <td>n</td>\n",
              "      <td>Yes! Personally I feel that as helpful as it i...</td>\n",
              "      <td>personally feel helpful meticulously plan purc...</td>\n",
              "      <td>0</td>\n",
              "    </tr>\n",
              "    <tr>\n",
              "      <th>1</th>\n",
              "      <td>n</td>\n",
              "      <td>It is just arguing semantics. To many on the c...</td>\n",
              "      <td>arguing semantics many consumer beta productio...</td>\n",
              "      <td>0</td>\n",
              "    </tr>\n",
              "    <tr>\n",
              "      <th>2</th>\n",
              "      <td>n</td>\n",
              "      <td>Ooohhh okay, I thought there was something els...</td>\n",
              "      <td>ooohhh okay thought something else thanks vita...</td>\n",
              "      <td>0</td>\n",
              "    </tr>\n",
              "    <tr>\n",
              "      <th>3</th>\n",
              "      <td>n</td>\n",
              "      <td>This was Blizzards way to slow down the meta. ...</td>\n",
              "      <td>blizzard slow meta working intended turn alex ...</td>\n",
              "      <td>0</td>\n",
              "    </tr>\n",
              "    <tr>\n",
              "      <th>4</th>\n",
              "      <td>n</td>\n",
              "      <td>Thank you very much for the support. I am work...</td>\n",
              "      <td>thank much support working action daily basis ...</td>\n",
              "      <td>0</td>\n",
              "    </tr>\n",
              "    <tr>\n",
              "      <th>...</th>\n",
              "      <td>...</td>\n",
              "      <td>...</td>\n",
              "      <td>...</td>\n",
              "      <td>...</td>\n",
              "    </tr>\n",
              "    <tr>\n",
              "      <th>3231</th>\n",
              "      <td>n</td>\n",
              "      <td>Hoi!Heb je nog iemand nodig?  Ik kom uit Canad...</td>\n",
              "      <td>hoiheb iemand nodig canada maar woon studeer d...</td>\n",
              "      <td>0</td>\n",
              "    </tr>\n",
              "    <tr>\n",
              "      <th>3232</th>\n",
              "      <td>n</td>\n",
              "      <td>\"Take care.\"A weird, shitty ending to the rela...</td>\n",
              "      <td>take carea weird shitty ending relationship ov...</td>\n",
              "      <td>0</td>\n",
              "    </tr>\n",
              "    <tr>\n",
              "      <th>3233</th>\n",
              "      <td>s</td>\n",
              "      <td>$49.46 is how much it costs btw. You can pre-o...</td>\n",
              "      <td>much cost preorder true bear lake socalthis tu...</td>\n",
              "      <td>1</td>\n",
              "    </tr>\n",
              "    <tr>\n",
              "      <th>3234</th>\n",
              "      <td>n</td>\n",
              "      <td>You shouldn't use apps to base your assessment...</td>\n",
              "      <td>apps base assessment certain group besides old...</td>\n",
              "      <td>0</td>\n",
              "    </tr>\n",
              "    <tr>\n",
              "      <th>3235</th>\n",
              "      <td>n</td>\n",
              "      <td>We've hanged out about 5 times actually. But t...</td>\n",
              "      <td>hanged time actually thank perhaps right spoke...</td>\n",
              "      <td>0</td>\n",
              "    </tr>\n",
              "  </tbody>\n",
              "</table>\n",
              "<p>3236 rows × 4 columns</p>\n",
              "</div>"
            ],
            "text/plain": [
              "     types  ... Encoded_labels\n",
              "0        n  ...              0\n",
              "1        n  ...              0\n",
              "2        n  ...              0\n",
              "3        n  ...              0\n",
              "4        n  ...              0\n",
              "...    ...  ...            ...\n",
              "3231     n  ...              0\n",
              "3232     n  ...              0\n",
              "3233     s  ...              1\n",
              "3234     n  ...              0\n",
              "3235     n  ...              0\n",
              "\n",
              "[3236 rows x 4 columns]"
            ]
          },
          "metadata": {},
          "execution_count": 36
        }
      ]
    },
    {
      "cell_type": "code",
      "metadata": {
        "colab": {
          "base_uri": "https://localhost:8080/"
        },
        "id": "6lRGJhuKy6sa",
        "outputId": "9779b156-2927-4991-8830-ed6eb36fd7a8"
      },
      "source": [
        "split_1 = int(0.7 * len(data2))\n",
        "split_2 = int(0.85 * len(data2))\n",
        "\n",
        "train_ds = data2[:split_1]\n",
        "val_ds = data2[split_1:split_2]\n",
        "test_ds = data2[split_2:]\n",
        "\n",
        "print(\"Shape of training dataset : \",train_ds.shape)\n",
        "print(\"Shape of validation dataset : \",val_ds.shape)\n",
        "print(\"Shape of test dataset : \",test_ds.shape)"
      ],
      "execution_count": null,
      "outputs": [
        {
          "output_type": "stream",
          "name": "stdout",
          "text": [
            "Shape of training dataset :  (2265, 4)\n",
            "Shape of validation dataset :  (485, 4)\n",
            "Shape of test dataset :  (486, 4)\n"
          ]
        }
      ]
    },
    {
      "cell_type": "code",
      "source": [
        "X_val2 = val_ds['cleaned_posts']\n",
        "y_val2 = val_ds['Encoded_labels']\n",
        "X_test2 = test_ds['cleaned_posts']\n",
        "y_test2 = test_ds['Encoded_labels']"
      ],
      "metadata": {
        "id": "bWhWtJZyxVhH"
      },
      "execution_count": null,
      "outputs": []
    },
    {
      "cell_type": "code",
      "metadata": {
        "colab": {
          "base_uri": "https://localhost:8080/",
          "height": 206
        },
        "id": "Xb-XNVucy6m3",
        "outputId": "e55a1e43-b392-44f5-bc54-a3e900b0845e"
      },
      "source": [
        "reddit_SN = pd.read_csv(\"aug_MBTI_BinaryLabels_S_N.csv\")\n",
        "reddit_SN.head()"
      ],
      "execution_count": null,
      "outputs": [
        {
          "output_type": "execute_result",
          "data": {
            "text/html": [
              "<div>\n",
              "<style scoped>\n",
              "    .dataframe tbody tr th:only-of-type {\n",
              "        vertical-align: middle;\n",
              "    }\n",
              "\n",
              "    .dataframe tbody tr th {\n",
              "        vertical-align: top;\n",
              "    }\n",
              "\n",
              "    .dataframe thead th {\n",
              "        text-align: right;\n",
              "    }\n",
              "</style>\n",
              "<table border=\"1\" class=\"dataframe\">\n",
              "  <thead>\n",
              "    <tr style=\"text-align: right;\">\n",
              "      <th></th>\n",
              "      <th>types</th>\n",
              "      <th>posts</th>\n",
              "    </tr>\n",
              "  </thead>\n",
              "  <tbody>\n",
              "    <tr>\n",
              "      <th>0</th>\n",
              "      <td>n</td>\n",
              "      <td>I thought he pulled out...? Perhaps *The Enorm...</td>\n",
              "    </tr>\n",
              "    <tr>\n",
              "      <th>1</th>\n",
              "      <td>n</td>\n",
              "      <td>Any luck in the Milwaukee, WI area? Count me i...</td>\n",
              "    </tr>\n",
              "    <tr>\n",
              "      <th>2</th>\n",
              "      <td>n</td>\n",
              "      <td>You have a better solution to stopping illegal...</td>\n",
              "    </tr>\n",
              "    <tr>\n",
              "      <th>3</th>\n",
              "      <td>n</td>\n",
              "      <td>sorry but, what is bujabuja set? https://www.p...</td>\n",
              "    </tr>\n",
              "    <tr>\n",
              "      <th>4</th>\n",
              "      <td>n</td>\n",
              "      <td>My bro and I managed to hike the peak of that ...</td>\n",
              "    </tr>\n",
              "  </tbody>\n",
              "</table>\n",
              "</div>"
            ],
            "text/plain": [
              "  types                                              posts\n",
              "0     n  I thought he pulled out...? Perhaps *The Enorm...\n",
              "1     n  Any luck in the Milwaukee, WI area? Count me i...\n",
              "2     n  You have a better solution to stopping illegal...\n",
              "3     n  sorry but, what is bujabuja set? https://www.p...\n",
              "4     n  My bro and I managed to hike the peak of that ..."
            ]
          },
          "metadata": {},
          "execution_count": 39
        }
      ]
    },
    {
      "cell_type": "code",
      "source": [
        "reddit_SN['cleaned_posts'] = reddit_SN['posts'].apply(preprocessing)"
      ],
      "metadata": {
        "id": "rQudW5pHxVbR"
      },
      "execution_count": null,
      "outputs": []
    },
    {
      "cell_type": "code",
      "metadata": {
        "colab": {
          "base_uri": "https://localhost:8080/",
          "height": 423
        },
        "id": "PRLthtQqy6kB",
        "outputId": "1fcd5609-aa5c-4f39-aaa7-3e2bbf668514"
      },
      "source": [
        "labelencoder_SN = LabelEncoder()\n",
        "\n",
        "reddit_SN['Encoded_labels'] = labelencoder_SN.fit_transform(reddit_SN['types'])\n",
        "reddit_SN"
      ],
      "execution_count": null,
      "outputs": [
        {
          "output_type": "execute_result",
          "data": {
            "text/html": [
              "<div>\n",
              "<style scoped>\n",
              "    .dataframe tbody tr th:only-of-type {\n",
              "        vertical-align: middle;\n",
              "    }\n",
              "\n",
              "    .dataframe tbody tr th {\n",
              "        vertical-align: top;\n",
              "    }\n",
              "\n",
              "    .dataframe thead th {\n",
              "        text-align: right;\n",
              "    }\n",
              "</style>\n",
              "<table border=\"1\" class=\"dataframe\">\n",
              "  <thead>\n",
              "    <tr style=\"text-align: right;\">\n",
              "      <th></th>\n",
              "      <th>types</th>\n",
              "      <th>posts</th>\n",
              "      <th>cleaned_posts</th>\n",
              "      <th>Encoded_labels</th>\n",
              "    </tr>\n",
              "  </thead>\n",
              "  <tbody>\n",
              "    <tr>\n",
              "      <th>0</th>\n",
              "      <td>n</td>\n",
              "      <td>I thought he pulled out...? Perhaps *The Enorm...</td>\n",
              "      <td>thought pulled perhaps enormous oliver butterw...</td>\n",
              "      <td>0</td>\n",
              "    </tr>\n",
              "    <tr>\n",
              "      <th>1</th>\n",
              "      <td>n</td>\n",
              "      <td>Any luck in the Milwaukee, WI area? Count me i...</td>\n",
              "      <td>luck milwaukee area count good luck everyone d...</td>\n",
              "      <td>0</td>\n",
              "    </tr>\n",
              "    <tr>\n",
              "      <th>2</th>\n",
              "      <td>n</td>\n",
              "      <td>You have a better solution to stopping illegal...</td>\n",
              "      <td>better solution stopping illegal immigrant dru...</td>\n",
              "      <td>0</td>\n",
              "    </tr>\n",
              "    <tr>\n",
              "      <th>3</th>\n",
              "      <td>n</td>\n",
              "      <td>sorry but, what is bujabuja set? https://www.p...</td>\n",
              "      <td>sorry bujabuja thinking creating small game cu...</td>\n",
              "      <td>0</td>\n",
              "    </tr>\n",
              "    <tr>\n",
              "      <th>4</th>\n",
              "      <td>n</td>\n",
              "      <td>My bro and I managed to hike the peak of that ...</td>\n",
              "      <td>managed hike peak couple year back much nostal...</td>\n",
              "      <td>0</td>\n",
              "    </tr>\n",
              "    <tr>\n",
              "      <th>...</th>\n",
              "      <td>...</td>\n",
              "      <td>...</td>\n",
              "      <td>...</td>\n",
              "      <td>...</td>\n",
              "    </tr>\n",
              "    <tr>\n",
              "      <th>2577</th>\n",
              "      <td>n</td>\n",
              "      <td>I fiercely dislike Memoirs of a Geisha. I thin...</td>\n",
              "      <td>fiercely dislike memoir geisha think fine look...</td>\n",
              "      <td>0</td>\n",
              "    </tr>\n",
              "    <tr>\n",
              "      <th>2578</th>\n",
              "      <td>n</td>\n",
              "      <td>The Internet or Syd herself I have a feeling i...</td>\n",
              "      <td>internet feeling would golden song thanks repl...</td>\n",
              "      <td>0</td>\n",
              "    </tr>\n",
              "    <tr>\n",
              "      <th>2579</th>\n",
              "      <td>n</td>\n",
              "      <td>The seeds are 'spores' that float around in th...</td>\n",
              "      <td>seed spore float around germ willif perfectly ...</td>\n",
              "      <td>0</td>\n",
              "    </tr>\n",
              "    <tr>\n",
              "      <th>2580</th>\n",
              "      <td>s</td>\n",
              "      <td>Stephan Kinsella has an interesting paper on t...</td>\n",
              "      <td>stephan kinsella interesting paper subject lib...</td>\n",
              "      <td>1</td>\n",
              "    </tr>\n",
              "    <tr>\n",
              "      <th>2581</th>\n",
              "      <td>s</td>\n",
              "      <td>Finagle the bagel But its on every gun, theref...</td>\n",
              "      <td>finagle bagel every therefore nothing actually...</td>\n",
              "      <td>1</td>\n",
              "    </tr>\n",
              "  </tbody>\n",
              "</table>\n",
              "<p>2582 rows × 4 columns</p>\n",
              "</div>"
            ],
            "text/plain": [
              "     types  ... Encoded_labels\n",
              "0        n  ...              0\n",
              "1        n  ...              0\n",
              "2        n  ...              0\n",
              "3        n  ...              0\n",
              "4        n  ...              0\n",
              "...    ...  ...            ...\n",
              "2577     n  ...              0\n",
              "2578     n  ...              0\n",
              "2579     n  ...              0\n",
              "2580     s  ...              1\n",
              "2581     s  ...              1\n",
              "\n",
              "[2582 rows x 4 columns]"
            ]
          },
          "metadata": {},
          "execution_count": 41
        }
      ]
    },
    {
      "cell_type": "code",
      "source": [
        "X_train2 = reddit_SN['cleaned_posts']\n",
        "y_train2 = reddit_SN['Encoded_labels']"
      ],
      "metadata": {
        "id": "4RKiM178zapo"
      },
      "execution_count": null,
      "outputs": []
    },
    {
      "cell_type": "code",
      "source": [
        "epochs = 50\n",
        "batch_size = 16  \n",
        "\n",
        "train_data_size = len(y_train2)\n",
        "steps_per_epoch = int(train_data_size / batch_size)\n",
        "num_train_steps = steps_per_epoch * epochs\n",
        "warmup_steps = int(epochs * train_data_size * 0.1 / batch_size)\n",
        "\n",
        "optimizer = optimization.create_optimizer(\n",
        "    3e-5, num_train_steps=num_train_steps, num_warmup_steps=warmup_steps, optimizer_type='adamw')"
      ],
      "metadata": {
        "id": "nbleGwWAzamv"
      },
      "execution_count": null,
      "outputs": []
    },
    {
      "cell_type": "code",
      "source": [
        "loss = keras.losses.BinaryCrossentropy()\n",
        "auc = keras.metrics.AUC(multi_label=True, curve=\"ROC\")\n",
        "metrics=[auc, keras.metrics.BinaryAccuracy(),keras.metrics.Precision(),keras.metrics.Recall()]"
      ],
      "metadata": {
        "id": "uWsxwtTXzaj9"
      },
      "execution_count": null,
      "outputs": []
    },
    {
      "cell_type": "code",
      "source": [
        "model.compile(optimizer=optimizer,\n",
        "                         loss=loss,\n",
        "                         metrics=metrics)"
      ],
      "metadata": {
        "id": "utFqJoQUzahE"
      },
      "execution_count": null,
      "outputs": []
    },
    {
      "cell_type": "code",
      "metadata": {
        "colab": {
          "base_uri": "https://localhost:8080/"
        },
        "id": "1tPzPA5_y6hd",
        "outputId": "0eb943d4-ca0c-4819-cbdb-08a4643977bc"
      },
      "source": [
        "history = model.fit(\n",
        "    X_train2, y_train2,\n",
        "    validation_data=(X_val2, y_val2),\n",
        "    epochs=epochs,\n",
        "    batch_size=batch_size, callbacks =[earlystopping], verbose=2)"
      ],
      "execution_count": null,
      "outputs": [
        {
          "output_type": "stream",
          "name": "stdout",
          "text": [
            "Epoch 1/50\n",
            "162/162 - 171s - loss: 0.5519 - auc_2: 0.5706 - binary_accuracy: 0.7545 - precision_2: 0.5000 - recall_2: 0.0016 - val_loss: 0.4555 - val_auc_2: 0.5132 - val_binary_accuracy: 0.8557 - val_precision_2: 0.0000e+00 - val_recall_2: 0.0000e+00 - 171s/epoch - 1s/step\n",
            "Epoch 2/50\n",
            "162/162 - 159s - loss: 0.5485 - auc_2: 0.5976 - binary_accuracy: 0.7556 - precision_2: 0.5405 - recall_2: 0.0315 - val_loss: 0.4142 - val_auc_2: 0.5536 - val_binary_accuracy: 0.8557 - val_precision_2: 0.0000e+00 - val_recall_2: 0.0000e+00 - 159s/epoch - 980ms/step\n",
            "Epoch 3/50\n",
            "162/162 - 158s - loss: 0.4820 - auc_2: 0.7402 - binary_accuracy: 0.7820 - precision_2: 0.6592 - recall_2: 0.2319 - val_loss: 0.4445 - val_auc_2: 0.5214 - val_binary_accuracy: 0.8495 - val_precision_2: 0.2000 - val_recall_2: 0.0143 - 158s/epoch - 977ms/step\n",
            "Epoch 4/50\n",
            "162/162 - 159s - loss: 0.3140 - auc_2: 0.9104 - binary_accuracy: 0.8679 - precision_2: 0.7659 - recall_2: 0.6656 - val_loss: 0.6798 - val_auc_2: 0.5192 - val_binary_accuracy: 0.7670 - val_precision_2: 0.1587 - val_recall_2: 0.1429 - 159s/epoch - 981ms/step\n",
            "Epoch 5/50\n",
            "162/162 - 159s - loss: 0.1890 - auc_2: 0.9664 - binary_accuracy: 0.9373 - precision_2: 0.8894 - recall_2: 0.8502 - val_loss: 0.8740 - val_auc_2: 0.4846 - val_binary_accuracy: 0.8412 - val_precision_2: 0.0000e+00 - val_recall_2: 0.0000e+00 - 159s/epoch - 981ms/step\n",
            "Epoch 6/50\n",
            "162/162 - 159s - loss: 0.0929 - auc_2: 0.9908 - binary_accuracy: 0.9741 - precision_2: 0.9409 - recall_2: 0.9543 - val_loss: 1.2141 - val_auc_2: 0.5026 - val_binary_accuracy: 0.8330 - val_precision_2: 0.1333 - val_recall_2: 0.0286 - 159s/epoch - 979ms/step\n",
            "Epoch 7/50\n",
            "162/162 - 160s - loss: 0.0671 - auc_2: 0.9944 - binary_accuracy: 0.9810 - precision_2: 0.9563 - recall_2: 0.9669 - val_loss: 1.4420 - val_auc_2: 0.4899 - val_binary_accuracy: 0.8330 - val_precision_2: 0.0000e+00 - val_recall_2: 0.0000e+00 - 160s/epoch - 988ms/step\n"
          ]
        }
      ]
    },
    {
      "cell_type": "code",
      "metadata": {
        "colab": {
          "base_uri": "https://localhost:8080/"
        },
        "id": "05yUh5vr2w_s",
        "outputId": "15bf5a27-526a-4e7e-82cd-657851a46801"
      },
      "source": [
        "loss2, auc2, accuracy2, precision2, recall2 = model.evaluate(X_test2, y_test2, batch_size=32, verbose=False)\n",
        "\n",
        "print(\"Testing Accuracy: \",accuracy2)\n",
        "print(\"Loss : \",loss2)\n",
        "print(\"Precision : \",precision2)\n",
        "print(\"Recall : \",recall2)\n",
        "print(\"AUC : \",auc2)"
      ],
      "execution_count": null,
      "outputs": [
        {
          "output_type": "stream",
          "name": "stdout",
          "text": [
            "Testing Accuracy:  0.8662551641464233\n",
            "Loss :  0.3896915316581726\n",
            "Precision :  0.0\n",
            "Recall :  0.0\n",
            "AUC :  0.5786040425300598\n"
          ]
        }
      ]
    },
    {
      "cell_type": "code",
      "metadata": {
        "id": "KUmIimzl2xnF",
        "colab": {
          "base_uri": "https://localhost:8080/",
          "height": 441
        },
        "outputId": "52fbbdac-a499-4a89-afa8-653226ed1aa0"
      },
      "source": [
        "plot_history(history)"
      ],
      "execution_count": null,
      "outputs": [
        {
          "output_type": "display_data",
          "data": {
            "image/png": "[encoded data removed]",
            "text/plain": [
              "<Figure size 720x432 with 2 Axes>"
            ]
          },
          "metadata": {
            "needs_background": "light"
          }
        }
      ]
    },
    {
      "cell_type": "code",
      "source": [
        "y_predicted2 = model.predict(X_test2)"
      ],
      "metadata": {
        "id": "sVI9zWaVzaVj"
      },
      "execution_count": null,
      "outputs": []
    },
    {
      "cell_type": "code",
      "metadata": {
        "colab": {
          "base_uri": "https://localhost:8080/"
        },
        "id": "lu1kxOfi1c7E",
        "outputId": "ad464899-b631-41a3-debc-8ba37552aba5"
      },
      "source": [
        "r_probs = [0 for _ in range(len(y_test2))]\n",
        "\n",
        "r_auc = roc_auc_score(y_test2, r_probs)\n",
        "roc_model2 = roc_auc_score(y_test2, y_predicted2)\n",
        "print(\"Random (chance) prediction : AUROC = %.3f\" % (r_auc))\n",
        "print(\"SN_Model : AUROC = %.3f\" % (roc_model2))"
      ],
      "execution_count": null,
      "outputs": [
        {
          "output_type": "stream",
          "name": "stdout",
          "text": [
            "Random (chance) prediction : AUROC = 0.500\n",
            "SN_Model : AUROC = 0.578\n"
          ]
        }
      ]
    },
    {
      "cell_type": "code",
      "source": [
        "r_fpr, r_tpr, _ =  roc_curve(y_test2, r_probs)\n",
        "m2_fpr, m2_tpr, _ = roc_curve(y_test2, y_predicted2)"
      ],
      "metadata": {
        "id": "PTU_ryke0Cra"
      },
      "execution_count": null,
      "outputs": []
    },
    {
      "cell_type": "code",
      "metadata": {
        "colab": {
          "base_uri": "https://localhost:8080/",
          "height": 295
        },
        "id": "xKBegkO43VmS",
        "outputId": "8e52feac-7609-41f9-e55d-559fa46f0e36"
      },
      "source": [
        "plt.plot(r_fpr, r_tpr, linestyle='--', label = 'Random prediction (AUROC = %.3f)'% r_auc)\n",
        "plt.plot(m2_fpr, m2_tpr, marker='.', label = 'S-N model (AUROC = %.3f)'% roc_model2)\n",
        "\n",
        "plt.title('ROC Plot')\n",
        "plt.xlabel('False Positive Rate')\n",
        "plt.ylabel('True Positive rate')\n",
        "plt.legend()\n",
        "plt.show()"
      ],
      "execution_count": null,
      "outputs": [
        {
          "output_type": "display_data",
          "data": {
            "image/png": "[encoded data removed]",
            "text/plain": [
              "<Figure size 432x288 with 1 Axes>"
            ]
          },
          "metadata": {
            "needs_background": "light"
          }
        }
      ]
    },
    {
      "cell_type": "code",
      "metadata": {
        "colab": {
          "base_uri": "https://localhost:8080/"
        },
        "id": "-8h6-3rD3VjR",
        "outputId": "f9775b93-d862-4769-c824-a72cf037c098"
      },
      "source": [
        "input =  \"I like to watch movies and like to travel often with my friends. \"\n",
        "sentences = np.asarray([input])\n",
        "\n",
        "predict = model.predict(sentences)\n",
        "\n",
        "print(predict)\n",
        "if np.where(predict > 0.5):\n",
        "\n",
        "  print(\"The Input text is, MBTI type Sensing(S)\")\n",
        "else:\n",
        "  print(\"The Input text is MBTI type INtuition(N)\")"
      ],
      "execution_count": null,
      "outputs": [
        {
          "output_type": "stream",
          "name": "stdout",
          "text": [
            "[[0.51050705]]\n",
            "The Input text is, MBTI type Sensing(S)\n"
          ]
        }
      ]
    },
    {
      "cell_type": "code",
      "metadata": {
        "colab": {
          "base_uri": "https://localhost:8080/"
        },
        "id": "JHJ7eExT3VeT",
        "outputId": "1103e298-e71b-41d2-af60-96ecbed2aad9"
      },
      "source": [
        "input =  \"I like to spend my leisure time by reading books in a quiet place. \"\n",
        "sentences = np.asarray([input])\n",
        "\n",
        "predict = model.predict(sentences)\n",
        "\n",
        "print(predict)\n",
        "if np.where(predict > 0.5):\n",
        "\n",
        "  print(\"The Input text is, MBTI type Sensing(S)\")\n",
        "else:\n",
        "  print(\"The Input text is MBTI type INtuition(N)\")"
      ],
      "execution_count": null,
      "outputs": [
        {
          "output_type": "stream",
          "name": "stdout",
          "text": [
            "[[0.44660288]]\n",
            "The Input text is, MBTI type Sensing(S)\n"
          ]
        }
      ]
    },
    {
      "cell_type": "code",
      "source": [
        "model.save(\"S1_model.h5\")"
      ],
      "metadata": {
        "id": "4xXCa_zc0Cf_"
      },
      "execution_count": null,
      "outputs": []
    },
    {
      "cell_type": "code",
      "source": [
        "reloaded_model_SN = tf.keras.models.load_model(\"S1_model.h5\", custom_objects={'KerasLayer':hub.KerasLayer , 'AdamWeightDecay': optimizer})"
      ],
      "metadata": {
        "id": "BYz666s00Cc7"
      },
      "execution_count": null,
      "outputs": []
    },
    {
      "cell_type": "code",
      "metadata": {
        "colab": {
          "base_uri": "https://localhost:8080/",
          "height": 206
        },
        "id": "6c3D8Ueh3dw_",
        "outputId": "eb0e25f1-9f2d-4c44-8f51-8f367d78f56a"
      },
      "source": [
        "data3 = pd.read_csv(\"MBTI_Reddit_F_T.csv\")\n",
        "data3.head()"
      ],
      "execution_count": null,
      "outputs": [
        {
          "output_type": "execute_result",
          "data": {
            "text/html": [
              "<div>\n",
              "<style scoped>\n",
              "    .dataframe tbody tr th:only-of-type {\n",
              "        vertical-align: middle;\n",
              "    }\n",
              "\n",
              "    .dataframe tbody tr th {\n",
              "        vertical-align: top;\n",
              "    }\n",
              "\n",
              "    .dataframe thead th {\n",
              "        text-align: right;\n",
              "    }\n",
              "</style>\n",
              "<table border=\"1\" class=\"dataframe\">\n",
              "  <thead>\n",
              "    <tr style=\"text-align: right;\">\n",
              "      <th></th>\n",
              "      <th>types</th>\n",
              "      <th>posts</th>\n",
              "    </tr>\n",
              "  </thead>\n",
              "  <tbody>\n",
              "    <tr>\n",
              "      <th>0</th>\n",
              "      <td>t</td>\n",
              "      <td>Yes! Personally I feel that as helpful as it i...</td>\n",
              "    </tr>\n",
              "    <tr>\n",
              "      <th>1</th>\n",
              "      <td>t</td>\n",
              "      <td>It is just arguing semantics. To many on the c...</td>\n",
              "    </tr>\n",
              "    <tr>\n",
              "      <th>2</th>\n",
              "      <td>t</td>\n",
              "      <td>Ooohhh okay, I thought there was something els...</td>\n",
              "    </tr>\n",
              "    <tr>\n",
              "      <th>3</th>\n",
              "      <td>t</td>\n",
              "      <td>This was Blizzards way to slow down the meta. ...</td>\n",
              "    </tr>\n",
              "    <tr>\n",
              "      <th>4</th>\n",
              "      <td>t</td>\n",
              "      <td>Thank you very much for the support. I am work...</td>\n",
              "    </tr>\n",
              "  </tbody>\n",
              "</table>\n",
              "</div>"
            ],
            "text/plain": [
              "  types                                              posts\n",
              "0     t  Yes! Personally I feel that as helpful as it i...\n",
              "1     t  It is just arguing semantics. To many on the c...\n",
              "2     t  Ooohhh okay, I thought there was something els...\n",
              "3     t  This was Blizzards way to slow down the meta. ...\n",
              "4     t  Thank you very much for the support. I am work..."
            ]
          },
          "metadata": {},
          "execution_count": 62
        }
      ]
    },
    {
      "cell_type": "code",
      "source": [
        "data3['cleaned_posts'] = data3['posts'].apply(preprocessing)"
      ],
      "metadata": {
        "id": "GT1wpXhM0CW9"
      },
      "execution_count": null,
      "outputs": []
    },
    {
      "cell_type": "code",
      "metadata": {
        "colab": {
          "base_uri": "https://localhost:8080/",
          "height": 423
        },
        "id": "5HvixGov3dp3",
        "outputId": "e6f5af80-35f6-48e3-e50b-28b292e03a6b"
      },
      "source": [
        "labelencoder_FT = LabelEncoder()\n",
        "\n",
        "data3['Encoded_labels'] = labelencoder_FT.fit_transform(data3['types'])\n",
        "data3"
      ],
      "execution_count": null,
      "outputs": [
        {
          "output_type": "execute_result",
          "data": {
            "text/html": [
              "<div>\n",
              "<style scoped>\n",
              "    .dataframe tbody tr th:only-of-type {\n",
              "        vertical-align: middle;\n",
              "    }\n",
              "\n",
              "    .dataframe tbody tr th {\n",
              "        vertical-align: top;\n",
              "    }\n",
              "\n",
              "    .dataframe thead th {\n",
              "        text-align: right;\n",
              "    }\n",
              "</style>\n",
              "<table border=\"1\" class=\"dataframe\">\n",
              "  <thead>\n",
              "    <tr style=\"text-align: right;\">\n",
              "      <th></th>\n",
              "      <th>types</th>\n",
              "      <th>posts</th>\n",
              "      <th>cleaned_posts</th>\n",
              "      <th>Encoded_labels</th>\n",
              "    </tr>\n",
              "  </thead>\n",
              "  <tbody>\n",
              "    <tr>\n",
              "      <th>0</th>\n",
              "      <td>t</td>\n",
              "      <td>Yes! Personally I feel that as helpful as it i...</td>\n",
              "      <td>personally feel helpful meticulously plan purc...</td>\n",
              "      <td>1</td>\n",
              "    </tr>\n",
              "    <tr>\n",
              "      <th>1</th>\n",
              "      <td>t</td>\n",
              "      <td>It is just arguing semantics. To many on the c...</td>\n",
              "      <td>arguing semantics many consumer beta productio...</td>\n",
              "      <td>1</td>\n",
              "    </tr>\n",
              "    <tr>\n",
              "      <th>2</th>\n",
              "      <td>t</td>\n",
              "      <td>Ooohhh okay, I thought there was something els...</td>\n",
              "      <td>ooohhh okay thought something else thanks vita...</td>\n",
              "      <td>1</td>\n",
              "    </tr>\n",
              "    <tr>\n",
              "      <th>3</th>\n",
              "      <td>t</td>\n",
              "      <td>This was Blizzards way to slow down the meta. ...</td>\n",
              "      <td>blizzard slow meta working intended turn alex ...</td>\n",
              "      <td>1</td>\n",
              "    </tr>\n",
              "    <tr>\n",
              "      <th>4</th>\n",
              "      <td>t</td>\n",
              "      <td>Thank you very much for the support. I am work...</td>\n",
              "      <td>thank much support working action daily basis ...</td>\n",
              "      <td>1</td>\n",
              "    </tr>\n",
              "    <tr>\n",
              "      <th>...</th>\n",
              "      <td>...</td>\n",
              "      <td>...</td>\n",
              "      <td>...</td>\n",
              "      <td>...</td>\n",
              "    </tr>\n",
              "    <tr>\n",
              "      <th>3231</th>\n",
              "      <td>t</td>\n",
              "      <td>Hoi!Heb je nog iemand nodig?  Ik kom uit Canad...</td>\n",
              "      <td>hoiheb iemand nodig canada maar woon studeer d...</td>\n",
              "      <td>1</td>\n",
              "    </tr>\n",
              "    <tr>\n",
              "      <th>3232</th>\n",
              "      <td>t</td>\n",
              "      <td>\"Take care.\"A weird, shitty ending to the rela...</td>\n",
              "      <td>take carea weird shitty ending relationship ov...</td>\n",
              "      <td>1</td>\n",
              "    </tr>\n",
              "    <tr>\n",
              "      <th>3233</th>\n",
              "      <td>f</td>\n",
              "      <td>$49.46 is how much it costs btw. You can pre-o...</td>\n",
              "      <td>much cost preorder true bear lake socalthis tu...</td>\n",
              "      <td>0</td>\n",
              "    </tr>\n",
              "    <tr>\n",
              "      <th>3234</th>\n",
              "      <td>f</td>\n",
              "      <td>You shouldn't use apps to base your assessment...</td>\n",
              "      <td>apps base assessment certain group besides old...</td>\n",
              "      <td>0</td>\n",
              "    </tr>\n",
              "    <tr>\n",
              "      <th>3235</th>\n",
              "      <td>f</td>\n",
              "      <td>We've hanged out about 5 times actually. But t...</td>\n",
              "      <td>hanged time actually thank perhaps right spoke...</td>\n",
              "      <td>0</td>\n",
              "    </tr>\n",
              "  </tbody>\n",
              "</table>\n",
              "<p>3236 rows × 4 columns</p>\n",
              "</div>"
            ],
            "text/plain": [
              "     types  ... Encoded_labels\n",
              "0        t  ...              1\n",
              "1        t  ...              1\n",
              "2        t  ...              1\n",
              "3        t  ...              1\n",
              "4        t  ...              1\n",
              "...    ...  ...            ...\n",
              "3231     t  ...              1\n",
              "3232     t  ...              1\n",
              "3233     f  ...              0\n",
              "3234     f  ...              0\n",
              "3235     f  ...              0\n",
              "\n",
              "[3236 rows x 4 columns]"
            ]
          },
          "metadata": {},
          "execution_count": 64
        }
      ]
    },
    {
      "cell_type": "code",
      "metadata": {
        "colab": {
          "base_uri": "https://localhost:8080/"
        },
        "id": "lOLVvtq63wsp",
        "outputId": "3a0e6d65-ff81-41ba-e773-17f47a382631"
      },
      "source": [
        "split_1 = int(0.7 * len(data3))\n",
        "split_2 = int(0.85 * len(data3))\n",
        "\n",
        "train_ds = data3[:split_1]\n",
        "val_ds = data3[split_1:split_2]\n",
        "test_ds = data3[split_2:]\n",
        "\n",
        "print(\"Shape of training dataset : \",train_ds.shape)\n",
        "print(\"Shape of validation dataset : \",val_ds.shape)\n",
        "print(\"Shape of test dataset : \",test_ds.shape)"
      ],
      "execution_count": null,
      "outputs": [
        {
          "output_type": "stream",
          "name": "stdout",
          "text": [
            "Shape of training dataset :  (2265, 4)\n",
            "Shape of validation dataset :  (485, 4)\n",
            "Shape of test dataset :  (486, 4)\n"
          ]
        }
      ]
    },
    {
      "cell_type": "code",
      "source": [
        "X_val3 = val_ds['cleaned_posts']\n",
        "y_val3 = val_ds['Encoded_labels']\n",
        "X_test3 =test_ds['cleaned_posts']\n",
        "y_test3 = test_ds['Encoded_labels']"
      ],
      "metadata": {
        "id": "51cwfL0p0dHO"
      },
      "execution_count": null,
      "outputs": []
    },
    {
      "cell_type": "code",
      "metadata": {
        "colab": {
          "base_uri": "https://localhost:8080/",
          "height": 206
        },
        "id": "r8SRrWRR3xDk",
        "outputId": "5e38f5c7-6cef-40e0-aa93-0eb260190e35"
      },
      "source": [
        "reddit_FT = pd.read_csv(\"aug_MBTI_BinaryLabels_F_T.csv\")\n",
        "reddit_FT.head()"
      ],
      "execution_count": null,
      "outputs": [
        {
          "output_type": "execute_result",
          "data": {
            "text/html": [
              "<div>\n",
              "<style scoped>\n",
              "    .dataframe tbody tr th:only-of-type {\n",
              "        vertical-align: middle;\n",
              "    }\n",
              "\n",
              "    .dataframe tbody tr th {\n",
              "        vertical-align: top;\n",
              "    }\n",
              "\n",
              "    .dataframe thead th {\n",
              "        text-align: right;\n",
              "    }\n",
              "</style>\n",
              "<table border=\"1\" class=\"dataframe\">\n",
              "  <thead>\n",
              "    <tr style=\"text-align: right;\">\n",
              "      <th></th>\n",
              "      <th>types</th>\n",
              "      <th>posts</th>\n",
              "    </tr>\n",
              "  </thead>\n",
              "  <tbody>\n",
              "    <tr>\n",
              "      <th>0</th>\n",
              "      <td>t</td>\n",
              "      <td>Culture Shock, easily for me. No Chance at Dee...</td>\n",
              "    </tr>\n",
              "    <tr>\n",
              "      <th>1</th>\n",
              "      <td>t</td>\n",
              "      <td>Why do you have one? This is so fucking sad. I...</td>\n",
              "    </tr>\n",
              "    <tr>\n",
              "      <th>2</th>\n",
              "      <td>f</td>\n",
              "      <td>crystal blue persuasion Why did that even come...</td>\n",
              "    </tr>\n",
              "    <tr>\n",
              "      <th>3</th>\n",
              "      <td>f</td>\n",
              "      <td>awesome! Love that! thanks for sharing! :)! Su...</td>\n",
              "    </tr>\n",
              "    <tr>\n",
              "      <th>4</th>\n",
              "      <td>t</td>\n",
              "      <td>i see more of a laborador but they're just wha...</td>\n",
              "    </tr>\n",
              "  </tbody>\n",
              "</table>\n",
              "</div>"
            ],
            "text/plain": [
              "  types                                              posts\n",
              "0     t  Culture Shock, easily for me. No Chance at Dee...\n",
              "1     t  Why do you have one? This is so fucking sad. I...\n",
              "2     f  crystal blue persuasion Why did that even come...\n",
              "3     f  awesome! Love that! thanks for sharing! :)! Su...\n",
              "4     t  i see more of a laborador but they're just wha..."
            ]
          },
          "metadata": {},
          "execution_count": 71
        }
      ]
    },
    {
      "cell_type": "code",
      "source": [
        "reddit_FT['cleaned_posts'] = reddit_FT['posts'].apply(preprocessing)"
      ],
      "metadata": {
        "id": "_swJTh7g0dBE"
      },
      "execution_count": null,
      "outputs": []
    },
    {
      "cell_type": "code",
      "metadata": {
        "colab": {
          "base_uri": "https://localhost:8080/",
          "height": 423
        },
        "id": "nq21CrqH3xKa",
        "outputId": "e855cc37-d8d7-4876-b675-1c720dd3a988"
      },
      "source": [
        "labelencoder_FT = LabelEncoder()\n",
        "\n",
        "reddit_FT['Encoded_labels'] = labelencoder_FT.fit_transform(reddit_FT['types'])\n",
        "reddit_FT"
      ],
      "execution_count": null,
      "outputs": [
        {
          "output_type": "execute_result",
          "data": {
            "text/html": [
              "<div>\n",
              "<style scoped>\n",
              "    .dataframe tbody tr th:only-of-type {\n",
              "        vertical-align: middle;\n",
              "    }\n",
              "\n",
              "    .dataframe tbody tr th {\n",
              "        vertical-align: top;\n",
              "    }\n",
              "\n",
              "    .dataframe thead th {\n",
              "        text-align: right;\n",
              "    }\n",
              "</style>\n",
              "<table border=\"1\" class=\"dataframe\">\n",
              "  <thead>\n",
              "    <tr style=\"text-align: right;\">\n",
              "      <th></th>\n",
              "      <th>types</th>\n",
              "      <th>posts</th>\n",
              "      <th>cleaned_posts</th>\n",
              "      <th>Encoded_labels</th>\n",
              "    </tr>\n",
              "  </thead>\n",
              "  <tbody>\n",
              "    <tr>\n",
              "      <th>0</th>\n",
              "      <td>t</td>\n",
              "      <td>Culture Shock, easily for me. No Chance at Dee...</td>\n",
              "      <td>culture shock easily chance deep penetration n...</td>\n",
              "      <td>1</td>\n",
              "    </tr>\n",
              "    <tr>\n",
              "      <th>1</th>\n",
              "      <td>t</td>\n",
              "      <td>Why do you have one? This is so fucking sad. I...</td>\n",
              "      <td>fucking even know else could said represented ...</td>\n",
              "      <td>1</td>\n",
              "    </tr>\n",
              "    <tr>\n",
              "      <th>2</th>\n",
              "      <td>f</td>\n",
              "      <td>crystal blue persuasion Why did that even come...</td>\n",
              "      <td>crystal blue persuasion even come first place ...</td>\n",
              "      <td>0</td>\n",
              "    </tr>\n",
              "    <tr>\n",
              "      <th>3</th>\n",
              "      <td>f</td>\n",
              "      <td>awesome! Love that! thanks for sharing! :)! Su...</td>\n",
              "      <td>awesome love thanks sharing bummer well guess ...</td>\n",
              "      <td>0</td>\n",
              "    </tr>\n",
              "    <tr>\n",
              "      <th>4</th>\n",
              "      <td>t</td>\n",
              "      <td>i see more of a laborador but they're just wha...</td>\n",
              "      <td>laborador grew could touch nostalgia scouser a...</td>\n",
              "      <td>1</td>\n",
              "    </tr>\n",
              "    <tr>\n",
              "      <th>...</th>\n",
              "      <td>...</td>\n",
              "      <td>...</td>\n",
              "      <td>...</td>\n",
              "      <td>...</td>\n",
              "    </tr>\n",
              "    <tr>\n",
              "      <th>3108</th>\n",
              "      <td>f</td>\n",
              "      <td>Get a job immediately out of college. Pretty g...</td>\n",
              "      <td>immediately college pretty great went straight...</td>\n",
              "      <td>0</td>\n",
              "    </tr>\n",
              "    <tr>\n",
              "      <th>3109</th>\n",
              "      <td>f</td>\n",
              "      <td>Example two: I'd say \"the tool\" and reach my h...</td>\n",
              "      <td>example would tool reach hand towards seems re...</td>\n",
              "      <td>0</td>\n",
              "    </tr>\n",
              "    <tr>\n",
              "      <th>3110</th>\n",
              "      <td>f</td>\n",
              "      <td>I still don't see any reason to sugarcoat real...</td>\n",
              "      <td>still reason sugarcoat reality anecdotal evide...</td>\n",
              "      <td>0</td>\n",
              "    </tr>\n",
              "    <tr>\n",
              "      <th>3111</th>\n",
              "      <td>t</td>\n",
              "      <td>This is EXACTLY what I think, then I feel pity...</td>\n",
              "      <td>exactly think feel pity best place rinse minut...</td>\n",
              "      <td>1</td>\n",
              "    </tr>\n",
              "    <tr>\n",
              "      <th>3112</th>\n",
              "      <td>f</td>\n",
              "      <td>My friends' wedding invitation! When you're at...</td>\n",
              "      <td>friend wedding invitation wedding club people ...</td>\n",
              "      <td>0</td>\n",
              "    </tr>\n",
              "  </tbody>\n",
              "</table>\n",
              "<p>3113 rows × 4 columns</p>\n",
              "</div>"
            ],
            "text/plain": [
              "     types  ... Encoded_labels\n",
              "0        t  ...              1\n",
              "1        t  ...              1\n",
              "2        f  ...              0\n",
              "3        f  ...              0\n",
              "4        t  ...              1\n",
              "...    ...  ...            ...\n",
              "3108     f  ...              0\n",
              "3109     f  ...              0\n",
              "3110     f  ...              0\n",
              "3111     t  ...              1\n",
              "3112     f  ...              0\n",
              "\n",
              "[3113 rows x 4 columns]"
            ]
          },
          "metadata": {},
          "execution_count": 73
        }
      ]
    },
    {
      "cell_type": "code",
      "source": [
        "X_train3 = reddit_FT['cleaned_posts']\n",
        "y_train3 = reddit_FT['Encoded_labels']"
      ],
      "metadata": {
        "id": "PTfaJdzZ0c7V"
      },
      "execution_count": null,
      "outputs": []
    },
    {
      "cell_type": "code",
      "source": [
        "epochs = 50\n",
        "batch_size = 32  \n",
        "\n",
        "train_data_size = len(y_train3)\n",
        "steps_per_epoch = int(train_data_size / batch_size)\n",
        "num_train_steps = steps_per_epoch * epochs\n",
        "warmup_steps = int(epochs * train_data_size * 0.1 / batch_size)\n",
        "\n",
        "optimizer = optimization.create_optimizer(\n",
        "    3e-5, num_train_steps=num_train_steps, num_warmup_steps=warmup_steps, optimizer_type='adamw')"
      ],
      "metadata": {
        "id": "juyn49jB0c4s"
      },
      "execution_count": null,
      "outputs": []
    },
    {
      "cell_type": "code",
      "source": [
        "loss = keras.losses.BinaryCrossentropy()\n",
        "auc = keras.metrics.AUC(multi_label=True, curve=\"ROC\")\n",
        "metrics=[auc, keras.metrics.BinaryAccuracy(),keras.metrics.Precision(),keras.metrics.Recall()]"
      ],
      "metadata": {
        "id": "Wy885Wy40c1h"
      },
      "execution_count": null,
      "outputs": []
    },
    {
      "cell_type": "code",
      "source": [
        "model.compile(optimizer=optimizer,\n",
        "                         loss=loss,\n",
        "                         metrics=metrics)"
      ],
      "metadata": {
        "id": "vbSVmlRr0cyp"
      },
      "execution_count": null,
      "outputs": []
    },
    {
      "cell_type": "code",
      "metadata": {
        "colab": {
          "base_uri": "https://localhost:8080/"
        },
        "id": "3GKGPFDO4PWX",
        "outputId": "09fa13b3-acbd-4510-b581-d7e350b943b9"
      },
      "source": [
        "history = model.fit(\n",
        "    X_train3, y_train3,\n",
        "    validation_data=(X_val3, y_val3),\n",
        "    epochs=epochs,\n",
        "    batch_size=batch_size, callbacks =[earlystopping], verbose=2)"
      ],
      "execution_count": null,
      "outputs": [
        {
          "output_type": "stream",
          "name": "stdout",
          "text": [
            "Epoch 1/50\n",
            "98/98 - 191s - loss: 0.7673 - auc_3: 0.4879 - binary_accuracy: 0.5249 - precision_3: 0.4456 - recall_3: 0.1793 - val_loss: 0.7153 - val_auc_3: 0.6054 - val_binary_accuracy: 0.4330 - val_precision_3: 0.7500 - val_recall_3: 0.0108 - 191s/epoch - 2s/step\n",
            "Epoch 2/50\n",
            "98/98 - 179s - loss: 0.6778 - auc_3: 0.5959 - binary_accuracy: 0.5785 - precision_3: 0.5604 - recall_3: 0.3437 - val_loss: 0.6962 - val_auc_3: 0.6282 - val_binary_accuracy: 0.5649 - val_precision_3: 0.6897 - val_recall_3: 0.4332 - 179s/epoch - 2s/step\n",
            "Epoch 3/50\n",
            "98/98 - 179s - loss: 0.6274 - auc_3: 0.6990 - binary_accuracy: 0.6463 - precision_3: 0.6289 - recall_3: 0.5441 - val_loss: 0.6985 - val_auc_3: 0.6335 - val_binary_accuracy: 0.5959 - val_precision_3: 0.6957 - val_recall_3: 0.5199 - 179s/epoch - 2s/step\n",
            "Epoch 4/50\n",
            "98/98 - 179s - loss: 0.4701 - auc_3: 0.8565 - binary_accuracy: 0.7832 - precision_3: 0.7748 - recall_3: 0.7382 - val_loss: 0.8728 - val_auc_3: 0.6144 - val_binary_accuracy: 0.5814 - val_precision_3: 0.6568 - val_recall_3: 0.5596 - 179s/epoch - 2s/step\n",
            "Epoch 5/50\n",
            "98/98 - 179s - loss: 0.2748 - auc_3: 0.9522 - binary_accuracy: 0.8892 - precision_3: 0.8823 - recall_3: 0.8730 - val_loss: 1.2336 - val_auc_3: 0.6064 - val_binary_accuracy: 0.5856 - val_precision_3: 0.6583 - val_recall_3: 0.5704 - 179s/epoch - 2s/step\n",
            "Epoch 6/50\n",
            "98/98 - 179s - loss: 0.1476 - auc_3: 0.9850 - binary_accuracy: 0.9502 - precision_3: 0.9586 - recall_3: 0.9308 - val_loss: 1.5657 - val_auc_3: 0.5995 - val_binary_accuracy: 0.5691 - val_precision_3: 0.6308 - val_recall_3: 0.5921 - 179s/epoch - 2s/step\n",
            "Epoch 7/50\n",
            "98/98 - 179s - loss: 0.1054 - auc_3: 0.9922 - binary_accuracy: 0.9624 - precision_3: 0.9623 - recall_3: 0.9548 - val_loss: 2.4055 - val_auc_3: 0.5700 - val_binary_accuracy: 0.5773 - val_precision_3: 0.6192 - val_recall_3: 0.6751 - 179s/epoch - 2s/step\n"
          ]
        }
      ]
    },
    {
      "cell_type": "code",
      "metadata": {
        "colab": {
          "base_uri": "https://localhost:8080/"
        },
        "id": "l4_4uuaU4PT8",
        "outputId": "301639de-570e-4b1e-dbc0-5f21dc805244"
      },
      "source": [
        "loss3,  auc3, accuracy3, precision3, recall3 = model.evaluate(X_test3, y_test3, batch_size=32, verbose=False)\n",
        "\n",
        "print(\"Testing Accuracy: \",accuracy3)\n",
        "print(\"Loss : \",loss3)\n",
        "print(\"Precision : \",precision3)\n",
        "print(\"Recall : \",recall3)\n",
        "print(\"AUC : \", auc3)"
      ],
      "execution_count": null,
      "outputs": [
        {
          "output_type": "stream",
          "name": "stdout",
          "text": [
            "Testing Accuracy:  0.5596708059310913\n",
            "Loss :  0.6898012161254883\n",
            "Precision :  0.6932515501976013\n",
            "Recall :  0.4079422354698181\n",
            "AUC :  0.6383155584335327\n"
          ]
        }
      ]
    },
    {
      "cell_type": "code",
      "metadata": {
        "colab": {
          "base_uri": "https://localhost:8080/"
        },
        "id": "Pzwlm6mp4PQ8",
        "outputId": "c6370fb4-0eb8-4d7f-b6d7-2778feb290b6"
      },
      "source": [
        "F1_FT = 2 * (precision3 * recall3) / (precision3 + recall3)\n",
        "print(\"F1 score for Feeling/Thinking(F/T): {:.4f}\".format(F1_FT))"
      ],
      "execution_count": null,
      "outputs": [
        {
          "output_type": "stream",
          "name": "stdout",
          "text": [
            "F1 score for Feeling/Thinking(F/T): 0.5136\n"
          ]
        }
      ]
    },
    {
      "cell_type": "code",
      "metadata": {
        "colab": {
          "base_uri": "https://localhost:8080/",
          "height": 441
        },
        "id": "k5OIxvrc4POf",
        "outputId": "d67791f7-0b73-4456-9de3-fac37363261b"
      },
      "source": [
        "plot_history(history)"
      ],
      "execution_count": null,
      "outputs": [
        {
          "output_type": "display_data",
          "data": {
            "image/png": "[encoded data removed]",
            "text/plain": [
              "<Figure size 720x432 with 2 Axes>"
            ]
          },
          "metadata": {
            "needs_background": "light"
          }
        }
      ]
    },
    {
      "cell_type": "code",
      "source": [
        "y_predicted3 = model.predict(X_test3)"
      ],
      "metadata": {
        "id": "carTfOwY0ckR"
      },
      "execution_count": null,
      "outputs": []
    },
    {
      "cell_type": "code",
      "metadata": {
        "colab": {
          "base_uri": "https://localhost:8080/"
        },
        "id": "gRMMoK8w4PIw",
        "outputId": "ae77390c-013f-4d5d-a290-6c1a8416f80a"
      },
      "source": [
        "r_probs = [0 for _ in range(len(y_test3))]\n",
        "\n",
        "r_auc = roc_auc_score(y_test3, r_probs)\n",
        "roc_model3 = roc_auc_score(y_test3, y_predicted3)\n",
        "print(\"Random (chance) prediction : AUROC = %.3f\" % (r_auc))\n",
        "print(\"FT_Model : AUROC = %.3f\" % (roc_model3))"
      ],
      "execution_count": null,
      "outputs": [
        {
          "output_type": "stream",
          "name": "stdout",
          "text": [
            "Random (chance) prediction : AUROC = 0.500\n",
            "FT_Model : AUROC = 0.638\n"
          ]
        }
      ]
    },
    {
      "cell_type": "code",
      "source": [
        "r_fpr, r_tpr, _ =  roc_curve(y_test3, r_probs)\n",
        "m3_fpr, m3_tpr, _ = roc_curve(y_test3, y_predicted3)"
      ],
      "metadata": {
        "id": "oc3dTfBG1b4h"
      },
      "execution_count": null,
      "outputs": []
    },
    {
      "cell_type": "code",
      "metadata": {
        "colab": {
          "base_uri": "https://localhost:8080/",
          "height": 295
        },
        "id": "5HS1Tu1o5OJ1",
        "outputId": "726a8f1f-d728-490c-c399-ea6212465d5f"
      },
      "source": [
        "plt.plot(r_fpr, r_tpr, linestyle='--', label = 'Random prediction (AUROC = %.3f)'% r_auc)\n",
        "plt.plot(m3_fpr, m3_tpr, marker='.', label = 'F-T model (AUROC = %.3f)'% roc_model3)\n",
        "\n",
        "plt.title('ROC Plot')\n",
        "plt.xlabel('False Positive Rate')\n",
        "plt.ylabel('True Positive rate')\n",
        "plt.legend()\n",
        "plt.show()"
      ],
      "execution_count": null,
      "outputs": [
        {
          "output_type": "display_data",
          "data": {
            "image/png": "[encoded data removed]",
            "text/plain": [
              "<Figure size 432x288 with 1 Axes>"
            ]
          },
          "metadata": {
            "needs_background": "light"
          }
        }
      ]
    },
    {
      "cell_type": "code",
      "metadata": {
        "colab": {
          "base_uri": "https://localhost:8080/"
        },
        "id": "3kPM_D0K5OGZ",
        "outputId": "aeaf1f80-74f8-4eaa-8078-1f3d577fa4ca"
      },
      "source": [
        "input =  \"I like to watch movies and like to travel often with my friends. \"\n",
        "sentences = np.asarray([input])\n",
        "\n",
        "predict = model.predict(sentences)\n",
        "\n",
        "print(predict)\n",
        "if np.where(predict > 0.5):\n",
        "\n",
        "  print(\"The Input text is, MBTI type Thinking(T)\")\n",
        "else:\n",
        "  print(\"The Input text is MBTI type Feeling(F)\")"
      ],
      "execution_count": null,
      "outputs": [
        {
          "output_type": "stream",
          "name": "stdout",
          "text": [
            "[[0.54646105]]\n",
            "The Input text is, MBTI type Thinking(T)\n"
          ]
        }
      ]
    },
    {
      "cell_type": "code",
      "metadata": {
        "colab": {
          "base_uri": "https://localhost:8080/"
        },
        "id": "FZytwo5b5OC9",
        "outputId": "9dfd1e0f-6d76-439b-986d-2aecbcb7ea65"
      },
      "source": [
        "input =  \"I like to spend my leisure time by reading books in a quiet place\"\n",
        "sentences = np.asarray([input])\n",
        "\n",
        "predict = model.predict(sentences)\n",
        "\n",
        "print(predict)\n",
        "if np.where(predict > 0.5):\n",
        "\n",
        "  print(\"The Input text is, MBTI type Thinking(T)\")\n",
        "else:\n",
        "  print(\"The Input text is MBTI type Feeling(F)\")"
      ],
      "execution_count": null,
      "outputs": [
        {
          "output_type": "stream",
          "name": "stdout",
          "text": [
            "[[0.52166384]]\n",
            "The Input text is, MBTI type Thinking(T)\n"
          ]
        }
      ]
    },
    {
      "cell_type": "code",
      "source": [
        "model.save(\"F1_model.h5\")"
      ],
      "metadata": {
        "id": "gyO71X7y1bsy"
      },
      "execution_count": null,
      "outputs": []
    },
    {
      "cell_type": "code",
      "source": [
        "reloaded_model_FT = tf.keras.models.load_model(\"F1_model.h5\", custom_objects={'KerasLayer':hub.KerasLayer , 'AdamWeightDecay': optimizer})"
      ],
      "metadata": {
        "id": "urzsk7zS1bp-"
      },
      "execution_count": null,
      "outputs": []
    },
    {
      "cell_type": "code",
      "metadata": {
        "colab": {
          "base_uri": "https://localhost:8080/",
          "height": 423
        },
        "id": "VkA2QVNC5N3u",
        "outputId": "db032f98-bd95-4af4-fa7c-1a7d3e3f97ca"
      },
      "source": [
        "data4 = pd.read_csv(\"MBTI_Reddit_J_P.csv\")\n",
        "data4"
      ],
      "execution_count": null,
      "outputs": [
        {
          "output_type": "execute_result",
          "data": {
            "text/html": [
              "<div>\n",
              "<style scoped>\n",
              "    .dataframe tbody tr th:only-of-type {\n",
              "        vertical-align: middle;\n",
              "    }\n",
              "\n",
              "    .dataframe tbody tr th {\n",
              "        vertical-align: top;\n",
              "    }\n",
              "\n",
              "    .dataframe thead th {\n",
              "        text-align: right;\n",
              "    }\n",
              "</style>\n",
              "<table border=\"1\" class=\"dataframe\">\n",
              "  <thead>\n",
              "    <tr style=\"text-align: right;\">\n",
              "      <th></th>\n",
              "      <th>types</th>\n",
              "      <th>posts</th>\n",
              "    </tr>\n",
              "  </thead>\n",
              "  <tbody>\n",
              "    <tr>\n",
              "      <th>0</th>\n",
              "      <td>p</td>\n",
              "      <td>Yes! Personally I feel that as helpful as it i...</td>\n",
              "    </tr>\n",
              "    <tr>\n",
              "      <th>1</th>\n",
              "      <td>p</td>\n",
              "      <td>It is just arguing semantics. To many on the c...</td>\n",
              "    </tr>\n",
              "    <tr>\n",
              "      <th>2</th>\n",
              "      <td>p</td>\n",
              "      <td>Ooohhh okay, I thought there was something els...</td>\n",
              "    </tr>\n",
              "    <tr>\n",
              "      <th>3</th>\n",
              "      <td>p</td>\n",
              "      <td>This was Blizzards way to slow down the meta. ...</td>\n",
              "    </tr>\n",
              "    <tr>\n",
              "      <th>4</th>\n",
              "      <td>p</td>\n",
              "      <td>Thank you very much for the support. I am work...</td>\n",
              "    </tr>\n",
              "    <tr>\n",
              "      <th>...</th>\n",
              "      <td>...</td>\n",
              "      <td>...</td>\n",
              "    </tr>\n",
              "    <tr>\n",
              "      <th>3231</th>\n",
              "      <td>p</td>\n",
              "      <td>Hoi!Heb je nog iemand nodig?  Ik kom uit Canad...</td>\n",
              "    </tr>\n",
              "    <tr>\n",
              "      <th>3232</th>\n",
              "      <td>j</td>\n",
              "      <td>\"Take care.\"A weird, shitty ending to the rela...</td>\n",
              "    </tr>\n",
              "    <tr>\n",
              "      <th>3233</th>\n",
              "      <td>j</td>\n",
              "      <td>$49.46 is how much it costs btw. You can pre-o...</td>\n",
              "    </tr>\n",
              "    <tr>\n",
              "      <th>3234</th>\n",
              "      <td>j</td>\n",
              "      <td>You shouldn't use apps to base your assessment...</td>\n",
              "    </tr>\n",
              "    <tr>\n",
              "      <th>3235</th>\n",
              "      <td>j</td>\n",
              "      <td>We've hanged out about 5 times actually. But t...</td>\n",
              "    </tr>\n",
              "  </tbody>\n",
              "</table>\n",
              "<p>3236 rows × 2 columns</p>\n",
              "</div>"
            ],
            "text/plain": [
              "     types                                              posts\n",
              "0        p  Yes! Personally I feel that as helpful as it i...\n",
              "1        p  It is just arguing semantics. To many on the c...\n",
              "2        p  Ooohhh okay, I thought there was something els...\n",
              "3        p  This was Blizzards way to slow down the meta. ...\n",
              "4        p  Thank you very much for the support. I am work...\n",
              "...    ...                                                ...\n",
              "3231     p  Hoi!Heb je nog iemand nodig?  Ik kom uit Canad...\n",
              "3232     j  \"Take care.\"A weird, shitty ending to the rela...\n",
              "3233     j  $49.46 is how much it costs btw. You can pre-o...\n",
              "3234     j  You shouldn't use apps to base your assessment...\n",
              "3235     j  We've hanged out about 5 times actually. But t...\n",
              "\n",
              "[3236 rows x 2 columns]"
            ]
          },
          "metadata": {},
          "execution_count": 90
        }
      ]
    },
    {
      "cell_type": "code",
      "source": [
        "data4['cleaned_posts'] = data4['posts'].apply(preprocessing)"
      ],
      "metadata": {
        "id": "USRW2YDX11H0"
      },
      "execution_count": null,
      "outputs": []
    },
    {
      "cell_type": "code",
      "metadata": {
        "colab": {
          "base_uri": "https://localhost:8080/",
          "height": 423
        },
        "id": "OZ2RGo5N5joc",
        "outputId": "48867105-9401-45b0-9a0f-f1a2f0dd5b3a"
      },
      "source": [
        "labelencoder_JP = LabelEncoder()\n",
        "\n",
        "data4['Encoded_labels'] = labelencoder_JP.fit_transform(data4['types'])\n",
        "data4"
      ],
      "execution_count": null,
      "outputs": [
        {
          "output_type": "execute_result",
          "data": {
            "text/html": [
              "<div>\n",
              "<style scoped>\n",
              "    .dataframe tbody tr th:only-of-type {\n",
              "        vertical-align: middle;\n",
              "    }\n",
              "\n",
              "    .dataframe tbody tr th {\n",
              "        vertical-align: top;\n",
              "    }\n",
              "\n",
              "    .dataframe thead th {\n",
              "        text-align: right;\n",
              "    }\n",
              "</style>\n",
              "<table border=\"1\" class=\"dataframe\">\n",
              "  <thead>\n",
              "    <tr style=\"text-align: right;\">\n",
              "      <th></th>\n",
              "      <th>types</th>\n",
              "      <th>posts</th>\n",
              "      <th>cleaned_posts</th>\n",
              "      <th>Encoded_labels</th>\n",
              "    </tr>\n",
              "  </thead>\n",
              "  <tbody>\n",
              "    <tr>\n",
              "      <th>0</th>\n",
              "      <td>p</td>\n",
              "      <td>Yes! Personally I feel that as helpful as it i...</td>\n",
              "      <td>personally feel helpful meticulously plan purc...</td>\n",
              "      <td>1</td>\n",
              "    </tr>\n",
              "    <tr>\n",
              "      <th>1</th>\n",
              "      <td>p</td>\n",
              "      <td>It is just arguing semantics. To many on the c...</td>\n",
              "      <td>arguing semantics many consumer beta productio...</td>\n",
              "      <td>1</td>\n",
              "    </tr>\n",
              "    <tr>\n",
              "      <th>2</th>\n",
              "      <td>p</td>\n",
              "      <td>Ooohhh okay, I thought there was something els...</td>\n",
              "      <td>ooohhh okay thought something else thanks vita...</td>\n",
              "      <td>1</td>\n",
              "    </tr>\n",
              "    <tr>\n",
              "      <th>3</th>\n",
              "      <td>p</td>\n",
              "      <td>This was Blizzards way to slow down the meta. ...</td>\n",
              "      <td>blizzard slow meta working intended turn alex ...</td>\n",
              "      <td>1</td>\n",
              "    </tr>\n",
              "    <tr>\n",
              "      <th>4</th>\n",
              "      <td>p</td>\n",
              "      <td>Thank you very much for the support. I am work...</td>\n",
              "      <td>thank much support working action daily basis ...</td>\n",
              "      <td>1</td>\n",
              "    </tr>\n",
              "    <tr>\n",
              "      <th>...</th>\n",
              "      <td>...</td>\n",
              "      <td>...</td>\n",
              "      <td>...</td>\n",
              "      <td>...</td>\n",
              "    </tr>\n",
              "    <tr>\n",
              "      <th>3231</th>\n",
              "      <td>p</td>\n",
              "      <td>Hoi!Heb je nog iemand nodig?  Ik kom uit Canad...</td>\n",
              "      <td>hoiheb iemand nodig canada maar woon studeer d...</td>\n",
              "      <td>1</td>\n",
              "    </tr>\n",
              "    <tr>\n",
              "      <th>3232</th>\n",
              "      <td>j</td>\n",
              "      <td>\"Take care.\"A weird, shitty ending to the rela...</td>\n",
              "      <td>take carea weird shitty ending relationship ov...</td>\n",
              "      <td>0</td>\n",
              "    </tr>\n",
              "    <tr>\n",
              "      <th>3233</th>\n",
              "      <td>j</td>\n",
              "      <td>$49.46 is how much it costs btw. You can pre-o...</td>\n",
              "      <td>much cost preorder true bear lake socalthis tu...</td>\n",
              "      <td>0</td>\n",
              "    </tr>\n",
              "    <tr>\n",
              "      <th>3234</th>\n",
              "      <td>j</td>\n",
              "      <td>You shouldn't use apps to base your assessment...</td>\n",
              "      <td>apps base assessment certain group besides old...</td>\n",
              "      <td>0</td>\n",
              "    </tr>\n",
              "    <tr>\n",
              "      <th>3235</th>\n",
              "      <td>j</td>\n",
              "      <td>We've hanged out about 5 times actually. But t...</td>\n",
              "      <td>hanged time actually thank perhaps right spoke...</td>\n",
              "      <td>0</td>\n",
              "    </tr>\n",
              "  </tbody>\n",
              "</table>\n",
              "<p>3236 rows × 4 columns</p>\n",
              "</div>"
            ],
            "text/plain": [
              "     types  ... Encoded_labels\n",
              "0        p  ...              1\n",
              "1        p  ...              1\n",
              "2        p  ...              1\n",
              "3        p  ...              1\n",
              "4        p  ...              1\n",
              "...    ...  ...            ...\n",
              "3231     p  ...              1\n",
              "3232     j  ...              0\n",
              "3233     j  ...              0\n",
              "3234     j  ...              0\n",
              "3235     j  ...              0\n",
              "\n",
              "[3236 rows x 4 columns]"
            ]
          },
          "metadata": {},
          "execution_count": 92
        }
      ]
    },
    {
      "cell_type": "code",
      "metadata": {
        "colab": {
          "base_uri": "https://localhost:8080/"
        },
        "id": "sj8q3ti95kH_",
        "outputId": "ba85c6c4-9502-4b56-813c-701069eb8c99"
      },
      "source": [
        "split_1 = int(0.7 * len(data4))\n",
        "split_2 = int(0.85 * len(data4))\n",
        "\n",
        "train_ds = data4[:split_1]\n",
        "val_ds = data4[split_1:split_2]\n",
        "test_ds = data4[split_2:]\n",
        "\n",
        "print(\"Shape of training dataset : \",train_ds.shape)\n",
        "print(\"Shape of validation dataset : \",val_ds.shape)\n",
        "print(\"Shape of test dataset : \",test_ds.shape)"
      ],
      "execution_count": null,
      "outputs": [
        {
          "output_type": "stream",
          "name": "stdout",
          "text": [
            "Shape of training dataset :  (2265, 4)\n",
            "Shape of validation dataset :  (485, 4)\n",
            "Shape of test dataset :  (486, 4)\n"
          ]
        }
      ]
    },
    {
      "cell_type": "code",
      "source": [
        "X_val4 = val_ds['cleaned_posts']\n",
        "y_val4 = val_ds['Encoded_labels']\n",
        "X_test4 =test_ds['cleaned_posts']\n",
        "y_test4 = test_ds['Encoded_labels']"
      ],
      "metadata": {
        "id": "2vRkWUf_10_C"
      },
      "execution_count": null,
      "outputs": []
    },
    {
      "cell_type": "code",
      "metadata": {
        "colab": {
          "base_uri": "https://localhost:8080/",
          "height": 423
        },
        "id": "SN32sl8N5NzC",
        "outputId": "b522974a-06ef-481e-8b62-8d164bbaad3b"
      },
      "source": [
        "reddit_JP = pd.read_csv(\"aug_MBTI_BinaryLabels_J_P.csv\")\n",
        "reddit_JP"
      ],
      "execution_count": null,
      "outputs": [
        {
          "output_type": "execute_result",
          "data": {
            "text/html": [
              "<div>\n",
              "<style scoped>\n",
              "    .dataframe tbody tr th:only-of-type {\n",
              "        vertical-align: middle;\n",
              "    }\n",
              "\n",
              "    .dataframe tbody tr th {\n",
              "        vertical-align: top;\n",
              "    }\n",
              "\n",
              "    .dataframe thead th {\n",
              "        text-align: right;\n",
              "    }\n",
              "</style>\n",
              "<table border=\"1\" class=\"dataframe\">\n",
              "  <thead>\n",
              "    <tr style=\"text-align: right;\">\n",
              "      <th></th>\n",
              "      <th>types</th>\n",
              "      <th>posts</th>\n",
              "    </tr>\n",
              "  </thead>\n",
              "  <tbody>\n",
              "    <tr>\n",
              "      <th>0</th>\n",
              "      <td>p</td>\n",
              "      <td>The production is terrific and James is soundi...</td>\n",
              "    </tr>\n",
              "    <tr>\n",
              "      <th>1</th>\n",
              "      <td>p</td>\n",
              "      <td>Well, I'm a Marine not overseas and I can't wa...</td>\n",
              "    </tr>\n",
              "    <tr>\n",
              "      <th>2</th>\n",
              "      <td>p</td>\n",
              "      <td>Normally...Tried from different angles but I t...</td>\n",
              "    </tr>\n",
              "    <tr>\n",
              "      <th>3</th>\n",
              "      <td>j</td>\n",
              "      <td>I don't think we are in much danger of having ...</td>\n",
              "    </tr>\n",
              "    <tr>\n",
              "      <th>4</th>\n",
              "      <td>j</td>\n",
              "      <td>You're dealing with crab mentality. Aka crabs ...</td>\n",
              "    </tr>\n",
              "    <tr>\n",
              "      <th>...</th>\n",
              "      <td>...</td>\n",
              "      <td>...</td>\n",
              "    </tr>\n",
              "    <tr>\n",
              "      <th>3183</th>\n",
              "      <td>p</td>\n",
              "      <td>Got a degree in philosophy, now I'm a massage ...</td>\n",
              "    </tr>\n",
              "    <tr>\n",
              "      <th>3184</th>\n",
              "      <td>p</td>\n",
              "      <td>if you shut down f-and-f you will also shut do...</td>\n",
              "    </tr>\n",
              "    <tr>\n",
              "      <th>3185</th>\n",
              "      <td>p</td>\n",
              "      <td>not a male but i think the length on the sides...</td>\n",
              "    </tr>\n",
              "    <tr>\n",
              "      <th>3186</th>\n",
              "      <td>p</td>\n",
              "      <td>I still don't get the whole \"oh Coraline is so...</td>\n",
              "    </tr>\n",
              "    <tr>\n",
              "      <th>3187</th>\n",
              "      <td>j</td>\n",
              "      <td>1. As you said, stick to three meals a day.2. ...</td>\n",
              "    </tr>\n",
              "  </tbody>\n",
              "</table>\n",
              "<p>3188 rows × 2 columns</p>\n",
              "</div>"
            ],
            "text/plain": [
              "     types                                              posts\n",
              "0        p  The production is terrific and James is soundi...\n",
              "1        p  Well, I'm a Marine not overseas and I can't wa...\n",
              "2        p  Normally...Tried from different angles but I t...\n",
              "3        j  I don't think we are in much danger of having ...\n",
              "4        j  You're dealing with crab mentality. Aka crabs ...\n",
              "...    ...                                                ...\n",
              "3183     p  Got a degree in philosophy, now I'm a massage ...\n",
              "3184     p  if you shut down f-and-f you will also shut do...\n",
              "3185     p  not a male but i think the length on the sides...\n",
              "3186     p  I still don't get the whole \"oh Coraline is so...\n",
              "3187     j  1. As you said, stick to three meals a day.2. ...\n",
              "\n",
              "[3188 rows x 2 columns]"
            ]
          },
          "metadata": {},
          "execution_count": 95
        }
      ]
    },
    {
      "cell_type": "code",
      "source": [
        "reddit_JP['cleaned_posts'] = reddit_JP['posts'].apply(preprocessing)"
      ],
      "metadata": {
        "id": "G9NNviTq105v"
      },
      "execution_count": null,
      "outputs": []
    },
    {
      "cell_type": "code",
      "metadata": {
        "colab": {
          "base_uri": "https://localhost:8080/",
          "height": 423
        },
        "id": "2bLoYOUA5z6G",
        "outputId": "ee0db983-5f1a-4fdb-d021-bdf7dc9792a2"
      },
      "source": [
        "labelencoder_JP = LabelEncoder()\n",
        "\n",
        "reddit_JP['Encoded_labels'] = labelencoder_JP.fit_transform(reddit_JP['types'])\n",
        "reddit_JP"
      ],
      "execution_count": null,
      "outputs": [
        {
          "output_type": "execute_result",
          "data": {
            "text/html": [
              "<div>\n",
              "<style scoped>\n",
              "    .dataframe tbody tr th:only-of-type {\n",
              "        vertical-align: middle;\n",
              "    }\n",
              "\n",
              "    .dataframe tbody tr th {\n",
              "        vertical-align: top;\n",
              "    }\n",
              "\n",
              "    .dataframe thead th {\n",
              "        text-align: right;\n",
              "    }\n",
              "</style>\n",
              "<table border=\"1\" class=\"dataframe\">\n",
              "  <thead>\n",
              "    <tr style=\"text-align: right;\">\n",
              "      <th></th>\n",
              "      <th>types</th>\n",
              "      <th>posts</th>\n",
              "      <th>cleaned_posts</th>\n",
              "      <th>Encoded_labels</th>\n",
              "    </tr>\n",
              "  </thead>\n",
              "  <tbody>\n",
              "    <tr>\n",
              "      <th>0</th>\n",
              "      <td>p</td>\n",
              "      <td>The production is terrific and James is soundi...</td>\n",
              "      <td>production terrific james sounding like againt...</td>\n",
              "      <td>1</td>\n",
              "    </tr>\n",
              "    <tr>\n",
              "      <th>1</th>\n",
              "      <td>p</td>\n",
              "      <td>Well, I'm a Marine not overseas and I can't wa...</td>\n",
              "      <td>well marine overseas can not wait watch bronco...</td>\n",
              "      <td>1</td>\n",
              "    </tr>\n",
              "    <tr>\n",
              "      <th>2</th>\n",
              "      <td>p</td>\n",
              "      <td>Normally...Tried from different angles but I t...</td>\n",
              "      <td>normallytried different angle think personally...</td>\n",
              "      <td>1</td>\n",
              "    </tr>\n",
              "    <tr>\n",
              "      <th>3</th>\n",
              "      <td>j</td>\n",
              "      <td>I don't think we are in much danger of having ...</td>\n",
              "      <td>think much danger likely good mariota option b...</td>\n",
              "      <td>0</td>\n",
              "    </tr>\n",
              "    <tr>\n",
              "      <th>4</th>\n",
              "      <td>j</td>\n",
              "      <td>You're dealing with crab mentality. Aka crabs ...</td>\n",
              "      <td>dealing crab mentality crab bucket read never ...</td>\n",
              "      <td>0</td>\n",
              "    </tr>\n",
              "    <tr>\n",
              "      <th>...</th>\n",
              "      <td>...</td>\n",
              "      <td>...</td>\n",
              "      <td>...</td>\n",
              "      <td>...</td>\n",
              "    </tr>\n",
              "    <tr>\n",
              "      <th>3183</th>\n",
              "      <td>p</td>\n",
              "      <td>Got a degree in philosophy, now I'm a massage ...</td>\n",
              "      <td>degree philosophy massage therapist pressed fo...</td>\n",
              "      <td>1</td>\n",
              "    </tr>\n",
              "    <tr>\n",
              "      <th>3184</th>\n",
              "      <td>p</td>\n",
              "      <td>if you shut down f-and-f you will also shut do...</td>\n",
              "      <td>shut fandf also shut ability make decision nev...</td>\n",
              "      <td>1</td>\n",
              "    </tr>\n",
              "    <tr>\n",
              "      <th>3185</th>\n",
              "      <td>p</td>\n",
              "      <td>not a male but i think the length on the sides...</td>\n",
              "      <td>male think length side proportion part good di...</td>\n",
              "      <td>1</td>\n",
              "    </tr>\n",
              "    <tr>\n",
              "      <th>3186</th>\n",
              "      <td>p</td>\n",
              "      <td>I still don't get the whole \"oh Coraline is so...</td>\n",
              "      <td>still whole coraline sooo creepy weird scary c...</td>\n",
              "      <td>1</td>\n",
              "    </tr>\n",
              "    <tr>\n",
              "      <th>3187</th>\n",
              "      <td>j</td>\n",
              "      <td>1. As you said, stick to three meals a day.2. ...</td>\n",
              "      <td>said stick three meal fruit like banana orange...</td>\n",
              "      <td>0</td>\n",
              "    </tr>\n",
              "  </tbody>\n",
              "</table>\n",
              "<p>3188 rows × 4 columns</p>\n",
              "</div>"
            ],
            "text/plain": [
              "     types  ... Encoded_labels\n",
              "0        p  ...              1\n",
              "1        p  ...              1\n",
              "2        p  ...              1\n",
              "3        j  ...              0\n",
              "4        j  ...              0\n",
              "...    ...  ...            ...\n",
              "3183     p  ...              1\n",
              "3184     p  ...              1\n",
              "3185     p  ...              1\n",
              "3186     p  ...              1\n",
              "3187     j  ...              0\n",
              "\n",
              "[3188 rows x 4 columns]"
            ]
          },
          "metadata": {},
          "execution_count": 97
        }
      ]
    },
    {
      "cell_type": "code",
      "source": [
        "X_train4 = reddit_JP['cleaned_posts']\n",
        "y_train4 = reddit_JP['Encoded_labels']"
      ],
      "metadata": {
        "id": "zWOD08S7100J"
      },
      "execution_count": null,
      "outputs": []
    },
    {
      "cell_type": "code",
      "source": [
        "epochs = 50\n",
        "batch_size = 16  \n",
        "\n",
        "train_data_size = len(y_train4)\n",
        "steps_per_epoch = int(train_data_size / batch_size)\n",
        "num_train_steps = steps_per_epoch * epochs\n",
        "warmup_steps = int(epochs * train_data_size * 0.1 / batch_size)\n",
        "\n",
        "optimizer = optimization.create_optimizer(\n",
        "    3e-5, num_train_steps=num_train_steps, num_warmup_steps=warmup_steps, optimizer_type='adamw')"
      ],
      "metadata": {
        "id": "HOsOsY-82UPA"
      },
      "execution_count": null,
      "outputs": []
    },
    {
      "cell_type": "code",
      "source": [
        "loss = keras.losses.BinaryCrossentropy()\n",
        "auc = keras.metrics.AUC(multi_label=True, curve=\"ROC\")\n",
        "metrics=[auc, keras.metrics.BinaryAccuracy(),keras.metrics.Precision(),keras.metrics.Recall()]"
      ],
      "metadata": {
        "id": "8stNeCUZ2ULh"
      },
      "execution_count": null,
      "outputs": []
    },
    {
      "cell_type": "code",
      "source": [
        "model.compile(optimizer=optimizer,\n",
        "                         loss=loss,\n",
        "                         metrics=metrics)"
      ],
      "metadata": {
        "id": "xgCt9hG92UI0"
      },
      "execution_count": null,
      "outputs": []
    },
    {
      "cell_type": "code",
      "metadata": {
        "colab": {
          "base_uri": "https://localhost:8080/"
        },
        "id": "E5K_2_vn5zrW",
        "outputId": "61dd6ffe-1be0-48b2-f017-2acee038e915"
      },
      "source": [
        "history = model.fit(\n",
        "    X_train4, y_train4,\n",
        "    validation_data=(X_val4, y_val4),\n",
        "    epochs=epochs,\n",
        "    batch_size=batch_size, callbacks =[earlystopping], verbose=2)"
      ],
      "execution_count": null,
      "outputs": [
        {
          "output_type": "stream",
          "name": "stdout",
          "text": [
            "Epoch 1/50\n",
            "200/200 - 208s - loss: 0.6955 - auc_4: 0.5214 - binary_accuracy: 0.5483 - precision_4: 0.4377 - recall_4: 0.2563 - val_loss: 0.6967 - val_auc_4: 0.6394 - val_binary_accuracy: 0.4928 - val_precision_4: 0.6613 - val_recall_4: 0.1541 - 208s/epoch - 1s/step\n",
            "Epoch 2/50\n",
            "200/200 - 195s - loss: 0.6644 - auc_4: 0.6058 - binary_accuracy: 0.5963 - precision_4: 0.5354 - recall_4: 0.3100 - val_loss: 0.6978 - val_auc_4: 0.6882 - val_binary_accuracy: 0.5526 - val_precision_4: 0.7579 - val_recall_4: 0.2707 - 195s/epoch - 976ms/step\n",
            "Epoch 3/50\n",
            "200/200 - 196s - loss: 0.6005 - auc_4: 0.7247 - binary_accuracy: 0.6832 - precision_4: 0.6581 - recall_4: 0.5149 - val_loss: 0.5274 - val_auc_4: 0.8171 - val_binary_accuracy: 0.7423 - val_precision_4: 0.7474 - val_recall_4: 0.8008 - 196s/epoch - 978ms/step\n",
            "Epoch 4/50\n",
            "200/200 - 196s - loss: 0.4547 - auc_4: 0.8611 - binary_accuracy: 0.7902 - precision_4: 0.7725 - recall_4: 0.7109 - val_loss: 0.4485 - val_auc_4: 0.8868 - val_binary_accuracy: 0.8144 - val_precision_4: 0.7933 - val_recall_4: 0.8947 - 196s/epoch - 979ms/step\n",
            "Epoch 5/50\n",
            "200/200 - 196s - loss: 0.2994 - auc_4: 0.9427 - binary_accuracy: 0.8780 - precision_4: 0.8618 - recall_4: 0.8458 - val_loss: 0.4740 - val_auc_4: 0.9194 - val_binary_accuracy: 0.8309 - val_precision_4: 0.8740 - val_recall_4: 0.8083 - 196s/epoch - 978ms/step\n",
            "Epoch 6/50\n",
            "200/200 - 195s - loss: 0.1608 - auc_4: 0.9833 - binary_accuracy: 0.9432 - precision_4: 0.9303 - recall_4: 0.9352 - val_loss: 0.7995 - val_auc_4: 0.8752 - val_binary_accuracy: 0.8392 - val_precision_4: 0.8310 - val_recall_4: 0.8872 - 195s/epoch - 976ms/step\n",
            "Epoch 7/50\n",
            "200/200 - 195s - loss: 0.1199 - auc_4: 0.9890 - binary_accuracy: 0.9680 - precision_4: 0.9669 - recall_4: 0.9568 - val_loss: 0.9977 - val_auc_4: 0.8696 - val_binary_accuracy: 0.8309 - val_precision_4: 0.8802 - val_recall_4: 0.8008 - 195s/epoch - 977ms/step\n",
            "Epoch 8/50\n",
            "200/200 - 196s - loss: 0.0737 - auc_4: 0.9941 - binary_accuracy: 0.9802 - precision_4: 0.9790 - recall_4: 0.9739 - val_loss: 1.0784 - val_auc_4: 0.8662 - val_binary_accuracy: 0.8289 - val_precision_4: 0.8560 - val_recall_4: 0.8271 - 196s/epoch - 978ms/step\n",
            "Epoch 9/50\n",
            "200/200 - 196s - loss: 0.0507 - auc_4: 0.9956 - binary_accuracy: 0.9878 - precision_4: 0.9895 - recall_4: 0.9814 - val_loss: 1.1209 - val_auc_4: 0.8625 - val_binary_accuracy: 0.8351 - val_precision_4: 0.8345 - val_recall_4: 0.8722 - 196s/epoch - 979ms/step\n"
          ]
        }
      ]
    },
    {
      "cell_type": "code",
      "metadata": {
        "colab": {
          "base_uri": "https://localhost:8080/"
        },
        "id": "wgxuUMxt5zoC",
        "outputId": "fffc13ab-0df1-4fe2-fe6d-203934804665"
      },
      "source": [
        "loss4, auc4, accuracy4, precision4, recall4 = model.evaluate(X_test4, y_test4, batch_size=32, verbose=False)\n",
        "\n",
        "print(\"Testing Accuracy: \",accuracy4)\n",
        "print(\"Loss : \",loss4)\n",
        "print(\"Precision : \",precision4)\n",
        "print(\"Recall : \",recall4)\n",
        "print(\"AUC : \",auc4)"
      ],
      "execution_count": null,
      "outputs": [
        {
          "output_type": "stream",
          "name": "stdout",
          "text": [
            "Testing Accuracy:  0.8230452537536621\n",
            "Loss :  0.42642009258270264\n",
            "Precision :  0.8184818625450134\n",
            "Recall :  0.8888888955116272\n",
            "AUC :  0.8915380835533142\n"
          ]
        }
      ]
    },
    {
      "cell_type": "code",
      "metadata": {
        "colab": {
          "base_uri": "https://localhost:8080/"
        },
        "id": "GupAqZAH6EUH",
        "outputId": "3bdf4473-e223-4bdc-d96e-e99bc587b865"
      },
      "source": [
        "F1_JP = 2 * (precision4 * recall4) / (precision4 + recall4)\n",
        "print(\"F1 score for Judging/Perceiving(J/P): {:.4f}\".format(F1_JP))"
      ],
      "execution_count": null,
      "outputs": [
        {
          "output_type": "stream",
          "name": "stdout",
          "text": [
            "F1 score for Judging/Perceiving(J/P): 0.8522\n"
          ]
        }
      ]
    },
    {
      "cell_type": "code",
      "metadata": {
        "colab": {
          "base_uri": "https://localhost:8080/",
          "height": 441
        },
        "id": "nnGsBo2R6EQr",
        "outputId": "a7620b7b-cbe0-4d8d-f03e-8362857f2f60"
      },
      "source": [
        "plot_history(history)"
      ],
      "execution_count": null,
      "outputs": [
        {
          "output_type": "display_data",
          "data": {
            "image/png": "[encoded data removed]",
            "text/plain": [
              "<Figure size 720x432 with 2 Axes>"
            ]
          },
          "metadata": {
            "needs_background": "light"
          }
        }
      ]
    },
    {
      "cell_type": "code",
      "source": [
        "y_predicted4 = model.predict(X_test4)"
      ],
      "metadata": {
        "id": "e7IXHh_M2pks"
      },
      "execution_count": null,
      "outputs": []
    },
    {
      "cell_type": "code",
      "metadata": {
        "colab": {
          "base_uri": "https://localhost:8080/"
        },
        "id": "D3g2TOtX6EKe",
        "outputId": "4f8df4e6-4b27-4515-c0ff-e6a22048cacd"
      },
      "source": [
        "r_probs = [0 for _ in range(len(y_test4))]\n",
        "\n",
        "r_auc = roc_auc_score(y_test4, r_probs)\n",
        "roc_model4 = roc_auc_score(y_test2, y_predicted4)\n",
        "print(\"Random (chance) prediction : AUROC = %.3f\" % (r_auc))\n",
        "print(\"JP_Model : AUROC = %.3f\" % (roc_model4))"
      ],
      "execution_count": null,
      "outputs": [
        {
          "output_type": "stream",
          "name": "stdout",
          "text": [
            "Random (chance) prediction : AUROC = 0.500\n",
            "JP_Model : AUROC = 0.511\n"
          ]
        }
      ]
    },
    {
      "cell_type": "code",
      "source": [
        "r_fpr, r_tpr, _ =  roc_curve(y_test4, r_probs)\n",
        "m4_fpr, m4_tpr, _ = roc_curve(y_test4, y_predicted4)"
      ],
      "metadata": {
        "id": "wMeWlfZD2pfu"
      },
      "execution_count": null,
      "outputs": []
    },
    {
      "cell_type": "code",
      "metadata": {
        "colab": {
          "base_uri": "https://localhost:8080/",
          "height": 295
        },
        "id": "CmQjy6UX6EE1",
        "outputId": "cde53f9b-4490-4c28-ce48-e80019343197"
      },
      "source": [
        "plt.plot(r_fpr, r_tpr, linestyle='--', label = 'Random prediction (AUROC = %.3f)'% r_auc)\n",
        "plt.plot(m4_fpr, m4_tpr, marker='.', label = 'J-P model (AUROC = %.3f)'% roc_model4)\n",
        "\n",
        "plt.title('ROC Plot')\n",
        "plt.xlabel('False Positive Rate')\n",
        "plt.ylabel('True Positive rate')\n",
        "plt.legend()\n",
        "plt.show()"
      ],
      "execution_count": null,
      "outputs": [
        {
          "output_type": "display_data",
          "data": {
            "image/png": "[encoded data removed]",
            "text/plain": [
              "<Figure size 432x288 with 1 Axes>"
            ]
          },
          "metadata": {
            "needs_background": "light"
          }
        }
      ]
    },
    {
      "cell_type": "code",
      "metadata": {
        "colab": {
          "base_uri": "https://localhost:8080/"
        },
        "id": "OgIDJXuJ6EBl",
        "outputId": "516edc7a-0e45-42e1-fcc0-aa0dc2dc1385"
      },
      "source": [
        "input =  \"I like to watch movies and like to travel often with my friends. \"\n",
        "sentences = np.asarray([input])\n",
        "\n",
        "predict = model.predict(sentences)\n",
        "\n",
        "print(predict)\n",
        "if np.where(predict > 0.5):\n",
        "\n",
        "  print(\"The Input text is, MBTI type Perceiving(P)\")\n",
        "else:\n",
        "  print(\"The Input text is MBTI type Judging(J)\")"
      ],
      "execution_count": null,
      "outputs": [
        {
          "output_type": "stream",
          "name": "stdout",
          "text": [
            "[[0.61645395]]\n",
            "The Input text is, MBTI type Perceiving(P)\n"
          ]
        }
      ]
    },
    {
      "cell_type": "code",
      "metadata": {
        "colab": {
          "base_uri": "https://localhost:8080/"
        },
        "id": "tKfRg8t76D-V",
        "outputId": "607f8cad-51b1-472e-baf3-76bc69893cca"
      },
      "source": [
        "input =  \"I like to spend my leisure time by reading books in a quiet place.\"\n",
        "sentences = np.asarray([input])\n",
        "\n",
        "predict = model.predict(sentences)\n",
        "\n",
        "print(predict)\n",
        "if np.where(predict > 0.5):\n",
        "\n",
        "  print(\"The Input text is, MBTI type Perceiving(P)\")\n",
        "else:\n",
        "  print(\"The Input text is MBTI type Judging(J)\")"
      ],
      "execution_count": null,
      "outputs": [
        {
          "output_type": "stream",
          "name": "stdout",
          "text": [
            "[[0.5793138]]\n",
            "The Input text is, MBTI type Perceiving(P)\n"
          ]
        }
      ]
    },
    {
      "cell_type": "code",
      "source": [
        "model.save(\"J1_model.h5\")"
      ],
      "metadata": {
        "id": "TL5NHzop3B_C"
      },
      "execution_count": null,
      "outputs": []
    },
    {
      "cell_type": "code",
      "source": [
        "reloaded_model_JP = tf.keras.models.load_model(\"J1_model.h5\", custom_objects={'KerasLayer':hub.KerasLayer , 'AdamWeightDecay': optimizer})"
      ],
      "metadata": {
        "id": "2z6haVqr3B8M"
      },
      "execution_count": null,
      "outputs": []
    },
    {
      "cell_type": "code",
      "metadata": {
        "colab": {
          "base_uri": "https://localhost:8080/",
          "height": 295
        },
        "id": "4KRw3csC7DF-",
        "outputId": "0cb9f74f-fa87-4712-cad5-0e19193ff217"
      },
      "source": [
        "plt.plot(r_fpr, r_tpr, linestyle='--', label = 'Random prediction (AUROC = %.3f)'% r_auc)\n",
        "plt.plot(m1_fpr, m1_tpr, marker='.', label = 'I-E model (AUROC = %.3f)'% auc1)\n",
        "plt.plot(m2_fpr, m2_tpr, marker='.', label = 'S-N model (AUROC = %.3f)'% auc2)\n",
        "plt.plot(m3_fpr, m3_tpr, marker='.', label = 'F-T model (AUROC = %.3f)'% auc3)\n",
        "plt.plot(m4_fpr, m4_tpr, marker='.', label = 'J-P model (AUROC = %.3f)'% auc4)\n",
        "\n",
        "plt.title('ROC Plot')\n",
        "plt.xlabel('False Positive Rate')\n",
        "plt.ylabel('True Positive rate')\n",
        "plt.legend()\n",
        "plt.show()"
      ],
      "execution_count": null,
      "outputs": [
        {
          "output_type": "display_data",
          "data": {
            "image/png": "[encoded data removed]",
            "text/plain": [
              "<Figure size 432x288 with 1 Axes>"
            ]
          },
          "metadata": {
            "needs_background": "light"
          }
        }
      ]
    },
    {
      "cell_type": "code",
      "metadata": {
        "colab": {
          "base_uri": "https://localhost:8080/"
        },
        "id": "u_jyKF4M7DCm",
        "outputId": "93d3eee4-ed3b-4989-8077-17375356c2d0"
      },
      "source": [
        "input =  \"he had a great feeling for music.\"\n",
        "sentences = np.asarray([input])\n",
        "\n",
        "predict1 = reloaded_model_IE(sentences)\n",
        "predict2 = reloaded_model_SN(sentences)\n",
        "predict3 = reloaded_model_FT(sentences)\n",
        "predict4 = reloaded_model_JP(sentences)\n",
        "\n",
        "pred_types = []\n",
        "scores = []\n",
        "if np.where(predict1 > 0.5):\n",
        "  pred_types.append('I')\n",
        "  scores.append(predict1)\n",
        "else:\n",
        "  pred_types.append('E')\n",
        "  scores.append(predict1)\n",
        "if np.where(predict1 > 0.5):\n",
        "  pred_types.append('S')\n",
        "  scores.append(predict2)\n",
        "else:\n",
        "  pred_types.append('N')\n",
        "  scores.append(predict2)\n",
        "if np.where(predict1 > 0.5):\n",
        "  pred_types.append('T')\n",
        "  scores.append(predict3)\n",
        "else:\n",
        "  pred_types.append('F')\n",
        "  scores.append(predict3)\n",
        "if np.where(predict1 > 0.5):\n",
        "  pred_types.append('P')\n",
        "  scores.append(predict4)\n",
        "else:\n",
        "  pred_types.append('J')\n",
        "  scores.append(predict4)\n",
        "print('-- comment: ',sentences)\n",
        "print('\\n-- personality: ', pred_types)\n",
        "print('\\n-- scores:', scores)\n"
      ],
      "execution_count": null,
      "outputs": [
        {
          "output_type": "stream",
          "name": "stdout",
          "text": [
            "-- comment:  ['he had a great feeling for music.']\n",
            "\n",
            "-- personality:  ['I', 'S', 'T', 'P']\n",
            "\n",
            "-- scores: [<tf.Tensor: shape=(1, 1), dtype=float32, numpy=array([[0.6279102]], dtype=float32)>, <tf.Tensor: shape=(1, 1), dtype=float32, numpy=array([[0.53604084]], dtype=float32)>, <tf.Tensor: shape=(1, 1), dtype=float32, numpy=array([[0.5901558]], dtype=float32)>, <tf.Tensor: shape=(1, 1), dtype=float32, numpy=array([[0.7029914]], dtype=float32)>]\n"
          ]
        }
      ]
    },
    {
      "cell_type": "code",
      "metadata": {
        "id": "9dEHwptc7C_T"
      },
      "source": [
        "\n",
        "models = [\"I-E model\", \"S-N model\", \"F-T model\", \"J-P model\"]\n",
        "accuracy = []\n",
        "precision = []\n",
        "recall = []\n",
        "F1_score = []\n",
        "auc = []\n",
        "accuracy.append(accuracy1)\n",
        "accuracy.append(accuracy2)\n",
        "accuracy.append(accuracy3)\n",
        "accuracy.append(accuracy4)\n",
        "precision.append(precision1)\n",
        "precision.append(precision2)\n",
        "precision.append(precision3)\n",
        "precision.append(precision4)\n",
        "recall.append(recall1)\n",
        "recall.append(recall2)\n",
        "recall.append(recall3)\n",
        "recall.append(recall4)\n",
        "F1_score.append(F1_IE)\n",
        "F1_score.append(F1_SN)\n",
        "F1_score.append(F1_FT)\n",
        "F1_score.append(F1_JP)\n",
        "auc.append(roc_model1)\n",
        "auc.append(roc_model2)\n",
        "auc.append(roc_model3)\n",
        "auc.append(roc_model4)\n",
        "\n",
        "evaluation_metrics = pd.DataFrame()\n",
        "\n",
        "evaluation_metrics['Models'] = models\n",
        "evaluation_metrics['Accuracy'] = accuracy\n",
        "evaluation_metrics['Precision'] = precision\n",
        "evaluation_metrics['Recall'] = recall\n",
        "evaluation_metrics['F1 Score'] = F1_score\n",
        "evaluation_metrics['AUC'] = auc"
      ],
      "execution_count": null,
      "outputs": []
    },
    {
      "cell_type": "code",
      "metadata": {
        "colab": {
          "base_uri": "https://localhost:8080/",
          "height": 174
        },
        "id": "KGEK8xA77C8Q",
        "outputId": "8ba9c36e-cb9e-4048-cc1d-a369040d024c"
      },
      "source": [
        "evaluation_metrics"
      ],
      "execution_count": null,
      "outputs": [
        {
          "output_type": "execute_result",
          "data": {
            "text/html": [
              "<div>\n",
              "<style scoped>\n",
              "    .dataframe tbody tr th:only-of-type {\n",
              "        vertical-align: middle;\n",
              "    }\n",
              "\n",
              "    .dataframe tbody tr th {\n",
              "        vertical-align: top;\n",
              "    }\n",
              "\n",
              "    .dataframe thead th {\n",
              "        text-align: right;\n",
              "    }\n",
              "</style>\n",
              "<table border=\"1\" class=\"dataframe\">\n",
              "  <thead>\n",
              "    <tr style=\"text-align: right;\">\n",
              "      <th></th>\n",
              "      <th>Models</th>\n",
              "      <th>Accuracy</th>\n",
              "      <th>Precision</th>\n",
              "      <th>Recall</th>\n",
              "      <th>F1 Score</th>\n",
              "      <th>AUC</th>\n",
              "    </tr>\n",
              "  </thead>\n",
              "  <tbody>\n",
              "    <tr>\n",
              "      <th>0</th>\n",
              "      <td>I-E model</td>\n",
              "      <td>0.753086</td>\n",
              "      <td>0.753086</td>\n",
              "      <td>1.000000</td>\n",
              "      <td>0.859155</td>\n",
              "      <td>0.575581</td>\n",
              "    </tr>\n",
              "    <tr>\n",
              "      <th>1</th>\n",
              "      <td>S-N model</td>\n",
              "      <td>0.866255</td>\n",
              "      <td>0.000000</td>\n",
              "      <td>0.000000</td>\n",
              "      <td>0.000000</td>\n",
              "      <td>0.578019</td>\n",
              "    </tr>\n",
              "    <tr>\n",
              "      <th>2</th>\n",
              "      <td>F-T model</td>\n",
              "      <td>0.559671</td>\n",
              "      <td>0.693252</td>\n",
              "      <td>0.407942</td>\n",
              "      <td>0.513636</td>\n",
              "      <td>0.637849</td>\n",
              "    </tr>\n",
              "    <tr>\n",
              "      <th>3</th>\n",
              "      <td>J-P model</td>\n",
              "      <td>0.823045</td>\n",
              "      <td>0.818482</td>\n",
              "      <td>0.888889</td>\n",
              "      <td>0.852234</td>\n",
              "      <td>0.510597</td>\n",
              "    </tr>\n",
              "  </tbody>\n",
              "</table>\n",
              "</div>"
            ],
            "text/plain": [
              "      Models  Accuracy  Precision    Recall  F1 Score       AUC\n",
              "0  I-E model  0.753086   0.753086  1.000000  0.859155  0.575581\n",
              "1  S-N model  0.866255   0.000000  0.000000  0.000000  0.578019\n",
              "2  F-T model  0.559671   0.693252  0.407942  0.513636  0.637849\n",
              "3  J-P model  0.823045   0.818482  0.888889  0.852234  0.510597"
            ]
          },
          "metadata": {},
          "execution_count": 118
        }
      ]
    }
  ]
}